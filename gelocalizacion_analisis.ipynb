{
 "cells": [
  {
   "cell_type": "code",
   "execution_count": 61,
   "metadata": {},
   "outputs": [],
   "source": [
    "import numpy as np\n",
    "import pandas as pd\n",
    "import os  "
   ]
  },
  {
   "cell_type": "code",
   "execution_count": 175,
   "metadata": {},
   "outputs": [],
   "source": [
    "clientes = pd.read_csv('data\\e-comerce_Olist_dataset\\olist_customers_dataset.csv')\n",
    "geolocalizacion = pd.read_csv('data\\e-comerce_Olist_dataset\\olist_geolocation_dataset_coregido.csv')\n",
    "\n",
    "\n",
    "items = pd.read_csv('data\\e-comerce_Olist_dataset\\olist_order_items_dataset.csv', parse_dates=['shipping_limit_date'])\n",
    "metodo_de_pago = pd.read_csv('data\\e-comerce_Olist_dataset\\olist_order_payments_dataset.csv')\n",
    "reviews = pd.read_csv('data\\e-comerce_Olist_dataset\\olist_order_reviews_dataset.csv', parse_dates=['review_creation_date', 'review_answer_timestamp'])\n",
    "ordenes = pd.read_csv('data\\e-comerce_Olist_dataset\\olist_orders_dataset.csv', parse_dates=['order_purchase_timestamp', 'order_approved_at','order_delivered_carrier_date','order_delivered_customer_date','order_estimated_delivery_date'])\n",
    "productos = pd.read_csv('data\\e-comerce_Olist_dataset\\olist_products_dataset.csv')\n",
    "vendedores = pd.read_csv('data\\e-comerce_Olist_dataset\\olist_sellers_dataset.csv')\n",
    "productos_info = pd.read_csv('data\\e-comerce_Olist_dataset\\product_category_name_translation.csv')\n",
    "\n",
    "marketing_ofertas_cerradas = pd.read_csv(\"data\\Olist_Funnel_marketing\\olist_closed_deals_dataset.csv\", parse_dates=['won_date']) \n",
    "marketing_qualified_leads = pd.read_csv(\"data\\Olist_Funnel_marketing\\olist_marketing_qualified_leads_dataset.csv\", parse_dates=['first_contact_date'])"
   ]
  },
  {
   "cell_type": "code",
   "execution_count": 19,
   "metadata": {},
   "outputs": [
    {
     "data": {
      "text/html": [
       "<div>\n",
       "<style scoped>\n",
       "    .dataframe tbody tr th:only-of-type {\n",
       "        vertical-align: middle;\n",
       "    }\n",
       "\n",
       "    .dataframe tbody tr th {\n",
       "        vertical-align: top;\n",
       "    }\n",
       "\n",
       "    .dataframe thead th {\n",
       "        text-align: right;\n",
       "    }\n",
       "</style>\n",
       "<table border=\"1\" class=\"dataframe\">\n",
       "  <thead>\n",
       "    <tr style=\"text-align: right;\">\n",
       "      <th></th>\n",
       "      <th>geolocation_zip_code_prefix</th>\n",
       "      <th>geolocation_lat</th>\n",
       "      <th>geolocation_lng</th>\n",
       "      <th>geolocation_city</th>\n",
       "      <th>geolocation_state</th>\n",
       "    </tr>\n",
       "  </thead>\n",
       "  <tbody>\n",
       "    <tr>\n",
       "      <th>0</th>\n",
       "      <td>1037</td>\n",
       "      <td>-23.545621</td>\n",
       "      <td>-46.639292</td>\n",
       "      <td>sao paulo</td>\n",
       "      <td>SP</td>\n",
       "    </tr>\n",
       "    <tr>\n",
       "      <th>1</th>\n",
       "      <td>1046</td>\n",
       "      <td>-23.546081</td>\n",
       "      <td>-46.644820</td>\n",
       "      <td>sao paulo</td>\n",
       "      <td>SP</td>\n",
       "    </tr>\n",
       "    <tr>\n",
       "      <th>2</th>\n",
       "      <td>1046</td>\n",
       "      <td>-23.546129</td>\n",
       "      <td>-46.642951</td>\n",
       "      <td>sao paulo</td>\n",
       "      <td>SP</td>\n",
       "    </tr>\n",
       "    <tr>\n",
       "      <th>3</th>\n",
       "      <td>1041</td>\n",
       "      <td>-23.544392</td>\n",
       "      <td>-46.639499</td>\n",
       "      <td>sao paulo</td>\n",
       "      <td>SP</td>\n",
       "    </tr>\n",
       "    <tr>\n",
       "      <th>4</th>\n",
       "      <td>1035</td>\n",
       "      <td>-23.541578</td>\n",
       "      <td>-46.641607</td>\n",
       "      <td>sao paulo</td>\n",
       "      <td>SP</td>\n",
       "    </tr>\n",
       "  </tbody>\n",
       "</table>\n",
       "</div>"
      ],
      "text/plain": [
       "   geolocation_zip_code_prefix  geolocation_lat  geolocation_lng  \\\n",
       "0                         1037       -23.545621       -46.639292   \n",
       "1                         1046       -23.546081       -46.644820   \n",
       "2                         1046       -23.546129       -46.642951   \n",
       "3                         1041       -23.544392       -46.639499   \n",
       "4                         1035       -23.541578       -46.641607   \n",
       "\n",
       "  geolocation_city geolocation_state  \n",
       "0        sao paulo                SP  \n",
       "1        sao paulo                SP  \n",
       "2        sao paulo                SP  \n",
       "3        sao paulo                SP  \n",
       "4        sao paulo                SP  "
      ]
     },
     "execution_count": 19,
     "metadata": {},
     "output_type": "execute_result"
    }
   ],
   "source": [
    "geolocalizacion.head()"
   ]
  },
  {
   "cell_type": "markdown",
   "metadata": {},
   "source": [
    "Hay muchas latitudes y longitudes para un mismo zip-code. Vamos a tomar el promedio de estos (seria como un centroide o similar) y trabajarlo asi"
   ]
  },
  {
   "cell_type": "code",
   "execution_count": 28,
   "metadata": {},
   "outputs": [],
   "source": [
    "geoloc_filtrado = geolocalizacion.groupby('geolocation_zip_code_prefix').mean().reset_index()"
   ]
  },
  {
   "cell_type": "code",
   "execution_count": 15,
   "metadata": {},
   "outputs": [
    {
     "data": {
      "text/plain": [
       "19015"
      ]
     },
     "execution_count": 15,
     "metadata": {},
     "output_type": "execute_result"
    }
   ],
   "source": [
    "geolocalizacion.geolocation_zip_code_prefix.nunique()"
   ]
  },
  {
   "cell_type": "code",
   "execution_count": 32,
   "metadata": {},
   "outputs": [
    {
     "data": {
      "text/html": [
       "<div>\n",
       "<style scoped>\n",
       "    .dataframe tbody tr th:only-of-type {\n",
       "        vertical-align: middle;\n",
       "    }\n",
       "\n",
       "    .dataframe tbody tr th {\n",
       "        vertical-align: top;\n",
       "    }\n",
       "\n",
       "    .dataframe thead th {\n",
       "        text-align: right;\n",
       "    }\n",
       "</style>\n",
       "<table border=\"1\" class=\"dataframe\">\n",
       "  <thead>\n",
       "    <tr style=\"text-align: right;\">\n",
       "      <th></th>\n",
       "      <th>geolocation_zip_code_prefix</th>\n",
       "      <th>geolocation_lat</th>\n",
       "      <th>geolocation_lng</th>\n",
       "      <th>IdGeolocalizacion</th>\n",
       "    </tr>\n",
       "  </thead>\n",
       "  <tbody>\n",
       "    <tr>\n",
       "      <th>0</th>\n",
       "      <td>1001</td>\n",
       "      <td>-23.550190</td>\n",
       "      <td>-46.634024</td>\n",
       "      <td>0</td>\n",
       "    </tr>\n",
       "    <tr>\n",
       "      <th>1</th>\n",
       "      <td>1002</td>\n",
       "      <td>-23.548146</td>\n",
       "      <td>-46.634979</td>\n",
       "      <td>1</td>\n",
       "    </tr>\n",
       "    <tr>\n",
       "      <th>2</th>\n",
       "      <td>1003</td>\n",
       "      <td>-23.548994</td>\n",
       "      <td>-46.635731</td>\n",
       "      <td>2</td>\n",
       "    </tr>\n",
       "    <tr>\n",
       "      <th>3</th>\n",
       "      <td>1004</td>\n",
       "      <td>-23.549799</td>\n",
       "      <td>-46.634757</td>\n",
       "      <td>3</td>\n",
       "    </tr>\n",
       "    <tr>\n",
       "      <th>4</th>\n",
       "      <td>1005</td>\n",
       "      <td>-23.549456</td>\n",
       "      <td>-46.636733</td>\n",
       "      <td>4</td>\n",
       "    </tr>\n",
       "  </tbody>\n",
       "</table>\n",
       "</div>"
      ],
      "text/plain": [
       "   geolocation_zip_code_prefix  geolocation_lat  geolocation_lng  \\\n",
       "0                         1001       -23.550190       -46.634024   \n",
       "1                         1002       -23.548146       -46.634979   \n",
       "2                         1003       -23.548994       -46.635731   \n",
       "3                         1004       -23.549799       -46.634757   \n",
       "4                         1005       -23.549456       -46.636733   \n",
       "\n",
       "   IdGeolocalizacion  \n",
       "0                  0  \n",
       "1                  1  \n",
       "2                  2  \n",
       "3                  3  \n",
       "4                  4  "
      ]
     },
     "execution_count": 32,
     "metadata": {},
     "output_type": "execute_result"
    }
   ],
   "source": [
    "geoloc_filtrado.head()"
   ]
  },
  {
   "cell_type": "code",
   "execution_count": 30,
   "metadata": {},
   "outputs": [
    {
     "name": "stdout",
     "output_type": "stream",
     "text": [
      "<class 'pandas.core.frame.DataFrame'>\n",
      "RangeIndex: 19015 entries, 0 to 19014\n",
      "Data columns (total 3 columns):\n",
      " #   Column                       Non-Null Count  Dtype  \n",
      "---  ------                       --------------  -----  \n",
      " 0   geolocation_zip_code_prefix  19015 non-null  int64  \n",
      " 1   geolocation_lat              19015 non-null  float64\n",
      " 2   geolocation_lng              19015 non-null  float64\n",
      "dtypes: float64(2), int64(1)\n",
      "memory usage: 445.8 KB\n"
     ]
    }
   ],
   "source": [
    "geoloc_filtrado.info()"
   ]
  },
  {
   "cell_type": "code",
   "execution_count": 31,
   "metadata": {},
   "outputs": [],
   "source": [
    "# agregamos columna de Id igual a la de index\n",
    "geoloc_filtrado['IdGeolocalizacion'] = geoloc_filtrado.index"
   ]
  },
  {
   "cell_type": "code",
   "execution_count": 54,
   "metadata": {},
   "outputs": [],
   "source": [
    "# hacemos el merge con geolocalizacion para traer los nombres de las ciudades y estados\n",
    "\n",
    "geoloc_filtrado = geoloc_filtrado.join(geolocalizacion, on='geolocation_zip_code_prefix', how='inner', lsuffix='geolocation_zip_code_prefix', rsuffix='geolocation_zip_code_prefix')"
   ]
  },
  {
   "cell_type": "code",
   "execution_count": 55,
   "metadata": {},
   "outputs": [
    {
     "data": {
      "text/plain": [
       "19015"
      ]
     },
     "execution_count": 55,
     "metadata": {},
     "output_type": "execute_result"
    }
   ],
   "source": [
    "geoloc_filtrado.geolocation_zip_code_prefix.nunique()"
   ]
  },
  {
   "cell_type": "code",
   "execution_count": 56,
   "metadata": {},
   "outputs": [
    {
     "name": "stdout",
     "output_type": "stream",
     "text": [
      "<class 'pandas.core.frame.DataFrame'>\n",
      "Int64Index: 19015 entries, 0 to 19014\n",
      "Data columns (total 10 columns):\n",
      " #   Column                                                  Non-Null Count  Dtype  \n",
      "---  ------                                                  --------------  -----  \n",
      " 0   geolocation_zip_code_prefix                             19015 non-null  int64  \n",
      " 1   geolocation_zip_code_prefixgeolocation_zip_code_prefix  19015 non-null  int64  \n",
      " 2   geolocation_latgeolocation_zip_code_prefix              19015 non-null  float64\n",
      " 3   geolocation_lnggeolocation_zip_code_prefix              19015 non-null  float64\n",
      " 4   IdGeolocalizacion                                       19015 non-null  int64  \n",
      " 5   geolocation_zip_code_prefixgeolocation_zip_code_prefix  19015 non-null  int64  \n",
      " 6   geolocation_latgeolocation_zip_code_prefix              19015 non-null  float64\n",
      " 7   geolocation_lnggeolocation_zip_code_prefix              19015 non-null  float64\n",
      " 8   geolocation_city                                        19015 non-null  object \n",
      " 9   geolocation_state                                       19015 non-null  object \n",
      "dtypes: float64(4), int64(4), object(2)\n",
      "memory usage: 1.6+ MB\n"
     ]
    }
   ],
   "source": [
    "geoloc_filtrado.info()"
   ]
  },
  {
   "cell_type": "code",
   "execution_count": 57,
   "metadata": {},
   "outputs": [],
   "source": [
    "# eliminamos las columnas que no necesitamos y las duplicadas\n",
    "geoloc_filtrado.drop(['geolocation_zip_code_prefixgeolocation_zip_code_prefix','geolocation_zip_code_prefixgeolocation_zip_code_prefix',], axis=1,inplace = True)\n",
    "geoloc_filtrado = geoloc_filtrado.loc[:,~geoloc_filtrado.columns.duplicated()]"
   ]
  },
  {
   "cell_type": "code",
   "execution_count": 58,
   "metadata": {},
   "outputs": [
    {
     "data": {
      "text/html": [
       "<div>\n",
       "<style scoped>\n",
       "    .dataframe tbody tr th:only-of-type {\n",
       "        vertical-align: middle;\n",
       "    }\n",
       "\n",
       "    .dataframe tbody tr th {\n",
       "        vertical-align: top;\n",
       "    }\n",
       "\n",
       "    .dataframe thead th {\n",
       "        text-align: right;\n",
       "    }\n",
       "</style>\n",
       "<table border=\"1\" class=\"dataframe\">\n",
       "  <thead>\n",
       "    <tr style=\"text-align: right;\">\n",
       "      <th></th>\n",
       "      <th>geolocation_zip_code_prefix</th>\n",
       "      <th>geolocation_latgeolocation_zip_code_prefix</th>\n",
       "      <th>geolocation_lnggeolocation_zip_code_prefix</th>\n",
       "      <th>IdGeolocalizacion</th>\n",
       "      <th>geolocation_city</th>\n",
       "      <th>geolocation_state</th>\n",
       "    </tr>\n",
       "  </thead>\n",
       "  <tbody>\n",
       "    <tr>\n",
       "      <th>0</th>\n",
       "      <td>1001</td>\n",
       "      <td>-23.550190</td>\n",
       "      <td>-46.634024</td>\n",
       "      <td>0</td>\n",
       "      <td>sao paulo</td>\n",
       "      <td>SP</td>\n",
       "    </tr>\n",
       "    <tr>\n",
       "      <th>1</th>\n",
       "      <td>1002</td>\n",
       "      <td>-23.548146</td>\n",
       "      <td>-46.634979</td>\n",
       "      <td>1</td>\n",
       "      <td>sao paulo</td>\n",
       "      <td>SP</td>\n",
       "    </tr>\n",
       "    <tr>\n",
       "      <th>2</th>\n",
       "      <td>1003</td>\n",
       "      <td>-23.548994</td>\n",
       "      <td>-46.635731</td>\n",
       "      <td>2</td>\n",
       "      <td>sao paulo</td>\n",
       "      <td>SP</td>\n",
       "    </tr>\n",
       "    <tr>\n",
       "      <th>3</th>\n",
       "      <td>1004</td>\n",
       "      <td>-23.549799</td>\n",
       "      <td>-46.634757</td>\n",
       "      <td>3</td>\n",
       "      <td>sao paulo</td>\n",
       "      <td>SP</td>\n",
       "    </tr>\n",
       "    <tr>\n",
       "      <th>4</th>\n",
       "      <td>1005</td>\n",
       "      <td>-23.549456</td>\n",
       "      <td>-46.636733</td>\n",
       "      <td>4</td>\n",
       "      <td>sao paulo</td>\n",
       "      <td>SP</td>\n",
       "    </tr>\n",
       "    <tr>\n",
       "      <th>...</th>\n",
       "      <td>...</td>\n",
       "      <td>...</td>\n",
       "      <td>...</td>\n",
       "      <td>...</td>\n",
       "      <td>...</td>\n",
       "      <td>...</td>\n",
       "    </tr>\n",
       "    <tr>\n",
       "      <th>19010</th>\n",
       "      <td>99960</td>\n",
       "      <td>-27.953722</td>\n",
       "      <td>-52.025511</td>\n",
       "      <td>19010</td>\n",
       "      <td>sao paulo</td>\n",
       "      <td>SP</td>\n",
       "    </tr>\n",
       "    <tr>\n",
       "      <th>19011</th>\n",
       "      <td>99965</td>\n",
       "      <td>-28.183372</td>\n",
       "      <td>-52.039850</td>\n",
       "      <td>19011</td>\n",
       "      <td>sao paulo</td>\n",
       "      <td>SP</td>\n",
       "    </tr>\n",
       "    <tr>\n",
       "      <th>19012</th>\n",
       "      <td>99970</td>\n",
       "      <td>-28.343766</td>\n",
       "      <td>-51.874689</td>\n",
       "      <td>19012</td>\n",
       "      <td>sao paulo</td>\n",
       "      <td>SP</td>\n",
       "    </tr>\n",
       "    <tr>\n",
       "      <th>19013</th>\n",
       "      <td>99980</td>\n",
       "      <td>-28.389129</td>\n",
       "      <td>-51.843836</td>\n",
       "      <td>19013</td>\n",
       "      <td>são paulo</td>\n",
       "      <td>SP</td>\n",
       "    </tr>\n",
       "    <tr>\n",
       "      <th>19014</th>\n",
       "      <td>99990</td>\n",
       "      <td>-28.329595</td>\n",
       "      <td>-51.769362</td>\n",
       "      <td>19014</td>\n",
       "      <td>sao paulo</td>\n",
       "      <td>SP</td>\n",
       "    </tr>\n",
       "  </tbody>\n",
       "</table>\n",
       "<p>19015 rows × 6 columns</p>\n",
       "</div>"
      ],
      "text/plain": [
       "       geolocation_zip_code_prefix  \\\n",
       "0                             1001   \n",
       "1                             1002   \n",
       "2                             1003   \n",
       "3                             1004   \n",
       "4                             1005   \n",
       "...                            ...   \n",
       "19010                        99960   \n",
       "19011                        99965   \n",
       "19012                        99970   \n",
       "19013                        99980   \n",
       "19014                        99990   \n",
       "\n",
       "       geolocation_latgeolocation_zip_code_prefix  \\\n",
       "0                                      -23.550190   \n",
       "1                                      -23.548146   \n",
       "2                                      -23.548994   \n",
       "3                                      -23.549799   \n",
       "4                                      -23.549456   \n",
       "...                                           ...   \n",
       "19010                                  -27.953722   \n",
       "19011                                  -28.183372   \n",
       "19012                                  -28.343766   \n",
       "19013                                  -28.389129   \n",
       "19014                                  -28.329595   \n",
       "\n",
       "       geolocation_lnggeolocation_zip_code_prefix  IdGeolocalizacion  \\\n",
       "0                                      -46.634024                  0   \n",
       "1                                      -46.634979                  1   \n",
       "2                                      -46.635731                  2   \n",
       "3                                      -46.634757                  3   \n",
       "4                                      -46.636733                  4   \n",
       "...                                           ...                ...   \n",
       "19010                                  -52.025511              19010   \n",
       "19011                                  -52.039850              19011   \n",
       "19012                                  -51.874689              19012   \n",
       "19013                                  -51.843836              19013   \n",
       "19014                                  -51.769362              19014   \n",
       "\n",
       "      geolocation_city geolocation_state  \n",
       "0            sao paulo                SP  \n",
       "1            sao paulo                SP  \n",
       "2            sao paulo                SP  \n",
       "3            sao paulo                SP  \n",
       "4            sao paulo                SP  \n",
       "...                ...               ...  \n",
       "19010        sao paulo                SP  \n",
       "19011        sao paulo                SP  \n",
       "19012        sao paulo                SP  \n",
       "19013        são paulo                SP  \n",
       "19014        sao paulo                SP  \n",
       "\n",
       "[19015 rows x 6 columns]"
      ]
     },
     "execution_count": 58,
     "metadata": {},
     "output_type": "execute_result"
    }
   ],
   "source": [
    "geoloc_filtrado"
   ]
  },
  {
   "cell_type": "code",
   "execution_count": 59,
   "metadata": {},
   "outputs": [],
   "source": [
    "# reordenamos y renombramos las columnas\n",
    "geoloc_filtrado = geoloc_filtrado.reindex(columns=['IdGeolocalizacion', 'geolocation_zip_code_prefix', \n",
    "                                                    'geolocation_latgeolocation_zip_code_prefix', \n",
    "                                                    'geolocation_lnggeolocation_zip_code_prefix',\n",
    "                                                    'geolocation_city','geolocation_state'])\n",
    "geoloc_filtrado.rename(columns={'geolocation_zip_code_prefix': 'zip_code_prefix', \n",
    "                                'geolocation_latgeolocation_zip_code_prefix': 'Latitud',\n",
    "                                'geolocation_lnggeolocation_zip_code_prefix': 'Longitud',\n",
    "                                'geolocation_city':'Ciudad',\n",
    "                                'geolocation_state':'Estado'}, inplace=True)"
   ]
  },
  {
   "cell_type": "code",
   "execution_count": 70,
   "metadata": {},
   "outputs": [
    {
     "data": {
      "text/html": [
       "<div>\n",
       "<style scoped>\n",
       "    .dataframe tbody tr th:only-of-type {\n",
       "        vertical-align: middle;\n",
       "    }\n",
       "\n",
       "    .dataframe tbody tr th {\n",
       "        vertical-align: top;\n",
       "    }\n",
       "\n",
       "    .dataframe thead th {\n",
       "        text-align: right;\n",
       "    }\n",
       "</style>\n",
       "<table border=\"1\" class=\"dataframe\">\n",
       "  <thead>\n",
       "    <tr style=\"text-align: right;\">\n",
       "      <th></th>\n",
       "      <th>IdGeolocalizacion</th>\n",
       "      <th>zip_code_prefix</th>\n",
       "      <th>Latitud</th>\n",
       "      <th>Longitud</th>\n",
       "      <th>Ciudad</th>\n",
       "      <th>Estado</th>\n",
       "    </tr>\n",
       "  </thead>\n",
       "  <tbody>\n",
       "    <tr>\n",
       "      <th>0</th>\n",
       "      <td>0</td>\n",
       "      <td>1001</td>\n",
       "      <td>-23.550190</td>\n",
       "      <td>-46.634024</td>\n",
       "      <td>sao paulo</td>\n",
       "      <td>SP</td>\n",
       "    </tr>\n",
       "    <tr>\n",
       "      <th>1</th>\n",
       "      <td>1</td>\n",
       "      <td>1002</td>\n",
       "      <td>-23.548146</td>\n",
       "      <td>-46.634979</td>\n",
       "      <td>sao paulo</td>\n",
       "      <td>SP</td>\n",
       "    </tr>\n",
       "    <tr>\n",
       "      <th>2</th>\n",
       "      <td>2</td>\n",
       "      <td>1003</td>\n",
       "      <td>-23.548994</td>\n",
       "      <td>-46.635731</td>\n",
       "      <td>sao paulo</td>\n",
       "      <td>SP</td>\n",
       "    </tr>\n",
       "    <tr>\n",
       "      <th>3</th>\n",
       "      <td>3</td>\n",
       "      <td>1004</td>\n",
       "      <td>-23.549799</td>\n",
       "      <td>-46.634757</td>\n",
       "      <td>sao paulo</td>\n",
       "      <td>SP</td>\n",
       "    </tr>\n",
       "    <tr>\n",
       "      <th>4</th>\n",
       "      <td>4</td>\n",
       "      <td>1005</td>\n",
       "      <td>-23.549456</td>\n",
       "      <td>-46.636733</td>\n",
       "      <td>sao paulo</td>\n",
       "      <td>SP</td>\n",
       "    </tr>\n",
       "  </tbody>\n",
       "</table>\n",
       "</div>"
      ],
      "text/plain": [
       "   IdGeolocalizacion  zip_code_prefix    Latitud   Longitud     Ciudad Estado\n",
       "0                  0             1001 -23.550190 -46.634024  sao paulo     SP\n",
       "1                  1             1002 -23.548146 -46.634979  sao paulo     SP\n",
       "2                  2             1003 -23.548994 -46.635731  sao paulo     SP\n",
       "3                  3             1004 -23.549799 -46.634757  sao paulo     SP\n",
       "4                  4             1005 -23.549456 -46.636733  sao paulo     SP"
      ]
     },
     "execution_count": 70,
     "metadata": {},
     "output_type": "execute_result"
    }
   ],
   "source": [
    "geoloc_filtrado.head()"
   ]
  },
  {
   "cell_type": "code",
   "execution_count": 74,
   "metadata": {},
   "outputs": [
    {
     "data": {
      "text/html": [
       "<div>\n",
       "<style scoped>\n",
       "    .dataframe tbody tr th:only-of-type {\n",
       "        vertical-align: middle;\n",
       "    }\n",
       "\n",
       "    .dataframe tbody tr th {\n",
       "        vertical-align: top;\n",
       "    }\n",
       "\n",
       "    .dataframe thead th {\n",
       "        text-align: right;\n",
       "    }\n",
       "</style>\n",
       "<table border=\"1\" class=\"dataframe\">\n",
       "  <thead>\n",
       "    <tr style=\"text-align: right;\">\n",
       "      <th></th>\n",
       "      <th>geolocation_zip_code_prefix</th>\n",
       "      <th>geolocation_lat</th>\n",
       "      <th>geolocation_lng</th>\n",
       "      <th>geolocation_city</th>\n",
       "      <th>geolocation_state</th>\n",
       "    </tr>\n",
       "  </thead>\n",
       "  <tbody>\n",
       "    <tr>\n",
       "      <th>0</th>\n",
       "      <td>1037</td>\n",
       "      <td>-23.545621</td>\n",
       "      <td>-46.639292</td>\n",
       "      <td>sao paulo</td>\n",
       "      <td>SP</td>\n",
       "    </tr>\n",
       "    <tr>\n",
       "      <th>1</th>\n",
       "      <td>1046</td>\n",
       "      <td>-23.546081</td>\n",
       "      <td>-46.644820</td>\n",
       "      <td>sao paulo</td>\n",
       "      <td>SP</td>\n",
       "    </tr>\n",
       "    <tr>\n",
       "      <th>2</th>\n",
       "      <td>1046</td>\n",
       "      <td>-23.546129</td>\n",
       "      <td>-46.642951</td>\n",
       "      <td>sao paulo</td>\n",
       "      <td>SP</td>\n",
       "    </tr>\n",
       "    <tr>\n",
       "      <th>3</th>\n",
       "      <td>1041</td>\n",
       "      <td>-23.544392</td>\n",
       "      <td>-46.639499</td>\n",
       "      <td>sao paulo</td>\n",
       "      <td>SP</td>\n",
       "    </tr>\n",
       "    <tr>\n",
       "      <th>4</th>\n",
       "      <td>1035</td>\n",
       "      <td>-23.541578</td>\n",
       "      <td>-46.641607</td>\n",
       "      <td>sao paulo</td>\n",
       "      <td>SP</td>\n",
       "    </tr>\n",
       "    <tr>\n",
       "      <th>...</th>\n",
       "      <td>...</td>\n",
       "      <td>...</td>\n",
       "      <td>...</td>\n",
       "      <td>...</td>\n",
       "      <td>...</td>\n",
       "    </tr>\n",
       "    <tr>\n",
       "      <th>207052</th>\n",
       "      <td>8450</td>\n",
       "      <td>-23.547066</td>\n",
       "      <td>-46.391092</td>\n",
       "      <td>sao paulo</td>\n",
       "      <td>SP</td>\n",
       "    </tr>\n",
       "    <tr>\n",
       "      <th>207053</th>\n",
       "      <td>8473</td>\n",
       "      <td>-23.572693</td>\n",
       "      <td>-46.394236</td>\n",
       "      <td>sao paulo</td>\n",
       "      <td>SP</td>\n",
       "    </tr>\n",
       "    <tr>\n",
       "      <th>207054</th>\n",
       "      <td>8411</td>\n",
       "      <td>-23.555941</td>\n",
       "      <td>-46.413909</td>\n",
       "      <td>sao paulo</td>\n",
       "      <td>SP</td>\n",
       "    </tr>\n",
       "    <tr>\n",
       "      <th>207055</th>\n",
       "      <td>8470</td>\n",
       "      <td>-23.589970</td>\n",
       "      <td>-46.394581</td>\n",
       "      <td>sao paulo</td>\n",
       "      <td>SP</td>\n",
       "    </tr>\n",
       "    <tr>\n",
       "      <th>232549</th>\n",
       "      <td>9540</td>\n",
       "      <td>-23.626929</td>\n",
       "      <td>-46.572773</td>\n",
       "      <td>sao paulo</td>\n",
       "      <td>SP</td>\n",
       "    </tr>\n",
       "  </tbody>\n",
       "</table>\n",
       "<p>135800 rows × 5 columns</p>\n",
       "</div>"
      ],
      "text/plain": [
       "        geolocation_zip_code_prefix  geolocation_lat  geolocation_lng  \\\n",
       "0                              1037       -23.545621       -46.639292   \n",
       "1                              1046       -23.546081       -46.644820   \n",
       "2                              1046       -23.546129       -46.642951   \n",
       "3                              1041       -23.544392       -46.639499   \n",
       "4                              1035       -23.541578       -46.641607   \n",
       "...                             ...              ...              ...   \n",
       "207052                         8450       -23.547066       -46.391092   \n",
       "207053                         8473       -23.572693       -46.394236   \n",
       "207054                         8411       -23.555941       -46.413909   \n",
       "207055                         8470       -23.589970       -46.394581   \n",
       "232549                         9540       -23.626929       -46.572773   \n",
       "\n",
       "       geolocation_city geolocation_state  \n",
       "0             sao paulo                SP  \n",
       "1             sao paulo                SP  \n",
       "2             sao paulo                SP  \n",
       "3             sao paulo                SP  \n",
       "4             sao paulo                SP  \n",
       "...                 ...               ...  \n",
       "207052        sao paulo                SP  \n",
       "207053        sao paulo                SP  \n",
       "207054        sao paulo                SP  \n",
       "207055        sao paulo                SP  \n",
       "232549        sao paulo                SP  \n",
       "\n",
       "[135800 rows x 5 columns]"
      ]
     },
     "execution_count": 74,
     "metadata": {},
     "output_type": "execute_result"
    }
   ],
   "source": [
    "geolocalizacion[geolocalizacion.geolocation_city=='sao paulo']"
   ]
  },
  {
   "cell_type": "code",
   "execution_count": 62,
   "metadata": {},
   "outputs": [],
   "source": [
    "import os  \n",
    "path_etl = \"Dataset_etl\"\n",
    "path_aux = \"Dataset_aux\"\n",
    "os.makedirs(path_etl, exist_ok=True)  \n",
    "os.makedirs(path_aux, exist_ok=True)  \n",
    "\n",
    "# En la carpeta Dataset_etl guardamos los archivos luego del proceso de ETL\n",
    "geoloc_filtrado.to_csv(\"{}/geolocalizacion_etl.csv\".format(path_etl), index=False)"
   ]
  },
  {
   "cell_type": "markdown",
   "metadata": {},
   "source": [
    "### ETL a clientes\n"
   ]
  },
  {
   "cell_type": "code",
   "execution_count": 176,
   "metadata": {},
   "outputs": [
    {
     "data": {
      "text/html": [
       "<div>\n",
       "<style scoped>\n",
       "    .dataframe tbody tr th:only-of-type {\n",
       "        vertical-align: middle;\n",
       "    }\n",
       "\n",
       "    .dataframe tbody tr th {\n",
       "        vertical-align: top;\n",
       "    }\n",
       "\n",
       "    .dataframe thead th {\n",
       "        text-align: right;\n",
       "    }\n",
       "</style>\n",
       "<table border=\"1\" class=\"dataframe\">\n",
       "  <thead>\n",
       "    <tr style=\"text-align: right;\">\n",
       "      <th></th>\n",
       "      <th>customer_id</th>\n",
       "      <th>customer_unique_id</th>\n",
       "      <th>customer_zip_code_prefix</th>\n",
       "      <th>customer_city</th>\n",
       "      <th>customer_state</th>\n",
       "    </tr>\n",
       "  </thead>\n",
       "  <tbody>\n",
       "    <tr>\n",
       "      <th>0</th>\n",
       "      <td>06b8999e2fba1a1fbc88172c00ba8bc7</td>\n",
       "      <td>861eff4711a542e4b93843c6dd7febb0</td>\n",
       "      <td>14409</td>\n",
       "      <td>franca</td>\n",
       "      <td>SP</td>\n",
       "    </tr>\n",
       "    <tr>\n",
       "      <th>1</th>\n",
       "      <td>18955e83d337fd6b2def6b18a428ac77</td>\n",
       "      <td>290c77bc529b7ac935b93aa66c333dc3</td>\n",
       "      <td>9790</td>\n",
       "      <td>sao bernardo do campo</td>\n",
       "      <td>SP</td>\n",
       "    </tr>\n",
       "    <tr>\n",
       "      <th>2</th>\n",
       "      <td>4e7b3e00288586ebd08712fdd0374a03</td>\n",
       "      <td>060e732b5b29e8181a18229c7b0b2b5e</td>\n",
       "      <td>1151</td>\n",
       "      <td>sao paulo</td>\n",
       "      <td>SP</td>\n",
       "    </tr>\n",
       "    <tr>\n",
       "      <th>3</th>\n",
       "      <td>b2b6027bc5c5109e529d4dc6358b12c3</td>\n",
       "      <td>259dac757896d24d7702b9acbbff3f3c</td>\n",
       "      <td>8775</td>\n",
       "      <td>mogi das cruzes</td>\n",
       "      <td>SP</td>\n",
       "    </tr>\n",
       "    <tr>\n",
       "      <th>4</th>\n",
       "      <td>4f2d8ab171c80ec8364f7c12e35b23ad</td>\n",
       "      <td>345ecd01c38d18a9036ed96c73b8d066</td>\n",
       "      <td>13056</td>\n",
       "      <td>campinas</td>\n",
       "      <td>SP</td>\n",
       "    </tr>\n",
       "  </tbody>\n",
       "</table>\n",
       "</div>"
      ],
      "text/plain": [
       "                        customer_id                customer_unique_id  \\\n",
       "0  06b8999e2fba1a1fbc88172c00ba8bc7  861eff4711a542e4b93843c6dd7febb0   \n",
       "1  18955e83d337fd6b2def6b18a428ac77  290c77bc529b7ac935b93aa66c333dc3   \n",
       "2  4e7b3e00288586ebd08712fdd0374a03  060e732b5b29e8181a18229c7b0b2b5e   \n",
       "3  b2b6027bc5c5109e529d4dc6358b12c3  259dac757896d24d7702b9acbbff3f3c   \n",
       "4  4f2d8ab171c80ec8364f7c12e35b23ad  345ecd01c38d18a9036ed96c73b8d066   \n",
       "\n",
       "   customer_zip_code_prefix          customer_city customer_state  \n",
       "0                     14409                 franca             SP  \n",
       "1                      9790  sao bernardo do campo             SP  \n",
       "2                      1151              sao paulo             SP  \n",
       "3                      8775        mogi das cruzes             SP  \n",
       "4                     13056               campinas             SP  "
      ]
     },
     "execution_count": 176,
     "metadata": {},
     "output_type": "execute_result"
    }
   ],
   "source": [
    "clientes.head()"
   ]
  },
  {
   "cell_type": "code",
   "execution_count": 177,
   "metadata": {},
   "outputs": [
    {
     "name": "stdout",
     "output_type": "stream",
     "text": [
      "<class 'pandas.core.frame.DataFrame'>\n",
      "RangeIndex: 99441 entries, 0 to 99440\n",
      "Data columns (total 5 columns):\n",
      " #   Column                    Non-Null Count  Dtype \n",
      "---  ------                    --------------  ----- \n",
      " 0   customer_id               99441 non-null  object\n",
      " 1   customer_unique_id        99441 non-null  object\n",
      " 2   customer_zip_code_prefix  99441 non-null  int64 \n",
      " 3   customer_city             99441 non-null  object\n",
      " 4   customer_state            99441 non-null  object\n",
      "dtypes: int64(1), object(4)\n",
      "memory usage: 3.8+ MB\n"
     ]
    }
   ],
   "source": [
    "clientes.info()"
   ]
  },
  {
   "cell_type": "code",
   "execution_count": 178,
   "metadata": {},
   "outputs": [
    {
     "data": {
      "text/plain": [
       "99441"
      ]
     },
     "execution_count": 178,
     "metadata": {},
     "output_type": "execute_result"
    }
   ],
   "source": [
    "# no tenemos id repetidos\n",
    "clientes.customer_id.nunique()"
   ]
  },
  {
   "cell_type": "code",
   "execution_count": 179,
   "metadata": {},
   "outputs": [
    {
     "data": {
      "text/plain": [
       "96096"
      ]
     },
     "execution_count": 179,
     "metadata": {},
     "output_type": "execute_result"
    }
   ],
   "source": [
    "# esta bien que hallan repetidos porque los unicos de este item son los clientes, pero estan guardados como compras unicas... \n",
    "# con el customer_id que refiere al id de la compra de cada cliente\n",
    "\n",
    "clientes.customer_unique_id.nunique()"
   ]
  },
  {
   "cell_type": "markdown",
   "metadata": {},
   "source": [
    "Hacemos una tabla sola de clientes?? en principio les haremos el ETL para agregar el ID de geolocalizacion"
   ]
  },
  {
   "cell_type": "markdown",
   "metadata": {},
   "source": [
    "Chequeamos que los zip-codes de la tabla clientes estan en la tabla geolocalizacion"
   ]
  },
  {
   "cell_type": "code",
   "execution_count": 180,
   "metadata": {},
   "outputs": [
    {
     "data": {
      "text/html": [
       "<div>\n",
       "<style scoped>\n",
       "    .dataframe tbody tr th:only-of-type {\n",
       "        vertical-align: middle;\n",
       "    }\n",
       "\n",
       "    .dataframe tbody tr th {\n",
       "        vertical-align: top;\n",
       "    }\n",
       "\n",
       "    .dataframe thead th {\n",
       "        text-align: right;\n",
       "    }\n",
       "</style>\n",
       "<table border=\"1\" class=\"dataframe\">\n",
       "  <thead>\n",
       "    <tr style=\"text-align: right;\">\n",
       "      <th></th>\n",
       "      <th>IdGeolocalizacion</th>\n",
       "      <th>zip_code_prefix</th>\n",
       "      <th>Latitud</th>\n",
       "      <th>Longitud</th>\n",
       "      <th>Ciudad</th>\n",
       "      <th>Estado</th>\n",
       "    </tr>\n",
       "  </thead>\n",
       "  <tbody>\n",
       "    <tr>\n",
       "      <th>0</th>\n",
       "      <td>0</td>\n",
       "      <td>1001</td>\n",
       "      <td>-23.550190</td>\n",
       "      <td>-46.634024</td>\n",
       "      <td>sao paulo</td>\n",
       "      <td>SP</td>\n",
       "    </tr>\n",
       "    <tr>\n",
       "      <th>1</th>\n",
       "      <td>1</td>\n",
       "      <td>1002</td>\n",
       "      <td>-23.548146</td>\n",
       "      <td>-46.634979</td>\n",
       "      <td>sao paulo</td>\n",
       "      <td>SP</td>\n",
       "    </tr>\n",
       "  </tbody>\n",
       "</table>\n",
       "</div>"
      ],
      "text/plain": [
       "   IdGeolocalizacion  zip_code_prefix    Latitud   Longitud     Ciudad Estado\n",
       "0                  0             1001 -23.550190 -46.634024  sao paulo     SP\n",
       "1                  1             1002 -23.548146 -46.634979  sao paulo     SP"
      ]
     },
     "execution_count": 180,
     "metadata": {},
     "output_type": "execute_result"
    }
   ],
   "source": [
    "geoloc_filtrado.head(2)"
   ]
  },
  {
   "cell_type": "code",
   "execution_count": 186,
   "metadata": {},
   "outputs": [
    {
     "data": {
      "text/plain": [
       "42"
      ]
     },
     "execution_count": 186,
     "metadata": {},
     "output_type": "execute_result"
    }
   ],
   "source": [
    "geoloc_unique_code = geoloc_filtrado.zip_code_prefix.unique()\n",
    "clientes_unique_code = clientes.customer_zip_code_prefix.unique()\n",
    "zip_codes_dif = [item for item in clientes_unique_code if item not in geoloc_unique_code]\n",
    "len(zip_codes_dif)"
   ]
  },
  {
   "cell_type": "markdown",
   "metadata": {},
   "source": [
    "Hay 157 codigos postales de clientes que no coinciden con los codigos de la tabla geolocalizacion.\n",
    "Para cada ciudad en la tabla de geolocalizacion hay mas de un zip-code... lo que vamos a hacer es cambiar los de los clientes por la mediana de los de geolocalizacion"
   ]
  },
  {
   "cell_type": "code",
   "execution_count": 184,
   "metadata": {},
   "outputs": [],
   "source": [
    "geoloc_unique_code = geolocalizacion.geolocation_zip_code_prefix.unique()\n",
    "clientes_unique_code = clientes.customer_zip_code_prefix.unique()\n",
    "zip_codes_missing = []\n",
    "for item in clientes_unique_code:\n",
    "    if item not in geoloc_unique_code:\n",
    "        try:\n",
    "            city = clientes.loc[clientes['customer_zip_code_prefix'] == item].customer_city.values[0]\n",
    "            zip_code = int(geolocalizacion[geolocalizacion.geolocation_city==city].geolocation_zip_code_prefix.median())\n",
    "            clientes['customer_zip_code_prefix'] = clientes['customer_zip_code_prefix'].replace(item, zip_code)\n",
    "        except:\n",
    "            zip_codes_missing.append(item)"
   ]
  },
  {
   "cell_type": "code",
   "execution_count": 185,
   "metadata": {},
   "outputs": [
    {
     "data": {
      "text/plain": [
       "42"
      ]
     },
     "execution_count": 185,
     "metadata": {},
     "output_type": "execute_result"
    }
   ],
   "source": [
    "len(zip_codes_missing)"
   ]
  },
  {
   "cell_type": "code",
   "execution_count": 189,
   "metadata": {},
   "outputs": [
    {
     "data": {
      "text/plain": [
       "0.04223609979787009"
      ]
     },
     "execution_count": 189,
     "metadata": {},
     "output_type": "execute_result"
    }
   ],
   "source": [
    "(len(zip_codes_missing)/clientes.shape[0])*100"
   ]
  },
  {
   "cell_type": "markdown",
   "metadata": {},
   "source": [
    "Todavia tenemos 42 zip-code que no se encuentran en geolocalizacion. Estos corresponden al 0.04% de los datos... probamos con Levenshtein a ver si podemos evaluar nombres mal escritos sino los guardamos en una tabla auxiliar\n"
   ]
  },
  {
   "cell_type": "code",
   "execution_count": 190,
   "metadata": {},
   "outputs": [],
   "source": [
    "# ciudades a evaluar\n",
    "ciudades_eval = []\n",
    "index = []\n",
    "for item in zip_codes_missing:\n",
    "    ciudades_eval.append(clientes.loc[clientes['customer_zip_code_prefix'] == item].customer_city.values[0])\n",
    "    index.append(clientes.loc[clientes['customer_zip_code_prefix'] == item].index.values[0])\n",
    "\n",
    "#ciudades de geolocalizacion\n",
    "ciudades_geoloc = geolocalizacion.geolocation_city.unique()\n"
   ]
  },
  {
   "cell_type": "code",
   "execution_count": 191,
   "metadata": {},
   "outputs": [],
   "source": [
    "from hermetrics.levenshtein  import Levenshtein \n",
    "\n",
    "lev = Levenshtein ()\n",
    "\n",
    "resultado_favorable_lev = {}\n",
    "resultado_desfavorable_lev = {}\n",
    "\n",
    "for x in ciudades_eval:\n",
    "    puntuacion = 0\n",
    "    i=-1\n",
    "    for y in ciudades_geoloc:\n",
    "        puntos = lev.similarity(x, y)\n",
    "        i+=1\n",
    "        if puntos > puntuacion:\n",
    "            puntuacion = puntos\n",
    "            indice = i\n",
    "    if puntuacion>=0.7:\n",
    "        resultado_favorable_lev[x] = [ciudades_geoloc[indice], puntuacion]\n",
    "    else:\n",
    "        resultado_desfavorable_lev[x] = [ciudades_geoloc[indice],puntuacion]"
   ]
  },
  {
   "cell_type": "code",
   "execution_count": 192,
   "metadata": {},
   "outputs": [
    {
     "data": {
      "text/plain": [
       "20"
      ]
     },
     "execution_count": 192,
     "metadata": {},
     "output_type": "execute_result"
    }
   ],
   "source": [
    "len(resultado_favorable_lev)"
   ]
  },
  {
   "cell_type": "code",
   "execution_count": 193,
   "metadata": {},
   "outputs": [
    {
     "data": {
      "text/plain": [
       "22"
      ]
     },
     "execution_count": 193,
     "metadata": {},
     "output_type": "execute_result"
    }
   ],
   "source": [
    "len(resultado_desfavorable_lev)"
   ]
  },
  {
   "cell_type": "code",
   "execution_count": 194,
   "metadata": {},
   "outputs": [
    {
     "data": {
      "text/plain": [
       "{'glaura': ['planura', 0.7142857142857143],\n",
       " 'nossa senhora do remedio': ['nossa senhora dos remedios',\n",
       "  0.9230769230769231],\n",
       " 'cipo-guacu': ['ipanguacu', 0.7],\n",
       " 'sao francisco do humaita': ['sao francisco da praia', 0.7916666666666666],\n",
       " 'palmeirinha': ['palmeirina', 0.9090909090909091],\n",
       " 'mampituba': ['marituba', 0.7777777777777778],\n",
       " 'passagem': ['passabem', 0.875],\n",
       " 'sao sebastiao da serra': ['sao sebastiao da barra', 0.9090909090909091],\n",
       " 'doce grande': ['laje grande', 0.7272727272727273],\n",
       " 'itabi': ['itobi', 0.8],\n",
       " 'bora': ['borba', 0.8],\n",
       " 'ibitioca': ['ibitiuva', 0.75],\n",
       " 'jaguarembe': ['jaguaribe', 0.8],\n",
       " 'conceicao do formoso': ['conceicao dos ouros', 0.75],\n",
       " 'poco de pedra': ['pocao de pedras', 0.8666666666666667],\n",
       " 'jaua': ['maua', 0.75],\n",
       " 'sao miguel do cambui': ['sao miguel dos campos', 0.8095238095238095],\n",
       " 'palmital de minas': ['para de minas', 0.7058823529411764],\n",
       " 'sao sebastiao do paraiba': ['sao sebastiao do paraiso', 0.9166666666666666],\n",
       " 'siriji': ['siriri', 0.8333333333333334]}"
      ]
     },
     "execution_count": 194,
     "metadata": {},
     "output_type": "execute_result"
    }
   ],
   "source": [
    "resultado_favorable_lev"
   ]
  },
  {
   "cell_type": "markdown",
   "metadata": {},
   "source": [
    "Esta complicado arreglarlos.. asi que en principio guardamos en una tabla auxiliar las filas que no logramos corregir\n"
   ]
  },
  {
   "cell_type": "code",
   "execution_count": 195,
   "metadata": {},
   "outputs": [],
   "source": [
    "cientes_aux = clientes.iloc[index]"
   ]
  },
  {
   "cell_type": "code",
   "execution_count": 197,
   "metadata": {},
   "outputs": [
    {
     "data": {
      "text/plain": [
       "(42, 5)"
      ]
     },
     "execution_count": 197,
     "metadata": {},
     "output_type": "execute_result"
    }
   ],
   "source": [
    "cientes_aux.shape"
   ]
  },
  {
   "cell_type": "code",
   "execution_count": 198,
   "metadata": {},
   "outputs": [
    {
     "data": {
      "text/plain": [
       "(99441, 5)"
      ]
     },
     "execution_count": 198,
     "metadata": {},
     "output_type": "execute_result"
    }
   ],
   "source": [
    "clientes.shape"
   ]
  },
  {
   "cell_type": "code",
   "execution_count": 199,
   "metadata": {},
   "outputs": [],
   "source": [
    "clientes.drop(index = index, axis=0, inplace=True)"
   ]
  },
  {
   "cell_type": "code",
   "execution_count": 200,
   "metadata": {},
   "outputs": [
    {
     "data": {
      "text/plain": [
       "(99399, 5)"
      ]
     },
     "execution_count": 200,
     "metadata": {},
     "output_type": "execute_result"
    }
   ],
   "source": [
    "clientes.shape"
   ]
  },
  {
   "cell_type": "markdown",
   "metadata": {},
   "source": [
    "Ahora que eliminamos estos valores problema tratemos de unir las tablas geoloc_filtrado con clientes para agregar el id de geolocalizacion"
   ]
  },
  {
   "cell_type": "code",
   "execution_count": 201,
   "metadata": {},
   "outputs": [
    {
     "name": "stdout",
     "output_type": "stream",
     "text": [
      "<class 'pandas.core.frame.DataFrame'>\n",
      "Int64Index: 99399 entries, 0 to 99440\n",
      "Data columns (total 5 columns):\n",
      " #   Column                    Non-Null Count  Dtype \n",
      "---  ------                    --------------  ----- \n",
      " 0   customer_id               99399 non-null  object\n",
      " 1   customer_unique_id        99399 non-null  object\n",
      " 2   customer_zip_code_prefix  99399 non-null  int64 \n",
      " 3   customer_city             99399 non-null  object\n",
      " 4   customer_state            99399 non-null  object\n",
      "dtypes: int64(1), object(4)\n",
      "memory usage: 4.6+ MB\n"
     ]
    }
   ],
   "source": [
    "clientes.info()"
   ]
  },
  {
   "cell_type": "code",
   "execution_count": 204,
   "metadata": {},
   "outputs": [
    {
     "name": "stdout",
     "output_type": "stream",
     "text": [
      "<class 'pandas.core.frame.DataFrame'>\n",
      "Int64Index: 19015 entries, 0 to 19014\n",
      "Data columns (total 6 columns):\n",
      " #   Column             Non-Null Count  Dtype  \n",
      "---  ------             --------------  -----  \n",
      " 0   IdGeolocalizacion  19015 non-null  int64  \n",
      " 1   zip_code_prefix    19015 non-null  int64  \n",
      " 2   Latitud            19015 non-null  float64\n",
      " 3   Longitud           19015 non-null  float64\n",
      " 4   Ciudad             19015 non-null  object \n",
      " 5   Estado             19015 non-null  object \n",
      "dtypes: float64(2), int64(2), object(2)\n",
      "memory usage: 1.0+ MB\n"
     ]
    }
   ],
   "source": [
    "geoloc_filtrado.info()"
   ]
  },
  {
   "cell_type": "code",
   "execution_count": 206,
   "metadata": {},
   "outputs": [],
   "source": [
    "clientes_join = clientes.join(geoloc_filtrado, on='customer_zip_code_prefix', how='inner', lsuffix='customer_zip_code_prefix', rsuffix='zip_code_prefix')"
   ]
  },
  {
   "cell_type": "code",
   "execution_count": 208,
   "metadata": {},
   "outputs": [],
   "source": [
    "clientes_join = pd.merge(clientes, geoloc_filtrado, left_on='customer_zip_code_prefix', right_on='zip_code_prefix', how='inner')"
   ]
  },
  {
   "cell_type": "code",
   "execution_count": 209,
   "metadata": {},
   "outputs": [
    {
     "data": {
      "text/html": [
       "<div>\n",
       "<style scoped>\n",
       "    .dataframe tbody tr th:only-of-type {\n",
       "        vertical-align: middle;\n",
       "    }\n",
       "\n",
       "    .dataframe tbody tr th {\n",
       "        vertical-align: top;\n",
       "    }\n",
       "\n",
       "    .dataframe thead th {\n",
       "        text-align: right;\n",
       "    }\n",
       "</style>\n",
       "<table border=\"1\" class=\"dataframe\">\n",
       "  <thead>\n",
       "    <tr style=\"text-align: right;\">\n",
       "      <th></th>\n",
       "      <th>customer_id</th>\n",
       "      <th>customer_unique_id</th>\n",
       "      <th>customer_zip_code_prefix</th>\n",
       "      <th>customer_city</th>\n",
       "      <th>customer_state</th>\n",
       "      <th>IdGeolocalizacion</th>\n",
       "      <th>zip_code_prefix</th>\n",
       "      <th>Latitud</th>\n",
       "      <th>Longitud</th>\n",
       "      <th>Ciudad</th>\n",
       "      <th>Estado</th>\n",
       "    </tr>\n",
       "  </thead>\n",
       "  <tbody>\n",
       "    <tr>\n",
       "      <th>0</th>\n",
       "      <td>06b8999e2fba1a1fbc88172c00ba8bc7</td>\n",
       "      <td>861eff4711a542e4b93843c6dd7febb0</td>\n",
       "      <td>14409</td>\n",
       "      <td>franca</td>\n",
       "      <td>SP</td>\n",
       "      <td>5358</td>\n",
       "      <td>14409</td>\n",
       "      <td>-20.498489</td>\n",
       "      <td>-47.396929</td>\n",
       "      <td>sao paulo</td>\n",
       "      <td>SP</td>\n",
       "    </tr>\n",
       "    <tr>\n",
       "      <th>1</th>\n",
       "      <td>5dca924cc99eea2dc5ba40d11ec5dd0f</td>\n",
       "      <td>2761fee7f378f0a8d7682d8a3fa07ab1</td>\n",
       "      <td>14409</td>\n",
       "      <td>franca</td>\n",
       "      <td>SP</td>\n",
       "      <td>5358</td>\n",
       "      <td>14409</td>\n",
       "      <td>-20.498489</td>\n",
       "      <td>-47.396929</td>\n",
       "      <td>sao paulo</td>\n",
       "      <td>SP</td>\n",
       "    </tr>\n",
       "    <tr>\n",
       "      <th>2</th>\n",
       "      <td>661897d4968f1b59bfff74c7eb2eb4fc</td>\n",
       "      <td>d06a495406b79cb8203ea21cc0942f8c</td>\n",
       "      <td>14409</td>\n",
       "      <td>franca</td>\n",
       "      <td>SP</td>\n",
       "      <td>5358</td>\n",
       "      <td>14409</td>\n",
       "      <td>-20.498489</td>\n",
       "      <td>-47.396929</td>\n",
       "      <td>sao paulo</td>\n",
       "      <td>SP</td>\n",
       "    </tr>\n",
       "    <tr>\n",
       "      <th>3</th>\n",
       "      <td>702b62324327ccba20f1be3465426437</td>\n",
       "      <td>8b3d988f330c1d1c3332ccd440c147b7</td>\n",
       "      <td>14409</td>\n",
       "      <td>franca</td>\n",
       "      <td>SP</td>\n",
       "      <td>5358</td>\n",
       "      <td>14409</td>\n",
       "      <td>-20.498489</td>\n",
       "      <td>-47.396929</td>\n",
       "      <td>sao paulo</td>\n",
       "      <td>SP</td>\n",
       "    </tr>\n",
       "    <tr>\n",
       "      <th>4</th>\n",
       "      <td>bdf997bae7ca819b0415f5174d6b4302</td>\n",
       "      <td>866755e25db620f8d7e81b351a15bb2f</td>\n",
       "      <td>14409</td>\n",
       "      <td>franca</td>\n",
       "      <td>SP</td>\n",
       "      <td>5358</td>\n",
       "      <td>14409</td>\n",
       "      <td>-20.498489</td>\n",
       "      <td>-47.396929</td>\n",
       "      <td>sao paulo</td>\n",
       "      <td>SP</td>\n",
       "    </tr>\n",
       "    <tr>\n",
       "      <th>...</th>\n",
       "      <td>...</td>\n",
       "      <td>...</td>\n",
       "      <td>...</td>\n",
       "      <td>...</td>\n",
       "      <td>...</td>\n",
       "      <td>...</td>\n",
       "      <td>...</td>\n",
       "      <td>...</td>\n",
       "      <td>...</td>\n",
       "      <td>...</td>\n",
       "      <td>...</td>\n",
       "    </tr>\n",
       "    <tr>\n",
       "      <th>99387</th>\n",
       "      <td>0b7a30ba373aeb55cf28add5b5477956</td>\n",
       "      <td>8c8173e547e020f411aa55b2fceed861</td>\n",
       "      <td>87145</td>\n",
       "      <td>paicandu</td>\n",
       "      <td>PR</td>\n",
       "      <td>17117</td>\n",
       "      <td>87145</td>\n",
       "      <td>-23.501806</td>\n",
       "      <td>-52.150926</td>\n",
       "      <td>sao paulo</td>\n",
       "      <td>SP</td>\n",
       "    </tr>\n",
       "    <tr>\n",
       "      <th>99388</th>\n",
       "      <td>ff6b440b2465bfaef05c675efb48cd15</td>\n",
       "      <td>e38a27b979a552e019e297ecc22dc67b</td>\n",
       "      <td>98860</td>\n",
       "      <td>eugenio de castro</td>\n",
       "      <td>RS</td>\n",
       "      <td>18849</td>\n",
       "      <td>98860</td>\n",
       "      <td>-28.527590</td>\n",
       "      <td>-54.145960</td>\n",
       "      <td>sao paulo</td>\n",
       "      <td>SP</td>\n",
       "    </tr>\n",
       "    <tr>\n",
       "      <th>99389</th>\n",
       "      <td>3f7029d9b98a47370cd5f3a97adcbccd</td>\n",
       "      <td>5894d202cc869b4ec460fce3c6ed8cb5</td>\n",
       "      <td>5538</td>\n",
       "      <td>sao paulo</td>\n",
       "      <td>SP</td>\n",
       "      <td>2790</td>\n",
       "      <td>5538</td>\n",
       "      <td>-23.588483</td>\n",
       "      <td>-46.737908</td>\n",
       "      <td>sao paulo</td>\n",
       "      <td>SP</td>\n",
       "    </tr>\n",
       "    <tr>\n",
       "      <th>99390</th>\n",
       "      <td>d9110683c7a282144e9fc97660026a28</td>\n",
       "      <td>5cbfdb85ec130898108b32c50d619c39</td>\n",
       "      <td>74980</td>\n",
       "      <td>aparecida de goiania</td>\n",
       "      <td>GO</td>\n",
       "      <td>15057</td>\n",
       "      <td>74980</td>\n",
       "      <td>-16.822735</td>\n",
       "      <td>-49.248175</td>\n",
       "      <td>sao paulo</td>\n",
       "      <td>SP</td>\n",
       "    </tr>\n",
       "    <tr>\n",
       "      <th>99391</th>\n",
       "      <td>6fb4f2354f36e554ac80141e9128f528</td>\n",
       "      <td>3cc6f2e1b9199837fabb35ff4bf24884</td>\n",
       "      <td>99043</td>\n",
       "      <td>passo fundo</td>\n",
       "      <td>RS</td>\n",
       "      <td>18885</td>\n",
       "      <td>99043</td>\n",
       "      <td>-28.226596</td>\n",
       "      <td>-52.467505</td>\n",
       "      <td>sao paulo</td>\n",
       "      <td>SP</td>\n",
       "    </tr>\n",
       "  </tbody>\n",
       "</table>\n",
       "<p>99392 rows × 11 columns</p>\n",
       "</div>"
      ],
      "text/plain": [
       "                            customer_id                customer_unique_id  \\\n",
       "0      06b8999e2fba1a1fbc88172c00ba8bc7  861eff4711a542e4b93843c6dd7febb0   \n",
       "1      5dca924cc99eea2dc5ba40d11ec5dd0f  2761fee7f378f0a8d7682d8a3fa07ab1   \n",
       "2      661897d4968f1b59bfff74c7eb2eb4fc  d06a495406b79cb8203ea21cc0942f8c   \n",
       "3      702b62324327ccba20f1be3465426437  8b3d988f330c1d1c3332ccd440c147b7   \n",
       "4      bdf997bae7ca819b0415f5174d6b4302  866755e25db620f8d7e81b351a15bb2f   \n",
       "...                                 ...                               ...   \n",
       "99387  0b7a30ba373aeb55cf28add5b5477956  8c8173e547e020f411aa55b2fceed861   \n",
       "99388  ff6b440b2465bfaef05c675efb48cd15  e38a27b979a552e019e297ecc22dc67b   \n",
       "99389  3f7029d9b98a47370cd5f3a97adcbccd  5894d202cc869b4ec460fce3c6ed8cb5   \n",
       "99390  d9110683c7a282144e9fc97660026a28  5cbfdb85ec130898108b32c50d619c39   \n",
       "99391  6fb4f2354f36e554ac80141e9128f528  3cc6f2e1b9199837fabb35ff4bf24884   \n",
       "\n",
       "       customer_zip_code_prefix         customer_city customer_state  \\\n",
       "0                         14409                franca             SP   \n",
       "1                         14409                franca             SP   \n",
       "2                         14409                franca             SP   \n",
       "3                         14409                franca             SP   \n",
       "4                         14409                franca             SP   \n",
       "...                         ...                   ...            ...   \n",
       "99387                     87145              paicandu             PR   \n",
       "99388                     98860     eugenio de castro             RS   \n",
       "99389                      5538             sao paulo             SP   \n",
       "99390                     74980  aparecida de goiania             GO   \n",
       "99391                     99043           passo fundo             RS   \n",
       "\n",
       "       IdGeolocalizacion  zip_code_prefix    Latitud   Longitud     Ciudad  \\\n",
       "0                   5358            14409 -20.498489 -47.396929  sao paulo   \n",
       "1                   5358            14409 -20.498489 -47.396929  sao paulo   \n",
       "2                   5358            14409 -20.498489 -47.396929  sao paulo   \n",
       "3                   5358            14409 -20.498489 -47.396929  sao paulo   \n",
       "4                   5358            14409 -20.498489 -47.396929  sao paulo   \n",
       "...                  ...              ...        ...        ...        ...   \n",
       "99387              17117            87145 -23.501806 -52.150926  sao paulo   \n",
       "99388              18849            98860 -28.527590 -54.145960  sao paulo   \n",
       "99389               2790             5538 -23.588483 -46.737908  sao paulo   \n",
       "99390              15057            74980 -16.822735 -49.248175  sao paulo   \n",
       "99391              18885            99043 -28.226596 -52.467505  sao paulo   \n",
       "\n",
       "      Estado  \n",
       "0         SP  \n",
       "1         SP  \n",
       "2         SP  \n",
       "3         SP  \n",
       "4         SP  \n",
       "...      ...  \n",
       "99387     SP  \n",
       "99388     SP  \n",
       "99389     SP  \n",
       "99390     SP  \n",
       "99391     SP  \n",
       "\n",
       "[99392 rows x 11 columns]"
      ]
     },
     "execution_count": 209,
     "metadata": {},
     "output_type": "execute_result"
    }
   ],
   "source": [
    "clientes_join"
   ]
  },
  {
   "cell_type": "code",
   "execution_count": 213,
   "metadata": {},
   "outputs": [
    {
     "data": {
      "text/plain": [
       "True"
      ]
     },
     "execution_count": 213,
     "metadata": {},
     "output_type": "execute_result"
    }
   ],
   "source": [
    "'franca' in geolocalizacion.geolocation_city.unique()"
   ]
  },
  {
   "cell_type": "code",
   "execution_count": 217,
   "metadata": {},
   "outputs": [
    {
     "data": {
      "text/html": [
       "<div>\n",
       "<style scoped>\n",
       "    .dataframe tbody tr th:only-of-type {\n",
       "        vertical-align: middle;\n",
       "    }\n",
       "\n",
       "    .dataframe tbody tr th {\n",
       "        vertical-align: top;\n",
       "    }\n",
       "\n",
       "    .dataframe thead th {\n",
       "        text-align: right;\n",
       "    }\n",
       "</style>\n",
       "<table border=\"1\" class=\"dataframe\">\n",
       "  <thead>\n",
       "    <tr style=\"text-align: right;\">\n",
       "      <th></th>\n",
       "      <th>IdGeolocalizacion</th>\n",
       "      <th>zip_code_prefix</th>\n",
       "      <th>Latitud</th>\n",
       "      <th>Longitud</th>\n",
       "      <th>Ciudad</th>\n",
       "      <th>Estado</th>\n",
       "    </tr>\n",
       "  </thead>\n",
       "  <tbody>\n",
       "  </tbody>\n",
       "</table>\n",
       "</div>"
      ],
      "text/plain": [
       "Empty DataFrame\n",
       "Columns: [IdGeolocalizacion, zip_code_prefix, Latitud, Longitud, Ciudad, Estado]\n",
       "Index: []"
      ]
     },
     "execution_count": 217,
     "metadata": {},
     "output_type": "execute_result"
    }
   ],
   "source": [
    "geolocalizacion[geolocalizacion.geolocation_city == 'franca']"
   ]
  },
  {
   "cell_type": "code",
   "execution_count": 218,
   "metadata": {},
   "outputs": [
    {
     "data": {
      "text/plain": [
       "array(['sao paulo'], dtype=object)"
      ]
     },
     "execution_count": 218,
     "metadata": {},
     "output_type": "execute_result"
    }
   ],
   "source": [
    "geoloc_filtrado[geoloc_filtrado.zip_code_prefix == 14409].Ciudad.unique()"
   ]
  },
  {
   "cell_type": "code",
   "execution_count": null,
   "metadata": {},
   "outputs": [],
   "source": []
  }
 ],
 "metadata": {
  "kernelspec": {
   "display_name": "Python 3.10.4 64-bit",
   "language": "python",
   "name": "python3"
  },
  "language_info": {
   "codemirror_mode": {
    "name": "ipython",
    "version": 3
   },
   "file_extension": ".py",
   "mimetype": "text/x-python",
   "name": "python",
   "nbconvert_exporter": "python",
   "pygments_lexer": "ipython3",
   "version": "3.10.4"
  },
  "orig_nbformat": 4,
  "vscode": {
   "interpreter": {
    "hash": "7264182eebd21301844b523446cf0e3816433127ddc469c000b43f70ae0d1fc9"
   }
  }
 },
 "nbformat": 4,
 "nbformat_minor": 2
}
