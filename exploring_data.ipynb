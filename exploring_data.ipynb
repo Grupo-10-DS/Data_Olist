{
 "cells": [
  {
   "cell_type": "markdown",
   "metadata": {
    "pycharm": {
     "name": "#%% md\n"
    }
   },
   "source": [
    "# Olist Store |  E-Commerce Brasilero"
   ]
  },
  {
   "cell_type": "markdown",
   "metadata": {
    "pycharm": {
     "name": "#%% md\n"
    }
   },
   "source": [
    "<p>Este es un conjunto de datos públicos del e-commerce brasileño Olist Store. El conjunto de datos tiene información de 100k pedidos entre los años 2016 a 2018 realizados en múltiples mercados en Brasil. Sus características permiten ver un pedido desde múltiples dimensiones: desde el estado del pedido, el precio, el pago y el rendimiento de la carga hasta la ubicación del cliente, los atributos del producto y finalmente las revisiones escritas por los clientes. También hay un conjunto de datos de geolocalización que relaciona los códigos postales brasileños con las coordenadas latitud y longitud.</p>\n",
    "\n",
    "<p>Este conjunto de datos fue generosamente proporcionado por Olist Store, uno de los e-commerce más grandes del mercado brasileño. Olist conecta a pequeñas empresas de todo Brasil a canales sin problemas y con un solo contrato. Esos comerciantes pueden vender sus productos a través de la tienda Olist y enviarlos directamente a los clientes utilizando socios de logística Olist.</p>\n",
    "\n",
    "<p>Después de que un cliente compra el producto en Olist Store, se notifica a un vendedor para cumplir ese pedido. Una vez que el cliente recibe el producto, o la fecha de entrega estimada de entrega, el cliente recibe una encuesta de satisfacción por correo electrónico donde puede dar una nota para la experiencia de compra y escribir algunos comentarios.</p>\n",
    "\n",
    "<p> Ejemplo de un producto en la pagina de Olist</p>\n",
    "<img src=\"example_product.png\"  height=\"600\">\n",
    "\n",
    "<p>El esquema de la base de datos lo podemos ver a continuacion:</p>\n",
    "<img src=\"Database_Schema.png\"  height=\"600\">"
   ]
  },
  {
   "cell_type": "markdown",
   "metadata": {
    "pycharm": {
     "name": "#%% md\n"
    }
   },
   "source": [
    "## Importando Librerias"
   ]
  },
  {
   "cell_type": "code",
   "execution_count": 1,
   "metadata": {
    "pycharm": {
     "name": "#%%\n"
    }
   },
   "outputs": [],
   "source": [
    "import pandas as pd\n",
    "from matplotlib import pyplot as plt\n",
    "import seaborn as sns"
   ]
  },
  {
   "cell_type": "code",
   "execution_count": 2,
   "metadata": {},
   "outputs": [],
   "source": [
    "from utils import Load "
   ]
  },
  {
   "cell_type": "markdown",
   "metadata": {
    "pycharm": {
     "name": "#%% md\n"
    }
   },
   "source": [
    "## Leyendo los datasets"
   ]
  },
  {
   "cell_type": "code",
   "execution_count": 44,
   "metadata": {},
   "outputs": [],
   "source": [
    "\n",
    "path = \"./data/e-comerce_Olist_dataset/\"\n",
    "path2 = './data/Olist_Funnel_marketing/'\n",
    "\n",
    "load = Load(path)\n",
    "load2 = Load(path2)\n",
    "\n",
    "data_dict = load.load_from_csv(path)\n",
    "\n",
    "marketing_dict = load2.load_from_csv(path2)\n"
   ]
  },
  {
   "cell_type": "code",
   "execution_count": 4,
   "metadata": {},
   "outputs": [
    {
     "data": {
      "text/plain": [
       "dict_keys(['olist_customers_dataset', 'olist_geolocation_dataset', 'olist_orders_dataset', 'olist_order_items_dataset', 'olist_order_payments_dataset', 'olist_order_reviews_dataset', 'olist_products_dataset', 'olist_sellers_dataset', 'product_category_name_translation'])"
      ]
     },
     "execution_count": 4,
     "metadata": {},
     "output_type": "execute_result"
    }
   ],
   "source": [
    "data_dict.keys()"
   ]
  },
  {
   "cell_type": "code",
   "execution_count": 5,
   "metadata": {
    "pycharm": {
     "name": "#%%\n"
    }
   },
   "outputs": [],
   "source": [
    "\n",
    "\n",
    "geolocalizacion = pd.read_csv('data\\e-comerce_Olist_dataset\\olist_geolocation_dataset.csv')\n",
    "items = pd.read_csv('data\\e-comerce_Olist_dataset\\olist_order_items_dataset.csv', parse_dates=['shipping_limit_date'])\n",
    "metodo_de_pago = pd.read_csv('data\\e-comerce_Olist_dataset\\olist_order_payments_dataset.csv')\n",
    "reviews = pd.read_csv('data\\e-comerce_Olist_dataset\\olist_order_reviews_dataset.csv', parse_dates=['review_creation_date', 'review_answer_timestamp'])\n",
    "ordenes = pd.read_csv('data\\e-comerce_Olist_dataset\\olist_orders_dataset.csv', parse_dates=['order_purchase_timestamp', 'order_approved_at','order_delivered_carrier_date','order_delivered_customer_date','order_estimated_delivery_date'])\n",
    "productos = pd.read_csv('data\\e-comerce_Olist_dataset\\olist_products_dataset.csv')\n",
    "vendedores = pd.read_csv('data\\e-comerce_Olist_dataset\\olist_sellers_dataset.csv')\n",
    "productos_info = pd.read_csv('data\\e-comerce_Olist_dataset\\product_category_name_translation.csv')\n",
    "\n",
    "marketing_ofertas_cerradas = pd.read_csv(\"data\\Olist_Funnel_marketing\\olist_closed_deals_dataset.csv\", parse_dates=['won_date'])\n",
    "marketing_qualified_leads = pd.read_csv(\"data\\Olist_Funnel_marketing\\olist_marketing_qualified_leads_dataset.csv\", parse_dates=['first_contact_date'])\n"
   ]
  },
  {
   "cell_type": "markdown",
   "metadata": {
    "pycharm": {
     "name": "#%% md\n"
    }
   },
   "source": [
    "## Explorando los datasets"
   ]
  },
  {
   "cell_type": "markdown",
   "metadata": {
    "pycharm": {
     "name": "#%% md\n"
    }
   },
   "source": [
    "### Clientes"
   ]
  },
  {
   "cell_type": "markdown",
   "metadata": {
    "pycharm": {
     "name": "#%% md\n"
    }
   },
   "source": [
    "<p>Este conjunto de datos tiene información sobre el cliente y su ubicación. Usarlo para identificar clientes únicos en el dataset de pedidos/ordenes y para encontrar la ubicación de entrega de pedidos.</p>\n",
    "<p>En este sistema, cada pedido se asigna a un cliente único. Esto significa que el mismo cliente obtendrá diferentes ID para diferentes pedidos. El propósito de tener un cliente_unique_id en el conjunto de datos es permitir identificar a los clientes que hicieron recompras en la tienda. De lo contrario, encontraría que cada pedido tiene un cliente diferente asociado.</p>"
   ]
  },
  {
   "cell_type": "markdown",
   "metadata": {
    "pycharm": {
     "name": "#%% md\n"
    }
   },
   "source": [
    "La tabla de `Clientes` comprende las siguientes columnas:\n",
    "\n",
    "`customer_id`: clave de la orden de compra del dataset. Cada orden tiene un unico customer_id.<br>\n",
    "`customer_unique_id`: Identificador unico del cliente. <br>\n",
    "`customer_zip_code_prefix`: Primeros cinco dígitos del código postal del cliente.<br>\n",
    "`customer_city`: Nombre de la ciudad del cliente.<br>\n",
    "`customer_state`: Nombre del estado donde se encuentra el cliente<br>"
   ]
  },
  {
   "cell_type": "code",
<<<<<<< HEAD
   "execution_count": 26,
   "metadata": {
    "pycharm": {
     "name": "#%%\n"
    }
   },
=======
   "execution_count": 3,
   "metadata": {},
>>>>>>> fa4e3543e1ba571f072fa85a32068bafc0739509
   "outputs": [
    {
     "name": "stdout",
     "output_type": "stream",
     "text": [
      "<class 'pandas.core.frame.DataFrame'>\n",
      "RangeIndex: 99441 entries, 0 to 99440\n",
      "Data columns (total 5 columns):\n",
      " #   Column                    Non-Null Count  Dtype \n",
      "---  ------                    --------------  ----- \n",
      " 0   customer_id               99441 non-null  object\n",
      " 1   customer_unique_id        99441 non-null  object\n",
      " 2   customer_zip_code_prefix  99441 non-null  int64 \n",
      " 3   customer_city             99441 non-null  object\n",
      " 4   customer_state            99441 non-null  object\n",
      "dtypes: int64(1), object(4)\n",
      "memory usage: 3.8+ MB\n"
     ]
    }
   ],
   "source": [
    "clientes = data_dict['olist_customers_dataset']\n",
    "clientes.info()"
   ]
  },
  {
   "cell_type": "code",
<<<<<<< HEAD
   "execution_count": 7,
   "metadata": {
    "pycharm": {
     "name": "#%%\n"
    }
   },
=======
   "execution_count": 4,
   "metadata": {},
>>>>>>> fa4e3543e1ba571f072fa85a32068bafc0739509
   "outputs": [
    {
     "data": {
      "text/html": [
       "<div>\n",
       "<style scoped>\n",
       "    .dataframe tbody tr th:only-of-type {\n",
       "        vertical-align: middle;\n",
       "    }\n",
       "\n",
       "    .dataframe tbody tr th {\n",
       "        vertical-align: top;\n",
       "    }\n",
       "\n",
       "    .dataframe thead th {\n",
       "        text-align: right;\n",
       "    }\n",
       "</style>\n",
       "<table border=\"1\" class=\"dataframe\">\n",
       "  <thead>\n",
       "    <tr style=\"text-align: right;\">\n",
       "      <th></th>\n",
       "      <th>customer_id</th>\n",
       "      <th>customer_unique_id</th>\n",
       "      <th>customer_zip_code_prefix</th>\n",
       "      <th>customer_city</th>\n",
       "      <th>customer_state</th>\n",
       "    </tr>\n",
       "  </thead>\n",
       "  <tbody>\n",
       "    <tr>\n",
       "      <th>0</th>\n",
       "      <td>06b8999e2fba1a1fbc88172c00ba8bc7</td>\n",
       "      <td>861eff4711a542e4b93843c6dd7febb0</td>\n",
       "      <td>14409</td>\n",
       "      <td>franca</td>\n",
       "      <td>SP</td>\n",
       "    </tr>\n",
       "    <tr>\n",
       "      <th>1</th>\n",
       "      <td>18955e83d337fd6b2def6b18a428ac77</td>\n",
       "      <td>290c77bc529b7ac935b93aa66c333dc3</td>\n",
       "      <td>9790</td>\n",
       "      <td>sao bernardo do campo</td>\n",
       "      <td>SP</td>\n",
       "    </tr>\n",
       "    <tr>\n",
       "      <th>2</th>\n",
       "      <td>4e7b3e00288586ebd08712fdd0374a03</td>\n",
       "      <td>060e732b5b29e8181a18229c7b0b2b5e</td>\n",
       "      <td>1151</td>\n",
       "      <td>sao paulo</td>\n",
       "      <td>SP</td>\n",
       "    </tr>\n",
       "  </tbody>\n",
       "</table>\n",
       "</div>"
      ],
      "text/plain": [
       "                        customer_id                customer_unique_id  \\\n",
       "0  06b8999e2fba1a1fbc88172c00ba8bc7  861eff4711a542e4b93843c6dd7febb0   \n",
       "1  18955e83d337fd6b2def6b18a428ac77  290c77bc529b7ac935b93aa66c333dc3   \n",
       "2  4e7b3e00288586ebd08712fdd0374a03  060e732b5b29e8181a18229c7b0b2b5e   \n",
       "\n",
       "   customer_zip_code_prefix          customer_city customer_state  \n",
       "0                     14409                 franca             SP  \n",
       "1                      9790  sao bernardo do campo             SP  \n",
       "2                      1151              sao paulo             SP  "
      ]
     },
<<<<<<< HEAD
     "execution_count": 7,
=======
     "execution_count": 4,
>>>>>>> fa4e3543e1ba571f072fa85a32068bafc0739509
     "metadata": {},
     "output_type": "execute_result"
    }
   ],
   "source": [
    "clientes.head(3)"
   ]
  },
  {
   "cell_type": "code",
<<<<<<< HEAD
   "execution_count": 8,
   "metadata": {
    "pycharm": {
     "name": "#%%\n"
    }
   },
=======
   "execution_count": 5,
   "metadata": {},
>>>>>>> fa4e3543e1ba571f072fa85a32068bafc0739509
   "outputs": [
    {
     "data": {
      "text/plain": [
       "customer_id                 False\n",
       "customer_unique_id          False\n",
       "customer_zip_code_prefix    False\n",
       "customer_city               False\n",
       "customer_state              False\n",
       "dtype: bool"
      ]
     },
<<<<<<< HEAD
     "execution_count": 8,
=======
     "execution_count": 5,
>>>>>>> fa4e3543e1ba571f072fa85a32068bafc0739509
     "metadata": {},
     "output_type": "execute_result"
    }
   ],
   "source": [
    "clientes.isnull().any()"
   ]
  },
  {
   "cell_type": "code",
<<<<<<< HEAD
   "execution_count": 9,
   "metadata": {
    "pycharm": {
     "name": "#%%\n"
    }
   },
=======
   "execution_count": 6,
   "metadata": {},
>>>>>>> fa4e3543e1ba571f072fa85a32068bafc0739509
   "outputs": [
    {
     "data": {
      "image/png": "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",
      "text/plain": [
       "<Figure size 1080x576 with 1 Axes>"
      ]
     },
     "metadata": {
      "needs_background": "light"
     },
     "output_type": "display_data"
    }
   ],
   "source": [
    "# Grafiquemos\n",
    "plt.figure(figsize=(15,8))\n",
    "sns.countplot(x='customer_state', data=clientes)\n",
    "plt.title('Distribution estatal de los clientes')\n",
    "plt.xlabel('Estado')\n",
    "plt.ylabel('Cantidad de clientes')\n",
    "plt.show()"
   ]
  },
  {
   "cell_type": "code",
<<<<<<< HEAD
   "execution_count": 10,
   "metadata": {
    "pycharm": {
     "name": "#%%\n"
    }
   },
=======
   "execution_count": 7,
   "metadata": {},
>>>>>>> fa4e3543e1ba571f072fa85a32068bafc0739509
   "outputs": [
    {
     "data": {
      "text/plain": [
       "4119"
      ]
     },
<<<<<<< HEAD
     "execution_count": 10,
=======
     "execution_count": 7,
>>>>>>> fa4e3543e1ba571f072fa85a32068bafc0739509
     "metadata": {},
     "output_type": "execute_result"
    }
   ],
   "source": [
    "clientes.customer_city.nunique() # nunique Count number of distinct elements in specified axis."
   ]
  },
  {
   "cell_type": "code",
<<<<<<< HEAD
   "execution_count": 11,
   "metadata": {
    "pycharm": {
     "name": "#%%\n"
    }
   },
=======
   "execution_count": 8,
   "metadata": {},
>>>>>>> fa4e3543e1ba571f072fa85a32068bafc0739509
   "outputs": [
    {
     "data": {
      "text/plain": [
       "27"
      ]
     },
<<<<<<< HEAD
     "execution_count": 11,
=======
     "execution_count": 8,
>>>>>>> fa4e3543e1ba571f072fa85a32068bafc0739509
     "metadata": {},
     "output_type": "execute_result"
    }
   ],
   "source": [
    "clientes.customer_state.nunique()"
   ]
  },
  {
   "cell_type": "code",
<<<<<<< HEAD
   "execution_count": 12,
   "metadata": {
    "pycharm": {
     "name": "#%%\n"
    }
   },
=======
   "execution_count": 9,
   "metadata": {},
>>>>>>> fa4e3543e1ba571f072fa85a32068bafc0739509
   "outputs": [
    {
     "data": {
      "text/plain": [
       "0.41980671956235355"
      ]
     },
<<<<<<< HEAD
     "execution_count": 12,
=======
     "execution_count": 9,
>>>>>>> fa4e3543e1ba571f072fa85a32068bafc0739509
     "metadata": {},
     "output_type": "execute_result"
    }
   ],
   "source": [
    "clientes.customer_state.value_counts()[0]/clientes.shape[0]"
   ]
  },
  {
   "cell_type": "markdown",
   "metadata": {
    "pycharm": {
     "name": "#%% md\n"
    }
   },
   "source": [
    "El 42% de los clientes se encuentran en el estado de SP (Sao Pablo) y el resto se encuentra distribuido en los demas 26 estados que registran ventas"
   ]
  },
  {
   "cell_type": "markdown",
   "metadata": {
    "pycharm": {
     "name": "#%% md\n"
    }
   },
   "source": [
    "### Geolocalizacion"
   ]
  },
  {
   "cell_type": "markdown",
   "metadata": {
    "pycharm": {
     "name": "#%% md\n"
    }
   },
   "source": [
    "Este conjunto de datos tiene información con códigos postales brasileños y sus coordenadas LAT/LONG. Usarlo para trazar mapas y encontrar distancias entre vendedores y clientes."
   ]
  },
  {
   "cell_type": "markdown",
   "metadata": {
    "pycharm": {
     "name": "#%% md\n"
    }
   },
   "source": [
    "La tabla de `Geolocalizacion` comprende las siguientes columnas:\n",
    "\n",
    "`geolocation_zip_code_prefix`: Primeros cinco dígitos del código postal del cliente <br>\n",
    "`geolocation_lat`: latidud <br>\n",
    "`geolocation_lng`: Longitud <br>\n",
    "`geolocation_city`: Ciudad <br>\n",
    "`geolocation_state`: Estado <br>"
   ]
  },
  {
   "cell_type": "code",
<<<<<<< HEAD
   "execution_count": 28,
=======
   "execution_count": 10,
>>>>>>> fa4e3543e1ba571f072fa85a32068bafc0739509
   "metadata": {},
   "outputs": [],
   "source": [
    "geolocalizacion = data_dict['olist_geolocation_dataset']"
   ]
  },
  {
   "cell_type": "code",
   "execution_count": 29,
   "metadata": {
    "pycharm": {
     "name": "#%%\n"
    }
   },
   "outputs": [
    {
     "name": "stdout",
     "output_type": "stream",
     "text": [
      "<class 'pandas.core.frame.DataFrame'>\n",
      "RangeIndex: 1000163 entries, 0 to 1000162\n",
      "Data columns (total 5 columns):\n",
      " #   Column                       Non-Null Count    Dtype  \n",
      "---  ------                       --------------    -----  \n",
      " 0   geolocation_zip_code_prefix  1000163 non-null  int64  \n",
      " 1   geolocation_lat              1000163 non-null  float64\n",
      " 2   geolocation_lng              1000163 non-null  float64\n",
      " 3   geolocation_city             1000163 non-null  object \n",
      " 4   geolocation_state            1000163 non-null  object \n",
      "dtypes: float64(2), int64(1), object(2)\n",
      "memory usage: 38.2+ MB\n"
     ]
    }
   ],
   "source": [
    "geolocalizacion.info()"
   ]
  },
  {
   "cell_type": "code",
<<<<<<< HEAD
   "execution_count": 15,
   "metadata": {
    "pycharm": {
     "name": "#%%\n"
    }
   },
=======
   "execution_count": 11,
   "metadata": {},
>>>>>>> fa4e3543e1ba571f072fa85a32068bafc0739509
   "outputs": [
    {
     "data": {
      "text/html": [
       "<div>\n",
       "<style scoped>\n",
       "    .dataframe tbody tr th:only-of-type {\n",
       "        vertical-align: middle;\n",
       "    }\n",
       "\n",
       "    .dataframe tbody tr th {\n",
       "        vertical-align: top;\n",
       "    }\n",
       "\n",
       "    .dataframe thead th {\n",
       "        text-align: right;\n",
       "    }\n",
       "</style>\n",
       "<table border=\"1\" class=\"dataframe\">\n",
       "  <thead>\n",
       "    <tr style=\"text-align: right;\">\n",
       "      <th></th>\n",
       "      <th>geolocation_zip_code_prefix</th>\n",
       "      <th>geolocation_lat</th>\n",
       "      <th>geolocation_lng</th>\n",
       "      <th>geolocation_city</th>\n",
       "      <th>geolocation_state</th>\n",
       "    </tr>\n",
       "  </thead>\n",
       "  <tbody>\n",
       "    <tr>\n",
       "      <th>0</th>\n",
       "      <td>1037</td>\n",
       "      <td>-23.545621</td>\n",
       "      <td>-46.639292</td>\n",
       "      <td>sao paulo</td>\n",
       "      <td>SP</td>\n",
       "    </tr>\n",
       "    <tr>\n",
       "      <th>1</th>\n",
       "      <td>1046</td>\n",
       "      <td>-23.546081</td>\n",
       "      <td>-46.644820</td>\n",
       "      <td>sao paulo</td>\n",
       "      <td>SP</td>\n",
       "    </tr>\n",
       "    <tr>\n",
       "      <th>2</th>\n",
       "      <td>1046</td>\n",
       "      <td>-23.546129</td>\n",
       "      <td>-46.642951</td>\n",
       "      <td>sao paulo</td>\n",
       "      <td>SP</td>\n",
       "    </tr>\n",
       "    <tr>\n",
       "      <th>3</th>\n",
       "      <td>1041</td>\n",
       "      <td>-23.544392</td>\n",
       "      <td>-46.639499</td>\n",
       "      <td>sao paulo</td>\n",
       "      <td>SP</td>\n",
       "    </tr>\n",
       "    <tr>\n",
       "      <th>4</th>\n",
       "      <td>1035</td>\n",
       "      <td>-23.541578</td>\n",
       "      <td>-46.641607</td>\n",
       "      <td>sao paulo</td>\n",
       "      <td>SP</td>\n",
       "    </tr>\n",
       "  </tbody>\n",
       "</table>\n",
       "</div>"
      ],
      "text/plain": [
       "   geolocation_zip_code_prefix  geolocation_lat  geolocation_lng  \\\n",
       "0                         1037       -23.545621       -46.639292   \n",
       "1                         1046       -23.546081       -46.644820   \n",
       "2                         1046       -23.546129       -46.642951   \n",
       "3                         1041       -23.544392       -46.639499   \n",
       "4                         1035       -23.541578       -46.641607   \n",
       "\n",
       "  geolocation_city geolocation_state  \n",
       "0        sao paulo                SP  \n",
       "1        sao paulo                SP  \n",
       "2        sao paulo                SP  \n",
       "3        sao paulo                SP  \n",
       "4        sao paulo                SP  "
      ]
     },
<<<<<<< HEAD
     "execution_count": 15,
=======
     "execution_count": 11,
>>>>>>> fa4e3543e1ba571f072fa85a32068bafc0739509
     "metadata": {},
     "output_type": "execute_result"
    }
   ],
   "source": [
    "geolocalizacion.head()"
   ]
  },
  {
   "cell_type": "markdown",
   "metadata": {
    "pycharm": {
     "name": "#%% md\n"
    }
   },
   "source": [
    "##### Chequear Outliers.\n",
    "La mayor parte del país se halla dentro del hemisferio sur, entre los paralelos 5.5 de latitud N, y los -34 de latitud S; y entre los meridianos que señalan los -32 y los -74 de longitud."
   ]
  },
  {
   "cell_type": "code",
<<<<<<< HEAD
   "execution_count": 16,
   "metadata": {
    "pycharm": {
     "name": "#%%\n"
    }
   },
=======
   "execution_count": 12,
   "metadata": {},
>>>>>>> fa4e3543e1ba571f072fa85a32068bafc0739509
   "outputs": [
    {
     "data": {
      "text/plain": [
       "(31, 5)"
      ]
     },
<<<<<<< HEAD
     "execution_count": 16,
=======
     "execution_count": 12,
>>>>>>> fa4e3543e1ba571f072fa85a32068bafc0739509
     "metadata": {},
     "output_type": "execute_result"
    }
   ],
   "source": [
    "# Chequeamos latitud\n",
    "out_latylon = geolocalizacion [(geolocalizacion.geolocation_lat > 5.5)| (geolocalizacion.geolocation_lat < -34)|(geolocalizacion.geolocation_lng > -32 )| (geolocalizacion.geolocation_lng  < -74)]\n",
    "out_latylon.shape"
   ]
  },
  {
   "cell_type": "markdown",
   "metadata": {
    "pycharm": {
     "name": "#%% md\n"
    }
   },
   "source": [
    "Hay outliers... trabajarlos"
   ]
  },
  {
   "cell_type": "code",
<<<<<<< HEAD
   "execution_count": 17,
   "metadata": {
    "pycharm": {
     "name": "#%%\n"
    }
   },
=======
   "execution_count": 14,
   "metadata": {},
>>>>>>> fa4e3543e1ba571f072fa85a32068bafc0739509
   "outputs": [
    {
     "data": {
      "text/plain": [
       "Location(Parque Nacional Marinho de Fernando de Noronha, Fernando de Noronha, Região Geográfica Imediata do Recife, Região Geográfica Intermediária do Recife, Pernambuco, Região Nordeste, 53990-000, Brasil, (-3.8545643, -32.37861623300567, 0.0))"
      ]
     },
<<<<<<< HEAD
     "execution_count": 17,
=======
     "execution_count": 14,
>>>>>>> fa4e3543e1ba571f072fa85a32068bafc0739509
     "metadata": {},
     "output_type": "execute_result"
    }
   ],
   "source": [
    "from geopy.geocoders import Nominatim\n",
    "geolocator = Nominatim(user_agent=\"pi_1_henry\")\n",
    "location = geolocator.geocode('fernando de noronha')\n",
    "location"
   ]
  },
  {
   "cell_type": "code",
<<<<<<< HEAD
   "execution_count": 18,
   "metadata": {
    "pycharm": {
     "name": "#%%\n"
    }
   },
=======
   "execution_count": 15,
   "metadata": {},
>>>>>>> fa4e3543e1ba571f072fa85a32068bafc0739509
   "outputs": [
    {
     "name": "stdout",
     "output_type": "stream",
     "text": [
      "(-3.8545643, -32.37861623300567)\n"
     ]
    }
   ],
   "source": [
    "print((location.latitude, location.longitude))"
   ]
  },
  {
   "cell_type": "code",
<<<<<<< HEAD
   "execution_count": 25,
   "metadata": {
    "pycharm": {
     "name": "#%%\n"
    }
   },
=======
   "execution_count": 17,
   "metadata": {},
>>>>>>> fa4e3543e1ba571f072fa85a32068bafc0739509
   "outputs": [
    {
     "ename": "GeocoderUnavailable",
     "evalue": "HTTPSConnectionPool(host='nominatim.openstreetmap.org', port=443): Max retries exceeded with url: /search?q=santa+maria%2C+Brasil&format=json&limit=1 (Caused by ReadTimeoutError(\"HTTPSConnectionPool(host='nominatim.openstreetmap.org', port=443): Read timed out. (read timeout=1)\"))",
     "output_type": "error",
     "traceback": [
      "\u001b[1;31m---------------------------------------------------------------------------\u001b[0m",
      "\u001b[1;31mtimeout\u001b[0m                                   Traceback (most recent call last)",
<<<<<<< HEAD
      "File \u001b[1;32mc:\\Users\\Usuario\\miniconda3\\lib\\site-packages\\urllib3\\connectionpool.py:449\u001b[0m, in \u001b[0;36mHTTPConnectionPool._make_request\u001b[1;34m(self, conn, method, url, timeout, chunked, **httplib_request_kw)\u001b[0m\n\u001b[0;32m    445\u001b[0m         \u001b[39mexcept\u001b[39;00m \u001b[39mBaseException\u001b[39;00m \u001b[39mas\u001b[39;00m e:\n\u001b[0;32m    446\u001b[0m             \u001b[39m# Remove the TypeError from the exception chain in\u001b[39;00m\n\u001b[0;32m    447\u001b[0m             \u001b[39m# Python 3 (including for exceptions like SystemExit).\u001b[39;00m\n\u001b[0;32m    448\u001b[0m             \u001b[39m# Otherwise it looks like a bug in the code.\u001b[39;00m\n\u001b[1;32m--> 449\u001b[0m             six\u001b[39m.\u001b[39;49mraise_from(e, \u001b[39mNone\u001b[39;49;00m)\n\u001b[0;32m    450\u001b[0m \u001b[39mexcept\u001b[39;00m (SocketTimeout, BaseSSLError, SocketError) \u001b[39mas\u001b[39;00m e:\n",
      "File \u001b[1;32m<string>:3\u001b[0m, in \u001b[0;36mraise_from\u001b[1;34m(value, from_value)\u001b[0m\n",
      "File \u001b[1;32mc:\\Users\\Usuario\\miniconda3\\lib\\site-packages\\urllib3\\connectionpool.py:444\u001b[0m, in \u001b[0;36mHTTPConnectionPool._make_request\u001b[1;34m(self, conn, method, url, timeout, chunked, **httplib_request_kw)\u001b[0m\n\u001b[0;32m    443\u001b[0m \u001b[39mtry\u001b[39;00m:\n\u001b[1;32m--> 444\u001b[0m     httplib_response \u001b[39m=\u001b[39m conn\u001b[39m.\u001b[39;49mgetresponse()\n\u001b[0;32m    445\u001b[0m \u001b[39mexcept\u001b[39;00m \u001b[39mBaseException\u001b[39;00m \u001b[39mas\u001b[39;00m e:\n\u001b[0;32m    446\u001b[0m     \u001b[39m# Remove the TypeError from the exception chain in\u001b[39;00m\n\u001b[0;32m    447\u001b[0m     \u001b[39m# Python 3 (including for exceptions like SystemExit).\u001b[39;00m\n\u001b[0;32m    448\u001b[0m     \u001b[39m# Otherwise it looks like a bug in the code.\u001b[39;00m\n",
      "File \u001b[1;32mc:\\Users\\Usuario\\miniconda3\\lib\\http\\client.py:1377\u001b[0m, in \u001b[0;36mHTTPConnection.getresponse\u001b[1;34m(self)\u001b[0m\n\u001b[0;32m   1376\u001b[0m \u001b[39mtry\u001b[39;00m:\n\u001b[1;32m-> 1377\u001b[0m     response\u001b[39m.\u001b[39;49mbegin()\n\u001b[0;32m   1378\u001b[0m \u001b[39mexcept\u001b[39;00m \u001b[39mConnectionError\u001b[39;00m:\n",
      "File \u001b[1;32mc:\\Users\\Usuario\\miniconda3\\lib\\http\\client.py:320\u001b[0m, in \u001b[0;36mHTTPResponse.begin\u001b[1;34m(self)\u001b[0m\n\u001b[0;32m    319\u001b[0m \u001b[39mwhile\u001b[39;00m \u001b[39mTrue\u001b[39;00m:\n\u001b[1;32m--> 320\u001b[0m     version, status, reason \u001b[39m=\u001b[39m \u001b[39mself\u001b[39;49m\u001b[39m.\u001b[39;49m_read_status()\n\u001b[0;32m    321\u001b[0m     \u001b[39mif\u001b[39;00m status \u001b[39m!=\u001b[39m CONTINUE:\n",
      "File \u001b[1;32mc:\\Users\\Usuario\\miniconda3\\lib\\http\\client.py:281\u001b[0m, in \u001b[0;36mHTTPResponse._read_status\u001b[1;34m(self)\u001b[0m\n\u001b[0;32m    280\u001b[0m \u001b[39mdef\u001b[39;00m \u001b[39m_read_status\u001b[39m(\u001b[39mself\u001b[39m):\n\u001b[1;32m--> 281\u001b[0m     line \u001b[39m=\u001b[39m \u001b[39mstr\u001b[39m(\u001b[39mself\u001b[39;49m\u001b[39m.\u001b[39;49mfp\u001b[39m.\u001b[39;49mreadline(_MAXLINE \u001b[39m+\u001b[39;49m \u001b[39m1\u001b[39;49m), \u001b[39m\"\u001b[39m\u001b[39miso-8859-1\u001b[39m\u001b[39m\"\u001b[39m)\n\u001b[0;32m    282\u001b[0m     \u001b[39mif\u001b[39;00m \u001b[39mlen\u001b[39m(line) \u001b[39m>\u001b[39m _MAXLINE:\n",
      "File \u001b[1;32mc:\\Users\\Usuario\\miniconda3\\lib\\socket.py:704\u001b[0m, in \u001b[0;36mSocketIO.readinto\u001b[1;34m(self, b)\u001b[0m\n\u001b[0;32m    703\u001b[0m \u001b[39mtry\u001b[39;00m:\n\u001b[1;32m--> 704\u001b[0m     \u001b[39mreturn\u001b[39;00m \u001b[39mself\u001b[39;49m\u001b[39m.\u001b[39;49m_sock\u001b[39m.\u001b[39;49mrecv_into(b)\n\u001b[0;32m    705\u001b[0m \u001b[39mexcept\u001b[39;00m timeout:\n",
      "File \u001b[1;32mc:\\Users\\Usuario\\miniconda3\\lib\\ssl.py:1241\u001b[0m, in \u001b[0;36mSSLSocket.recv_into\u001b[1;34m(self, buffer, nbytes, flags)\u001b[0m\n\u001b[0;32m   1238\u001b[0m         \u001b[39mraise\u001b[39;00m \u001b[39mValueError\u001b[39;00m(\n\u001b[0;32m   1239\u001b[0m           \u001b[39m\"\u001b[39m\u001b[39mnon-zero flags not allowed in calls to recv_into() on \u001b[39m\u001b[39m%s\u001b[39;00m\u001b[39m\"\u001b[39m \u001b[39m%\u001b[39m\n\u001b[0;32m   1240\u001b[0m           \u001b[39mself\u001b[39m\u001b[39m.\u001b[39m\u001b[39m__class__\u001b[39m)\n\u001b[1;32m-> 1241\u001b[0m     \u001b[39mreturn\u001b[39;00m \u001b[39mself\u001b[39;49m\u001b[39m.\u001b[39;49mread(nbytes, buffer)\n\u001b[0;32m   1242\u001b[0m \u001b[39melse\u001b[39;00m:\n",
      "File \u001b[1;32mc:\\Users\\Usuario\\miniconda3\\lib\\ssl.py:1099\u001b[0m, in \u001b[0;36mSSLSocket.read\u001b[1;34m(self, len, buffer)\u001b[0m\n\u001b[0;32m   1098\u001b[0m \u001b[39mif\u001b[39;00m buffer \u001b[39mis\u001b[39;00m \u001b[39mnot\u001b[39;00m \u001b[39mNone\u001b[39;00m:\n\u001b[1;32m-> 1099\u001b[0m     \u001b[39mreturn\u001b[39;00m \u001b[39mself\u001b[39;49m\u001b[39m.\u001b[39;49m_sslobj\u001b[39m.\u001b[39;49mread(\u001b[39mlen\u001b[39;49m, buffer)\n\u001b[0;32m   1100\u001b[0m \u001b[39melse\u001b[39;00m:\n",
      "\u001b[1;31mtimeout\u001b[0m: The read operation timed out",
      "\nDuring handling of the above exception, another exception occurred:\n",
      "\u001b[1;31mReadTimeoutError\u001b[0m                          Traceback (most recent call last)",
      "File \u001b[1;32mc:\\Users\\Usuario\\miniconda3\\lib\\site-packages\\urllib3\\connectionpool.py:703\u001b[0m, in \u001b[0;36mHTTPConnectionPool.urlopen\u001b[1;34m(self, method, url, body, headers, retries, redirect, assert_same_host, timeout, pool_timeout, release_conn, chunked, body_pos, **response_kw)\u001b[0m\n\u001b[0;32m    702\u001b[0m \u001b[39m# Make the request on the httplib connection object.\u001b[39;00m\n\u001b[1;32m--> 703\u001b[0m httplib_response \u001b[39m=\u001b[39m \u001b[39mself\u001b[39;49m\u001b[39m.\u001b[39;49m_make_request(\n\u001b[0;32m    704\u001b[0m     conn,\n\u001b[0;32m    705\u001b[0m     method,\n\u001b[0;32m    706\u001b[0m     url,\n\u001b[0;32m    707\u001b[0m     timeout\u001b[39m=\u001b[39;49mtimeout_obj,\n\u001b[0;32m    708\u001b[0m     body\u001b[39m=\u001b[39;49mbody,\n\u001b[0;32m    709\u001b[0m     headers\u001b[39m=\u001b[39;49mheaders,\n\u001b[0;32m    710\u001b[0m     chunked\u001b[39m=\u001b[39;49mchunked,\n\u001b[0;32m    711\u001b[0m )\n\u001b[0;32m    713\u001b[0m \u001b[39m# If we're going to release the connection in ``finally:``, then\u001b[39;00m\n\u001b[0;32m    714\u001b[0m \u001b[39m# the response doesn't need to know about the connection. Otherwise\u001b[39;00m\n\u001b[0;32m    715\u001b[0m \u001b[39m# it will also try to release it and we'll have a double-release\u001b[39;00m\n\u001b[0;32m    716\u001b[0m \u001b[39m# mess.\u001b[39;00m\n",
      "File \u001b[1;32mc:\\Users\\Usuario\\miniconda3\\lib\\site-packages\\urllib3\\connectionpool.py:451\u001b[0m, in \u001b[0;36mHTTPConnectionPool._make_request\u001b[1;34m(self, conn, method, url, timeout, chunked, **httplib_request_kw)\u001b[0m\n\u001b[0;32m    450\u001b[0m \u001b[39mexcept\u001b[39;00m (SocketTimeout, BaseSSLError, SocketError) \u001b[39mas\u001b[39;00m e:\n\u001b[1;32m--> 451\u001b[0m     \u001b[39mself\u001b[39;49m\u001b[39m.\u001b[39;49m_raise_timeout(err\u001b[39m=\u001b[39;49me, url\u001b[39m=\u001b[39;49murl, timeout_value\u001b[39m=\u001b[39;49mread_timeout)\n\u001b[0;32m    452\u001b[0m     \u001b[39mraise\u001b[39;00m\n",
      "File \u001b[1;32mc:\\Users\\Usuario\\miniconda3\\lib\\site-packages\\urllib3\\connectionpool.py:340\u001b[0m, in \u001b[0;36mHTTPConnectionPool._raise_timeout\u001b[1;34m(self, err, url, timeout_value)\u001b[0m\n\u001b[0;32m    339\u001b[0m \u001b[39mif\u001b[39;00m \u001b[39misinstance\u001b[39m(err, SocketTimeout):\n\u001b[1;32m--> 340\u001b[0m     \u001b[39mraise\u001b[39;00m ReadTimeoutError(\n\u001b[0;32m    341\u001b[0m         \u001b[39mself\u001b[39m, url, \u001b[39m\"\u001b[39m\u001b[39mRead timed out. (read timeout=\u001b[39m\u001b[39m%s\u001b[39;00m\u001b[39m)\u001b[39m\u001b[39m\"\u001b[39m \u001b[39m%\u001b[39m timeout_value\n\u001b[0;32m    342\u001b[0m     )\n\u001b[0;32m    344\u001b[0m \u001b[39m# See the above comment about EAGAIN in Python 3. In Python 2 we have\u001b[39;00m\n\u001b[0;32m    345\u001b[0m \u001b[39m# to specifically catch it and throw the timeout error\u001b[39;00m\n",
      "\u001b[1;31mReadTimeoutError\u001b[0m: HTTPSConnectionPool(host='nominatim.openstreetmap.org', port=443): Read timed out. (read timeout=1)",
      "\nDuring handling of the above exception, another exception occurred:\n",
      "\u001b[1;31mMaxRetryError\u001b[0m                             Traceback (most recent call last)",
      "File \u001b[1;32mc:\\Users\\Usuario\\miniconda3\\lib\\site-packages\\requests\\adapters.py:440\u001b[0m, in \u001b[0;36mHTTPAdapter.send\u001b[1;34m(self, request, stream, timeout, verify, cert, proxies)\u001b[0m\n\u001b[0;32m    439\u001b[0m \u001b[39mif\u001b[39;00m \u001b[39mnot\u001b[39;00m chunked:\n\u001b[1;32m--> 440\u001b[0m     resp \u001b[39m=\u001b[39m conn\u001b[39m.\u001b[39;49murlopen(\n\u001b[0;32m    441\u001b[0m         method\u001b[39m=\u001b[39;49mrequest\u001b[39m.\u001b[39;49mmethod,\n\u001b[0;32m    442\u001b[0m         url\u001b[39m=\u001b[39;49murl,\n\u001b[0;32m    443\u001b[0m         body\u001b[39m=\u001b[39;49mrequest\u001b[39m.\u001b[39;49mbody,\n\u001b[0;32m    444\u001b[0m         headers\u001b[39m=\u001b[39;49mrequest\u001b[39m.\u001b[39;49mheaders,\n\u001b[0;32m    445\u001b[0m         redirect\u001b[39m=\u001b[39;49m\u001b[39mFalse\u001b[39;49;00m,\n\u001b[0;32m    446\u001b[0m         assert_same_host\u001b[39m=\u001b[39;49m\u001b[39mFalse\u001b[39;49;00m,\n\u001b[0;32m    447\u001b[0m         preload_content\u001b[39m=\u001b[39;49m\u001b[39mFalse\u001b[39;49;00m,\n\u001b[0;32m    448\u001b[0m         decode_content\u001b[39m=\u001b[39;49m\u001b[39mFalse\u001b[39;49;00m,\n\u001b[0;32m    449\u001b[0m         retries\u001b[39m=\u001b[39;49m\u001b[39mself\u001b[39;49m\u001b[39m.\u001b[39;49mmax_retries,\n\u001b[0;32m    450\u001b[0m         timeout\u001b[39m=\u001b[39;49mtimeout\n\u001b[0;32m    451\u001b[0m     )\n\u001b[0;32m    453\u001b[0m \u001b[39m# Send the request.\u001b[39;00m\n\u001b[0;32m    454\u001b[0m \u001b[39melse\u001b[39;00m:\n",
      "File \u001b[1;32mc:\\Users\\Usuario\\miniconda3\\lib\\site-packages\\urllib3\\connectionpool.py:813\u001b[0m, in \u001b[0;36mHTTPConnectionPool.urlopen\u001b[1;34m(self, method, url, body, headers, retries, redirect, assert_same_host, timeout, pool_timeout, release_conn, chunked, body_pos, **response_kw)\u001b[0m\n\u001b[0;32m    810\u001b[0m     log\u001b[39m.\u001b[39mwarning(\n\u001b[0;32m    811\u001b[0m         \u001b[39m\"\u001b[39m\u001b[39mRetrying (\u001b[39m\u001b[39m%r\u001b[39;00m\u001b[39m) after connection broken by \u001b[39m\u001b[39m'\u001b[39m\u001b[39m%r\u001b[39;00m\u001b[39m'\u001b[39m\u001b[39m: \u001b[39m\u001b[39m%s\u001b[39;00m\u001b[39m\"\u001b[39m, retries, err, url\n\u001b[0;32m    812\u001b[0m     )\n\u001b[1;32m--> 813\u001b[0m     \u001b[39mreturn\u001b[39;00m \u001b[39mself\u001b[39m\u001b[39m.\u001b[39murlopen(\n\u001b[0;32m    814\u001b[0m         method,\n\u001b[0;32m    815\u001b[0m         url,\n\u001b[0;32m    816\u001b[0m         body,\n\u001b[0;32m    817\u001b[0m         headers,\n\u001b[0;32m    818\u001b[0m         retries,\n\u001b[0;32m    819\u001b[0m         redirect,\n\u001b[0;32m    820\u001b[0m         assert_same_host,\n\u001b[0;32m    821\u001b[0m         timeout\u001b[39m=\u001b[39mtimeout,\n\u001b[0;32m    822\u001b[0m         pool_timeout\u001b[39m=\u001b[39mpool_timeout,\n\u001b[0;32m    823\u001b[0m         release_conn\u001b[39m=\u001b[39mrelease_conn,\n\u001b[0;32m    824\u001b[0m         chunked\u001b[39m=\u001b[39mchunked,\n\u001b[0;32m    825\u001b[0m         body_pos\u001b[39m=\u001b[39mbody_pos,\n\u001b[0;32m    826\u001b[0m         \u001b[39m*\u001b[39m\u001b[39m*\u001b[39mresponse_kw\n\u001b[0;32m    827\u001b[0m     )\n\u001b[0;32m    829\u001b[0m \u001b[39m# Handle redirect?\u001b[39;00m\n",
      "File \u001b[1;32mc:\\Users\\Usuario\\miniconda3\\lib\\site-packages\\urllib3\\connectionpool.py:813\u001b[0m, in \u001b[0;36mHTTPConnectionPool.urlopen\u001b[1;34m(self, method, url, body, headers, retries, redirect, assert_same_host, timeout, pool_timeout, release_conn, chunked, body_pos, **response_kw)\u001b[0m\n\u001b[0;32m    810\u001b[0m     log\u001b[39m.\u001b[39mwarning(\n\u001b[0;32m    811\u001b[0m         \u001b[39m\"\u001b[39m\u001b[39mRetrying (\u001b[39m\u001b[39m%r\u001b[39;00m\u001b[39m) after connection broken by \u001b[39m\u001b[39m'\u001b[39m\u001b[39m%r\u001b[39;00m\u001b[39m'\u001b[39m\u001b[39m: \u001b[39m\u001b[39m%s\u001b[39;00m\u001b[39m\"\u001b[39m, retries, err, url\n\u001b[0;32m    812\u001b[0m     )\n\u001b[1;32m--> 813\u001b[0m     \u001b[39mreturn\u001b[39;00m \u001b[39mself\u001b[39m\u001b[39m.\u001b[39murlopen(\n\u001b[0;32m    814\u001b[0m         method,\n\u001b[0;32m    815\u001b[0m         url,\n\u001b[0;32m    816\u001b[0m         body,\n\u001b[0;32m    817\u001b[0m         headers,\n\u001b[0;32m    818\u001b[0m         retries,\n\u001b[0;32m    819\u001b[0m         redirect,\n\u001b[0;32m    820\u001b[0m         assert_same_host,\n\u001b[0;32m    821\u001b[0m         timeout\u001b[39m=\u001b[39mtimeout,\n\u001b[0;32m    822\u001b[0m         pool_timeout\u001b[39m=\u001b[39mpool_timeout,\n\u001b[0;32m    823\u001b[0m         release_conn\u001b[39m=\u001b[39mrelease_conn,\n\u001b[0;32m    824\u001b[0m         chunked\u001b[39m=\u001b[39mchunked,\n\u001b[0;32m    825\u001b[0m         body_pos\u001b[39m=\u001b[39mbody_pos,\n\u001b[0;32m    826\u001b[0m         \u001b[39m*\u001b[39m\u001b[39m*\u001b[39mresponse_kw\n\u001b[0;32m    827\u001b[0m     )\n\u001b[0;32m    829\u001b[0m \u001b[39m# Handle redirect?\u001b[39;00m\n",
      "File \u001b[1;32mc:\\Users\\Usuario\\miniconda3\\lib\\site-packages\\urllib3\\connectionpool.py:785\u001b[0m, in \u001b[0;36mHTTPConnectionPool.urlopen\u001b[1;34m(self, method, url, body, headers, retries, redirect, assert_same_host, timeout, pool_timeout, release_conn, chunked, body_pos, **response_kw)\u001b[0m\n\u001b[0;32m    783\u001b[0m     e \u001b[39m=\u001b[39m ProtocolError(\u001b[39m\"\u001b[39m\u001b[39mConnection aborted.\u001b[39m\u001b[39m\"\u001b[39m, e)\n\u001b[1;32m--> 785\u001b[0m retries \u001b[39m=\u001b[39m retries\u001b[39m.\u001b[39;49mincrement(\n\u001b[0;32m    786\u001b[0m     method, url, error\u001b[39m=\u001b[39;49me, _pool\u001b[39m=\u001b[39;49m\u001b[39mself\u001b[39;49m, _stacktrace\u001b[39m=\u001b[39;49msys\u001b[39m.\u001b[39;49mexc_info()[\u001b[39m2\u001b[39;49m]\n\u001b[0;32m    787\u001b[0m )\n\u001b[0;32m    788\u001b[0m retries\u001b[39m.\u001b[39msleep()\n",
      "File \u001b[1;32mc:\\Users\\Usuario\\miniconda3\\lib\\site-packages\\urllib3\\util\\retry.py:592\u001b[0m, in \u001b[0;36mRetry.increment\u001b[1;34m(self, method, url, response, error, _pool, _stacktrace)\u001b[0m\n\u001b[0;32m    591\u001b[0m \u001b[39mif\u001b[39;00m new_retry\u001b[39m.\u001b[39mis_exhausted():\n\u001b[1;32m--> 592\u001b[0m     \u001b[39mraise\u001b[39;00m MaxRetryError(_pool, url, error \u001b[39mor\u001b[39;00m ResponseError(cause))\n\u001b[0;32m    594\u001b[0m log\u001b[39m.\u001b[39mdebug(\u001b[39m\"\u001b[39m\u001b[39mIncremented Retry for (url=\u001b[39m\u001b[39m'\u001b[39m\u001b[39m%s\u001b[39;00m\u001b[39m'\u001b[39m\u001b[39m): \u001b[39m\u001b[39m%r\u001b[39;00m\u001b[39m\"\u001b[39m, url, new_retry)\n",
      "\u001b[1;31mMaxRetryError\u001b[0m: HTTPSConnectionPool(host='nominatim.openstreetmap.org', port=443): Max retries exceeded with url: /search?q=santa+maria%2C+Brasil&format=json&limit=1 (Caused by ReadTimeoutError(\"HTTPSConnectionPool(host='nominatim.openstreetmap.org', port=443): Read timed out. (read timeout=1)\"))",
      "\nDuring handling of the above exception, another exception occurred:\n",
      "\u001b[1;31mConnectionError\u001b[0m                           Traceback (most recent call last)",
      "File \u001b[1;32m~\\AppData\\Roaming\\Python\\Python39\\site-packages\\geopy\\adapters.py:448\u001b[0m, in \u001b[0;36mRequestsAdapter._request\u001b[1;34m(self, url, timeout, headers)\u001b[0m\n\u001b[0;32m    447\u001b[0m \u001b[39mtry\u001b[39;00m:\n\u001b[1;32m--> 448\u001b[0m     resp \u001b[39m=\u001b[39m \u001b[39mself\u001b[39;49m\u001b[39m.\u001b[39;49msession\u001b[39m.\u001b[39;49mget(url, timeout\u001b[39m=\u001b[39;49mtimeout, headers\u001b[39m=\u001b[39;49mheaders)\n\u001b[0;32m    449\u001b[0m \u001b[39mexcept\u001b[39;00m \u001b[39mException\u001b[39;00m \u001b[39mas\u001b[39;00m error:\n",
      "File \u001b[1;32mc:\\Users\\Usuario\\miniconda3\\lib\\site-packages\\requests\\sessions.py:542\u001b[0m, in \u001b[0;36mSession.get\u001b[1;34m(self, url, **kwargs)\u001b[0m\n\u001b[0;32m    541\u001b[0m kwargs\u001b[39m.\u001b[39msetdefault(\u001b[39m'\u001b[39m\u001b[39mallow_redirects\u001b[39m\u001b[39m'\u001b[39m, \u001b[39mTrue\u001b[39;00m)\n\u001b[1;32m--> 542\u001b[0m \u001b[39mreturn\u001b[39;00m \u001b[39mself\u001b[39m\u001b[39m.\u001b[39mrequest(\u001b[39m'\u001b[39m\u001b[39mGET\u001b[39m\u001b[39m'\u001b[39m, url, \u001b[39m*\u001b[39m\u001b[39m*\u001b[39mkwargs)\n",
      "File \u001b[1;32mc:\\Users\\Usuario\\miniconda3\\lib\\site-packages\\requests\\sessions.py:529\u001b[0m, in \u001b[0;36mSession.request\u001b[1;34m(self, method, url, params, data, headers, cookies, files, auth, timeout, allow_redirects, proxies, hooks, stream, verify, cert, json)\u001b[0m\n\u001b[0;32m    528\u001b[0m send_kwargs\u001b[39m.\u001b[39mupdate(settings)\n\u001b[1;32m--> 529\u001b[0m resp \u001b[39m=\u001b[39m \u001b[39mself\u001b[39m\u001b[39m.\u001b[39msend(prep, \u001b[39m*\u001b[39m\u001b[39m*\u001b[39msend_kwargs)\n\u001b[0;32m    531\u001b[0m \u001b[39mreturn\u001b[39;00m resp\n",
      "File \u001b[1;32mc:\\Users\\Usuario\\miniconda3\\lib\\site-packages\\requests\\sessions.py:645\u001b[0m, in \u001b[0;36mSession.send\u001b[1;34m(self, request, **kwargs)\u001b[0m\n\u001b[0;32m    644\u001b[0m \u001b[39m# Send the request\u001b[39;00m\n\u001b[1;32m--> 645\u001b[0m r \u001b[39m=\u001b[39m adapter\u001b[39m.\u001b[39msend(request, \u001b[39m*\u001b[39m\u001b[39m*\u001b[39mkwargs)\n\u001b[0;32m    647\u001b[0m \u001b[39m# Total elapsed time of the request (approximately)\u001b[39;00m\n",
      "File \u001b[1;32mc:\\Users\\Usuario\\miniconda3\\lib\\site-packages\\requests\\adapters.py:519\u001b[0m, in \u001b[0;36mHTTPAdapter.send\u001b[1;34m(self, request, stream, timeout, verify, cert, proxies)\u001b[0m\n\u001b[0;32m    517\u001b[0m         \u001b[39mraise\u001b[39;00m SSLError(e, request\u001b[39m=\u001b[39mrequest)\n\u001b[1;32m--> 519\u001b[0m     \u001b[39mraise\u001b[39;00m \u001b[39mConnectionError\u001b[39;00m(e, request\u001b[39m=\u001b[39mrequest)\n\u001b[0;32m    521\u001b[0m \u001b[39mexcept\u001b[39;00m ClosedPoolError \u001b[39mas\u001b[39;00m e:\n",
      "\u001b[1;31mConnectionError\u001b[0m: HTTPSConnectionPool(host='nominatim.openstreetmap.org', port=443): Max retries exceeded with url: /search?q=santa+maria%2C+Brasil&format=json&limit=1 (Caused by ReadTimeoutError(\"HTTPSConnectionPool(host='nominatim.openstreetmap.org', port=443): Read timed out. (read timeout=1)\"))",
      "\nDuring handling of the above exception, another exception occurred:\n",
      "\u001b[1;31mGeocoderUnavailable\u001b[0m                       Traceback (most recent call last)",
      "\u001b[1;32mc:\\Masami\\Henry\\Data_Olist\\exploring_data.ipynb Celda 35\u001b[0m in \u001b[0;36m<cell line: 7>\u001b[1;34m()\u001b[0m\n\u001b[0;32m      <a href='vscode-notebook-cell:/c%3A/Masami/Henry/Data_Olist/exploring_data.ipynb#ch0000034?line=5'>6</a>\u001b[0m index \u001b[39m=\u001b[39m out_latylon\u001b[39m.\u001b[39mindex\n\u001b[0;32m      <a href='vscode-notebook-cell:/c%3A/Masami/Henry/Data_Olist/exploring_data.ipynb#ch0000034?line=6'>7</a>\u001b[0m \u001b[39mfor\u001b[39;00m i \u001b[39min\u001b[39;00m \u001b[39mrange\u001b[39m(\u001b[39m0\u001b[39m,\u001b[39mlen\u001b[39m(location_city)):\n\u001b[1;32m----> <a href='vscode-notebook-cell:/c%3A/Masami/Henry/Data_Olist/exploring_data.ipynb#ch0000034?line=7'>8</a>\u001b[0m     location \u001b[39m=\u001b[39m geolocator\u001b[39m.\u001b[39;49mgeocode(location_city[i]\u001b[39m+\u001b[39;49m\u001b[39m'\u001b[39;49m\u001b[39m, Brasil\u001b[39;49m\u001b[39m'\u001b[39;49m)\n\u001b[0;32m      <a href='vscode-notebook-cell:/c%3A/Masami/Henry/Data_Olist/exploring_data.ipynb#ch0000034?line=8'>9</a>\u001b[0m     \u001b[39mtry\u001b[39;00m:\n\u001b[0;32m     <a href='vscode-notebook-cell:/c%3A/Masami/Henry/Data_Olist/exploring_data.ipynb#ch0000034?line=9'>10</a>\u001b[0m         geolocalizacion\u001b[39m.\u001b[39mloc[geolocalizacion\u001b[39m.\u001b[39mindex\u001b[39m==\u001b[39mindex[i], \u001b[39m'\u001b[39m\u001b[39mgeolocation_lng\u001b[39m\u001b[39m'\u001b[39m] \u001b[39m=\u001b[39m location\u001b[39m.\u001b[39mlongitude\n",
      "File \u001b[1;32m~\\AppData\\Roaming\\Python\\Python39\\site-packages\\geopy\\geocoders\\nominatim.py:297\u001b[0m, in \u001b[0;36mNominatim.geocode\u001b[1;34m(self, query, exactly_one, timeout, limit, addressdetails, language, geometry, extratags, country_codes, viewbox, bounded, featuretype, namedetails)\u001b[0m\n\u001b[0;32m    295\u001b[0m logger\u001b[39m.\u001b[39mdebug(\u001b[39m\"\u001b[39m\u001b[39m%s\u001b[39;00m\u001b[39m.geocode: \u001b[39m\u001b[39m%s\u001b[39;00m\u001b[39m\"\u001b[39m, \u001b[39mself\u001b[39m\u001b[39m.\u001b[39m\u001b[39m__class__\u001b[39m\u001b[39m.\u001b[39m\u001b[39m__name__\u001b[39m, url)\n\u001b[0;32m    296\u001b[0m callback \u001b[39m=\u001b[39m partial(\u001b[39mself\u001b[39m\u001b[39m.\u001b[39m_parse_json, exactly_one\u001b[39m=\u001b[39mexactly_one)\n\u001b[1;32m--> 297\u001b[0m \u001b[39mreturn\u001b[39;00m \u001b[39mself\u001b[39;49m\u001b[39m.\u001b[39;49m_call_geocoder(url, callback, timeout\u001b[39m=\u001b[39;49mtimeout)\n",
      "File \u001b[1;32m~\\AppData\\Roaming\\Python\\Python39\\site-packages\\geopy\\geocoders\\base.py:368\u001b[0m, in \u001b[0;36mGeocoder._call_geocoder\u001b[1;34m(self, url, callback, timeout, is_json, headers)\u001b[0m\n\u001b[0;32m    366\u001b[0m \u001b[39mtry\u001b[39;00m:\n\u001b[0;32m    367\u001b[0m     \u001b[39mif\u001b[39;00m is_json:\n\u001b[1;32m--> 368\u001b[0m         result \u001b[39m=\u001b[39m \u001b[39mself\u001b[39;49m\u001b[39m.\u001b[39;49madapter\u001b[39m.\u001b[39;49mget_json(url, timeout\u001b[39m=\u001b[39;49mtimeout, headers\u001b[39m=\u001b[39;49mreq_headers)\n\u001b[0;32m    369\u001b[0m     \u001b[39melse\u001b[39;00m:\n\u001b[0;32m    370\u001b[0m         result \u001b[39m=\u001b[39m \u001b[39mself\u001b[39m\u001b[39m.\u001b[39madapter\u001b[39m.\u001b[39mget_text(url, timeout\u001b[39m=\u001b[39mtimeout, headers\u001b[39m=\u001b[39mreq_headers)\n",
      "File \u001b[1;32m~\\AppData\\Roaming\\Python\\Python39\\site-packages\\geopy\\adapters.py:438\u001b[0m, in \u001b[0;36mRequestsAdapter.get_json\u001b[1;34m(self, url, timeout, headers)\u001b[0m\n\u001b[0;32m    437\u001b[0m \u001b[39mdef\u001b[39;00m \u001b[39mget_json\u001b[39m(\u001b[39mself\u001b[39m, url, \u001b[39m*\u001b[39m, timeout, headers):\n\u001b[1;32m--> 438\u001b[0m     resp \u001b[39m=\u001b[39m \u001b[39mself\u001b[39;49m\u001b[39m.\u001b[39;49m_request(url, timeout\u001b[39m=\u001b[39;49mtimeout, headers\u001b[39m=\u001b[39;49mheaders)\n\u001b[0;32m    439\u001b[0m     \u001b[39mtry\u001b[39;00m:\n\u001b[0;32m    440\u001b[0m         \u001b[39mreturn\u001b[39;00m resp\u001b[39m.\u001b[39mjson()\n",
      "File \u001b[1;32m~\\AppData\\Roaming\\Python\\Python39\\site-packages\\geopy\\adapters.py:460\u001b[0m, in \u001b[0;36mRequestsAdapter._request\u001b[1;34m(self, url, timeout, headers)\u001b[0m\n\u001b[0;32m    458\u001b[0m         \u001b[39mraise\u001b[39;00m GeocoderServiceError(message)\n\u001b[0;32m    459\u001b[0m     \u001b[39melse\u001b[39;00m:\n\u001b[1;32m--> 460\u001b[0m         \u001b[39mraise\u001b[39;00m GeocoderUnavailable(message)\n\u001b[0;32m    461\u001b[0m \u001b[39melif\u001b[39;00m \u001b[39misinstance\u001b[39m(error, requests\u001b[39m.\u001b[39mTimeout):\n\u001b[0;32m    462\u001b[0m     \u001b[39mraise\u001b[39;00m GeocoderTimedOut(\u001b[39m\"\u001b[39m\u001b[39mService timed out\u001b[39m\u001b[39m\"\u001b[39m)\n",
=======
      "File \u001b[1;32mc:\\Users\\norte\\AppData\\Local\\Programs\\Python\\Python39\\lib\\site-packages\\urllib3\\connectionpool.py:449\u001b[0m, in \u001b[0;36mHTTPConnectionPool._make_request\u001b[1;34m(self, conn, method, url, timeout, chunked, **httplib_request_kw)\u001b[0m\n\u001b[0;32m    445\u001b[0m         \u001b[39mexcept\u001b[39;00m \u001b[39mBaseException\u001b[39;00m \u001b[39mas\u001b[39;00m e:\n\u001b[0;32m    446\u001b[0m             \u001b[39m# Remove the TypeError from the exception chain in\u001b[39;00m\n\u001b[0;32m    447\u001b[0m             \u001b[39m# Python 3 (including for exceptions like SystemExit).\u001b[39;00m\n\u001b[0;32m    448\u001b[0m             \u001b[39m# Otherwise it looks like a bug in the code.\u001b[39;00m\n\u001b[1;32m--> 449\u001b[0m             six\u001b[39m.\u001b[39;49mraise_from(e, \u001b[39mNone\u001b[39;49;00m)\n\u001b[0;32m    450\u001b[0m \u001b[39mexcept\u001b[39;00m (SocketTimeout, BaseSSLError, SocketError) \u001b[39mas\u001b[39;00m e:\n",
      "File \u001b[1;32m<string>:3\u001b[0m, in \u001b[0;36mraise_from\u001b[1;34m(value, from_value)\u001b[0m\n",
      "File \u001b[1;32mc:\\Users\\norte\\AppData\\Local\\Programs\\Python\\Python39\\lib\\site-packages\\urllib3\\connectionpool.py:444\u001b[0m, in \u001b[0;36mHTTPConnectionPool._make_request\u001b[1;34m(self, conn, method, url, timeout, chunked, **httplib_request_kw)\u001b[0m\n\u001b[0;32m    443\u001b[0m \u001b[39mtry\u001b[39;00m:\n\u001b[1;32m--> 444\u001b[0m     httplib_response \u001b[39m=\u001b[39m conn\u001b[39m.\u001b[39;49mgetresponse()\n\u001b[0;32m    445\u001b[0m \u001b[39mexcept\u001b[39;00m \u001b[39mBaseException\u001b[39;00m \u001b[39mas\u001b[39;00m e:\n\u001b[0;32m    446\u001b[0m     \u001b[39m# Remove the TypeError from the exception chain in\u001b[39;00m\n\u001b[0;32m    447\u001b[0m     \u001b[39m# Python 3 (including for exceptions like SystemExit).\u001b[39;00m\n\u001b[0;32m    448\u001b[0m     \u001b[39m# Otherwise it looks like a bug in the code.\u001b[39;00m\n",
      "File \u001b[1;32mc:\\Users\\norte\\AppData\\Local\\Programs\\Python\\Python39\\lib\\http\\client.py:1377\u001b[0m, in \u001b[0;36mHTTPConnection.getresponse\u001b[1;34m(self)\u001b[0m\n\u001b[0;32m   1376\u001b[0m \u001b[39mtry\u001b[39;00m:\n\u001b[1;32m-> 1377\u001b[0m     response\u001b[39m.\u001b[39;49mbegin()\n\u001b[0;32m   1378\u001b[0m \u001b[39mexcept\u001b[39;00m \u001b[39mConnectionError\u001b[39;00m:\n",
      "File \u001b[1;32mc:\\Users\\norte\\AppData\\Local\\Programs\\Python\\Python39\\lib\\http\\client.py:320\u001b[0m, in \u001b[0;36mHTTPResponse.begin\u001b[1;34m(self)\u001b[0m\n\u001b[0;32m    319\u001b[0m \u001b[39mwhile\u001b[39;00m \u001b[39mTrue\u001b[39;00m:\n\u001b[1;32m--> 320\u001b[0m     version, status, reason \u001b[39m=\u001b[39m \u001b[39mself\u001b[39;49m\u001b[39m.\u001b[39;49m_read_status()\n\u001b[0;32m    321\u001b[0m     \u001b[39mif\u001b[39;00m status \u001b[39m!=\u001b[39m CONTINUE:\n",
      "File \u001b[1;32mc:\\Users\\norte\\AppData\\Local\\Programs\\Python\\Python39\\lib\\http\\client.py:281\u001b[0m, in \u001b[0;36mHTTPResponse._read_status\u001b[1;34m(self)\u001b[0m\n\u001b[0;32m    280\u001b[0m \u001b[39mdef\u001b[39;00m \u001b[39m_read_status\u001b[39m(\u001b[39mself\u001b[39m):\n\u001b[1;32m--> 281\u001b[0m     line \u001b[39m=\u001b[39m \u001b[39mstr\u001b[39m(\u001b[39mself\u001b[39;49m\u001b[39m.\u001b[39;49mfp\u001b[39m.\u001b[39;49mreadline(_MAXLINE \u001b[39m+\u001b[39;49m \u001b[39m1\u001b[39;49m), \u001b[39m\"\u001b[39m\u001b[39miso-8859-1\u001b[39m\u001b[39m\"\u001b[39m)\n\u001b[0;32m    282\u001b[0m     \u001b[39mif\u001b[39;00m \u001b[39mlen\u001b[39m(line) \u001b[39m>\u001b[39m _MAXLINE:\n",
      "File \u001b[1;32mc:\\Users\\norte\\AppData\\Local\\Programs\\Python\\Python39\\lib\\socket.py:704\u001b[0m, in \u001b[0;36mSocketIO.readinto\u001b[1;34m(self, b)\u001b[0m\n\u001b[0;32m    703\u001b[0m \u001b[39mtry\u001b[39;00m:\n\u001b[1;32m--> 704\u001b[0m     \u001b[39mreturn\u001b[39;00m \u001b[39mself\u001b[39;49m\u001b[39m.\u001b[39;49m_sock\u001b[39m.\u001b[39;49mrecv_into(b)\n\u001b[0;32m    705\u001b[0m \u001b[39mexcept\u001b[39;00m timeout:\n",
      "File \u001b[1;32mc:\\Users\\norte\\AppData\\Local\\Programs\\Python\\Python39\\lib\\ssl.py:1242\u001b[0m, in \u001b[0;36mSSLSocket.recv_into\u001b[1;34m(self, buffer, nbytes, flags)\u001b[0m\n\u001b[0;32m   1239\u001b[0m         \u001b[39mraise\u001b[39;00m \u001b[39mValueError\u001b[39;00m(\n\u001b[0;32m   1240\u001b[0m           \u001b[39m\"\u001b[39m\u001b[39mnon-zero flags not allowed in calls to recv_into() on \u001b[39m\u001b[39m%s\u001b[39;00m\u001b[39m\"\u001b[39m \u001b[39m%\u001b[39m\n\u001b[0;32m   1241\u001b[0m           \u001b[39mself\u001b[39m\u001b[39m.\u001b[39m\u001b[39m__class__\u001b[39m)\n\u001b[1;32m-> 1242\u001b[0m     \u001b[39mreturn\u001b[39;00m \u001b[39mself\u001b[39;49m\u001b[39m.\u001b[39;49mread(nbytes, buffer)\n\u001b[0;32m   1243\u001b[0m \u001b[39melse\u001b[39;00m:\n",
      "File \u001b[1;32mc:\\Users\\norte\\AppData\\Local\\Programs\\Python\\Python39\\lib\\ssl.py:1100\u001b[0m, in \u001b[0;36mSSLSocket.read\u001b[1;34m(self, len, buffer)\u001b[0m\n\u001b[0;32m   1099\u001b[0m \u001b[39mif\u001b[39;00m buffer \u001b[39mis\u001b[39;00m \u001b[39mnot\u001b[39;00m \u001b[39mNone\u001b[39;00m:\n\u001b[1;32m-> 1100\u001b[0m     \u001b[39mreturn\u001b[39;00m \u001b[39mself\u001b[39;49m\u001b[39m.\u001b[39;49m_sslobj\u001b[39m.\u001b[39;49mread(\u001b[39mlen\u001b[39;49m, buffer)\n\u001b[0;32m   1101\u001b[0m \u001b[39melse\u001b[39;00m:\n",
      "\u001b[1;31mtimeout\u001b[0m: The read operation timed out",
      "\nDuring handling of the above exception, another exception occurred:\n",
      "\u001b[1;31mReadTimeoutError\u001b[0m                          Traceback (most recent call last)",
      "File \u001b[1;32mc:\\Users\\norte\\AppData\\Local\\Programs\\Python\\Python39\\lib\\site-packages\\urllib3\\connectionpool.py:703\u001b[0m, in \u001b[0;36mHTTPConnectionPool.urlopen\u001b[1;34m(self, method, url, body, headers, retries, redirect, assert_same_host, timeout, pool_timeout, release_conn, chunked, body_pos, **response_kw)\u001b[0m\n\u001b[0;32m    702\u001b[0m \u001b[39m# Make the request on the httplib connection object.\u001b[39;00m\n\u001b[1;32m--> 703\u001b[0m httplib_response \u001b[39m=\u001b[39m \u001b[39mself\u001b[39;49m\u001b[39m.\u001b[39;49m_make_request(\n\u001b[0;32m    704\u001b[0m     conn,\n\u001b[0;32m    705\u001b[0m     method,\n\u001b[0;32m    706\u001b[0m     url,\n\u001b[0;32m    707\u001b[0m     timeout\u001b[39m=\u001b[39;49mtimeout_obj,\n\u001b[0;32m    708\u001b[0m     body\u001b[39m=\u001b[39;49mbody,\n\u001b[0;32m    709\u001b[0m     headers\u001b[39m=\u001b[39;49mheaders,\n\u001b[0;32m    710\u001b[0m     chunked\u001b[39m=\u001b[39;49mchunked,\n\u001b[0;32m    711\u001b[0m )\n\u001b[0;32m    713\u001b[0m \u001b[39m# If we're going to release the connection in ``finally:``, then\u001b[39;00m\n\u001b[0;32m    714\u001b[0m \u001b[39m# the response doesn't need to know about the connection. Otherwise\u001b[39;00m\n\u001b[0;32m    715\u001b[0m \u001b[39m# it will also try to release it and we'll have a double-release\u001b[39;00m\n\u001b[0;32m    716\u001b[0m \u001b[39m# mess.\u001b[39;00m\n",
      "File \u001b[1;32mc:\\Users\\norte\\AppData\\Local\\Programs\\Python\\Python39\\lib\\site-packages\\urllib3\\connectionpool.py:451\u001b[0m, in \u001b[0;36mHTTPConnectionPool._make_request\u001b[1;34m(self, conn, method, url, timeout, chunked, **httplib_request_kw)\u001b[0m\n\u001b[0;32m    450\u001b[0m \u001b[39mexcept\u001b[39;00m (SocketTimeout, BaseSSLError, SocketError) \u001b[39mas\u001b[39;00m e:\n\u001b[1;32m--> 451\u001b[0m     \u001b[39mself\u001b[39;49m\u001b[39m.\u001b[39;49m_raise_timeout(err\u001b[39m=\u001b[39;49me, url\u001b[39m=\u001b[39;49murl, timeout_value\u001b[39m=\u001b[39;49mread_timeout)\n\u001b[0;32m    452\u001b[0m     \u001b[39mraise\u001b[39;00m\n",
      "File \u001b[1;32mc:\\Users\\norte\\AppData\\Local\\Programs\\Python\\Python39\\lib\\site-packages\\urllib3\\connectionpool.py:340\u001b[0m, in \u001b[0;36mHTTPConnectionPool._raise_timeout\u001b[1;34m(self, err, url, timeout_value)\u001b[0m\n\u001b[0;32m    339\u001b[0m \u001b[39mif\u001b[39;00m \u001b[39misinstance\u001b[39m(err, SocketTimeout):\n\u001b[1;32m--> 340\u001b[0m     \u001b[39mraise\u001b[39;00m ReadTimeoutError(\n\u001b[0;32m    341\u001b[0m         \u001b[39mself\u001b[39m, url, \u001b[39m\"\u001b[39m\u001b[39mRead timed out. (read timeout=\u001b[39m\u001b[39m%s\u001b[39;00m\u001b[39m)\u001b[39m\u001b[39m\"\u001b[39m \u001b[39m%\u001b[39m timeout_value\n\u001b[0;32m    342\u001b[0m     )\n\u001b[0;32m    344\u001b[0m \u001b[39m# See the above comment about EAGAIN in Python 3. In Python 2 we have\u001b[39;00m\n\u001b[0;32m    345\u001b[0m \u001b[39m# to specifically catch it and throw the timeout error\u001b[39;00m\n",
      "\u001b[1;31mReadTimeoutError\u001b[0m: HTTPSConnectionPool(host='nominatim.openstreetmap.org', port=443): Read timed out. (read timeout=1)",
      "\nDuring handling of the above exception, another exception occurred:\n",
      "\u001b[1;31mMaxRetryError\u001b[0m                             Traceback (most recent call last)",
      "File \u001b[1;32mc:\\Users\\norte\\AppData\\Local\\Programs\\Python\\Python39\\lib\\site-packages\\requests\\adapters.py:489\u001b[0m, in \u001b[0;36mHTTPAdapter.send\u001b[1;34m(self, request, stream, timeout, verify, cert, proxies)\u001b[0m\n\u001b[0;32m    488\u001b[0m \u001b[39mif\u001b[39;00m \u001b[39mnot\u001b[39;00m chunked:\n\u001b[1;32m--> 489\u001b[0m     resp \u001b[39m=\u001b[39m conn\u001b[39m.\u001b[39;49murlopen(\n\u001b[0;32m    490\u001b[0m         method\u001b[39m=\u001b[39;49mrequest\u001b[39m.\u001b[39;49mmethod,\n\u001b[0;32m    491\u001b[0m         url\u001b[39m=\u001b[39;49murl,\n\u001b[0;32m    492\u001b[0m         body\u001b[39m=\u001b[39;49mrequest\u001b[39m.\u001b[39;49mbody,\n\u001b[0;32m    493\u001b[0m         headers\u001b[39m=\u001b[39;49mrequest\u001b[39m.\u001b[39;49mheaders,\n\u001b[0;32m    494\u001b[0m         redirect\u001b[39m=\u001b[39;49m\u001b[39mFalse\u001b[39;49;00m,\n\u001b[0;32m    495\u001b[0m         assert_same_host\u001b[39m=\u001b[39;49m\u001b[39mFalse\u001b[39;49;00m,\n\u001b[0;32m    496\u001b[0m         preload_content\u001b[39m=\u001b[39;49m\u001b[39mFalse\u001b[39;49;00m,\n\u001b[0;32m    497\u001b[0m         decode_content\u001b[39m=\u001b[39;49m\u001b[39mFalse\u001b[39;49;00m,\n\u001b[0;32m    498\u001b[0m         retries\u001b[39m=\u001b[39;49m\u001b[39mself\u001b[39;49m\u001b[39m.\u001b[39;49mmax_retries,\n\u001b[0;32m    499\u001b[0m         timeout\u001b[39m=\u001b[39;49mtimeout,\n\u001b[0;32m    500\u001b[0m     )\n\u001b[0;32m    502\u001b[0m \u001b[39m# Send the request.\u001b[39;00m\n\u001b[0;32m    503\u001b[0m \u001b[39melse\u001b[39;00m:\n",
      "File \u001b[1;32mc:\\Users\\norte\\AppData\\Local\\Programs\\Python\\Python39\\lib\\site-packages\\urllib3\\connectionpool.py:813\u001b[0m, in \u001b[0;36mHTTPConnectionPool.urlopen\u001b[1;34m(self, method, url, body, headers, retries, redirect, assert_same_host, timeout, pool_timeout, release_conn, chunked, body_pos, **response_kw)\u001b[0m\n\u001b[0;32m    810\u001b[0m     log\u001b[39m.\u001b[39mwarning(\n\u001b[0;32m    811\u001b[0m         \u001b[39m\"\u001b[39m\u001b[39mRetrying (\u001b[39m\u001b[39m%r\u001b[39;00m\u001b[39m) after connection broken by \u001b[39m\u001b[39m'\u001b[39m\u001b[39m%r\u001b[39;00m\u001b[39m'\u001b[39m\u001b[39m: \u001b[39m\u001b[39m%s\u001b[39;00m\u001b[39m\"\u001b[39m, retries, err, url\n\u001b[0;32m    812\u001b[0m     )\n\u001b[1;32m--> 813\u001b[0m     \u001b[39mreturn\u001b[39;00m \u001b[39mself\u001b[39m\u001b[39m.\u001b[39murlopen(\n\u001b[0;32m    814\u001b[0m         method,\n\u001b[0;32m    815\u001b[0m         url,\n\u001b[0;32m    816\u001b[0m         body,\n\u001b[0;32m    817\u001b[0m         headers,\n\u001b[0;32m    818\u001b[0m         retries,\n\u001b[0;32m    819\u001b[0m         redirect,\n\u001b[0;32m    820\u001b[0m         assert_same_host,\n\u001b[0;32m    821\u001b[0m         timeout\u001b[39m=\u001b[39mtimeout,\n\u001b[0;32m    822\u001b[0m         pool_timeout\u001b[39m=\u001b[39mpool_timeout,\n\u001b[0;32m    823\u001b[0m         release_conn\u001b[39m=\u001b[39mrelease_conn,\n\u001b[0;32m    824\u001b[0m         chunked\u001b[39m=\u001b[39mchunked,\n\u001b[0;32m    825\u001b[0m         body_pos\u001b[39m=\u001b[39mbody_pos,\n\u001b[0;32m    826\u001b[0m         \u001b[39m*\u001b[39m\u001b[39m*\u001b[39mresponse_kw\n\u001b[0;32m    827\u001b[0m     )\n\u001b[0;32m    829\u001b[0m \u001b[39m# Handle redirect?\u001b[39;00m\n",
      "File \u001b[1;32mc:\\Users\\norte\\AppData\\Local\\Programs\\Python\\Python39\\lib\\site-packages\\urllib3\\connectionpool.py:813\u001b[0m, in \u001b[0;36mHTTPConnectionPool.urlopen\u001b[1;34m(self, method, url, body, headers, retries, redirect, assert_same_host, timeout, pool_timeout, release_conn, chunked, body_pos, **response_kw)\u001b[0m\n\u001b[0;32m    810\u001b[0m     log\u001b[39m.\u001b[39mwarning(\n\u001b[0;32m    811\u001b[0m         \u001b[39m\"\u001b[39m\u001b[39mRetrying (\u001b[39m\u001b[39m%r\u001b[39;00m\u001b[39m) after connection broken by \u001b[39m\u001b[39m'\u001b[39m\u001b[39m%r\u001b[39;00m\u001b[39m'\u001b[39m\u001b[39m: \u001b[39m\u001b[39m%s\u001b[39;00m\u001b[39m\"\u001b[39m, retries, err, url\n\u001b[0;32m    812\u001b[0m     )\n\u001b[1;32m--> 813\u001b[0m     \u001b[39mreturn\u001b[39;00m \u001b[39mself\u001b[39m\u001b[39m.\u001b[39murlopen(\n\u001b[0;32m    814\u001b[0m         method,\n\u001b[0;32m    815\u001b[0m         url,\n\u001b[0;32m    816\u001b[0m         body,\n\u001b[0;32m    817\u001b[0m         headers,\n\u001b[0;32m    818\u001b[0m         retries,\n\u001b[0;32m    819\u001b[0m         redirect,\n\u001b[0;32m    820\u001b[0m         assert_same_host,\n\u001b[0;32m    821\u001b[0m         timeout\u001b[39m=\u001b[39mtimeout,\n\u001b[0;32m    822\u001b[0m         pool_timeout\u001b[39m=\u001b[39mpool_timeout,\n\u001b[0;32m    823\u001b[0m         release_conn\u001b[39m=\u001b[39mrelease_conn,\n\u001b[0;32m    824\u001b[0m         chunked\u001b[39m=\u001b[39mchunked,\n\u001b[0;32m    825\u001b[0m         body_pos\u001b[39m=\u001b[39mbody_pos,\n\u001b[0;32m    826\u001b[0m         \u001b[39m*\u001b[39m\u001b[39m*\u001b[39mresponse_kw\n\u001b[0;32m    827\u001b[0m     )\n\u001b[0;32m    829\u001b[0m \u001b[39m# Handle redirect?\u001b[39;00m\n",
      "File \u001b[1;32mc:\\Users\\norte\\AppData\\Local\\Programs\\Python\\Python39\\lib\\site-packages\\urllib3\\connectionpool.py:785\u001b[0m, in \u001b[0;36mHTTPConnectionPool.urlopen\u001b[1;34m(self, method, url, body, headers, retries, redirect, assert_same_host, timeout, pool_timeout, release_conn, chunked, body_pos, **response_kw)\u001b[0m\n\u001b[0;32m    783\u001b[0m     e \u001b[39m=\u001b[39m ProtocolError(\u001b[39m\"\u001b[39m\u001b[39mConnection aborted.\u001b[39m\u001b[39m\"\u001b[39m, e)\n\u001b[1;32m--> 785\u001b[0m retries \u001b[39m=\u001b[39m retries\u001b[39m.\u001b[39;49mincrement(\n\u001b[0;32m    786\u001b[0m     method, url, error\u001b[39m=\u001b[39;49me, _pool\u001b[39m=\u001b[39;49m\u001b[39mself\u001b[39;49m, _stacktrace\u001b[39m=\u001b[39;49msys\u001b[39m.\u001b[39;49mexc_info()[\u001b[39m2\u001b[39;49m]\n\u001b[0;32m    787\u001b[0m )\n\u001b[0;32m    788\u001b[0m retries\u001b[39m.\u001b[39msleep()\n",
      "File \u001b[1;32mc:\\Users\\norte\\AppData\\Local\\Programs\\Python\\Python39\\lib\\site-packages\\urllib3\\util\\retry.py:592\u001b[0m, in \u001b[0;36mRetry.increment\u001b[1;34m(self, method, url, response, error, _pool, _stacktrace)\u001b[0m\n\u001b[0;32m    591\u001b[0m \u001b[39mif\u001b[39;00m new_retry\u001b[39m.\u001b[39mis_exhausted():\n\u001b[1;32m--> 592\u001b[0m     \u001b[39mraise\u001b[39;00m MaxRetryError(_pool, url, error \u001b[39mor\u001b[39;00m ResponseError(cause))\n\u001b[0;32m    594\u001b[0m log\u001b[39m.\u001b[39mdebug(\u001b[39m\"\u001b[39m\u001b[39mIncremented Retry for (url=\u001b[39m\u001b[39m'\u001b[39m\u001b[39m%s\u001b[39;00m\u001b[39m'\u001b[39m\u001b[39m): \u001b[39m\u001b[39m%r\u001b[39;00m\u001b[39m\"\u001b[39m, url, new_retry)\n",
      "\u001b[1;31mMaxRetryError\u001b[0m: HTTPSConnectionPool(host='nominatim.openstreetmap.org', port=443): Max retries exceeded with url: /search?q=santa+maria%2C+Brasil&format=json&limit=1 (Caused by ReadTimeoutError(\"HTTPSConnectionPool(host='nominatim.openstreetmap.org', port=443): Read timed out. (read timeout=1)\"))",
      "\nDuring handling of the above exception, another exception occurred:\n",
      "\u001b[1;31mConnectionError\u001b[0m                           Traceback (most recent call last)",
      "File \u001b[1;32mc:\\Users\\norte\\AppData\\Local\\Programs\\Python\\Python39\\lib\\site-packages\\geopy\\adapters.py:448\u001b[0m, in \u001b[0;36mRequestsAdapter._request\u001b[1;34m(self, url, timeout, headers)\u001b[0m\n\u001b[0;32m    447\u001b[0m \u001b[39mtry\u001b[39;00m:\n\u001b[1;32m--> 448\u001b[0m     resp \u001b[39m=\u001b[39m \u001b[39mself\u001b[39;49m\u001b[39m.\u001b[39;49msession\u001b[39m.\u001b[39;49mget(url, timeout\u001b[39m=\u001b[39;49mtimeout, headers\u001b[39m=\u001b[39;49mheaders)\n\u001b[0;32m    449\u001b[0m \u001b[39mexcept\u001b[39;00m \u001b[39mException\u001b[39;00m \u001b[39mas\u001b[39;00m error:\n",
      "File \u001b[1;32mc:\\Users\\norte\\AppData\\Local\\Programs\\Python\\Python39\\lib\\site-packages\\requests\\sessions.py:600\u001b[0m, in \u001b[0;36mSession.get\u001b[1;34m(self, url, **kwargs)\u001b[0m\n\u001b[0;32m    599\u001b[0m kwargs\u001b[39m.\u001b[39msetdefault(\u001b[39m\"\u001b[39m\u001b[39mallow_redirects\u001b[39m\u001b[39m\"\u001b[39m, \u001b[39mTrue\u001b[39;00m)\n\u001b[1;32m--> 600\u001b[0m \u001b[39mreturn\u001b[39;00m \u001b[39mself\u001b[39m\u001b[39m.\u001b[39mrequest(\u001b[39m\"\u001b[39m\u001b[39mGET\u001b[39m\u001b[39m\"\u001b[39m, url, \u001b[39m*\u001b[39m\u001b[39m*\u001b[39mkwargs)\n",
      "File \u001b[1;32mc:\\Users\\norte\\AppData\\Local\\Programs\\Python\\Python39\\lib\\site-packages\\requests\\sessions.py:587\u001b[0m, in \u001b[0;36mSession.request\u001b[1;34m(self, method, url, params, data, headers, cookies, files, auth, timeout, allow_redirects, proxies, hooks, stream, verify, cert, json)\u001b[0m\n\u001b[0;32m    586\u001b[0m send_kwargs\u001b[39m.\u001b[39mupdate(settings)\n\u001b[1;32m--> 587\u001b[0m resp \u001b[39m=\u001b[39m \u001b[39mself\u001b[39m\u001b[39m.\u001b[39msend(prep, \u001b[39m*\u001b[39m\u001b[39m*\u001b[39msend_kwargs)\n\u001b[0;32m    589\u001b[0m \u001b[39mreturn\u001b[39;00m resp\n",
      "File \u001b[1;32mc:\\Users\\norte\\AppData\\Local\\Programs\\Python\\Python39\\lib\\site-packages\\requests\\sessions.py:701\u001b[0m, in \u001b[0;36mSession.send\u001b[1;34m(self, request, **kwargs)\u001b[0m\n\u001b[0;32m    700\u001b[0m \u001b[39m# Send the request\u001b[39;00m\n\u001b[1;32m--> 701\u001b[0m r \u001b[39m=\u001b[39m adapter\u001b[39m.\u001b[39msend(request, \u001b[39m*\u001b[39m\u001b[39m*\u001b[39mkwargs)\n\u001b[0;32m    703\u001b[0m \u001b[39m# Total elapsed time of the request (approximately)\u001b[39;00m\n",
      "File \u001b[1;32mc:\\Users\\norte\\AppData\\Local\\Programs\\Python\\Python39\\lib\\site-packages\\requests\\adapters.py:565\u001b[0m, in \u001b[0;36mHTTPAdapter.send\u001b[1;34m(self, request, stream, timeout, verify, cert, proxies)\u001b[0m\n\u001b[0;32m    563\u001b[0m         \u001b[39mraise\u001b[39;00m SSLError(e, request\u001b[39m=\u001b[39mrequest)\n\u001b[1;32m--> 565\u001b[0m     \u001b[39mraise\u001b[39;00m \u001b[39mConnectionError\u001b[39;00m(e, request\u001b[39m=\u001b[39mrequest)\n\u001b[0;32m    567\u001b[0m \u001b[39mexcept\u001b[39;00m ClosedPoolError \u001b[39mas\u001b[39;00m e:\n",
      "\u001b[1;31mConnectionError\u001b[0m: HTTPSConnectionPool(host='nominatim.openstreetmap.org', port=443): Max retries exceeded with url: /search?q=santa+maria%2C+Brasil&format=json&limit=1 (Caused by ReadTimeoutError(\"HTTPSConnectionPool(host='nominatim.openstreetmap.org', port=443): Read timed out. (read timeout=1)\"))",
      "\nDuring handling of the above exception, another exception occurred:\n",
      "\u001b[1;31mGeocoderUnavailable\u001b[0m                       Traceback (most recent call last)",
      "\u001b[1;32mc:\\Users\\norte\\Desktop\\Data_Olist\\exploring_data.ipynb Celda 29\u001b[0m in \u001b[0;36m<cell line: 6>\u001b[1;34m()\u001b[0m\n\u001b[0;32m      <a href='vscode-notebook-cell:/c%3A/Users/norte/Desktop/Data_Olist/exploring_data.ipynb#ch0000028?line=4'>5</a>\u001b[0m index \u001b[39m=\u001b[39m out_latylon\u001b[39m.\u001b[39mindex\n\u001b[0;32m      <a href='vscode-notebook-cell:/c%3A/Users/norte/Desktop/Data_Olist/exploring_data.ipynb#ch0000028?line=5'>6</a>\u001b[0m \u001b[39mfor\u001b[39;00m i \u001b[39min\u001b[39;00m \u001b[39mrange\u001b[39m(\u001b[39m0\u001b[39m,\u001b[39mlen\u001b[39m(location_city)):\n\u001b[1;32m----> <a href='vscode-notebook-cell:/c%3A/Users/norte/Desktop/Data_Olist/exploring_data.ipynb#ch0000028?line=6'>7</a>\u001b[0m     location \u001b[39m=\u001b[39m geolocator\u001b[39m.\u001b[39;49mgeocode(location_city[i]\u001b[39m+\u001b[39;49m\u001b[39m'\u001b[39;49m\u001b[39m, Brasil\u001b[39;49m\u001b[39m'\u001b[39;49m)\n\u001b[0;32m      <a href='vscode-notebook-cell:/c%3A/Users/norte/Desktop/Data_Olist/exploring_data.ipynb#ch0000028?line=7'>8</a>\u001b[0m     \u001b[39mtry\u001b[39;00m:\n\u001b[0;32m      <a href='vscode-notebook-cell:/c%3A/Users/norte/Desktop/Data_Olist/exploring_data.ipynb#ch0000028?line=8'>9</a>\u001b[0m         geolocalizacion\u001b[39m.\u001b[39mloc[geolocalizacion\u001b[39m.\u001b[39mindex\u001b[39m==\u001b[39mindex[i], \u001b[39m'\u001b[39m\u001b[39mgeolocation_lng\u001b[39m\u001b[39m'\u001b[39m] \u001b[39m=\u001b[39m location\u001b[39m.\u001b[39mlongitude\n",
      "File \u001b[1;32mc:\\Users\\norte\\AppData\\Local\\Programs\\Python\\Python39\\lib\\site-packages\\geopy\\geocoders\\nominatim.py:297\u001b[0m, in \u001b[0;36mNominatim.geocode\u001b[1;34m(self, query, exactly_one, timeout, limit, addressdetails, language, geometry, extratags, country_codes, viewbox, bounded, featuretype, namedetails)\u001b[0m\n\u001b[0;32m    295\u001b[0m logger\u001b[39m.\u001b[39mdebug(\u001b[39m\"\u001b[39m\u001b[39m%s\u001b[39;00m\u001b[39m.geocode: \u001b[39m\u001b[39m%s\u001b[39;00m\u001b[39m\"\u001b[39m, \u001b[39mself\u001b[39m\u001b[39m.\u001b[39m\u001b[39m__class__\u001b[39m\u001b[39m.\u001b[39m\u001b[39m__name__\u001b[39m, url)\n\u001b[0;32m    296\u001b[0m callback \u001b[39m=\u001b[39m partial(\u001b[39mself\u001b[39m\u001b[39m.\u001b[39m_parse_json, exactly_one\u001b[39m=\u001b[39mexactly_one)\n\u001b[1;32m--> 297\u001b[0m \u001b[39mreturn\u001b[39;00m \u001b[39mself\u001b[39;49m\u001b[39m.\u001b[39;49m_call_geocoder(url, callback, timeout\u001b[39m=\u001b[39;49mtimeout)\n",
      "File \u001b[1;32mc:\\Users\\norte\\AppData\\Local\\Programs\\Python\\Python39\\lib\\site-packages\\geopy\\geocoders\\base.py:368\u001b[0m, in \u001b[0;36mGeocoder._call_geocoder\u001b[1;34m(self, url, callback, timeout, is_json, headers)\u001b[0m\n\u001b[0;32m    366\u001b[0m \u001b[39mtry\u001b[39;00m:\n\u001b[0;32m    367\u001b[0m     \u001b[39mif\u001b[39;00m is_json:\n\u001b[1;32m--> 368\u001b[0m         result \u001b[39m=\u001b[39m \u001b[39mself\u001b[39;49m\u001b[39m.\u001b[39;49madapter\u001b[39m.\u001b[39;49mget_json(url, timeout\u001b[39m=\u001b[39;49mtimeout, headers\u001b[39m=\u001b[39;49mreq_headers)\n\u001b[0;32m    369\u001b[0m     \u001b[39melse\u001b[39;00m:\n\u001b[0;32m    370\u001b[0m         result \u001b[39m=\u001b[39m \u001b[39mself\u001b[39m\u001b[39m.\u001b[39madapter\u001b[39m.\u001b[39mget_text(url, timeout\u001b[39m=\u001b[39mtimeout, headers\u001b[39m=\u001b[39mreq_headers)\n",
      "File \u001b[1;32mc:\\Users\\norte\\AppData\\Local\\Programs\\Python\\Python39\\lib\\site-packages\\geopy\\adapters.py:438\u001b[0m, in \u001b[0;36mRequestsAdapter.get_json\u001b[1;34m(self, url, timeout, headers)\u001b[0m\n\u001b[0;32m    437\u001b[0m \u001b[39mdef\u001b[39;00m \u001b[39mget_json\u001b[39m(\u001b[39mself\u001b[39m, url, \u001b[39m*\u001b[39m, timeout, headers):\n\u001b[1;32m--> 438\u001b[0m     resp \u001b[39m=\u001b[39m \u001b[39mself\u001b[39;49m\u001b[39m.\u001b[39;49m_request(url, timeout\u001b[39m=\u001b[39;49mtimeout, headers\u001b[39m=\u001b[39;49mheaders)\n\u001b[0;32m    439\u001b[0m     \u001b[39mtry\u001b[39;00m:\n\u001b[0;32m    440\u001b[0m         \u001b[39mreturn\u001b[39;00m resp\u001b[39m.\u001b[39mjson()\n",
      "File \u001b[1;32mc:\\Users\\norte\\AppData\\Local\\Programs\\Python\\Python39\\lib\\site-packages\\geopy\\adapters.py:460\u001b[0m, in \u001b[0;36mRequestsAdapter._request\u001b[1;34m(self, url, timeout, headers)\u001b[0m\n\u001b[0;32m    458\u001b[0m         \u001b[39mraise\u001b[39;00m GeocoderServiceError(message)\n\u001b[0;32m    459\u001b[0m     \u001b[39melse\u001b[39;00m:\n\u001b[1;32m--> 460\u001b[0m         \u001b[39mraise\u001b[39;00m GeocoderUnavailable(message)\n\u001b[0;32m    461\u001b[0m \u001b[39melif\u001b[39;00m \u001b[39misinstance\u001b[39m(error, requests\u001b[39m.\u001b[39mTimeout):\n\u001b[0;32m    462\u001b[0m     \u001b[39mraise\u001b[39;00m GeocoderTimedOut(\u001b[39m\"\u001b[39m\u001b[39mService timed out\u001b[39m\u001b[39m\"\u001b[39m)\n",
>>>>>>> fa4e3543e1ba571f072fa85a32068bafc0739509
      "\u001b[1;31mGeocoderUnavailable\u001b[0m: HTTPSConnectionPool(host='nominatim.openstreetmap.org', port=443): Max retries exceeded with url: /search?q=santa+maria%2C+Brasil&format=json&limit=1 (Caused by ReadTimeoutError(\"HTTPSConnectionPool(host='nominatim.openstreetmap.org', port=443): Read timed out. (read timeout=1)\"))"
     ]
    }
   ],
   "source": [
    "# Trabajamos los outliers\n",
    "from geopy.geocoders import Nominatim\n",
    "geolocator = Nominatim(user_agent='measurements')\n",
    "location_city = out_latylon.geolocation_city.values\n",
    "\n",
    "index = out_latylon.index\n",
    "for i in range(0,len(location_city)):\n",
    "    location = geolocator.geocode(location_city[i]+', Brasil')\n",
    "    try:\n",
    "        geolocalizacion.loc[geolocalizacion.index==index[i], 'geolocation_lng'] = location.longitude\n",
    "        geolocalizacion.loc[geolocalizacion.index==index[i], 'geolocation_lat'] = location.latitude\n",
    "    except:\n",
    "        try:\n",
    "            location = geolocator.geocode(location_city[i])\n",
    "            geolocalizacion.loc[geolocalizacion.index==index[i], 'geolocation_lng'] = location.longitude\n",
    "            geolocalizacion.loc[geolocalizacion.index==index[i], 'geolocation_lat'] = location.latitude\n",
    "        except:\n",
    "            geolocalizacion.loc[geolocalizacion.index==index[i], 'geolocation_lat'] = geolocalizacion[geolocalizacion.geolocation_city==location_city[i]].geolocation_lat.mean()\n",
    "            geolocalizacion.loc[geolocalizacion.index==index[i], 'geolocation_lng'] = geolocalizacion[geolocalizacion.geolocation_city==location_city[i]].geolocation_lng.mean()"
   ]
  },
  {
   "cell_type": "code",
   "execution_count": null,
<<<<<<< HEAD
   "metadata": {
    "pycharm": {
     "name": "#%%\n"
=======
   "metadata": {},
   "outputs": [
    {
     "data": {
      "text/plain": [
       "geolocation_zip_code_prefix    False\n",
       "geolocation_lat                False\n",
       "geolocation_lng                False\n",
       "geolocation_city               False\n",
       "geolocation_state              False\n",
       "dtype: bool"
      ]
     },
     "execution_count": 15,
     "metadata": {},
     "output_type": "execute_result"
>>>>>>> fa4e3543e1ba571f072fa85a32068bafc0739509
    }
   },
   "outputs": [],
   "source": [
    "geolocalizacion.isnull().any()"
   ]
  },
  {
   "cell_type": "code",
   "execution_count": null,
<<<<<<< HEAD
   "metadata": {
    "pycharm": {
     "name": "#%%\n"
    }
   },
=======
   "metadata": {},
>>>>>>> fa4e3543e1ba571f072fa85a32068bafc0739509
   "outputs": [],
   "source": [
    "geolocalizacion.to_csv('data\\e-comerce_Olist_dataset\\olist_geolocation_dataset_coregido.csv', index_label=False)"
   ]
  },
  {
   "cell_type": "code",
   "execution_count": null,
<<<<<<< HEAD
   "metadata": {
    "pycharm": {
     "name": "#%%\n"
    }
   },
   "outputs": [],
=======
   "metadata": {},
   "outputs": [
    {
     "data": {
      "text/html": [
       "<div>\n",
       "<style scoped>\n",
       "    .dataframe tbody tr th:only-of-type {\n",
       "        vertical-align: middle;\n",
       "    }\n",
       "\n",
       "    .dataframe tbody tr th {\n",
       "        vertical-align: top;\n",
       "    }\n",
       "\n",
       "    .dataframe thead th {\n",
       "        text-align: right;\n",
       "    }\n",
       "</style>\n",
       "<table border=\"1\" class=\"dataframe\">\n",
       "  <thead>\n",
       "    <tr style=\"text-align: right;\">\n",
       "      <th></th>\n",
       "      <th>geolocation_zip_code_prefix</th>\n",
       "      <th>geolocation_lat</th>\n",
       "      <th>geolocation_lng</th>\n",
       "      <th>geolocation_city</th>\n",
       "      <th>geolocation_state</th>\n",
       "    </tr>\n",
       "  </thead>\n",
       "  <tbody>\n",
       "    <tr>\n",
       "      <th>0</th>\n",
       "      <td>1037</td>\n",
       "      <td>-23.545621</td>\n",
       "      <td>-46.639292</td>\n",
       "      <td>sao paulo</td>\n",
       "      <td>SP</td>\n",
       "    </tr>\n",
       "    <tr>\n",
       "      <th>1</th>\n",
       "      <td>1046</td>\n",
       "      <td>-23.546081</td>\n",
       "      <td>-46.644820</td>\n",
       "      <td>sao paulo</td>\n",
       "      <td>SP</td>\n",
       "    </tr>\n",
       "    <tr>\n",
       "      <th>2</th>\n",
       "      <td>1046</td>\n",
       "      <td>-23.546129</td>\n",
       "      <td>-46.642951</td>\n",
       "      <td>sao paulo</td>\n",
       "      <td>SP</td>\n",
       "    </tr>\n",
       "  </tbody>\n",
       "</table>\n",
       "</div>"
      ],
      "text/plain": [
       "   geolocation_zip_code_prefix  geolocation_lat  geolocation_lng  \\\n",
       "0                         1037       -23.545621       -46.639292   \n",
       "1                         1046       -23.546081       -46.644820   \n",
       "2                         1046       -23.546129       -46.642951   \n",
       "\n",
       "  geolocation_city geolocation_state  \n",
       "0        sao paulo                SP  \n",
       "1        sao paulo                SP  \n",
       "2        sao paulo                SP  "
      ]
     },
     "execution_count": 159,
     "metadata": {},
     "output_type": "execute_result"
    }
   ],
>>>>>>> fa4e3543e1ba571f072fa85a32068bafc0739509
   "source": [
    "geolocalizacion_corr = pd.read_csv('data\\e-comerce_Olist_dataset\\olist_geolocation_dataset_coregido.csv')\n",
    "geolocalizacion_corr.head(3)"
   ]
  },
  {
   "cell_type": "code",
   "execution_count": null,
<<<<<<< HEAD
   "metadata": {
    "pycharm": {
     "name": "#%%\n"
    }
   },
   "outputs": [],
=======
   "metadata": {},
   "outputs": [
    {
     "name": "stdout",
     "output_type": "stream",
     "text": [
      "<class 'pandas.core.frame.DataFrame'>\n",
      "Int64Index: 1000163 entries, 0 to 1000162\n",
      "Data columns (total 5 columns):\n",
      " #   Column                       Non-Null Count    Dtype  \n",
      "---  ------                       --------------    -----  \n",
      " 0   geolocation_zip_code_prefix  1000163 non-null  int64  \n",
      " 1   geolocation_lat              1000163 non-null  float64\n",
      " 2   geolocation_lng              1000163 non-null  float64\n",
      " 3   geolocation_city             1000163 non-null  object \n",
      " 4   geolocation_state            1000163 non-null  object \n",
      "dtypes: float64(2), int64(1), object(2)\n",
      "memory usage: 45.8+ MB\n"
     ]
    }
   ],
>>>>>>> fa4e3543e1ba571f072fa85a32068bafc0739509
   "source": [
    "geolocalizacion_corr.info()"
   ]
  },
  {
   "cell_type": "markdown",
<<<<<<< HEAD
   "metadata": {
    "pycharm": {
     "name": "#%% md\n"
    }
   },
=======
   "metadata": {},
>>>>>>> fa4e3543e1ba571f072fa85a32068bafc0739509
   "source": [
    "### Items - Elementos de cada pedido"
   ]
  },
  {
   "cell_type": "markdown",
<<<<<<< HEAD
   "metadata": {
    "pycharm": {
     "name": "#%% md\n"
    }
   },
=======
   "metadata": {},
>>>>>>> fa4e3543e1ba571f072fa85a32068bafc0739509
   "source": [
    "Este dataset incluye datos sobre los elementos comprados dentro de cada pedido.<br>\n",
    "\n",
    "La tabla de `Items` comprende las siguientes columnas:<br>\n",
    "\n",
    "`order_id`: Identificador unico de la orden de compra. <br>\n",
    "`order_item_id`: número secuencial de identificación de elementos incluidos en la misma orden. <br>\n",
    "`product_id`: Identificador unico del producto <br>\n",
    "`seller_id`: Identificador unico del vendedor <br>\n",
    "`shipping_limit_date`: Muestra la fecha de límite de envío del vendedor para manejar el pedido con el socio logístico. <br>\n",
    "`price`: Precio del item. <br>\n",
    "`freight_value`: valor de flete (si un pedido tiene más de un elemento, el valor del flete se divide entre los elementos) <br>"
   ]
  },
  {
   "cell_type": "code",
<<<<<<< HEAD
   "execution_count": 30,
=======
   "execution_count": null,
>>>>>>> fa4e3543e1ba571f072fa85a32068bafc0739509
   "metadata": {},
   "outputs": [],
   "source": [
    "items = data_dict['olist_order_items_dataset']"
   ]
  },
  {
   "cell_type": "code",
   "execution_count": 31,
   "metadata": {
    "pycharm": {
     "name": "#%%\n"
    }
   },
   "outputs": [
    {
     "name": "stdout",
     "output_type": "stream",
     "text": [
      "<class 'pandas.core.frame.DataFrame'>\n",
      "RangeIndex: 112650 entries, 0 to 112649\n",
      "Data columns (total 7 columns):\n",
      " #   Column               Non-Null Count   Dtype         \n",
      "---  ------               --------------   -----         \n",
      " 0   order_id             112650 non-null  object        \n",
      " 1   order_item_id        112650 non-null  int64         \n",
      " 2   product_id           112650 non-null  object        \n",
      " 3   seller_id            112650 non-null  object        \n",
      " 4   shipping_limit_date  112650 non-null  datetime64[ns]\n",
      " 5   price                112650 non-null  float64       \n",
      " 6   freight_value        112650 non-null  float64       \n",
      "dtypes: datetime64[ns](1), float64(2), int64(1), object(3)\n",
      "memory usage: 6.0+ MB\n"
     ]
    }
   ],
   "source": [
    "items.info()"
   ]
  },
  {
   "cell_type": "code",
   "execution_count": null,
<<<<<<< HEAD
   "metadata": {
    "pycharm": {
     "name": "#%%\n"
    }
   },
=======
   "metadata": {},
>>>>>>> fa4e3543e1ba571f072fa85a32068bafc0739509
   "outputs": [
    {
     "data": {
      "text/html": [
       "<div>\n",
       "<style scoped>\n",
       "    .dataframe tbody tr th:only-of-type {\n",
       "        vertical-align: middle;\n",
       "    }\n",
       "\n",
       "    .dataframe tbody tr th {\n",
       "        vertical-align: top;\n",
       "    }\n",
       "\n",
       "    .dataframe thead th {\n",
       "        text-align: right;\n",
       "    }\n",
       "</style>\n",
       "<table border=\"1\" class=\"dataframe\">\n",
       "  <thead>\n",
       "    <tr style=\"text-align: right;\">\n",
       "      <th></th>\n",
       "      <th>order_id</th>\n",
       "      <th>order_item_id</th>\n",
       "      <th>product_id</th>\n",
       "      <th>seller_id</th>\n",
       "      <th>shipping_limit_date</th>\n",
       "      <th>price</th>\n",
       "      <th>freight_value</th>\n",
       "    </tr>\n",
       "  </thead>\n",
       "  <tbody>\n",
       "    <tr>\n",
       "      <th>0</th>\n",
       "      <td>00010242fe8c5a6d1ba2dd792cb16214</td>\n",
       "      <td>1</td>\n",
       "      <td>4244733e06e7ecb4970a6e2683c13e61</td>\n",
       "      <td>48436dade18ac8b2bce089ec2a041202</td>\n",
       "      <td>2017-09-19 09:45:35</td>\n",
       "      <td>58.9</td>\n",
       "      <td>13.29</td>\n",
       "    </tr>\n",
       "    <tr>\n",
       "      <th>1</th>\n",
       "      <td>00018f77f2f0320c557190d7a144bdd3</td>\n",
       "      <td>1</td>\n",
       "      <td>e5f2d52b802189ee658865ca93d83a8f</td>\n",
       "      <td>dd7ddc04e1b6c2c614352b383efe2d36</td>\n",
       "      <td>2017-05-03 11:05:13</td>\n",
       "      <td>239.9</td>\n",
       "      <td>19.93</td>\n",
       "    </tr>\n",
       "    <tr>\n",
       "      <th>2</th>\n",
       "      <td>000229ec398224ef6ca0657da4fc703e</td>\n",
       "      <td>1</td>\n",
       "      <td>c777355d18b72b67abbeef9df44fd0fd</td>\n",
       "      <td>5b51032eddd242adc84c38acab88f23d</td>\n",
       "      <td>2018-01-18 14:48:30</td>\n",
       "      <td>199.0</td>\n",
       "      <td>17.87</td>\n",
       "    </tr>\n",
       "  </tbody>\n",
       "</table>\n",
       "</div>"
      ],
      "text/plain": [
       "                           order_id  order_item_id  \\\n",
       "0  00010242fe8c5a6d1ba2dd792cb16214              1   \n",
       "1  00018f77f2f0320c557190d7a144bdd3              1   \n",
       "2  000229ec398224ef6ca0657da4fc703e              1   \n",
       "\n",
       "                         product_id                         seller_id  \\\n",
       "0  4244733e06e7ecb4970a6e2683c13e61  48436dade18ac8b2bce089ec2a041202   \n",
       "1  e5f2d52b802189ee658865ca93d83a8f  dd7ddc04e1b6c2c614352b383efe2d36   \n",
       "2  c777355d18b72b67abbeef9df44fd0fd  5b51032eddd242adc84c38acab88f23d   \n",
       "\n",
       "  shipping_limit_date  price  freight_value  \n",
       "0 2017-09-19 09:45:35   58.9          13.29  \n",
       "1 2017-05-03 11:05:13  239.9          19.93  \n",
       "2 2018-01-18 14:48:30  199.0          17.87  "
      ]
     },
     "execution_count": 32,
     "metadata": {},
     "output_type": "execute_result"
    }
   ],
   "source": [
    "items.head(3) "
   ]
  },
  {
   "cell_type": "code",
   "execution_count": null,
<<<<<<< HEAD
   "metadata": {
    "pycharm": {
     "name": "#%%\n"
    }
   },
=======
   "metadata": {},
>>>>>>> fa4e3543e1ba571f072fa85a32068bafc0739509
   "outputs": [
    {
     "data": {
      "text/plain": [
       "order_id               False\n",
       "order_item_id          False\n",
       "product_id             False\n",
       "seller_id              False\n",
       "shipping_limit_date    False\n",
       "price                  False\n",
       "freight_value          False\n",
       "dtype: bool"
      ]
     },
     "execution_count": 33,
     "metadata": {},
     "output_type": "execute_result"
    }
   ],
   "source": [
    "items.isnull().any()"
   ]
  },
  {
   "cell_type": "code",
   "execution_count": null,
<<<<<<< HEAD
   "metadata": {
    "pycharm": {
     "name": "#%%\n"
    }
   },
=======
   "metadata": {},
>>>>>>> fa4e3543e1ba571f072fa85a32068bafc0739509
   "outputs": [
    {
     "data": {
      "text/html": [
       "<div>\n",
       "<style scoped>\n",
       "    .dataframe tbody tr th:only-of-type {\n",
       "        vertical-align: middle;\n",
       "    }\n",
       "\n",
       "    .dataframe tbody tr th {\n",
       "        vertical-align: top;\n",
       "    }\n",
       "\n",
       "    .dataframe thead th {\n",
       "        text-align: right;\n",
       "    }\n",
       "</style>\n",
       "<table border=\"1\" class=\"dataframe\">\n",
       "  <thead>\n",
       "    <tr style=\"text-align: right;\">\n",
       "      <th></th>\n",
       "      <th>order_item_id</th>\n",
       "      <th>price</th>\n",
       "      <th>freight_value</th>\n",
       "    </tr>\n",
       "  </thead>\n",
       "  <tbody>\n",
       "    <tr>\n",
       "      <th>count</th>\n",
       "      <td>112650.000000</td>\n",
       "      <td>112650.000000</td>\n",
       "      <td>112650.000000</td>\n",
       "    </tr>\n",
       "    <tr>\n",
       "      <th>mean</th>\n",
       "      <td>1.197834</td>\n",
       "      <td>120.653739</td>\n",
       "      <td>19.990320</td>\n",
       "    </tr>\n",
       "    <tr>\n",
       "      <th>std</th>\n",
       "      <td>0.705124</td>\n",
       "      <td>183.633928</td>\n",
       "      <td>15.806405</td>\n",
       "    </tr>\n",
       "    <tr>\n",
       "      <th>min</th>\n",
       "      <td>1.000000</td>\n",
       "      <td>0.850000</td>\n",
       "      <td>0.000000</td>\n",
       "    </tr>\n",
       "    <tr>\n",
       "      <th>25%</th>\n",
       "      <td>1.000000</td>\n",
       "      <td>39.900000</td>\n",
       "      <td>13.080000</td>\n",
       "    </tr>\n",
       "    <tr>\n",
       "      <th>50%</th>\n",
       "      <td>1.000000</td>\n",
       "      <td>74.990000</td>\n",
       "      <td>16.260000</td>\n",
       "    </tr>\n",
       "    <tr>\n",
       "      <th>75%</th>\n",
       "      <td>1.000000</td>\n",
       "      <td>134.900000</td>\n",
       "      <td>21.150000</td>\n",
       "    </tr>\n",
       "    <tr>\n",
       "      <th>max</th>\n",
       "      <td>21.000000</td>\n",
       "      <td>6735.000000</td>\n",
       "      <td>409.680000</td>\n",
       "    </tr>\n",
       "  </tbody>\n",
       "</table>\n",
       "</div>"
      ],
      "text/plain": [
       "       order_item_id          price  freight_value\n",
       "count  112650.000000  112650.000000  112650.000000\n",
       "mean        1.197834     120.653739      19.990320\n",
       "std         0.705124     183.633928      15.806405\n",
       "min         1.000000       0.850000       0.000000\n",
       "25%         1.000000      39.900000      13.080000\n",
       "50%         1.000000      74.990000      16.260000\n",
       "75%         1.000000     134.900000      21.150000\n",
       "max        21.000000    6735.000000     409.680000"
      ]
     },
     "execution_count": 34,
     "metadata": {},
     "output_type": "execute_result"
    }
   ],
   "source": [
    "items.describe()"
   ]
  },
  {
   "cell_type": "markdown",
   "metadata": {
    "pycharm": {
     "name": "#%% md\n"
    }
   },
   "source": [
    "El 75% de los precios esta por debajo de R$134.900000. "
   ]
  },
  {
   "cell_type": "code",
   "execution_count": null,
<<<<<<< HEAD
   "metadata": {
    "pycharm": {
     "name": "#%%\n"
    }
   },
=======
   "metadata": {},
>>>>>>> fa4e3543e1ba571f072fa85a32068bafc0739509
   "outputs": [
    {
     "data": {
      "image/png": "iVBORw0KGgoAAAANSUhEUgAAA4AAAAHsCAYAAACDncNfAAAAOXRFWHRTb2Z0d2FyZQBNYXRwbG90bGliIHZlcnNpb24zLjUuMiwgaHR0cHM6Ly9tYXRwbG90bGliLm9yZy8qNh9FAAAACXBIWXMAAAsTAAALEwEAmpwYAAAlvklEQVR4nO3df5Sld10f8PfMbDJZbIKlDaingD/Qj1u1QRINCCE5nlBA1KjVilb5kXhWIA2kRUVsKKHV45EGWhAsCEJCjPgjiK3akLTIjxACZCcJJWX85gAqbW0roYUEsrthZ6Z/3DvLzWRmd8jOnTt3vq/XOTlzn+f5Ps/93PmcC/Pe7/NjZmVlJQAAAOx+s5MuAAAAgO0hAAIAAHRCAAQAAOiEAAgAANAJARAAAKATAiAAAEAn9ky6AAB2n6r6+iSfTPKx4arZJF9K8prW2tuGY/5Vkk+sLm9wnH+Z5KOttf+wzraj+1fVSpLTW2t3bUHtx63rBI79c0m+vbX2nK0+9oNRVWcl+cXW2o9OuhYAtocACMC4HGytPXZ1oaoeneTdVfXF1to7Wmv/chPH+N4kH19vwyb3/4qN67g7UWvtQBLhD6AjAiAA26K19lfDGb2fT/KOqroyyR2ttSuq6hVJfjjJfUk+m+Q5SX4kyVlJ/k1VLSW5IMnDknxTkj9J8ojV/Ydv8StV9V0ZzDZe1lr7k6p6TpIfba19f5KMLlfV30ry60memORIkj9K8i+SvHWkrnOS/JskDxnWdllr7V3D4/xwkuUk3zzc9qzW2h2jn7mqTkry2iRPSfI3Sf5Pks8Ptz00yWuSfEeSk5K8O8nPt9aOrDnGlUlWkuxLcnqSG5K8sLX2pao6nOQ/JDkjyT9J8sXhMf9Okrkkr22tvWV4nAuTvDjJUpK7kjx7+Lt8XWvt24f1vD7JY4fvd12SX2qtHVmvP621//WAJgOw47kGEIDt9NEMAs9RVfXIJJcm+a7W2lkZBJyzW2uvT3Igg1D0zuHwh7TWvq219pJ1jv2p1trjkvxUkquq6vTj1PKvkpySQbB6bAZB8NyRuv5OkmuTvKi19g8yCEy/XVXfMBxybpJLWmvfnuSmDILtWi9I8i1J/n4GIfBRI9v+bZKF1tqZSb4zyd9N8s83qPWMJOcPj/P3k/zscP3JSf64tVZJbh/W+4vDY56b5Oeq6vFVdUaSX0vytOFn+Y8ZhN1Rr80g3H1HBsH7jOH+6/ZngzoB2OHMAAKwnVaS3Ltm3f/MIBjeWlXXJbmutfbuDfb/wDGO/YYkaa3dUVUfT/KE49RyfpJ/3lpbymBW7Nzk6CxhMgg5n2itfXh43P9WVTclOW/4ORZaa/9jOPbWDGYs13uP32mt3Zfkvqq6Jsk/GG77/iTfXVUXDZf3HqPWK1trXxjW97YkP5TkdcNtNw5/fksGM3pvqarV/fZmEC73Jrm+tfbfh5/l3w2Pdd7Iezw9yRNbaytJDlfVGzIIfq/M5vsDwA4nAAKwnb4rX74xTJKktbZcVedmMOt0fpJ/W1Xvaa29aJ39v3CMYy+NvJ7J4KYzK8PXq04eeX1kuD3J0ZnI0XC63lkysxmcrnlfkoMj69e+z0brR0/vnEvyY621xeH7f/VoPWuM7jeb+3/W1d/JXJLPrbnu8hEZnHK6P/f/rHuTPHrNe6z9vLNJTvoK+wPADucUUAC2RVV9S5KXJXnVmvVnJLkjyWJr7VczODXyjOHmIxkErs14zvB4j8vgurwPJ/lMkm+vqlOqak+SHxgZ/1+SPLuqZqtqPoPTJ88d2f6hweHqu4fH/bYkT07y3k3WkyTvSvKs4fufkuTHR7Zdn+SfVdXM8P3/Y5J/usFxfryq5ofHeHaSP15nTEtyqKp+aljvIzP4vZ6Z5D1Jzq+qrx2O/dkMZvZGXZ/k4pF69if5z8fpDwBTRgAEYFz2VtXtw/9uTXJlkpe21v50dFBr7aNJfj/Jgao6kOTCJP9suPmPk1xRVc/exPt9Y1XdluTNSZ7ZWvu/GVyv9r4kf57BqZKjs4+vyGAm76NJbkvyn1prfzhS111JfizJr1fVx5L8TpLnttbu/Ap+B2/M4DrGO4Z1/MXIthcm+aphTf91+HNtKFt170j9N2Zwo5r7GZ5mekGSn6mq/zr87C9rrd3UWvtYBtcovquqPprkaUmet+YQL0zy8OF7fCyDQPkrx+kPAFNmZmVlo7NNAIBJG71b6qRrAWD6mQEEAADohBlAAACATpgBBAAA6IQACAAA0AkBEAAAoBO74kHwt99++8r8/Pyky3iAw4cPZyfWxebp4fTTw+mnh9NPD6efHk4/PZx+x+vhvffee9eZZ555+vGOsysC4Pz8fPbt2zfpMh5gcXFxR9bF5unh9NPD6aeH008Pp58eTj89nH7H6+HCwsJfbeY4TgEFAADohAAIAADQCQEQAACgEwIgAABAJwRAAACATgiAAAAAnRAAAQAAOiEAAgAAdEIABAAA6IQACAAA0AkBEAAAoBMCIAAAQCcEQAAAgE4IgAAAAJ0QAAEAADohAAIAAHRCAAQAAOiEAAgAANAJARAAAKATAiAAAEAnBEAAAIBOCIAAAACdEAABAAA6IQACAAB0QgAEAADohAAIAADQCQEQAACgEwIgAABAJwRAAACATgiAAAAAnRAAAQAAOiEAAgAAdEIABAAA6IQACAAA0AkBEAAAoBMCIAAAQCcEQAAAgE4IgAAAAJ0QAAEAADohAAIAAHRCAAQAAOiEAAgAANAJAXCbXHTVLZMuAQAA6JwAuE2OLC1PugQAAKBzAiAAAEAnBEAAAIBOCIAAAACdEAABAAA6sWdcB66qW5PcPVz8iyRvTPKaJEeS3NBae0VVzSb5jSRnJDmc5Gdaa5+oqsevHTuuOgEAAHoxlgBYVackmWmtnTey7vYk/yjJp5L8aVV9Z5JvSHJKa+0Jw9D3qiQXJHnD2rGttdvGUSsAAEAvxjUDeEaSh1TVDcP3uDzJfGvtk0lSVdcnOT/J1yZ5V5K01j5UVWdV1WkbjBUAAQAATsC4AuC9Sa5I8uYk35zkuiSfG9l+T5JvTHJaks+PrF8arrt7nbEbOnz4cBYXF0+46K126NCho3UdPHhwR9bIsY32kOmkh9NPD6efHk4/PZx+ejj9tqqH4wqAdyb5RGttJcmdVfX5JA8b2X5qBoHwIcPXq2YzCH+nrjN2Q/Pz89m3b9+JV73FFhcXj9a19+a7d2SNHNtoD5lOejj99HD66eH008Ppp4fT73g9XFhY2NRxxnUX0AszuJ4vVfV1GQS9L1bVN1XVTJKnJrkxyU1Jvm847vFJPtZauzvJfeuMBQAA4ASMawbwt5JcWVUfSLKSQSBcTnJNkrkM7uz54aq6JclTquqDSWaSPHe4//PWjh1TnQAAAN0YSwBsrd2X5CfX2fT4NeOWMwh7a/f/0NqxAAAAnBgPggcAAOiEAAgAANAJARAAAKATAiAAAEAnBEAAAIBOCIAAAACdEAC3ydzsTC666pZJlwEAAHRMANxGR5aWJ10CAADQMQEQAACgEwIgAABAJwRAAACATgiAAAAAnRAAAQAAOiEAAgAAdEIABAAA6IQACAAA0AkBEAAAoBMCIAAAQCcEQAAAgE4IgAAAAJ0QAAEAADohAAIAAHRCAAQAAOiEAAgAANAJARAAAKATAiAAAEAnBEAAAIBOCIAAAACdEAABAAA6IQACAAB0QgAEAADohAAIAADQCQEQAACgEwIgAABAJwRAAACATgiAAAAAnRAAAQAAOiEAAgAAdEIABAAA6IQAuA32X31g0iUAAAAIgNvhyNLypEsAAAAQAAEAAHohAAIAAHRCAAQAAOiEAAgAANAJARAAAKATAiAAAEAnBEAAAIBOCIAAAACdEAABAAA6IQACAAB0QgAEAADohAAIAADQCQEQAACgEwIgAABAJwRAAACATgiAAAAAnRAAAQAAOiEAAgAAdEIA3AZzszOTLgEAAEAABAAA6IUACAAA0AkBEAAAoBMCIAAAQCcEQAAAgE4IgAAAAJ0QAAEAADohAAIAAHRCAAQAAOjEnnEduKoenmQhyVOSHElyZZKVJHckubi1tlxVL0/yjOH2S1trH6mqx6w3dlx1AgAA9GIsM4BVdVKSNyY5OFz16iSXtdbOSTKT5IKqelySc5OcneSZSV6/0dhx1AgAANCbcZ0CekWSNyT56+HymUneN3x9XZLzkzwpyQ2ttZXW2qeT7Kmq0zcYCwAAwAna8lNAq+o5ST7TWru+ql46XD3TWlsZvr4nyUOTnJbksyO7rq5fb+wxHT58OIuLi1tR/pY6dOhQFhcXc/DgwSwtr2RpeWVH1snGVnvI9NLD6aeH008Pp58eTj89nH5b1cNxXAN4YZKVqjo/yWOTvC3Jw0e2n5rkc0nuHr5eu355nXXHND8/n3379p1AyeOxuLiYffv2Ze8tXzgaAHdinWxstYdMLz2cfno4/fRw+unh9NPD6Xe8Hi4sLGzqOFt+Cmhr7cmttXNba+cluT3Js5JcV1XnDYc8PcmNSW5K8tSqmq2qRyWZba3dleS2dcYCAABwgsZ2F9A1XpzkTVV1cpLFJNe21paq6sYkN2cQRC/eaOw21QgAALCrjTUADmcBV527zvbLk1y+Zt2d640FAADgxHgQPAAAQCcEQAAAgE4IgAAAAJ0QAAEAADohAAIAAHRCAAQAAOiEAAgAANAJARAAAKATAiAAAEAnBEAAAIBOCIAAAACdEAABAAA6IQACAAB0QgAEAADohAAIAADQCQEQAACgEwIgAABAJwRAAACATgiAAAAAnRAAAQAAOiEAAgAAdEIA3AEuuuqWSZcAAAB0QADcAY4sLU+6BAAAoAMCIAAAQCcEQAAAgE4IgAAAAJ0QAAEAADohAAIAAHRCAAQAAOiEAAgAANAJAXCbzM3OTLoEAACgcwIgAABAJwRAAACATgiAAAAAnRAAAQAAOiEAAgAAdEIABAAA6IQACAAA0AkBEAAAoBMCIAAAQCcEQAAAgE4IgAAAAJ0QAAEAADohAAIAAHRCAAQAAOiEAAgAANAJARAAAKATAiAAAEAnBEAAAIBOCIAAAACdEAABAAA6IQACAAB0QgAEAADohAC4jeZmZ7L/6gOTLgMAAOiUALjNjiwtT7oEAACgUwIgAABAJwRAAACATgiAAAAAnRAAAQAAOiEAAgAAdEIABAAA6IQACAAA0AkBEAAAoBMCIAAAQCcEQAAAgE4IgAAAAJ0QAAEAADohAAIAAHRizzgOWlVzSd6UpJKsJHlekkNJrhwu35Hk4tbaclW9PMkzkhxJcmlr7SNV9Zj1xo6jVgAAgF6MawbwB5KktfbEJJcl+ZUkr05yWWvtnCQzSS6oqsclOTfJ2UmemeT1w/0fMHZMdQIAAHRjLAGwtfZHSfYPFx+d5HNJzkzyvuG665Kcn+RJSW5ora201j6dZE9Vnb7BWAAAAE7Apk4BrarLWmu/PLL8q621lx5rn9bakaq6KskPJ/nRJE9pra0MN9+T5KFJTkvy2ZHdVtfPrDN2Q4cPH87i4uJmPsq2OnToUBYXF3Pw4MEkydLy4COtrfXgwYM7sn6+3EOmlx5OPz2cfno4/fRw+unh9NuqHh4zAFbVRUl+Jsm+qvq+4eq5JCclOWYATJLW2rOr6iVJPpxk78imUzOYFbx7+Hrt+uV11m1ofn4++/btO145225xcTH79u3L3lu+kOTLAXBtrXtvvntH1s+Xe8j00sPpp4fTTw+nnx5OPz2cfsfr4cLCwqaOc7xTQH87yU8k+f3hz5/IYDbvCcfaqap+uqpWA+K9GQS6A1V13nDd05PcmOSmJE+tqtmqelSS2dbaXUluW2csAAAAJ+CYM4CttcNJ/rKqnpfkrCSnDDd9Q5L3H2PXP0zy1qp6fwazhZcmWUzypqo6efj62tbaUlXdmOTmDMLoxcP9X7x27IP4bAAAAIzY7GMgrk3y8CT/fbi8kmMEwNbaF5P843U2nbvO2MuTXL5m3Z3rjQUAAODB22wA/JrW2veMtRIAAADGarOPgfjzqvq6sVYCAADAWG12BvCcJJ+uqs8Ml1daawIhAADAFNlUAGytffO4CwEAAGC8Nvsg+LdmcOOXo1prF46lIgAAAMZis6eA/u7w50ySxyVx+icAAMCU2ewpoNePLL6rqm4YUz0AAACMyWZPAf2HI4tfm+QR4yln95ubncn+qw/kN3/6rEmXAgAAdGazp4D+xMjrQ0lc/3cCjiwtT7oEAACgQ5t6DmBr7blJXpXkuiRvbK0tjLWqzszNzuSiq26ZdBkAAMAut6kAWFWXJHlTku9J8ptV9XNjrWqXm5udecA6s4IAAMC4bSoAJvnJJOe01i5N8sQkPz62igAAABiLzQbAmdbakSRprX0pyZfGVxIAAADjsNmbwHygqq5NcmOSJyW5aXwlAQAAMA7HnQGsqv1JXprkrUkemuR9rbWfH3dhAAAAbK1jBsCqujzJP0xyUmvtT5O8Lcn3VtXLtqE2AAAAttDxZgCfnuTHWmv3Jklr7S8zuAHMD465LgAAALbY8QLgF1prK6MrhjeBuWd8JQEAADAOxwuAB6vqG0dXDJdXNhgPAADADnW8u4C+JMkfVdW7k3wqyaOSPDXJs8ddGAAAAFvrmDOArbX/luScJLcl+aoktyZ5Ymvttm2oDQAAgC103OcAttY+n8HdPwEAAJhix30OIAAAALuDAAgAANAJARAAAKATAiAAAEAnBEAAAIBOCIATtv/qA5MuAQAA6IQAOGFHlpYnXQIAANAJARAAAKATAiAAAEAnBEAAAIBOCIA7xNzsTC666pZJlwEAAOxiAuAO4oYwAADAOAmAAAAAnRAAAQAAOiEAAgAAdEIABAAA6IQACAAA0AkBEAAAoBMCIAAAQCcEQAAAgE4IgAAAAJ0QALfB3OzMpEsAAAAQAAEAAHohAAIAAHRCAAQAAOiEAAgAANAJARAAAKATAiAAAEAnBEAAAIBOCIAAAACdEAABAAA6IQACAAB0QgAEAADohAAIAADQCQEQAACgEwIgAABAJwRAAACATgiAAAAAnRAAAQAAOiEAAgAAdEIABAAA6IQACAAA0AkBEAAAoBMCIAAAQCcEQAAAgE4IgAAAAJ3Ys9UHrKqTkrwlydcnmU/yy0k+nuTKJCtJ7khycWttuapenuQZSY4kubS19pGqesx6Y7e6TgAAgN6MYwbwp5J8trV2TpKnJXldklcnuWy4bibJBVX1uCTnJjk7yTOTvH64/wPGjqFGAACA7owjAP5BkpcNX89kMLt3ZpL3Ddddl+T8JE9KckNrbaW19ukke6rq9A3GAgAAcIK2/BTQ1toXkqSqTk1ybZLLklzRWlsZDrknyUOTnJbksyO7rq6fWWfsMR0+fDiLi4tb8wG20KFDh7K4uJiDBw9maXklS8srmZudSZKj9R48ePDo+KXllR35OXq22kOmlx5OPz2cfno4/fRw+unh9NuqHm55AEySqnpkkncm+Y3W2u9U1StHNp+a5HNJ7h6+Xrt+eZ11xzQ/P599+/adWNFjsLi4mH379mXvwoEHBMDVevd++J6j45eWV3bk5+jZag+ZXno4/fRw+unh9NPD6aeH0+94PVxYWNjUcbb8FNCqekSSG5K8pLX2luHq26rqvOHrpye5MclNSZ5aVbNV9agks621uzYYCwAAwAkaxwzgLyX520leVlWr1wK+KMlrq+rkJItJrm2tLVXVjUluziCIXjwc++IkbxodO4Yad5S52ZksLa8cfyAAAMAJGMc1gC/KIPCtde46Yy9PcvmadXeuNxYAAIAT40HwAAAAnRAAAQAAOiEAAgAAdEIABAAA6IQACAAA0AkBcALmZmey/+oDky4DAADojAA4IUeWliddAgAA0BkBEAAAoBMCIAAAQCcEQAAAgE4IgAAAAJ0QAAEAADohAAIAAHRCAAQAAOiEAAgAANAJARAAAKATAiAAAEAnBEAAAIBOCIATMjc7k+dfszDpMgAAgI4IgBN0ZGl50iUAAAAdEQABAAA6IQBO2NzszKRLAAAAOiEAAgAAdEIABAAA6IQACAAA0AkBEAAAoBMCIAAAQCcEQAAAgE4IgAAAAJ0QAAEAADohAAIAAHRCAAQAAOiEADhmz79m4ejrudmZCVYCAAD0TgAcsyNLy5MuAQAAIIkACAAA0A0BEAAAoBMCIAAAQCcEQAAAgE4IgAAAAJ0QAAEAADohAAIAAHRCAJwiF111y6RLAAAAppgAOEU8VB4AADgRAiAAAEAnBEAAAIBOCIAAAACdEAABAAA6IQACAAB0QgAEAADohAAIAADQCQEQAACgEwIgAABAJwRAAACATgiAAAAAnRAAd4i52ZkNt+2/+sA2VgIAAOxWAuAUOLK0POkSAACAXUAABAAA6IQACAAA0AkBEAAAoBMCIAAAQCcEQAAAgE4IgDvAsR4BAQAAsFUEQAAAgE4IgAAAAJ0QAAEAADohAO4gc7Mz2X/1gUmXAQAA7FIC4A5zZGl50iUAAAC7lAAIAADQiT3jOnBVnZ3k11pr51XVY5JcmWQlyR1JLm6tLVfVy5M8I8mRJJe21j6y0dhx1QkAANCLscwAVtUvJHlzklOGq16d5LLW2jlJZpJcUFWPS3JukrOTPDPJ6zcaO44adyrXAQIAAOMyrlNAP5nkR0aWz0zyvuHr65Kcn+RJSW5ora201j6dZE9Vnb7B2K64DhAAABiHsQTA1to7knxpZNVMa21l+PqeJA9NclqSz4+MWV2/3lgAAABO0NiuAVxjdErr1CSfS3L38PXa9euNPabDhw9ncXHxRGvccocPH87BgwczNzuTpeWVo+s3Wl5aXjn6evTzHDx4MIuLi0d/sn0OHTrkdz7l9HD66eH008Ppp4fTTw+n31b1cLsC4G1VdV5r7b1Jnp7kPUk+keSVVXVFkr+XZLa1dldVrTf2mObn57Nv377xVf8gLS4uZu/evQ8qAI5+nr0fvif79u3L3pvv3pGfczdbXFz0O59yejj99HD66eH008Ppp4fT73g9XFhY2NRxtisAvjjJm6rq5CSLSa5trS1V1Y1Jbs7gVNSLNxq7TTUCAADsamMLgK21v0zy+OHrOzO44+faMZcnuXzNunXHAgAAcGI8CB4AAKATAiAAAEAnBMAdyMPgAQCAcRAAdygPgwcAALaaAAgAANAJARAAAKATAiAAAEAnBEAAAIBOCIAAAACdEAABAAA6IQACAAB0QgAEAADohAC4Q83NzmT/1QcmXQYAALCLCIA72JGl5UmXAAAA7CICIAAAQCcEQAAAgE4IgAAAAJ0QAAEAADohAAIAAHRCAAQAAOiEAAgAANAJARAAAKATAuAuctFVt0y6BAAAYAcTAHeQudmZE9r/yNLyFlUCAADsRgIgAABAJwRAAACATgiAAAAAnRAAAQAAOiEA7gLu/gkAAGyGALgLuPsnAACwGQIgAABAJwRAAACATgiAAAAAnRAAAQAAOiEAAgAAdEIABAAA6IQACAAA0AkBcIrMzc5k/9UHJl0GAAAwpQTAKeOh7wAAwIMlAAIAAHRCAJwyTgMFAAAeLAFwCjkNFAAAeDAEwE5ddNUtky4BAADYZgLgLjI3O7NusFtvnVlEAADojwC4C8zNzhx9vV6wE/YAAIBEAAQAAOiGALgDjc7oAQAAbBUBcJdykxcAAGAtAXCX2ui6P8EQAAD6JQBOgZP3zOb51yxsybGOd0MYAREAAHYvAXAHm5udORr8tutOnu4YCgAAu5cAuMMJZAAAwFYRAAEAADohAAIAAHRCAAQAAOiEADiFPCgeAAB4MATAKSL4AQAAJ0IAnGL7rz4w0ff3zEAAAJguAuAUWn0+4KQfETHp9wcAAL4yAuCUOrK0nLnZmYnPAgIAANNDAJxyZuEAAIDNEgCnnBvDAAAAmyUA7gKbDYHPv2ZhzJUAAAA7mQC4i6wXBJ9/zcLR9U4XBQCAvgmAu9wkQp/HQwAAwM4kAI7Rr33grm15n9XHQoy+Hl233cw0AgDAziQAjtGR5ZXte6+R0LWysvKAdas2GwzN4o2X3y8AAJMgAHZgbejbzAzd8cZ4/uCJMUsKAMAkCIC7zEZ3BN0ocKwGubWB7lgPmd9/9YGxBpivNFyaTQMAgM3ZkQGwqmar6g1VdXNVvbeqHjPpmnaL1YC4Oiu4GuTWC3Qbhbz11o+GttX32H/1gQ0D5nr7He99N7J6yuukCaIAAOx0OzIAJvmhJKe01p6Q5BeTvGqy5Uyf0ZnAtbOCm3ksxNzszLqzgPuvPnB02+pxRoPk6PiVlZV1A+ZoKFxvv/VsFK5Wb3iz0fbR9ccKaFsR3nbKaZ2C6P396/f+zaRLAADYMXZqAHxSknclSWvtQ0nOmmw5D86e2ZnsmZvdkf/NnzR39Oelv3db5k+ayyVvvzUPmd+TS3/vtqPj5mZncunv3ZZL3n5rLnn7rZlb85mSQVhc3X9udiYPmd+TS95+6/2Ovzp2dfzofpf+3m2Zm505+h7zJ80lydHl1e0vGLmO8ZK333p0ebXO0e2rr0/eM5sXXLOQS95+69HXSfKzI4HzBcMQ+YJrFo5uX/35qpv/7/3Grlq7f5LMnzS37tgXrHPTndHfx+i49fZfz9qxa+verGON32wtJ+pYn3u7auid3zMA9GNmp5w+N6qq3pzkHa2164bLn07yja21I+uNX1hY+EySv9rGEgEAAHaSR5955pmnH2/Qnu2o5EG4O8mpI8uzG4W/JNnMBwUAAOjdTj0F9KYk35ckVfX4JB+bbDkAAADTb6fOAL4zyVOq6oNJZpI8d8L1AAAATL0deQ0gAAAAW2+nngIKAADAFhMAAQAAOrFTrwGcalU1m+Q3kpyR5HCSn2mtfWKyVbFWVZ2d5Ndaa+dV1WOSXJlkJckdSS5urS1X1cuTPCPJkSSXttY+stHYSXyGXlXVSUnekuTrk8wn+eUkH48eTpWqmkvypiSVQS+el+RQ9HGqVNXDkywkeUoG/bky+jdVqurWDO7AniR/keSNSV6TQb9uaK29YqO/bYY367vf2G3/AKSqXprkB5OcnEGf3hffxalRVc9J8pzh4ilJHpvkvIzpe2gGcDx+KMkprbUnJPnFJK+abDmsVVW/kOTNGXzJkuTVSS5rrZ2TwY2HLqiqxyU5N8nZSZ6Z5PUbjd3O2kmS/FSSzw578LQkr4seTqMfSJLW2hOTXJbkV6KPU2X4jzFvTHJwuEr/pkxVnZJkprV23vC/5yZ5Q5KfTPKkJGdX1Xdm479t1hvLNqqq85J8T5InZvBde2R8F6dKa+3K1e9gBv+g9sKM8XsoAI7Hk5K8K0laax9KctZky2Edn0zyIyPLZ2bwr2VJcl2S8zPo4w2ttZXW2qeT7Kmq0zcYy/b6gyQvG76eyeBfvPRwyrTW/ijJ/uHio5N8Lvo4ba7I4A+Pvx4u69/0OSPJQ6rqhqr6s6p6cpL51tonW2srSa7Pl/t4v79tquq0DcayvZ6awSPT3pnkj5P8SXwXp1JVnZXk25L8bsb4PRQAx+O0JJ8fWV6qKqfb7iCttXck+dLIqpnhlyZJ7kny0Dywj6vr1xvLNmqtfaG1dk9VnZrk2gxmj/RwCrXWjlTVVUl+Pck10cepMTxl6TOttetHVuvf9Lk3gyD/1AxOw37rcN2qjfq4NFx39zpj2V5/N4PJhh/LoIfXJJn1XZxKv5TkFdn4u7Ul30MBcDzuTnLqyPJsa+3IpIphU0bPdT81g5mItX1cXb/eWLZZVT0yyXuSXN1a+53o4dRqrT07ybdkcD3g3pFN+rizXZjBM3vfm8H1Km9L8vCR7fo3He5M8tvDWaE7M/jj8mEj2zfq4+w66/RxMj6b5PrW2n2ttZbBtdSjAcB3cQpU1Vcnqdbae7Jxr7bkeygAjsdNSb4vSYYXZX5ssuWwCbcNz6FPkqcnuTGDPj61qmar6lEZBPm7NhjLNqqqRyS5IclLWmtvGa7WwylTVT89vHFBMphxWE5yQB+nQ2vtya21c4fXrNye5FlJrtO/qXNhhtcRVdXXJXlIki9W1TdV1UwGM4Orfbzf3zattbuT3LfOWLbXB5I8rapmhj38qiTv9l2cOk9O8u4kOcZ3a0u+h05LHI93ZvCvoh/M4Pqk5064Ho7vxUneVFUnJ1lMcm1rbamqbkxycwb/WHLxRmMnUXDnfinJ307ysqpavRbwRUleq4dT5Q+TvLWq3p/kpCSXZtAP38Xp5X9Lp89vJbmyqj6QwV0gL8zgH2OuSTKXwTVjH66qW7L+3zbPWzt2uz9A71prfzK8dvMj+fJ37C/iuzhtKsmnRpYf8N3aqu/hzMrKyrG2AwAAsEs4BRQAAKATAiAAAEAnBEAAAIBOCIAAAACdEAABAAA64TEQAJBk+Bys30/y8Qxuh783yTWttV9/kMf73STPaq3dt2VFAsAJ8hgIAMjRAPi81tozh8vzSVqSx7bWPjfB0gBgy5gBBID1nZpkKcl/qapPJXlYkmck+Y0k35zBZRSXtdbeW1Xfn+TlGTyY99YMHsr7qSTfmuRrkrwlg//PXUnywtbaR6vqrUkek8FM42taa1dv54cDoE+uAQSAL/veqnpvVf1ZkmuSXJLkC0ne3lo7P8mFSe5qrT05yQVJXl9Ve5K8LskzWmtnJflEkr83cswrMgh4T07yoiS/VVWnJnlykh9J8rQMgiYAjJ0ZQAD4sj9bPQV0VVX9QgangibJdyQ5p6rOHi7vyWCG7/+11v4mSVprrxzut3qIfUneP9x2e1U9srV2T1VdmuQ3k5yW5LfH9okAYIQZQAA4vuXhzz/PYDbwvCRPT/IHSf46yVdX1cOSpKpeW1XfPbLvYpJzhtsem+R/V9XXJjmztfbDGZxW+srhTCIAjJUACACb98Yk31pV70vywSR/1VpbTvKCJH9aVR/I4DrAW0b2+bkkl1TV+5P8+yQXJfnfSb6mqj6Y5D8nuaK1dmQbPwcAnXIXUAAAgE6YAQQAAOiEAAgAANAJARAAAKATAiAAAEAnBEAAAIBOCIAAAACdEAABAAA6IQACAAB04v8D7OtRolmRepEAAAAASUVORK5CYII=",
      "text/plain": [
       "<Figure size 1080x576 with 1 Axes>"
      ]
     },
     "metadata": {
      "needs_background": "light"
     },
     "output_type": "display_data"
    }
   ],
   "source": [
    "# Plotear la distribucion de los precios\n",
    "plt.figure(figsize=(15,8))\n",
    "sns.histplot(x='price', data=items)\n",
    "plt.title('Distribucion de precios')\n",
    "plt.xlabel('Precios')\n",
    "plt.show()"
   ]
  },
  {
   "cell_type": "markdown",
   "metadata": {
    "pycharm": {
     "name": "#%% md\n"
    }
   },
   "source": [
    "### Medio de pago"
   ]
  },
  {
   "cell_type": "markdown",
   "metadata": {
    "pycharm": {
     "name": "#%% md\n"
    }
   },
   "source": [
    "Este dataset incluye datos sobre las opciones de pago de los pedidos.<br>\n",
    "\n",
    "La tabla de `Metodo de Pago` comprende las siguientes columnas: <br>\n",
    "\n",
    "`order_id`: Identificador unico de la orden de compra. <br>\n",
    "`payment_sequential`: Un cliente puede pagar un pedido con más de un método de pago. Si lo hace, se creará una secuencia. <br>\n",
    "`payment_type`: Metodo de pago elegido por el cliente <br>\n",
    "`payment_installments`: Número de cuotas elegidas por el cliente. <br>\n",
    "`payment_value`: valor de la transacción. <br>\n"
   ]
  },
  {
   "cell_type": "code",
<<<<<<< HEAD
   "execution_count": 32,
=======
   "execution_count": null,
>>>>>>> fa4e3543e1ba571f072fa85a32068bafc0739509
   "metadata": {},
   "outputs": [],
   "source": [
    "metodo_de_pago = data_dict['olist_order_payments_dataset']"
   ]
  },
  {
   "cell_type": "code",
   "execution_count": 33,
   "metadata": {
    "pycharm": {
     "name": "#%%\n"
    }
   },
   "outputs": [
    {
     "name": "stdout",
     "output_type": "stream",
     "text": [
      "<class 'pandas.core.frame.DataFrame'>\n",
      "RangeIndex: 103886 entries, 0 to 103885\n",
      "Data columns (total 5 columns):\n",
      " #   Column                Non-Null Count   Dtype  \n",
      "---  ------                --------------   -----  \n",
      " 0   order_id              103886 non-null  object \n",
      " 1   payment_sequential    103886 non-null  int64  \n",
      " 2   payment_type          103886 non-null  object \n",
      " 3   payment_installments  103886 non-null  int64  \n",
      " 4   payment_value         103886 non-null  float64\n",
      "dtypes: float64(1), int64(2), object(2)\n",
      "memory usage: 4.0+ MB\n"
     ]
    }
   ],
   "source": [
    "metodo_de_pago.info()"
   ]
  },
  {
   "cell_type": "code",
   "execution_count": null,
<<<<<<< HEAD
   "metadata": {
    "pycharm": {
     "name": "#%%\n"
    }
   },
=======
   "metadata": {},
>>>>>>> fa4e3543e1ba571f072fa85a32068bafc0739509
   "outputs": [
    {
     "data": {
      "text/html": [
       "<div>\n",
       "<style scoped>\n",
       "    .dataframe tbody tr th:only-of-type {\n",
       "        vertical-align: middle;\n",
       "    }\n",
       "\n",
       "    .dataframe tbody tr th {\n",
       "        vertical-align: top;\n",
       "    }\n",
       "\n",
       "    .dataframe thead th {\n",
       "        text-align: right;\n",
       "    }\n",
       "</style>\n",
       "<table border=\"1\" class=\"dataframe\">\n",
       "  <thead>\n",
       "    <tr style=\"text-align: right;\">\n",
       "      <th></th>\n",
       "      <th>order_id</th>\n",
       "      <th>payment_sequential</th>\n",
       "      <th>payment_type</th>\n",
       "      <th>payment_installments</th>\n",
       "      <th>payment_value</th>\n",
       "    </tr>\n",
       "  </thead>\n",
       "  <tbody>\n",
       "    <tr>\n",
       "      <th>0</th>\n",
       "      <td>b81ef226f3fe1789b1e8b2acac839d17</td>\n",
       "      <td>1</td>\n",
       "      <td>credit_card</td>\n",
       "      <td>8</td>\n",
       "      <td>99.33</td>\n",
       "    </tr>\n",
       "    <tr>\n",
       "      <th>1</th>\n",
       "      <td>a9810da82917af2d9aefd1278f1dcfa0</td>\n",
       "      <td>1</td>\n",
       "      <td>credit_card</td>\n",
       "      <td>1</td>\n",
       "      <td>24.39</td>\n",
       "    </tr>\n",
       "    <tr>\n",
       "      <th>2</th>\n",
       "      <td>25e8ea4e93396b6fa0d3dd708e76c1bd</td>\n",
       "      <td>1</td>\n",
       "      <td>credit_card</td>\n",
       "      <td>1</td>\n",
       "      <td>65.71</td>\n",
       "    </tr>\n",
       "  </tbody>\n",
       "</table>\n",
       "</div>"
      ],
      "text/plain": [
       "                           order_id  payment_sequential payment_type  \\\n",
       "0  b81ef226f3fe1789b1e8b2acac839d17                   1  credit_card   \n",
       "1  a9810da82917af2d9aefd1278f1dcfa0                   1  credit_card   \n",
       "2  25e8ea4e93396b6fa0d3dd708e76c1bd                   1  credit_card   \n",
       "\n",
       "   payment_installments  payment_value  \n",
       "0                     8          99.33  \n",
       "1                     1          24.39  \n",
       "2                     1          65.71  "
      ]
     },
     "execution_count": 37,
     "metadata": {},
     "output_type": "execute_result"
    }
   ],
   "source": [
    "metodo_de_pago.head(3)"
   ]
  },
  {
   "cell_type": "code",
<<<<<<< HEAD
   "execution_count": null,
   "metadata": {
    "pycharm": {
     "name": "#%%\n"
    }
   },
=======
   "execution_count": 6,
   "metadata": {},
   "outputs": [
    {
     "data": {
      "text/plain": [
       "array(['credit_card', 'boleto', 'voucher', 'debit_card', 'not_defined'],\n",
       "      dtype=object)"
      ]
     },
     "execution_count": 6,
     "metadata": {},
     "output_type": "execute_result"
    }
   ],
   "source": [
    "metodo_de_pago['payment_type'].unique()"
   ]
  },
  {
   "cell_type": "code",
   "execution_count": null,
   "metadata": {},
   "outputs": [
    {
     "data": {
      "text/html": [
       "<div>\n",
       "<style scoped>\n",
       "    .dataframe tbody tr th:only-of-type {\n",
       "        vertical-align: middle;\n",
       "    }\n",
       "\n",
       "    .dataframe tbody tr th {\n",
       "        vertical-align: top;\n",
       "    }\n",
       "\n",
       "    .dataframe thead th {\n",
       "        text-align: right;\n",
       "    }\n",
       "</style>\n",
       "<table border=\"1\" class=\"dataframe\">\n",
       "  <thead>\n",
       "    <tr style=\"text-align: right;\">\n",
       "      <th></th>\n",
       "      <th>order_id</th>\n",
       "      <th>payment_sequential</th>\n",
       "      <th>payment_type</th>\n",
       "      <th>payment_installments</th>\n",
       "      <th>payment_value</th>\n",
       "    </tr>\n",
       "  </thead>\n",
       "  <tbody>\n",
       "  </tbody>\n",
       "</table>\n",
       "</div>"
      ],
      "text/plain": [
       "Empty DataFrame\n",
       "Columns: [order_id, payment_sequential, payment_type, payment_installments, payment_value]\n",
       "Index: []"
      ]
     },
     "execution_count": 24,
     "metadata": {},
     "output_type": "execute_result"
    }
   ],
   "source": [
    "metodo_de_pago[metodo_de_pago.payment_value < 0]"
   ]
  },
  {
   "cell_type": "code",
   "execution_count": null,
   "metadata": {},
   "outputs": [
    {
     "data": {
      "text/plain": [
       "array(['credit_card', 'boleto', 'voucher', 'debit_card', 'not_defined'],\n",
       "      dtype=object)"
      ]
     },
     "execution_count": 23,
     "metadata": {},
     "output_type": "execute_result"
    }
   ],
   "source": [
    "metodo_de_pago.payment_type.unique()"
   ]
  },
  {
   "cell_type": "code",
   "execution_count": null,
   "metadata": {},
>>>>>>> fa4e3543e1ba571f072fa85a32068bafc0739509
   "outputs": [
    {
     "data": {
      "text/plain": [
       "order_id                False\n",
       "payment_sequential      False\n",
       "payment_type            False\n",
       "payment_installments    False\n",
       "payment_value           False\n",
       "dtype: bool"
      ]
     },
     "execution_count": 38,
     "metadata": {},
     "output_type": "execute_result"
    }
   ],
   "source": [
    "metodo_de_pago.isnull().any()"
   ]
  },
  {
   "cell_type": "code",
   "execution_count": null,
<<<<<<< HEAD
   "metadata": {
    "pycharm": {
     "name": "#%%\n"
    }
   },
=======
   "metadata": {},
>>>>>>> fa4e3543e1ba571f072fa85a32068bafc0739509
   "outputs": [
    {
     "data": {
      "image/png": "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",
      "text/plain": [
       "<Figure size 1080x576 with 1 Axes>"
      ]
     },
     "metadata": {
      "needs_background": "light"
     },
     "output_type": "display_data"
    }
   ],
   "source": [
    "# Grafiquemos\n",
    "plt.figure(figsize=(15,8))\n",
    "sns.countplot(x='payment_type', data=metodo_de_pago)\n",
    "plt.title('Analizando tipos de pago')\n",
    "plt.xlabel('Tipo de pago')\n",
    "plt.ylabel('Cantidad de compradores')\n",
    "plt.show()"
   ]
  },
  {
   "cell_type": "code",
   "execution_count": null,
<<<<<<< HEAD
   "metadata": {
    "pycharm": {
     "name": "#%%\n"
    }
   },
=======
   "metadata": {},
>>>>>>> fa4e3543e1ba571f072fa85a32068bafc0739509
   "outputs": [
    {
     "data": {
      "image/png": "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",
      "text/plain": [
       "<Figure size 1080x576 with 1 Axes>"
      ]
     },
     "metadata": {
      "needs_background": "light"
     },
     "output_type": "display_data"
    }
   ],
   "source": [
    "plt.figure(figsize=(15,8))\n",
    "sns.countplot(x='payment_installments', data=metodo_de_pago)\n",
    "plt.title('Analizando cuotas')\n",
    "plt.xlabel('Cantidad de cuotas')\n",
    "plt.ylabel('Cantidad de compradores')\n",
    "plt.show()"
   ]
  },
  {
   "cell_type": "code",
   "execution_count": null,
<<<<<<< HEAD
   "metadata": {
    "pycharm": {
     "name": "#%%\n"
    }
   },
=======
   "metadata": {},
>>>>>>> fa4e3543e1ba571f072fa85a32068bafc0739509
   "outputs": [
    {
     "data": {
      "text/html": [
       "<div>\n",
       "<style scoped>\n",
       "    .dataframe tbody tr th:only-of-type {\n",
       "        vertical-align: middle;\n",
       "    }\n",
       "\n",
       "    .dataframe tbody tr th {\n",
       "        vertical-align: top;\n",
       "    }\n",
       "\n",
       "    .dataframe thead th {\n",
       "        text-align: right;\n",
       "    }\n",
       "</style>\n",
       "<table border=\"1\" class=\"dataframe\">\n",
       "  <thead>\n",
       "    <tr style=\"text-align: right;\">\n",
       "      <th></th>\n",
       "      <th>payment_sequential</th>\n",
       "      <th>payment_installments</th>\n",
       "      <th>payment_value</th>\n",
       "    </tr>\n",
       "  </thead>\n",
       "  <tbody>\n",
       "    <tr>\n",
       "      <th>count</th>\n",
       "      <td>103886.000000</td>\n",
       "      <td>103886.000000</td>\n",
       "      <td>103886.000000</td>\n",
       "    </tr>\n",
       "    <tr>\n",
       "      <th>mean</th>\n",
       "      <td>1.092679</td>\n",
       "      <td>2.853349</td>\n",
       "      <td>154.100380</td>\n",
       "    </tr>\n",
       "    <tr>\n",
       "      <th>std</th>\n",
       "      <td>0.706584</td>\n",
       "      <td>2.687051</td>\n",
       "      <td>217.494064</td>\n",
       "    </tr>\n",
       "    <tr>\n",
       "      <th>min</th>\n",
       "      <td>1.000000</td>\n",
       "      <td>0.000000</td>\n",
       "      <td>0.000000</td>\n",
       "    </tr>\n",
       "    <tr>\n",
       "      <th>25%</th>\n",
       "      <td>1.000000</td>\n",
       "      <td>1.000000</td>\n",
       "      <td>56.790000</td>\n",
       "    </tr>\n",
       "    <tr>\n",
       "      <th>50%</th>\n",
       "      <td>1.000000</td>\n",
       "      <td>1.000000</td>\n",
       "      <td>100.000000</td>\n",
       "    </tr>\n",
       "    <tr>\n",
       "      <th>75%</th>\n",
       "      <td>1.000000</td>\n",
       "      <td>4.000000</td>\n",
       "      <td>171.837500</td>\n",
       "    </tr>\n",
       "    <tr>\n",
       "      <th>max</th>\n",
       "      <td>29.000000</td>\n",
       "      <td>24.000000</td>\n",
       "      <td>13664.080000</td>\n",
       "    </tr>\n",
       "  </tbody>\n",
       "</table>\n",
       "</div>"
      ],
      "text/plain": [
       "       payment_sequential  payment_installments  payment_value\n",
       "count       103886.000000         103886.000000  103886.000000\n",
       "mean             1.092679              2.853349     154.100380\n",
       "std              0.706584              2.687051     217.494064\n",
       "min              1.000000              0.000000       0.000000\n",
       "25%              1.000000              1.000000      56.790000\n",
       "50%              1.000000              1.000000     100.000000\n",
       "75%              1.000000              4.000000     171.837500\n",
       "max             29.000000             24.000000   13664.080000"
      ]
     },
     "execution_count": 41,
     "metadata": {},
     "output_type": "execute_result"
    }
   ],
   "source": [
    "metodo_de_pago.describe()"
   ]
  },
  {
   "cell_type": "markdown",
   "metadata": {
    "pycharm": {
     "name": "#%% md\n"
    }
   },
   "source": [
    "El 75% de los clientes pago en 4 cuotas o menos y la mayoria de los clientes prefieren pagar en una cuota (el 50.5%)"
   ]
  },
  {
   "cell_type": "code",
   "execution_count": null,
<<<<<<< HEAD
   "metadata": {
    "pycharm": {
     "name": "#%%\n"
    }
   },
=======
   "metadata": {},
>>>>>>> fa4e3543e1ba571f072fa85a32068bafc0739509
   "outputs": [
    {
     "data": {
      "text/plain": [
       "50.58044394817396"
      ]
     },
     "execution_count": 42,
     "metadata": {},
     "output_type": "execute_result"
    }
   ],
   "source": [
    "(metodo_de_pago.payment_installments.value_counts()[1] / metodo_de_pago.shape[0])*100"
   ]
  },
  {
   "cell_type": "markdown",
   "metadata": {
    "pycharm": {
     "name": "#%% md\n"
    }
   },
   "source": [
    "### Revisiones de los clientes"
   ]
  },
  {
   "cell_type": "markdown",
   "metadata": {
    "pycharm": {
     "name": "#%% md\n"
    }
   },
   "source": [
    "<p>Después de que un cliente compra el producto en Olist Store, se notifica al vendedor para cumplir ese pedido. Una vez que el cliente recibe el producto, o la fecha de entrega estimada, el cliente recibe una encuesta de satisfacción por correo electrónico donde puede dar una nota para la experiencia de compra y escribir algunos comentarios.</p>\n",
    "\n",
    "La tabla de `Reviews` comprende las siguientes columnas:<br>\n",
    "\n",
    "`review_id`: Identificador unico de la revision. <br>\n",
    "`order_id`: Identificador unico de la orden de compra.<br>\n",
    "`review_score`: Nota que varía de 1 a 5 dada por el cliente en una encuesta de satisfacción.<br>\n",
    "`review_comment_title`: Título de comentario de la revisión dejada por el cliente, en portugués.<br>\n",
    "`review_comment_message`: Mensaje de comentario de la revisión dejada por el cliente, en portugués.<br>\n",
    "`review_creation_date`: Muestra la fecha en que se envió la encuesta de satisfacción al cliente.<br>\n",
    "`review_answer_timestamp`: Muestra dia y hora de la encuesta de satisfacción.<br>\n",
    "\n"
   ]
  },
  {
   "cell_type": "code",
<<<<<<< HEAD
   "execution_count": 34,
=======
   "execution_count": null,
>>>>>>> fa4e3543e1ba571f072fa85a32068bafc0739509
   "metadata": {},
   "outputs": [],
   "source": [
    "reviews = data_dict['olist_order_reviews_dataset']"
   ]
  },
  {
   "cell_type": "code",
   "execution_count": 35,
   "metadata": {
    "pycharm": {
     "name": "#%%\n"
    }
   },
   "outputs": [
    {
     "name": "stdout",
     "output_type": "stream",
     "text": [
      "<class 'pandas.core.frame.DataFrame'>\n",
      "RangeIndex: 99224 entries, 0 to 99223\n",
      "Data columns (total 7 columns):\n",
      " #   Column                   Non-Null Count  Dtype         \n",
      "---  ------                   --------------  -----         \n",
      " 0   review_id                99224 non-null  object        \n",
      " 1   order_id                 99224 non-null  object        \n",
      " 2   review_score             99224 non-null  int64         \n",
      " 3   review_comment_title     11568 non-null  object        \n",
      " 4   review_comment_message   40977 non-null  object        \n",
      " 5   review_creation_date     99224 non-null  datetime64[ns]\n",
      " 6   review_answer_timestamp  99224 non-null  object        \n",
      "dtypes: datetime64[ns](1), int64(1), object(5)\n",
      "memory usage: 5.3+ MB\n"
     ]
    }
   ],
   "source": [
    "reviews.info()"
   ]
  },
  {
   "cell_type": "code",
   "execution_count": null,
<<<<<<< HEAD
   "metadata": {
    "pycharm": {
     "name": "#%%\n"
=======
   "metadata": {},
   "outputs": [
    {
     "data": {
      "text/html": [
       "<div>\n",
       "<style scoped>\n",
       "    .dataframe tbody tr th:only-of-type {\n",
       "        vertical-align: middle;\n",
       "    }\n",
       "\n",
       "    .dataframe tbody tr th {\n",
       "        vertical-align: top;\n",
       "    }\n",
       "\n",
       "    .dataframe thead th {\n",
       "        text-align: right;\n",
       "    }\n",
       "</style>\n",
       "<table border=\"1\" class=\"dataframe\">\n",
       "  <thead>\n",
       "    <tr style=\"text-align: right;\">\n",
       "      <th></th>\n",
       "      <th>review_id</th>\n",
       "      <th>order_id</th>\n",
       "      <th>review_score</th>\n",
       "      <th>review_comment_title</th>\n",
       "      <th>review_comment_message</th>\n",
       "      <th>review_creation_date</th>\n",
       "      <th>review_answer_timestamp</th>\n",
       "    </tr>\n",
       "  </thead>\n",
       "  <tbody>\n",
       "    <tr>\n",
       "      <th>0</th>\n",
       "      <td>7bc2406110b926393aa56f80a40eba40</td>\n",
       "      <td>73fc7af87114b39712e6da79b0a377eb</td>\n",
       "      <td>4</td>\n",
       "      <td>NaN</td>\n",
       "      <td>NaN</td>\n",
       "      <td>2018-01-18</td>\n",
       "      <td>2018-01-18 21:46:59</td>\n",
       "    </tr>\n",
       "    <tr>\n",
       "      <th>1</th>\n",
       "      <td>80e641a11e56f04c1ad469d5645fdfde</td>\n",
       "      <td>a548910a1c6147796b98fdf73dbeba33</td>\n",
       "      <td>5</td>\n",
       "      <td>NaN</td>\n",
       "      <td>NaN</td>\n",
       "      <td>2018-03-10</td>\n",
       "      <td>2018-03-11 03:05:13</td>\n",
       "    </tr>\n",
       "    <tr>\n",
       "      <th>2</th>\n",
       "      <td>228ce5500dc1d8e020d8d1322874b6f0</td>\n",
       "      <td>f9e4b658b201a9f2ecdecbb34bed034b</td>\n",
       "      <td>5</td>\n",
       "      <td>NaN</td>\n",
       "      <td>NaN</td>\n",
       "      <td>2018-02-17</td>\n",
       "      <td>2018-02-18 14:36:24</td>\n",
       "    </tr>\n",
       "  </tbody>\n",
       "</table>\n",
       "</div>"
      ],
      "text/plain": [
       "                          review_id                          order_id  \\\n",
       "0  7bc2406110b926393aa56f80a40eba40  73fc7af87114b39712e6da79b0a377eb   \n",
       "1  80e641a11e56f04c1ad469d5645fdfde  a548910a1c6147796b98fdf73dbeba33   \n",
       "2  228ce5500dc1d8e020d8d1322874b6f0  f9e4b658b201a9f2ecdecbb34bed034b   \n",
       "\n",
       "   review_score review_comment_title review_comment_message  \\\n",
       "0             4                  NaN                    NaN   \n",
       "1             5                  NaN                    NaN   \n",
       "2             5                  NaN                    NaN   \n",
       "\n",
       "  review_creation_date review_answer_timestamp  \n",
       "0           2018-01-18     2018-01-18 21:46:59  \n",
       "1           2018-03-10     2018-03-11 03:05:13  \n",
       "2           2018-02-17     2018-02-18 14:36:24  "
      ]
     },
     "execution_count": 29,
     "metadata": {},
     "output_type": "execute_result"
>>>>>>> fa4e3543e1ba571f072fa85a32068bafc0739509
    }
   },
   "outputs": [],
   "source": [
    "reviews.head(3)"
   ]
  },
  {
   "cell_type": "code",
   "execution_count": null,
<<<<<<< HEAD
   "metadata": {
    "pycharm": {
     "name": "#%%\n"
=======
   "metadata": {},
   "outputs": [
    {
     "data": {
      "text/plain": [
       "review_id                  False\n",
       "order_id                   False\n",
       "review_score               False\n",
       "review_comment_title        True\n",
       "review_comment_message      True\n",
       "review_creation_date       False\n",
       "review_answer_timestamp    False\n",
       "dtype: bool"
      ]
     },
     "execution_count": 30,
     "metadata": {},
     "output_type": "execute_result"
>>>>>>> fa4e3543e1ba571f072fa85a32068bafc0739509
    }
   },
   "outputs": [],
   "source": [
    "reviews.isnull().any()"
   ]
  },
  {
   "cell_type": "markdown",
   "metadata": {
    "pycharm": {
     "name": "#%% md\n"
    }
   },
   "source": [
    "Faltan muchos datos en el titulo y el mensaje pero tenemos la puntuacion de cada una"
   ]
  },
  {
   "cell_type": "code",
   "execution_count": null,
<<<<<<< HEAD
   "metadata": {
    "pycharm": {
     "name": "#%%\n"
=======
   "metadata": {},
   "outputs": [
    {
     "data": {
      "image/png": "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",
      "text/plain": [
       "<Figure size 1080x576 with 1 Axes>"
      ]
     },
     "metadata": {
      "needs_background": "light"
     },
     "output_type": "display_data"
>>>>>>> fa4e3543e1ba571f072fa85a32068bafc0739509
    }
   },
   "outputs": [],
   "source": [
    "# Grafiquemos\n",
    "plt.figure(figsize=(15,8))\n",
    "sns.countplot(x='review_score', data=reviews)\n",
    "plt.title('Analizando las revisiones')\n",
    "plt.xlabel('Puntaje')\n",
    "plt.ylabel('Cantidad de Revisiones')\n",
    "plt.show()"
   ]
  },
  {
   "cell_type": "code",
   "execution_count": null,
<<<<<<< HEAD
   "metadata": {
    "pycharm": {
     "name": "#%%\n"
=======
   "metadata": {},
   "outputs": [
    {
     "data": {
      "text/plain": [
       "0.5777634443279852"
      ]
     },
     "execution_count": 32,
     "metadata": {},
     "output_type": "execute_result"
>>>>>>> fa4e3543e1ba571f072fa85a32068bafc0739509
    }
   },
   "outputs": [],
   "source": [
    "reviews.review_score.value_counts()[5]/reviews.shape[0]"
   ]
  },
  {
   "cell_type": "code",
   "execution_count": null,
<<<<<<< HEAD
   "metadata": {
    "pycharm": {
     "name": "#%%\n"
=======
   "metadata": {},
   "outputs": [
    {
     "data": {
      "text/plain": [
       "0.1151334354591631"
      ]
     },
     "execution_count": 33,
     "metadata": {},
     "output_type": "execute_result"
>>>>>>> fa4e3543e1ba571f072fa85a32068bafc0739509
    }
   },
   "outputs": [],
   "source": [
    "reviews.review_score.value_counts()[1]/reviews.shape[0]"
   ]
  },
  {
   "cell_type": "markdown",
   "metadata": {
    "pycharm": {
     "name": "#%% md\n"
    }
   },
   "source": [
    "El 57.8% de las revisiones corresponden a 5 y el 11.5% a 1"
   ]
  },
  {
   "cell_type": "markdown",
   "metadata": {
    "pycharm": {
     "name": "#%% md\n"
    }
   },
   "source": [
    "### Ordenes de compra"
   ]
  },
  {
   "cell_type": "markdown",
   "metadata": {
    "pycharm": {
     "name": "#%% md\n"
    }
   },
   "source": [
    "Este es el conjunto de datos principal. De cada pedido se puede encontrar toda la otra información.<br>\n",
    "\n",
    "La tabla de `ordenes` comprende las siguientes columnas:<br>\n",
    "\n",
    "`order_id`: Identificador unico del orden de compra <br>\n",
    "`customer_id`:  clave de la orden de compra. Cada orden tiene un unico customer_id.<br>\n",
    "`order_status`: Referencia del estado de la orden (entregada, enviada, etc).<br>\n",
    "`order_purchase_timestamp`: Muestra dia y hora de la compra.<br>\n",
    "`order_approved_at`: Muestra dia y hora del pago aprobado<br>\n",
    "`order_delivered_carrier_date`: Muestra fecha y hora de entregado el pedido al transportista.<br>\n",
    "`order_delivered_customer_date`: Muestra la fecha real de entrega del pedido al cliente.<br>\n",
    "`order_estimated_delivery_date`: Muestra la fecha de entrega estimada que se informó al cliente en el momento de compra.<br>"
   ]
  },
  {
   "cell_type": "code",
<<<<<<< HEAD
   "execution_count": 36,
=======
   "execution_count": null,
>>>>>>> fa4e3543e1ba571f072fa85a32068bafc0739509
   "metadata": {},
   "outputs": [],
   "source": [
    "ordenes = data_dict['olist_orders_dataset']"
   ]
  },
  {
   "cell_type": "code",
   "execution_count": 37,
   "metadata": {
    "pycharm": {
     "name": "#%%\n"
    }
   },
   "outputs": [
    {
     "name": "stdout",
     "output_type": "stream",
     "text": [
      "<class 'pandas.core.frame.DataFrame'>\n",
      "RangeIndex: 99441 entries, 0 to 99440\n",
      "Data columns (total 8 columns):\n",
      " #   Column                         Non-Null Count  Dtype         \n",
      "---  ------                         --------------  -----         \n",
      " 0   order_id                       99441 non-null  object        \n",
      " 1   customer_id                    99441 non-null  object        \n",
      " 2   order_status                   99441 non-null  object        \n",
      " 3   order_purchase_timestamp       99441 non-null  object        \n",
      " 4   order_approved_at              99281 non-null  object        \n",
      " 5   order_delivered_carrier_date   97658 non-null  datetime64[ns]\n",
      " 6   order_delivered_customer_date  96476 non-null  datetime64[ns]\n",
      " 7   order_estimated_delivery_date  99441 non-null  datetime64[ns]\n",
      "dtypes: datetime64[ns](3), object(5)\n",
      "memory usage: 6.1+ MB\n"
     ]
    }
   ],
   "source": [
    "ordenes.info()"
   ]
  },
  {
   "cell_type": "code",
   "execution_count": null,
<<<<<<< HEAD
   "metadata": {
    "pycharm": {
     "name": "#%%\n"
=======
   "metadata": {},
   "outputs": [
    {
     "data": {
      "text/html": [
       "<div>\n",
       "<style scoped>\n",
       "    .dataframe tbody tr th:only-of-type {\n",
       "        vertical-align: middle;\n",
       "    }\n",
       "\n",
       "    .dataframe tbody tr th {\n",
       "        vertical-align: top;\n",
       "    }\n",
       "\n",
       "    .dataframe thead th {\n",
       "        text-align: right;\n",
       "    }\n",
       "</style>\n",
       "<table border=\"1\" class=\"dataframe\">\n",
       "  <thead>\n",
       "    <tr style=\"text-align: right;\">\n",
       "      <th></th>\n",
       "      <th>order_id</th>\n",
       "      <th>customer_id</th>\n",
       "      <th>order_status</th>\n",
       "      <th>order_purchase_timestamp</th>\n",
       "      <th>order_approved_at</th>\n",
       "      <th>order_delivered_carrier_date</th>\n",
       "      <th>order_delivered_customer_date</th>\n",
       "      <th>order_estimated_delivery_date</th>\n",
       "    </tr>\n",
       "  </thead>\n",
       "  <tbody>\n",
       "    <tr>\n",
       "      <th>0</th>\n",
       "      <td>e481f51cbdc54678b7cc49136f2d6af7</td>\n",
       "      <td>9ef432eb6251297304e76186b10a928d</td>\n",
       "      <td>delivered</td>\n",
       "      <td>2017-10-02 10:56:33</td>\n",
       "      <td>2017-10-02 11:07:15</td>\n",
       "      <td>2017-10-04 19:55:00</td>\n",
       "      <td>2017-10-10 21:25:13</td>\n",
       "      <td>2017-10-18</td>\n",
       "    </tr>\n",
       "    <tr>\n",
       "      <th>1</th>\n",
       "      <td>53cdb2fc8bc7dce0b6741e2150273451</td>\n",
       "      <td>b0830fb4747a6c6d20dea0b8c802d7ef</td>\n",
       "      <td>delivered</td>\n",
       "      <td>2018-07-24 20:41:37</td>\n",
       "      <td>2018-07-26 03:24:27</td>\n",
       "      <td>2018-07-26 14:31:00</td>\n",
       "      <td>2018-08-07 15:27:45</td>\n",
       "      <td>2018-08-13</td>\n",
       "    </tr>\n",
       "    <tr>\n",
       "      <th>2</th>\n",
       "      <td>47770eb9100c2d0c44946d9cf07ec65d</td>\n",
       "      <td>41ce2a54c0b03bf3443c3d931a367089</td>\n",
       "      <td>delivered</td>\n",
       "      <td>2018-08-08 08:38:49</td>\n",
       "      <td>2018-08-08 08:55:23</td>\n",
       "      <td>2018-08-08 13:50:00</td>\n",
       "      <td>2018-08-17 18:06:29</td>\n",
       "      <td>2018-09-04</td>\n",
       "    </tr>\n",
       "  </tbody>\n",
       "</table>\n",
       "</div>"
      ],
      "text/plain": [
       "                           order_id                       customer_id  \\\n",
       "0  e481f51cbdc54678b7cc49136f2d6af7  9ef432eb6251297304e76186b10a928d   \n",
       "1  53cdb2fc8bc7dce0b6741e2150273451  b0830fb4747a6c6d20dea0b8c802d7ef   \n",
       "2  47770eb9100c2d0c44946d9cf07ec65d  41ce2a54c0b03bf3443c3d931a367089   \n",
       "\n",
       "  order_status order_purchase_timestamp   order_approved_at  \\\n",
       "0    delivered      2017-10-02 10:56:33 2017-10-02 11:07:15   \n",
       "1    delivered      2018-07-24 20:41:37 2018-07-26 03:24:27   \n",
       "2    delivered      2018-08-08 08:38:49 2018-08-08 08:55:23   \n",
       "\n",
       "  order_delivered_carrier_date order_delivered_customer_date  \\\n",
       "0          2017-10-04 19:55:00           2017-10-10 21:25:13   \n",
       "1          2018-07-26 14:31:00           2018-08-07 15:27:45   \n",
       "2          2018-08-08 13:50:00           2018-08-17 18:06:29   \n",
       "\n",
       "  order_estimated_delivery_date  \n",
       "0                    2017-10-18  \n",
       "1                    2018-08-13  \n",
       "2                    2018-09-04  "
      ]
     },
     "execution_count": 35,
     "metadata": {},
     "output_type": "execute_result"
>>>>>>> fa4e3543e1ba571f072fa85a32068bafc0739509
    }
   },
   "outputs": [],
   "source": [
    "ordenes.head(3)"
   ]
  },
  {
   "cell_type": "code",
   "execution_count": null,
<<<<<<< HEAD
   "metadata": {
    "pycharm": {
     "name": "#%%\n"
=======
   "metadata": {},
   "outputs": [
    {
     "data": {
      "text/plain": [
       "array(['delivered', 'invoiced', 'shipped', 'processing', 'unavailable',\n",
       "       'canceled', 'created', 'approved'], dtype=object)"
      ]
     },
     "execution_count": 8,
     "metadata": {},
     "output_type": "execute_result"
    }
   ],
   "source": [
    "ordenes['order_status'].unique()"
   ]
  },
  {
   "cell_type": "code",
   "execution_count": null,
   "metadata": {},
   "outputs": [
    {
     "data": {
      "text/plain": [
       "order_id                         False\n",
       "customer_id                      False\n",
       "order_status                     False\n",
       "order_purchase_timestamp         False\n",
       "order_approved_at                 True\n",
       "order_delivered_carrier_date      True\n",
       "order_delivered_customer_date     True\n",
       "order_estimated_delivery_date    False\n",
       "dtype: bool"
      ]
     },
     "execution_count": 36,
     "metadata": {},
     "output_type": "execute_result"
>>>>>>> fa4e3543e1ba571f072fa85a32068bafc0739509
    }
   },
   "outputs": [],
   "source": [
    "ordenes.isnull().any()"
   ]
  },
  {
   "cell_type": "markdown",
   "metadata": {
    "pycharm": {
     "name": "#%% md\n"
    }
   },
   "source": [
    "Evaluar las diferencias entre: \n",
    "- Hora de compra y pago aprobado\n",
    "- pago aprobado y despacho \n",
    "- decpacho y entrega\n",
    "- entrega real y entrega pactada"
   ]
  },
  {
   "cell_type": "code",
   "execution_count": null,
<<<<<<< HEAD
   "metadata": {
    "pycharm": {
     "name": "#%%\n"
    }
   },
=======
   "metadata": {},
>>>>>>> fa4e3543e1ba571f072fa85a32068bafc0739509
   "outputs": [],
   "source": [
    "ordenes_copy = ordenes.copy()\n",
    "ordenes_copy[\"diff_compra_pagoaprobado\"] = ordenes_copy.order_approved_at - ordenes_copy.order_purchase_timestamp\n",
    "ordenes_copy[\"diff_pagoaprobado_despacho\"] = ordenes_copy.order_delivered_carrier_date - ordenes_copy.order_approved_at\n",
    "ordenes_copy[\"diff_despacho_entregareal\"] = ordenes_copy.order_delivered_customer_date - ordenes_copy.order_delivered_carrier_date \n",
    "ordenes_copy[\"diff_entregareal_entregapactada\"] = ordenes_copy.order_estimated_delivery_date - ordenes_copy.order_delivered_customer_date"
   ]
  },
  {
   "cell_type": "code",
   "execution_count": null,
<<<<<<< HEAD
   "metadata": {
    "pycharm": {
     "name": "#%%\n"
=======
   "metadata": {},
   "outputs": [
    {
     "name": "stdout",
     "output_type": "stream",
     "text": [
      "La diferencia entre la compra y el pago aprobado es de 0 days 10:25:08.739486910\n",
      "La diferencia entre el pago aprobado y el despacho es de 2 days 19:19:15.298850927\n",
      "La diferencia entre el despacho y la entrega es de 9 days 07:55:59.254148743\n",
      "La diferencia entre la entrega real y la entrega pactada es de 11 days 04:17:55.957616402\n"
     ]
>>>>>>> fa4e3543e1ba571f072fa85a32068bafc0739509
    }
   },
   "outputs": [],
   "source": [
    "print(\"La diferencia entre la compra y el pago aprobado es de {}\".format(ordenes_copy.diff_compra_pagoaprobado.mean()))\n",
    "print(\"La diferencia entre el pago aprobado y el despacho es de {}\".format(ordenes_copy.diff_pagoaprobado_despacho.mean()))\n",
    "print(\"La diferencia entre el despacho y la entrega es de {}\".format(ordenes_copy.diff_despacho_entregareal.mean()))\n",
    "print(\"La diferencia entre la entrega real y la entrega pactada es de {}\".format(ordenes_copy.diff_entregareal_entregapactada.mean()))"
   ]
  },
  {
   "cell_type": "code",
   "execution_count": null,
<<<<<<< HEAD
   "metadata": {
    "pycharm": {
     "name": "#%%\n"
=======
   "metadata": {},
   "outputs": [
    {
     "data": {
      "text/plain": [
       "37508"
      ]
     },
     "execution_count": 71,
     "metadata": {},
     "output_type": "execute_result"
>>>>>>> fa4e3543e1ba571f072fa85a32068bafc0739509
    }
   },
   "outputs": [],
   "source": [
    "t = ordenes_copy.diff_compra_pagoaprobado.mean()\n",
    "t.seconds"
   ]
  },
  {
   "cell_type": "code",
   "execution_count": null,
<<<<<<< HEAD
   "metadata": {
    "pycharm": {
     "name": "#%%\n"
=======
   "metadata": {},
   "outputs": [
    {
     "data": {
      "text/html": [
       "<div>\n",
       "<style scoped>\n",
       "    .dataframe tbody tr th:only-of-type {\n",
       "        vertical-align: middle;\n",
       "    }\n",
       "\n",
       "    .dataframe tbody tr th {\n",
       "        vertical-align: top;\n",
       "    }\n",
       "\n",
       "    .dataframe thead th {\n",
       "        text-align: right;\n",
       "    }\n",
       "</style>\n",
       "<table border=\"1\" class=\"dataframe\">\n",
       "  <thead>\n",
       "    <tr style=\"text-align: right;\">\n",
       "      <th></th>\n",
       "      <th>order_id</th>\n",
       "      <th>customer_id</th>\n",
       "      <th>order_status</th>\n",
       "      <th>order_purchase_timestamp</th>\n",
       "      <th>order_approved_at</th>\n",
       "      <th>order_delivered_carrier_date</th>\n",
       "      <th>order_delivered_customer_date</th>\n",
       "      <th>order_estimated_delivery_date</th>\n",
       "      <th>diff_compra_pagoaprobado</th>\n",
       "      <th>diff_pagoaprobado_despacho</th>\n",
       "      <th>diff_despacho_entregareal</th>\n",
       "      <th>diff_entregareal_entregapactada</th>\n",
       "    </tr>\n",
       "  </thead>\n",
       "  <tbody>\n",
       "    <tr>\n",
       "      <th>0</th>\n",
       "      <td>e481f51cbdc54678b7cc49136f2d6af7</td>\n",
       "      <td>9ef432eb6251297304e76186b10a928d</td>\n",
       "      <td>delivered</td>\n",
       "      <td>2017-10-02 10:56:33</td>\n",
       "      <td>2017-10-02 11:07:15</td>\n",
       "      <td>2017-10-04 19:55:00</td>\n",
       "      <td>2017-10-10 21:25:13</td>\n",
       "      <td>2017-10-18</td>\n",
       "      <td>0 days 00:10:42</td>\n",
       "      <td>2 days 08:47:45</td>\n",
       "      <td>6 days 01:30:13</td>\n",
       "      <td>7 days 02:34:47</td>\n",
       "    </tr>\n",
       "    <tr>\n",
       "      <th>1</th>\n",
       "      <td>53cdb2fc8bc7dce0b6741e2150273451</td>\n",
       "      <td>b0830fb4747a6c6d20dea0b8c802d7ef</td>\n",
       "      <td>delivered</td>\n",
       "      <td>2018-07-24 20:41:37</td>\n",
       "      <td>2018-07-26 03:24:27</td>\n",
       "      <td>2018-07-26 14:31:00</td>\n",
       "      <td>2018-08-07 15:27:45</td>\n",
       "      <td>2018-08-13</td>\n",
       "      <td>1 days 06:42:50</td>\n",
       "      <td>0 days 11:06:33</td>\n",
       "      <td>12 days 00:56:45</td>\n",
       "      <td>5 days 08:32:15</td>\n",
       "    </tr>\n",
       "    <tr>\n",
       "      <th>2</th>\n",
       "      <td>47770eb9100c2d0c44946d9cf07ec65d</td>\n",
       "      <td>41ce2a54c0b03bf3443c3d931a367089</td>\n",
       "      <td>delivered</td>\n",
       "      <td>2018-08-08 08:38:49</td>\n",
       "      <td>2018-08-08 08:55:23</td>\n",
       "      <td>2018-08-08 13:50:00</td>\n",
       "      <td>2018-08-17 18:06:29</td>\n",
       "      <td>2018-09-04</td>\n",
       "      <td>0 days 00:16:34</td>\n",
       "      <td>0 days 04:54:37</td>\n",
       "      <td>9 days 04:16:29</td>\n",
       "      <td>17 days 05:53:31</td>\n",
       "    </tr>\n",
       "  </tbody>\n",
       "</table>\n",
       "</div>"
      ],
      "text/plain": [
       "                           order_id                       customer_id  \\\n",
       "0  e481f51cbdc54678b7cc49136f2d6af7  9ef432eb6251297304e76186b10a928d   \n",
       "1  53cdb2fc8bc7dce0b6741e2150273451  b0830fb4747a6c6d20dea0b8c802d7ef   \n",
       "2  47770eb9100c2d0c44946d9cf07ec65d  41ce2a54c0b03bf3443c3d931a367089   \n",
       "\n",
       "  order_status order_purchase_timestamp   order_approved_at  \\\n",
       "0    delivered      2017-10-02 10:56:33 2017-10-02 11:07:15   \n",
       "1    delivered      2018-07-24 20:41:37 2018-07-26 03:24:27   \n",
       "2    delivered      2018-08-08 08:38:49 2018-08-08 08:55:23   \n",
       "\n",
       "  order_delivered_carrier_date order_delivered_customer_date  \\\n",
       "0          2017-10-04 19:55:00           2017-10-10 21:25:13   \n",
       "1          2018-07-26 14:31:00           2018-08-07 15:27:45   \n",
       "2          2018-08-08 13:50:00           2018-08-17 18:06:29   \n",
       "\n",
       "  order_estimated_delivery_date diff_compra_pagoaprobado  \\\n",
       "0                    2017-10-18          0 days 00:10:42   \n",
       "1                    2018-08-13          1 days 06:42:50   \n",
       "2                    2018-09-04          0 days 00:16:34   \n",
       "\n",
       "  diff_pagoaprobado_despacho diff_despacho_entregareal  \\\n",
       "0            2 days 08:47:45           6 days 01:30:13   \n",
       "1            0 days 11:06:33          12 days 00:56:45   \n",
       "2            0 days 04:54:37           9 days 04:16:29   \n",
       "\n",
       "  diff_entregareal_entregapactada  \n",
       "0                 7 days 02:34:47  \n",
       "1                 5 days 08:32:15  \n",
       "2                17 days 05:53:31  "
      ]
     },
     "execution_count": 68,
     "metadata": {},
     "output_type": "execute_result"
>>>>>>> fa4e3543e1ba571f072fa85a32068bafc0739509
    }
   },
   "outputs": [],
   "source": [
    "ordenes_copy.head(3)"
   ]
  },
  {
   "cell_type": "code",
   "execution_count": null,
   "metadata": {
    "pycharm": {
     "name": "#%%\n"
    }
   },
   "outputs": [],
   "source": []
  },
  {
   "cell_type": "markdown",
   "metadata": {
    "pycharm": {
     "name": "#%% md\n"
    }
   },
   "source": [
    "Que hacemos con los nulos??"
   ]
  },
  {
   "cell_type": "markdown",
   "metadata": {
    "pycharm": {
     "name": "#%% md\n"
    }
   },
   "source": [
    "### Productos"
   ]
  },
  {
   "cell_type": "markdown",
   "metadata": {
    "pycharm": {
     "name": "#%% md\n"
    }
   },
   "source": [
    "Este dataset incluye datos sobre los productos vendidos por Olist.<br>\n",
    "\n",
    "La tabla de `Productos` comprende las siguientes columnas:<br>\n",
    "\n",
    "`product_id`: Identificador unico del producto.<br>\n",
    "`product_category_name`: Nombre de la categoria del producto, en portugués.<br>\n",
    "`product_name_length`: Número de caracteres extraídos del nombre del producto.<br>\n",
    "`product_description_lenght`: Número de caracteres extraídos de la descripción del producto.<br>\n",
    "`product_photos_qty`: Número de fotos publicadas por el producto.<br>\n",
    "`product_weight_g`: Peso del producto medido en gramos.<br>\n",
    "`product_length_cm`: Longitud del producto medida en centímetros.<br>\n",
    "`product height_cm`: Altura del producto medida en centímetros.<br>\n",
    "`product_width_cm`: Ancho del producto medido en centímetros.<br>\n",
    "\n"
<<<<<<< HEAD
=======
   ]
  },
  {
   "cell_type": "code",
   "execution_count": null,
   "metadata": {},
   "outputs": [
    {
     "name": "stdout",
     "output_type": "stream",
     "text": [
      "<class 'pandas.core.frame.DataFrame'>\n",
      "RangeIndex: 32951 entries, 0 to 32950\n",
      "Data columns (total 9 columns):\n",
      " #   Column                      Non-Null Count  Dtype  \n",
      "---  ------                      --------------  -----  \n",
      " 0   product_id                  32951 non-null  object \n",
      " 1   product_category_name       32341 non-null  object \n",
      " 2   product_name_lenght         32341 non-null  float64\n",
      " 3   product_description_lenght  32341 non-null  float64\n",
      " 4   product_photos_qty          32341 non-null  float64\n",
      " 5   product_weight_g            32949 non-null  float64\n",
      " 6   product_length_cm           32949 non-null  float64\n",
      " 7   product_height_cm           32949 non-null  float64\n",
      " 8   product_width_cm            32949 non-null  float64\n",
      "dtypes: float64(7), object(2)\n",
      "memory usage: 2.3+ MB\n"
     ]
    }
   ],
   "source": [
    "productos.info()"
   ]
  },
  {
   "cell_type": "code",
   "execution_count": null,
   "metadata": {},
   "outputs": [
    {
     "data": {
      "text/html": [
       "<div>\n",
       "<style scoped>\n",
       "    .dataframe tbody tr th:only-of-type {\n",
       "        vertical-align: middle;\n",
       "    }\n",
       "\n",
       "    .dataframe tbody tr th {\n",
       "        vertical-align: top;\n",
       "    }\n",
       "\n",
       "    .dataframe thead th {\n",
       "        text-align: right;\n",
       "    }\n",
       "</style>\n",
       "<table border=\"1\" class=\"dataframe\">\n",
       "  <thead>\n",
       "    <tr style=\"text-align: right;\">\n",
       "      <th></th>\n",
       "      <th>product_id</th>\n",
       "      <th>product_category_name</th>\n",
       "      <th>product_name_lenght</th>\n",
       "      <th>product_description_lenght</th>\n",
       "      <th>product_photos_qty</th>\n",
       "      <th>product_weight_g</th>\n",
       "      <th>product_length_cm</th>\n",
       "      <th>product_height_cm</th>\n",
       "      <th>product_width_cm</th>\n",
       "    </tr>\n",
       "  </thead>\n",
       "  <tbody>\n",
       "    <tr>\n",
       "      <th>0</th>\n",
       "      <td>1e9e8ef04dbcff4541ed26657ea517e5</td>\n",
       "      <td>perfumaria</td>\n",
       "      <td>40.0</td>\n",
       "      <td>287.0</td>\n",
       "      <td>1.0</td>\n",
       "      <td>225.0</td>\n",
       "      <td>16.0</td>\n",
       "      <td>10.0</td>\n",
       "      <td>14.0</td>\n",
       "    </tr>\n",
       "    <tr>\n",
       "      <th>1</th>\n",
       "      <td>3aa071139cb16b67ca9e5dea641aaa2f</td>\n",
       "      <td>artes</td>\n",
       "      <td>44.0</td>\n",
       "      <td>276.0</td>\n",
       "      <td>1.0</td>\n",
       "      <td>1000.0</td>\n",
       "      <td>30.0</td>\n",
       "      <td>18.0</td>\n",
       "      <td>20.0</td>\n",
       "    </tr>\n",
       "    <tr>\n",
       "      <th>2</th>\n",
       "      <td>96bd76ec8810374ed1b65e291975717f</td>\n",
       "      <td>esporte_lazer</td>\n",
       "      <td>46.0</td>\n",
       "      <td>250.0</td>\n",
       "      <td>1.0</td>\n",
       "      <td>154.0</td>\n",
       "      <td>18.0</td>\n",
       "      <td>9.0</td>\n",
       "      <td>15.0</td>\n",
       "    </tr>\n",
       "    <tr>\n",
       "      <th>3</th>\n",
       "      <td>cef67bcfe19066a932b7673e239eb23d</td>\n",
       "      <td>bebes</td>\n",
       "      <td>27.0</td>\n",
       "      <td>261.0</td>\n",
       "      <td>1.0</td>\n",
       "      <td>371.0</td>\n",
       "      <td>26.0</td>\n",
       "      <td>4.0</td>\n",
       "      <td>26.0</td>\n",
       "    </tr>\n",
       "    <tr>\n",
       "      <th>4</th>\n",
       "      <td>9dc1a7de274444849c219cff195d0b71</td>\n",
       "      <td>utilidades_domesticas</td>\n",
       "      <td>37.0</td>\n",
       "      <td>402.0</td>\n",
       "      <td>4.0</td>\n",
       "      <td>625.0</td>\n",
       "      <td>20.0</td>\n",
       "      <td>17.0</td>\n",
       "      <td>13.0</td>\n",
       "    </tr>\n",
       "  </tbody>\n",
       "</table>\n",
       "</div>"
      ],
      "text/plain": [
       "                         product_id  product_category_name  \\\n",
       "0  1e9e8ef04dbcff4541ed26657ea517e5             perfumaria   \n",
       "1  3aa071139cb16b67ca9e5dea641aaa2f                  artes   \n",
       "2  96bd76ec8810374ed1b65e291975717f          esporte_lazer   \n",
       "3  cef67bcfe19066a932b7673e239eb23d                  bebes   \n",
       "4  9dc1a7de274444849c219cff195d0b71  utilidades_domesticas   \n",
       "\n",
       "   product_name_lenght  product_description_lenght  product_photos_qty  \\\n",
       "0                 40.0                       287.0                 1.0   \n",
       "1                 44.0                       276.0                 1.0   \n",
       "2                 46.0                       250.0                 1.0   \n",
       "3                 27.0                       261.0                 1.0   \n",
       "4                 37.0                       402.0                 4.0   \n",
       "\n",
       "   product_weight_g  product_length_cm  product_height_cm  product_width_cm  \n",
       "0             225.0               16.0               10.0              14.0  \n",
       "1            1000.0               30.0               18.0              20.0  \n",
       "2             154.0               18.0                9.0              15.0  \n",
       "3             371.0               26.0                4.0              26.0  \n",
       "4             625.0               20.0               17.0              13.0  "
      ]
     },
     "execution_count": 41,
     "metadata": {},
     "output_type": "execute_result"
    }
   ],
   "source": [
    "productos.head()"
>>>>>>> fa4e3543e1ba571f072fa85a32068bafc0739509
   ]
  },
  {
   "cell_type": "code",
<<<<<<< HEAD
   "execution_count": 38,
=======
   "execution_count": 5,
   "metadata": {},
   "outputs": [
    {
     "data": {
      "text/plain": [
       "array(['perfumaria', 'artes', 'esporte_lazer', 'bebes',\n",
       "       'utilidades_domesticas', 'instrumentos_musicais', 'cool_stuff',\n",
       "       'moveis_decoracao', 'eletrodomesticos', 'brinquedos',\n",
       "       'cama_mesa_banho', 'construcao_ferramentas_seguranca',\n",
       "       'informatica_acessorios', 'beleza_saude', 'malas_acessorios',\n",
       "       'ferramentas_jardim', 'moveis_escritorio', 'automotivo',\n",
       "       'eletronicos', 'fashion_calcados', 'telefonia', 'papelaria',\n",
       "       'fashion_bolsas_e_acessorios', 'pcs', 'casa_construcao',\n",
       "       'relogios_presentes', 'construcao_ferramentas_construcao',\n",
       "       'pet_shop', 'eletroportateis', 'agro_industria_e_comercio', nan,\n",
       "       'moveis_sala', 'sinalizacao_e_seguranca', 'climatizacao',\n",
       "       'consoles_games', 'livros_interesse_geral',\n",
       "       'construcao_ferramentas_ferramentas',\n",
       "       'fashion_underwear_e_moda_praia', 'fashion_roupa_masculina',\n",
       "       'moveis_cozinha_area_de_servico_jantar_e_jardim',\n",
       "       'industria_comercio_e_negocios', 'telefonia_fixa',\n",
       "       'construcao_ferramentas_iluminacao', 'livros_tecnicos',\n",
       "       'eletrodomesticos_2', 'artigos_de_festas', 'bebidas',\n",
       "       'market_place', 'la_cuisine', 'construcao_ferramentas_jardim',\n",
       "       'fashion_roupa_feminina', 'casa_conforto', 'audio',\n",
       "       'alimentos_bebidas', 'musica', 'alimentos',\n",
       "       'tablets_impressao_imagem', 'livros_importados',\n",
       "       'portateis_casa_forno_e_cafe', 'fashion_esporte',\n",
       "       'artigos_de_natal', 'fashion_roupa_infanto_juvenil',\n",
       "       'dvds_blu_ray', 'artes_e_artesanato', 'pc_gamer', 'moveis_quarto',\n",
       "       'cine_foto', 'fraldas_higiene', 'flores', 'casa_conforto_2',\n",
       "       'portateis_cozinha_e_preparadores_de_alimentos',\n",
       "       'seguros_e_servicos', 'moveis_colchao_e_estofado',\n",
       "       'cds_dvds_musicais'], dtype=object)"
      ]
     },
     "execution_count": 5,
     "metadata": {},
     "output_type": "execute_result"
    }
   ],
   "source": [
    "productos['product_category_name'].unique()"
   ]
  },
  {
   "cell_type": "code",
   "execution_count": null,
   "metadata": {},
   "outputs": [
    {
     "data": {
      "text/html": [
       "<div>\n",
       "<style scoped>\n",
       "    .dataframe tbody tr th:only-of-type {\n",
       "        vertical-align: middle;\n",
       "    }\n",
       "\n",
       "    .dataframe tbody tr th {\n",
       "        vertical-align: top;\n",
       "    }\n",
       "\n",
       "    .dataframe thead th {\n",
       "        text-align: right;\n",
       "    }\n",
       "</style>\n",
       "<table border=\"1\" class=\"dataframe\">\n",
       "  <thead>\n",
       "    <tr style=\"text-align: right;\">\n",
       "      <th></th>\n",
       "      <th>product_id</th>\n",
       "      <th>product_category_name</th>\n",
       "      <th>product_name_lenght</th>\n",
       "      <th>product_description_lenght</th>\n",
       "      <th>product_photos_qty</th>\n",
       "      <th>product_weight_g</th>\n",
       "      <th>product_length_cm</th>\n",
       "      <th>product_height_cm</th>\n",
       "      <th>product_width_cm</th>\n",
       "    </tr>\n",
       "  </thead>\n",
       "  <tbody>\n",
       "    <tr>\n",
       "      <th>8578</th>\n",
       "      <td>09ff539a621711667c43eba6a3bd8466</td>\n",
       "      <td>bebes</td>\n",
       "      <td>60.0</td>\n",
       "      <td>865.0</td>\n",
       "      <td>3.0</td>\n",
       "      <td>NaN</td>\n",
       "      <td>NaN</td>\n",
       "      <td>NaN</td>\n",
       "      <td>NaN</td>\n",
       "    </tr>\n",
       "    <tr>\n",
       "      <th>18851</th>\n",
       "      <td>5eb564652db742ff8f28759cd8d2652a</td>\n",
       "      <td>NaN</td>\n",
       "      <td>NaN</td>\n",
       "      <td>NaN</td>\n",
       "      <td>NaN</td>\n",
       "      <td>NaN</td>\n",
       "      <td>NaN</td>\n",
       "      <td>NaN</td>\n",
       "      <td>NaN</td>\n",
       "    </tr>\n",
       "  </tbody>\n",
       "</table>\n",
       "</div>"
      ],
      "text/plain": [
       "                             product_id product_category_name  \\\n",
       "8578   09ff539a621711667c43eba6a3bd8466                 bebes   \n",
       "18851  5eb564652db742ff8f28759cd8d2652a                   NaN   \n",
       "\n",
       "       product_name_lenght  product_description_lenght  product_photos_qty  \\\n",
       "8578                  60.0                       865.0                 3.0   \n",
       "18851                  NaN                         NaN                 NaN   \n",
       "\n",
       "       product_weight_g  product_length_cm  product_height_cm  \\\n",
       "8578                NaN                NaN                NaN   \n",
       "18851               NaN                NaN                NaN   \n",
       "\n",
       "       product_width_cm  \n",
       "8578                NaN  \n",
       "18851               NaN  "
      ]
     },
     "execution_count": 21,
     "metadata": {},
     "output_type": "execute_result"
    }
   ],
   "source": [
    "productos[productos.product_weight_g % 1 != 0]"
   ]
  },
  {
   "cell_type": "code",
   "execution_count": null,
>>>>>>> fa4e3543e1ba571f072fa85a32068bafc0739509
   "metadata": {},
   "outputs": [],
   "source": [
    "productos = data_dict['olist_products_dataset']"
   ]
  },
  {
   "cell_type": "code",
   "execution_count": 39,
   "metadata": {
    "pycharm": {
     "name": "#%%\n"
    }
   },
   "outputs": [
    {
     "name": "stdout",
     "output_type": "stream",
     "text": [
      "<class 'pandas.core.frame.DataFrame'>\n",
      "RangeIndex: 32951 entries, 0 to 32950\n",
      "Data columns (total 9 columns):\n",
      " #   Column                      Non-Null Count  Dtype  \n",
      "---  ------                      --------------  -----  \n",
      " 0   product_id                  32951 non-null  object \n",
      " 1   product_category_name       32341 non-null  object \n",
      " 2   product_name_lenght         32341 non-null  float64\n",
      " 3   product_description_lenght  32341 non-null  float64\n",
      " 4   product_photos_qty          32341 non-null  float64\n",
      " 5   product_weight_g            32949 non-null  float64\n",
      " 6   product_length_cm           32949 non-null  float64\n",
      " 7   product_height_cm           32949 non-null  float64\n",
      " 8   product_width_cm            32949 non-null  float64\n",
      "dtypes: float64(7), object(2)\n",
      "memory usage: 2.3+ MB\n"
     ]
    }
   ],
   "source": [
    "productos.info()"
   ]
  },
  {
   "cell_type": "code",
   "execution_count": null,
   "metadata": {
    "pycharm": {
     "name": "#%%\n"
    }
   },
   "outputs": [],
   "source": [
    "productos.head()"
   ]
  },
  {
   "cell_type": "code",
   "execution_count": null,
   "metadata": {
    "pycharm": {
     "name": "#%%\n"
    }
   },
   "outputs": [],
   "source": [
    "productos.isnull().sum()"
   ]
  },
  {
   "cell_type": "markdown",
   "metadata": {
    "pycharm": {
     "name": "#%% md\n"
    }
   },
   "source": [
    "### Vendedores"
   ]
  },
  {
   "cell_type": "markdown",
   "metadata": {
    "pycharm": {
     "name": "#%% md\n"
    }
   },
   "source": [
    "Este dataset incluye datos sobre los vendedores que cumplieron los pedidos realizados en Olist. Usarlo para encontrar la ubicación del vendedor e identificar qué vendedor cumplió cada producto.<br>\n",
    "\n",
    "La tabla de `Productos` comprende las siguientes columnas:<br>\n",
    "\n",
    "`seller_id`:Identificador unico del vendedor. <br>\n",
    "`seller_zip_code`: Primeros 5 dígitos de código postal del vendedor. <br>\n",
    "`seller_city`: Nombre de la ciudad del vendedor. <br>\n",
    "`seller_state`: Nombre del estado donde vive el vendedor. <br>"
   ]
  },
  {
   "cell_type": "code",
<<<<<<< HEAD
   "execution_count": 40,
=======
   "execution_count": null,
>>>>>>> fa4e3543e1ba571f072fa85a32068bafc0739509
   "metadata": {},
   "outputs": [],
   "source": [
    "vendedores = data_dict['olist_sellers_dataset']"
   ]
  },
  {
   "cell_type": "code",
   "execution_count": 41,
   "metadata": {
    "pycharm": {
     "name": "#%%\n"
    }
   },
   "outputs": [
    {
     "name": "stdout",
     "output_type": "stream",
     "text": [
      "<class 'pandas.core.frame.DataFrame'>\n",
      "RangeIndex: 3095 entries, 0 to 3094\n",
      "Data columns (total 4 columns):\n",
      " #   Column                  Non-Null Count  Dtype \n",
      "---  ------                  --------------  ----- \n",
      " 0   seller_id               3095 non-null   object\n",
      " 1   seller_zip_code_prefix  3095 non-null   int64 \n",
      " 2   seller_city             3095 non-null   object\n",
      " 3   seller_state            3095 non-null   object\n",
      "dtypes: int64(1), object(3)\n",
      "memory usage: 96.8+ KB\n"
     ]
    }
   ],
   "source": [
    "vendedores.info()"
   ]
  },
  {
   "cell_type": "code",
   "execution_count": null,
<<<<<<< HEAD
   "metadata": {
    "pycharm": {
     "name": "#%%\n"
=======
   "metadata": {},
   "outputs": [
    {
     "data": {
      "text/html": [
       "<div>\n",
       "<style scoped>\n",
       "    .dataframe tbody tr th:only-of-type {\n",
       "        vertical-align: middle;\n",
       "    }\n",
       "\n",
       "    .dataframe tbody tr th {\n",
       "        vertical-align: top;\n",
       "    }\n",
       "\n",
       "    .dataframe thead th {\n",
       "        text-align: right;\n",
       "    }\n",
       "</style>\n",
       "<table border=\"1\" class=\"dataframe\">\n",
       "  <thead>\n",
       "    <tr style=\"text-align: right;\">\n",
       "      <th></th>\n",
       "      <th>seller_id</th>\n",
       "      <th>seller_zip_code_prefix</th>\n",
       "      <th>seller_city</th>\n",
       "      <th>seller_state</th>\n",
       "    </tr>\n",
       "  </thead>\n",
       "  <tbody>\n",
       "    <tr>\n",
       "      <th>2665</th>\n",
       "      <td>33576ec5412fb5905d876f12f33bfde6</td>\n",
       "      <td>80040</td>\n",
       "      <td>curitiba</td>\n",
       "      <td>PR</td>\n",
       "    </tr>\n",
       "    <tr>\n",
       "      <th>2896</th>\n",
       "      <td>d1582f4043306e6b91afa6a8a884f898</td>\n",
       "      <td>3445</td>\n",
       "      <td>sao paulo</td>\n",
       "      <td>SP</td>\n",
       "    </tr>\n",
       "    <tr>\n",
       "      <th>2732</th>\n",
       "      <td>01266d4c46afa519678d16a8b683d325</td>\n",
       "      <td>80250</td>\n",
       "      <td>curitiba</td>\n",
       "      <td>PR</td>\n",
       "    </tr>\n",
       "  </tbody>\n",
       "</table>\n",
       "</div>"
      ],
      "text/plain": [
       "                             seller_id  seller_zip_code_prefix seller_city  \\\n",
       "2665  33576ec5412fb5905d876f12f33bfde6                   80040    curitiba   \n",
       "2896  d1582f4043306e6b91afa6a8a884f898                    3445   sao paulo   \n",
       "2732  01266d4c46afa519678d16a8b683d325                   80250    curitiba   \n",
       "\n",
       "     seller_state  \n",
       "2665           PR  \n",
       "2896           SP  \n",
       "2732           PR  "
      ]
     },
     "execution_count": 22,
     "metadata": {},
     "output_type": "execute_result"
    }
   ],
   "source": [
    "vendedores.sample(3)"
   ]
  },
  {
   "cell_type": "code",
   "execution_count": null,
   "metadata": {},
   "outputs": [
    {
     "data": {
      "text/plain": [
       "seller_id                 False\n",
       "seller_zip_code_prefix    False\n",
       "seller_city               False\n",
       "seller_state              False\n",
       "dtype: bool"
      ]
     },
     "execution_count": 44,
     "metadata": {},
     "output_type": "execute_result"
>>>>>>> fa4e3543e1ba571f072fa85a32068bafc0739509
    }
   },
   "outputs": [],
   "source": [
    "vendedores.isnull().any()"
   ]
  },
  {
   "cell_type": "code",
   "execution_count": null,
<<<<<<< HEAD
   "metadata": {
    "pycharm": {
     "name": "#%%\n"
=======
   "metadata": {},
   "outputs": [
    {
     "data": {
      "image/png": "iVBORw0KGgoAAAANSUhEUgAAA4EAAAHwCAYAAAAYS2qBAAAAOXRFWHRTb2Z0d2FyZQBNYXRwbG90bGliIHZlcnNpb24zLjUuMiwgaHR0cHM6Ly9tYXRwbG90bGliLm9yZy8qNh9FAAAACXBIWXMAAAsTAAALEwEAmpwYAAA1aklEQVR4nO3debx993wv/tdbYmwQ5CslEQlCi5KSK7jh0imJGlslaYqoCq6prf6oonTQq0q1hppTMY9NRW5iVtzWlBCJGCoiSEREzKRIvH9/7HWanZMz7MTZ+5zvdz2fj8d+nL0/a+31eZ911h5e57OG6u4AAAAwDlfY7AIAAABYHCEQAABgRIRAAACAERECAQAARkQIBAAAGBEhEAAAYESEQIDtUFW9qKqeskHL2quqvl9VOw2P/62q/mAjlj0s74SqetBGLW+rq6ojqur/XYb5z6yqX7sc/dylqs66rM/bKqqqq+omi34uAEIgwJYzhIILqup7VfXtqvqPqnp4Vf33e3Z3P7y7/2rGZa0ZMLr7y929S3dftAG1P62qXr1s+Yd099E/67I3ymUNXVX1iqr663nWBACLJAQCbE336O6rJ7lhkmckeUKSl290J1W180YvE7Yq2zvAhBAIsIV193e6+9gk90/yoKq6ZXLJ0amq2q2qjhtGDb9ZVR+sqitU1auS7JXkbcPuno+vqr2HXekeUlVfTvLeqbbpL8g3rqqPVtV3q+qtVXXtoa9L7YK4NLJWVQcn+bMk9x/6++Qw/b93Lx3qenJVfamqvl5Vr6yqaw7Tlup4UFV9uaq+UVVPWm3dVNWVq+pZw7znDrvIXvWyrpNh/jdV1deq6jtV9YGqusXQfmSSw5M8fpj/bUP7n1bVF4bR2k9X1X1m/ZtW1QOG3//85b/fUOPSss+vqjcurfsZlvuLw7r+dlWdVlX3nJp2t6HO71XV2VX1J6usz28vbWND27ZhVPq6w+O7V9XJUyPUt5qa98yq+pOqOmVYj2+oqqtMTf//quqcqvpqVf3+Cn2v+Lec4bnXHLaj84b1+uQaRs1rsmvuv1fVc6rq/CRPuzzbzSzrH2B74o0NYDvQ3R9NclaSO60w+XHDtG1Jds8kiHV3PyDJlzMZVdylu5859Zz/leQXkxy0SpcPTPL7Sa6X5MIkz52hxrcn+Zskbxj6u/UKsx0x3O6a5EZJdkny/GXzHJjkZkl+NcmfV9UvrtLlM5LcNMl+SW6SZI8kfz5Mu6zr5IQk+ya5bpKPJ3nN8Du9ZLj/zGH+ewzzfyGTv8U1k/xFkldX1fXWWD1Jkqq6eZIXJnlAkusnuU6SPadmeXSSe2fy97l+km8lecEMy71ikrcleefwOzw6yWuq6mbDLC9P8rBhdPmWSd67fBnd/aMk/5LksKnm+yV5f3d/vap+OclRSR421P3iJMdW1ZWXzX9wkn2S3CqTv3Vq8g+CP0ny65ms5+W74676t5zhuc/L5O9wo0zW2wOTPHhq+gFJzshkO3j6Wn1lle1m+boC2N4JgQDbj68mWWlU6CeZhLUbdvdPuvuD3b3eF9endfcPuvuCVaa/qrs/1d0/SPKUJPer4cQxP6PDk/x9d5/R3d9P8sQkh9YlRyH/orsv6O5PJvlkkkuFyaqqJEcm+aPu/mZ3fy+TAHroMMtlWifdfVR3f28IQk9LcuulEcpV5n9Td3+1u3/a3W9I8vkkt5vh979vkuO6+wNDX09J8tOp6Q9P8qTuPmuqlvvW+rsx3j6TQP2M7v5xd783yXG5OND9JMnNq+oa3f2t7v74Kst5bS5eh0nyu0NbMlnfL+7uj3T3RcNxnj8a+l7y3GG9fDOTULrf0H6/JP88tU09bekJM/wt13ruTsN8Txz+fmcmeXYmIXvJV7v7ed19YZL/Wqevy/NaAtjuCIEA2489knxzhfa/S3J6kndW1RlV9aczLOsrl2H6l5JcMcluM1W5tusPy5te9s6ZjLos+drU/R9mEm6W25bkaklOGnbd+3aStw/tyWVYJ1W1U1U9Y9gF87tJzhwmrfr7VtUDp3aL/HYmo2uzrJ/rZ2rdDqHm/KnpN0xyzNRyP5Pkolxy/ay63O6eDpRfymSbSZLfTnK3JF+qqvdX1R1WWc77klytqg6oqr0zCXHHTNX2uKXahvpuMPS9ZLW/3SV+71xyG1jvb7nWc3fLZNtcvk3tMfV4+rkbtt0AbM+EQIDtQFX9j0y+2F7q0gPDCMjjuvtGSe6Z5I+r6leXJq+yyPVGN24wdX+vTEZIvpHkB5l8iV6qa6dc/AV6luV+NZMwMb3sC5Ocu87zlvtGkguS3KK7dx1u1+zuXZLLvE5+N8m9MtnN8JpJ9h7aa6X5q+qGSV6a5FFJrtPduyb51NT8azknU+u2qq6Wya6VS76S5JCp32nX7r5Kd5+9znK/muQGy45f2yvJ2UnS3R/r7ntlsqvovyZ540oLGc4Q+8ZMRhAPy2TU8ntTtT19WW1X6+7XXdbfe6htyZp/yxme+5NcepuaXl+9bP7Lu90A7DCEQIAtrKquUVV3T/L6JK/u7lNXmOfuVXWTYbe672QycrQ0InRuJsdKXVa/V1U3H0LKXyZ58xAQ/jPJVarqN4fj0J6cZPqYsHOT7L3GyTRel+SPqmqfqtolFx9DeOFlKW4Y8XppkudMnbRkj6o6aLh/WdbJ1TPZrfH8TALu3yzrbvn8P5dJsDhv6OvBmYwEzuLNSe5eVQdW1ZUyWbfT6+pFSZ4+BM2lE7Pca4blfiSTkbfHV9UVq+ouSe6R5PVVdaWqOryqrtndP0ny3VxyF9TlXpvJiYgOz8W7giaT9f3wYZSwqurnhu3g6jPU98YkR0xtU09dmrDe33Kd5y6F1qdX1dWH9fbHSS5xmZJZ+1pnuwHYYQiBAFvT26rqe5mMvjwpyd/nkie7mLZvkncn+X6SDyX5p+5+3zDt/yR58rDr26XOCLmGVyV5RSa7910lyWOSydlKk/zvJC/LZLTlB5mcSGPJm4af51fVSsedHTUs+wNJvpjJMVqPvgx1TXtCJrvufXjYjfPdmZxQJrls6+SVmexCeHaSTyf58LJ+Xp7J8XTfrqp/7e5PZ3Lc2YcyCYi/lOTfZym4u09L8shMwtU5mZz4ZXr9/WOSYzPZHfF7Qy0HzLDcH2cS+g7JZLTrn5I8sLs/O8zygCRnDuvp4ZkEvNWW9ZFM/q7Xz+SEOUvtJyZ5aCYn8vlWJuv+iPVqG557QpJ/yOSENKfn0iemWfVvOcNzHz3Ue0YmI+WvzWQ7W83l3W4AdhjleGcAAIDxMBIIAAAwIkIgAADAiAiBAAAAIyIEAgAAjIgQCAAAMCI7b3YB87Lbbrv13nvvvdllAAAAbIqTTjrpG929bXn7DhsC995775x44ombXQYAAMCmqKovrdRud1AAAIAREQIBAABGRAgEAAAYESEQAABgRIRAAACAERECAQAARkQIBAAAGBEhEAAAYESEQAAAgBERAgEAAEZECAQAABgRIRAAAGBEhEAAAIAREQIBAABGRAgEAAAYESEQAABgRIRAAACAERECAQAARkQIBAAAGJGdN7uARTjvha9eeJ/bHvF7C+8TAABgPUYCAQAARkQIBAAAGBEhEAAAYESEQAAAgBERAgEAAEZECAQAABgRIRAAAGBEhEAAAIAREQIBAABGRAgEAAAYESEQAABgRIRAAACAERECAQAARkQIBAAAGBEhEAAAYESEQAAAgBERAgEAAEZkbiGwqo6qqq9X1aem2t5QVScPtzOr6uShfe+qumBq2oumnnPbqjq1qk6vqudWVc2rZgAAgB3dznNc9iuSPD/JK5cauvv+S/er6tlJvjM1/xe6e78VlvPCJA9N8pEkxyc5OMkJG18uAADAjm9uI4Hd/YEk31xp2jCad78kr1trGVV1vSTX6O4Pd3dnEijvvcGlAgAAjMZmHRN4pyTndvfnp9r2qapPVNX7q+pOQ9seSc6amuesoQ0AAIDLYZ67g67lsFxyFPCcJHt19/lVddsk/1pVt7isC62qI5McmSR77bXXhhQKAACwI1n4SGBV7Zzkt5K8Yamtu3/U3ecP909K8oUkN01ydpI9p56+59C2ou5+SXfv3937b9u2bR7lAwAAbNc2Y3fQX0vy2e7+7908q2pbVe003L9Rkn2TnNHd5yT5blXdfjiO8IFJ3roJNQMAAOwQ5nmJiNcl+VCSm1XVWVX1kGHSobn0CWHunOSU4ZIRb07y8O5eOqnM/07ysiSnZzJC6MygAAAAl9Pcjgns7sNWaT9ihba3JHnLKvOfmOSWG1ocAADASG3W2UEBAADYBEIgAADAiAiBAAAAIyIEAgAAjIgQCAAAMCJCIAAAwIgIgQAAACMiBAIAAIyIEAgAADAiQiAAAMCICIEAAAAjIgQCAACMiBAIAAAwIkIgAADAiAiBAAAAIyIEAgAAjIgQCAAAMCJCIAAAwIgIgQAAACMiBAIAAIyIEAgAADAiQiAAAMCICIEAAAAjIgQCAACMiBAIAAAwIkIgAADAiAiBAAAAIyIEAgAAjIgQCAAAMCJCIAAAwIgIgQAAACMiBAIAAIyIEAgAADAiQiAAAMCICIEAAAAjIgQCAACMiBAIAAAwIkIgAADAiAiBAAAAIyIEAgAAjIgQCAAAMCJCIAAAwIgIgQAAACMiBAIAAIyIEAgAADAiQiAAAMCICIEAAAAjMrcQWFVHVdXXq+pTU21Pq6qzq+rk4Xa3qWlPrKrTq+pzVXXQVPvBQ9vpVfWn86oXAABgDOY5EviKJAev0P6c7t5vuB2fJFV18ySHJrnF8Jx/qqqdqmqnJC9IckiSmyc5bJgXAACAy2HneS24uz9QVXvPOPu9kry+u3+U5ItVdXqS2w3TTu/uM5Kkql4/zPvpja4XAABgDDbjmMBHVdUpw+6i1xra9kjylal5zhraVmsHAADgclh0CHxhkhsn2S/JOUmevZELr6ojq+rEqjrxvPPO28hFAwAA7BAWGgK7+9zuvqi7f5rkpbl4l8+zk9xgatY9h7bV2ldb/ku6e//u3n/btm0bWzwAAMAOYKEhsKquN/XwPkmWzhx6bJJDq+rKVbVPkn2TfDTJx5LsW1X7VNWVMjl5zLGLrBkAAGBHMrcTw1TV65LcJcluVXVWkqcmuUtV7Zekk5yZ5GFJ0t2nVdUbMznhy4VJHtndFw3LeVSSdyTZKclR3X3avGoGAADY0c3z7KCHrdD88jXmf3qSp6/QfnyS4zewNAAAgNHajLODAgAAsEmEQAAAgBERAgEAAEZECAQAABgRIRAAAGBEhEAAAIAREQIBAABGRAgEAAAYESEQAABgRIRAAACAERECAQAARkQIBAAAGBEhEAAAYESEQAAAgBERAgEAAEZECAQAABgRIRAAAGBEhEAAAIAREQIBAABGRAgEAAAYESEQAABgRIRAAACAERECAQAARkQIBAAAGBEhEAAAYESEQAAAgBERAgEAAEZECAQAABgRIRAAAGBEhEAAAIAREQIBAABGRAgEAAAYESEQAABgRIRAAACAERECAQAARkQIBAAAGBEhEAAAYESEQAAAgBERAgEAAEZECAQAABgRIRAAAGBEhEAAAIAREQIBAABGRAgEAAAYESEQAABgRIRAAACAERECAQAARmRuIbCqjqqqr1fVp6ba/q6qPltVp1TVMVW169C+d1VdUFUnD7cXTT3ntlV1alWdXlXPraqaV80AAAA7unmOBL4iycHL2t6V5Jbdfask/5nkiVPTvtDd+w23h0+1vzDJQ5PsO9yWLxMAAIAZzS0EdvcHknxzWds7u/vC4eGHk+y51jKq6npJrtHdH+7uTvLKJPeeQ7kAAACjsJnHBP5+khOmHu9TVZ+oqvdX1Z2Gtj2SnDU1z1lDGwAAAJfDzpvRaVU9KcmFSV4zNJ2TZK/uPr+qbpvkX6vqFpdjuUcmOTJJ9tprr40qFwAAYIex8JHAqjoiyd2THD7s4pnu/lF3nz/cPynJF5LcNMnZueQuo3sObSvq7pd09/7dvf+2bdvm9BsAAABsvxYaAqvq4CSPT3LP7v7hVPu2qtppuH+jTE4Ac0Z3n5Pku1V1++GsoA9M8tZF1gwAALAjWTcEVtXvVNXVh/tPrqp/qarbzPC81yX5UJKbVdVZVfWQJM9PcvUk71p2KYg7Jzmlqk5O8uYkD+/upZPK/O8kL0tyeiYjhNPHEQIAAHAZzHJM4FO6+01VdWCSX0vyd5lctuGAtZ7U3Yet0PzyVeZ9S5K3rDLtxCS3nKFOAAAA1jHL7qAXDT9/M8lLuvv/JrnS/EoCAABgXmYJgWdX1YuT3D/J8VV15RmfBwAAwBYzS5i7X5J3JDmou7+d5NpJ/r95FgUAAMB8rBsCh7N4fj3JgUPThUk+P8+iAAAAmI9Zzg761CRPSPLEoemKSV49z6IAAACYj1l2B71Pknsm+UGSdPdXM7nMAwAAANuZWULgj7u7k3SSVNXPzbckAAAA5mWWEPjG4eygu1bVQ5O8O8lL51sWAAAA87DmxeKrqpK8IckvJPlukpsl+fPuftcCagMAAGCDrRkCu7ur6vju/qUkgh8AAMB2bpbdQT9eVf9j7pUAAAAwd2uOBA4OSHJ4VX0pkzOEViaDhLeaa2UAAABsuFlC4EFzrwIAAICFWHd30O7+UpJdk9xjuO06tAEAALCdWTcEVtVjk7wmyXWH26ur6tHzLgwAAICNN8vuoA9JckB3/yBJqupvk3woyfPmWRgAAAAbb5azg1aSi6YeXzS0AQAAsJ2ZZSTwn5N8pKqOGR7fO8nL51YRAAAAc7NuCOzuv6+qf0ty4ND04O7+xFyrAgAAYC5WDYFVde2ph2cOt/+e1t3fnF9ZAAAAzMNaI4EnJelMjv/bK8m3hvu7Jvlykn3mXRwAAAAba9UTw3T3Pt19oyTvTnKP7t6tu6+T5O5J3rmoAgEAANg4s5wd9PbdffzSg+4+Ickd51cSAAAA8zLL2UG/WlVPTvLq4fHhSb46v5IAAACYl1lGAg9Lsi3JMUn+Zbh/2DyLAgAAYD5muUTEN5M8tqp+rrt/sICaAAAAmJN1RwKr6o5V9ekknxke37qq/mnulQEAALDhZtkd9DlJDkpyfpJ09yeT3HmeRQEAADAfs4TAdPdXljVdNIdaAAAAmLNZzg76laq6Y5KuqismeWyGXUMBAADYvswyEvjwJI9MskeSs5PsNzwGAABgOzPL2UG/kcm1AQEAANjOrRoCq+p5SXq16d39mLlUBAAAwNystTvoiUlOSnKVJLdJ8vnhtl+SK829MgAAADbcqiOB3X10klTVI5Ic2N0XDo9flOSDiykPAACAjTTLiWGuleQaU493GdoAAADYzsxyiYhnJPlEVb0vSWVyofinzbMoAAAA5mOWs4P+c1WdkOSAoekJ3f21+ZYFAADAPMyyO2iS7JTkvCTfSnLTqrrz/EoCAABgXtYdCayqv01y/ySnJfnp0NxJPjDHugAAAJiDWY4JvHeSm3X3j+ZcCwAAAHM2y+6gZyS54rwLAQAAYP5mGQn8YZKTq+o9Sf57NLC7HzO3qgAAAJiLWULgscMNAACA7dwsl4g4uqqummSv7v7cAmoCAABgTtY9JrCq7pHk5CRvHx7vV1VGBgEAALZDs5wY5mlJbpfk20nS3ScnudHcKgIAAGBuZgmBP+nu7yxr++mKcy5TVUdV1der6lNTbdeuqndV1eeHn9ca2quqnltVp1fVKVV1m6nnPGiY//NV9aBZ+gYAAODSZgmBp1XV7ybZqar2rarnJfmPGZf/iiQHL2v70yTv6e59k7xneJwkhyTZd7gdmeSFySQ0JnlqkgMyGZF86lJwBAAA4LKZJQQ+OsktMrk8xGuTfCfJH86y8O7+QJJvLmu+V5Kjh/tHZ3Ix+qX2V/bEh5PsWlXXS3JQknd19ze7+1tJ3pVLB0sAAABmMMslIn6hu5+U5Ekb1Ofu3X3OcP9rSXYf7u+R5CtT8501tK3WDgAAwGU0y0jgs6vqM1X1V1V1y43svLs7SW/U8qrqyKo6sapOPO+88zZqsQAAADuMdUNgd981yV2TnJfkxVV1alU9+Wfo89xhN88MP78+tJ+d5AZT8+05tK3WvlKtL+nu/bt7/23btv0MJQIAAOyYZhkJTHd/rbufm+ThmVwz8M9/hj6PTbJ0hs8HJXnrVPsDh7OE3j7Jd4bdRt+R5Deq6lrDCWF+Y2gDAADgMlr3mMCq+sUk90/y20nOT/KGJI+bZeFV9bokd0myW1WdlclZPp+R5I1V9ZAkX0pyv2H245PcLcnpSX6Y5MFJ0t3frKq/SvKxYb6/7O7lJ5sBAABgBrOcGOaoJK9PclB3f/WyLLy7D1tl0q+uMG8neeQqyzlqqAMAAICfwbohsLvvsIhCAAAAmL+ZjgkEAABgxyAEAgAAjMjMIbCqrjbPQgAAAJi/dUNgVd2xqj6d5LPD41tX1T/NvTIAAAA23Cwjgc9JclAml4dId38yyZ3nWRQAAADzMevF4r+yrOmiOdQCAADAnM1yncCvVNUdk3RVXTHJY5N8Zr5lAQAAMA+zjAQ+PJOLuO+R5Owk+2WVi7oDAACwtc1ysfhvJDl8AbUAAAAwZ6uGwKp6XpJebXp3P2YuFQEAADA3a+0OemKSk5JcJcltknx+uO2X5EpzrwwAAIANt+pIYHcfnSRV9YgkB3b3hcPjFyX54GLKAwAAYCPNcmKYayW5xtTjXYY2AAAAtjOzXCLiGUk+UVXvS1KZXCj+afMsCgAAgPmY5eyg/1xVJyQ5YGh6Qnd/bb5lAQAAMA+zjARmCH1vnXMtAAAAzNksxwQCAACwgxACAQAARmSti8Vfe60ndvc3N74cAAAA5mmtYwJPStKZnBF0ryTfGu7vmuTLSfaZd3EAAABsrFV3B+3ufbr7RkneneQe3b1bd18nyd2TvHNRBQIAALBxZjkm8PbdffzSg+4+Ickd51cSAAAA8zLLJSK+WlVPTvLq4fHhSb46v5IAAACYl1lGAg9Lsi3JMcPtukMbAAAA25l1RwKHs4A+dgG1AAAAMGfrhsCq2pbk8UlukeQqS+3d/StzrAsAAIA5mGV30Nck+Wwml4T4iyRnJvnYHGsCAABgTmYJgdfp7pcn+Ul3v7+7fz+JUUAAAIDt0CxnB/3J8POcqvrNTM4Meu35lQQAAMC8zBIC/7qqrpnkcUmel+QaSf5orlUBAAAwF7OcHfS44e53ktx1vuUAAAAwT6uGwKp6XpJebXp3P2YuFQEAADA3a50Y5sQkJ2VyWYjbJPn8cNsvyZXmXhkAAAAbbtWRwO4+Okmq6hFJDuzuC4fHL0rywcWUBwAAwEaa5RIR18rkZDBLdhnaAAAA2M7McnbQZyT5RFW9L0kluXOSp82zKAAAAOZjlrOD/nNVnZDkgKHpCd39tfmWBQAAwDysujtoVf3C8PM2Sa6f5CvD7fpDGwAAANuZtUYC/zjJkUmevcK0TvIrc6kIAACAuVnr7KBHDncP6e7/mp5WVVeZa1UAAADMxSxnB/2PGdsAAADY4lYdCayqn0+yR5KrVtUvZ3Jm0GRyuYirLaA2AAAANthaxwQelOSIJHsm+fup9u8l+bM51gQAAMCcrHVM4NFJjq6q3+7utyywJgAAAOZklovFH1dVv5tk7+n5u/sv51UUAAAA8zFLCHxrku8kOSnJj+ZbDgAAAPM0Swjcs7sP3qgOq+pmSd4w1XSjJH+eZNckD01y3tD+Z919/PCcJyZ5SJKLkjymu9+xUfUAAACMySwh8D+q6pe6+9SN6LC7P5dkvySpqp2SnJ3kmCQPTvKc7n7W9PxVdfMkhya5RZLrJ3l3Vd20uy/aiHoAAADGZJbrBB6Y5KSq+lxVnVJVp1bVKRvU/68m+UJ3f2mNee6V5PXd/aPu/mKS05PcboP6BwAAGJVZRgIPmWP/hyZ53dTjR1XVA5OcmORx3f2tTK5V+OGpec4a2gAAALiM1h0J7O4vDSN1FyTpqdvPpKqulOSeSd40NL0wyY0z2VX0nCTPvhzLPLKqTqyqE88777z1nwAAADAy64bAqrpnVX0+yReTvD/JmUlO2IC+D0ny8e4+N0m6+9zuvqi7f5rkpbl4l8+zk9xg6nl7Dm2X0t0v6e79u3v/bdu2bUCJAAAAO5ZZjgn8qyS3T/Kf3b1PJsfxfXjtp8zksEztClpV15uadp8knxruH5vk0Kq6clXtk2TfJB/dgP4BAABGZ5ZjAn/S3edX1RWq6grd/b6q+oefpdOq+rkkv57kYVPNz6yq/TLZ1fTMpWndfVpVvTHJp5NcmOSRzgwKAABw+cwSAr9dVbsk+UCS11TV15P84GfptLt/kOQ6y9oesMb8T0/y9J+lTwAAAGbbHfReSX6Y5I+SvD3JF5LcY55FAQAAMB+rhsCquklV/c/u/kF3/7S7L+zuo5N8PMmuC6sQAACADbPWSOA/JPnuCu3fGaYBAACwnVkrBO7e3acubxza9p5bRQAAAMzNWiFw1zWmXXWD6wAAAGAB1gqBJ1bVQ5c3VtUfJDlpfiUBAAAwL2tdIuIPkxxTVYfn4tC3f5IrZXIxdwAAALYzq4bA7j43yR2r6q5Jbjk0/9/ufu9CKgMAAGDDrXux+O5+X5L3LaAWAAAA5myWi8UDAACwgxACAQAARkQIBAAAGBEhEAAAYESEQAAAgBERAgEAAEZECAQAABgRIRAAAGBEhEAAAIAREQIBAABGRAgEAAAYESEQAABgRIRAAACAERECAQAARkQIBAAAGBEhEAAAYESEQAAAgBERAgEAAEZECAQAABgRIRAAAGBEhEAAAIAREQIBAABGRAgEAAAYESEQAABgRIRAAACAERECAQAARkQIBAAAGBEhEAAAYESEQAAAgBERAgEAAEZECAQAABgRIRAAAGBEhEAAAIAREQIBAABGRAgEAAAYESEQAABgRIRAAACAERECAQAARmTTQmBVnVlVp1bVyVV14tB27ap6V1V9fvh5raG9quq5VXV6VZ1SVbfZrLoBAAC2Z5s9EnjX7t6vu/cfHv9pkvd0975J3jM8TpJDkuw73I5M8sKFVwoAALAD2OwQuNy9khw93D86yb2n2l/ZEx9OsmtVXW8T6gMAANiubWYI7CTvrKqTqurIoW337j5nuP+1JLsP9/dI8pWp5541tAEAAHAZ7LyJfR/Y3WdX1XWTvKuqPjs9sbu7qvqyLHAIk0cmyV577bVxlQIAAOwgNm0ksLvPHn5+PckxSW6X5Nyl3TyHn18fZj87yQ2mnr7n0LZ8mS/p7v27e/9t27bNs3wAAIDt0qaEwKr6uaq6+tL9JL+R5FNJjk3yoGG2ByV563D/2CQPHM4Sevsk35nabRQAAIAZbdbuoLsnOaaqlmp4bXe/vao+luSNVfWQJF9Kcr9h/uOT3C3J6Ul+mOTBiy8ZAABg+7cpIbC7z0hy6xXaz0/yqyu0d5JHLqA0AACAHdpWu0QEAAAAcyQEAgAAjIgQCAAAMCJCIAAAwIgIgQAAACMiBAIAAIyIEAgAADAiQiAAAMCICIEAAAAjIgQCAACMiBAIAAAwIkIgAADAiAiBAAAAIyIEAgAAjIgQCAAAMCJCIAAAwIgIgQAAACMiBAIAAIyIEAgAADAiQiAAAMCICIEAAAAjIgQCAACMiBAIAAAwIkIgAADAiAiBAAAAIyIEAgAAjIgQCAAAMCJCIAAAwIgIgQAAACOy82YXACv5yIvvvin9HvCw4zalXwAAWBQjgQAAACMiBAIAAIyIEAgAADAiQiAAAMCICIEAAAAjIgQCAACMiBAIAAAwIkIgAADAiAiBAAAAIyIEAgAAjIgQCAAAMCJCIAAAwIgIgQAAACMiBAIAAIyIEAgAADAiQiAAAMCICIEAAAAjsvAQWFU3qKr3VdWnq+q0qnrs0P60qjq7qk4ebnebes4Tq+r0qvpcVR206JoBAAB2FDtvQp8XJnlcd3+8qq6e5KSqetcw7Tnd/azpmavq5kkOTXKLJNdP8u6quml3X7TQqgEAAHYACx8J7O5zuvvjw/3vJflMkj3WeMq9kry+u3/U3V9McnqS282/UgAAgB3Pph4TWFV7J/nlJB8Zmh5VVadU1VFVda2hbY8kX5l62llZOzQCAACwik0LgVW1S5K3JPnD7v5ukhcmuXGS/ZKck+TZl2OZR1bViVV14nnnnbeR5QIAAOwQNuOYwFTVFTMJgK/p7n9Jku4+d2r6S5McNzw8O8kNpp6+59B2Kd39kiQvSZL999+/N75ygB3L3Y556sL7PP4+f7HwPgGAi23G2UErycuTfKa7/36q/XpTs90nyaeG+8cmObSqrlxV+yTZN8lHF1UvAADAjmQzRgL/Z5IHJDm1qk4e2v4syWFVtV+STnJmkoclSXefVlVvTPLpTM4s+khnBgUAALh8Fh4Cu/v/JakVJh2/xnOenuTpcysKAABgJDb17KAAAAAslhAIAAAwIkIgAADAiAiBAAAAIyIEAgAAjIgQCAAAMCJCIAAAwIgIgQAAACOy8IvFAxvjNa84aOF9Hn7EOxbeJwAAG8tIIAAAwIgIgQAAACMiBAIAAIyIYwI3ybkvfObC+9z9EY9feJ8AAMDWYiQQAABgRIRAAACAERECAQAARkQIBAAAGBEhEAAAYESEQAAAgBERAgEAAEZECAQAABgRIRAAAGBEdt7sAgDG4pBj77nwPk+457EL7xMA2NqMBAIAAIyIEAgAADAiQiAAAMCICIEAAAAjIgQCAACMiBAIAAAwIkIgAADAiAiBAAAAIyIEAgAAjIgQCAAAMCJCIAAAwIgIgQAAACMiBAIAAIyIEAgAADAiQiAAAMCICIEAAAAjIgQCAACMiBAIAAAwIkIgAADAiOy82QXA9uKEl99t4X0e8pDjF94nAAA7NiOBAAAAI2IkENhhPeWNBy+8z7+639sX3icAwGVhJBAAAGBEjAQCAMzR/f/ljIX3+YbfutHC+wS2H9tNCKyqg5P8Y5Kdkrysu5+xySUByzz/1QctvM9H/d47Ft4nAMD2bLsIgVW1U5IXJPn1JGcl+VhVHdvdn97cygBgse7+5jctvM/j7vs7C+8TgPnZLkJgktslOb27z0iSqnp9knslEQI3yJnPvffC+9z7Mf+68D4B2Fj3evPiT4b01vsu/qRPADuS7SUE7pHkK1OPz0pywCbVAsCc/Oa/PHfhff7f33rMmtPv/pZXLKaQKcf99hEL75Px+MdjvrYp/T72Pj+/Kf1eHh86+ryF93mHB21bc/rpzzt3QZVc7CaP3n3hfbIY1d2bXcO6quq+SQ7u7j8YHj8gyQHd/ahl8x2Z5Mjh4c2SfG4Dut8tyTc2YDkbZavVk2y9mtSzvq1W01arJ9l6NalnfVutJvWsb6vVtNXqSbZeTepZ31araavVk2y9mnbkem7Y3Zf6D8P2MhJ4dpIbTD3ec2i7hO5+SZKXbGTHVXVid++/kcv8WWy1epKtV5N61rfVatpq9SRbryb1rG+r1aSe9W21mrZaPcnWq0k969tqNW21epKtV9MY69lerhP4sST7VtU+VXWlJIcmOXaTawIAANjubBcjgd19YVU9Ksk7MrlExFHdfdomlwUAALDd2S5CYJJ09/FJjt+Erjd099INsNXqSbZeTepZ31araavVk2y9mtSzvq1Wk3rWt9Vq2mr1JFuvJvWsb6vVtNXqSbZeTaOrZ7s4MQwAAAAbY3s5JhAAAIANIAROqaonVdVpVXVKVZ1cVQdU1b9V1eeq6pNV9e9VdbMF13TRUMunquptVbXr0L53VX1qE2t5U1VdbVn70u1Pt1BNl1hvc65l96p6bVWdUVUnVdWHquo+w7QDq+qjVfXZ4XbkesvbwLpW2q6vWFXPqKrPV9XHh1oPWUAtS3+XTw793nHZ9D+sqv+qqmvOu5YVajptqOtxVXWFYdpdquo7U9v2uxdYz/LX/BWq6rlD+6lV9bGq2mfOtXRVvXrq8c5VdV5VHTfVdvDUtn1yVb2hqvaaY01rvSd2VT16at7nV9UR86plqp9V11NVPXhq+/nx8Lc7uaqeMeeafr6qXl9VXxjej46vqptW1QXL3q8fOM86pupZ7716xfeEBdR17+Hv9wtTbberqg/U5LP/E1X1sqV651zLip+lVXX3oY5PVtWnq+ph865lWT2X+hytqltU1XuHdfT5qnpKVdUi6lqhtunt6fsLrGHN98eafCc4burvtrBDmmrt77NL29ebF1DHup8hQ/u/VtWH513P0NclXvNTnx1/PTXPblX1k6p6/oJqWm17Xlpf8/m86G63yS6xd0jyoSRXHh7vluT6Sf4tyf5D25FJjl1wXd+fun90kicN9/dO8qlNrOU1Sf54efsm/N3WrWl6vc2xjhq2n4dPtd0wyaOT/HySLye5zdS2dVKS31zA+lltu37GsF6W2ndPcr8F/70OSvL+ZdM/kuSDSR68SdvQdZO8O8lfDI/vkuS4RdWyQj3Tr/nDkrw5yRWGx3smuda8a0lycpKrDo8PGR4fNzy+ZZLPJ/nFqefcM8mdN2H97J3k3CSnJ7nS0Pb8JEcs4m+21nqamu/MJLstoJ6V3o9uneROi/7cWOXvttp79aXeExZQ1xuG95yl1/zuSb6U5A5T89w3ye6LXEdTbVdM8tUkew6Pr5zkZpvwN5t+rV01yReS/Mbw+GpJTkjyyK20PS2ihnXeH1+c5LFT899qQXWt+312q6yjoW3XJF9J8pkkN1pATctf83snOSPJJ6bmecRQ5/MXtZ6m7k9vz4ck+ffh9VYb3a+RwItdL8k3uvtHSdLd3+jury6b5wNJbrLwyi72oSR7bGL/0z6YzV0XK1mtpkWst19J8uPuftFSQ3d/qbufl+SRSV7R3R8f2r+R5PFJFjFieqntOsm3kzw0yaOn2s/t7jcuoJ5p10jyraUHVXXjJLskeXImgWfhuvvrmfyz51GL/K/2Gqa33eslOae7f5ok3X1Wd39r1WdunOOT/OZw/7Akr5ua9oQkf9Pdn1lq6O5ju/sDC6grufRr+7wk70nyoAX1P22t9bRod03yk2XvR5/M5IvWVrDae/Ul3hPmrap2SXJgkodkcumpZPJ+fXR3f2hpvu5+c3efu6i6lrl6JifxO3+o5Ufd/blNqGP6tfa7Sf69u9851PTDJI/KYj7TVrKZ30fWet1fL8lZSw+6+5QF1TTL99lFWu+98beSvC3J63Px63AuVnnNJ8kPk3ymqpauy3f/JIv+TrRkens+LMk/ZjKQcIeN7kgIvNg7k9ygqv6zqv6pqv7XCvPcI8mpC64rSVJVOyX51WyB6yNW1c6Z/HdiaV1cddkuLPffAjUttS9qvd0iycfXmHbSsrYTh/Z5W2m7vkmSL3f3dxfQ/3JL28pnk7wsyV9NTTs0kw+BDya5WVXtvgn1pbvPyORSNNcdmu40tW0/aVF1rLDtvjHJPYY6nl1Vv7ygUl6f5NCqukqSW2UyWrtkre1+rtZ4bf9tkj8Zpi/SWutp0W6ZS7/nLLnxsvfrOy2ysDU+P1Z6T5i3eyV5e3f/Z5Lzq+q2WXvdzdulPku7+5uZbONfqqrXVdXhNeyuvigrvNYu9ZnW3V9IsktVXWPBta342b9Aa73uX5Dk5VX1vmH3zOsvqKa1vs++Zmr7+rsF1bPee+NSMHxd5v8P4JVe88vrvEGSizIZgV+o6e15WF+/lklAnsu62W4uETFv3f39YWO4Uyb/RX1DXXxs22uq6oJMduV59CqLmJerVtXJmfwH7jNJ3rXg/leqJZl8UX/5cP+C7t5vUypavaZNXW9V9YJM/tv042zif99X2q6T/M1m1ZOpbaWq7pDklVV1y57s93BYkvt090+r6i1JfieT3fk22we7++4L7G/Fbbe7z6rJMcm/MtzeU1W/093vmWcx3X1KVe2dyd9n1WNaquo6mYzCXS3JS7r7WXMqac3XdnefUVUfyWS0YmFmXU9bwBc26f163c+PFd4T5m3pv+zJ5AvgpuyBMGXFz9Lu/oOq+qVMvhD+SZJfT3LEAurZSt8/lltte1qotV733f2OqrpRkoMz+WL/iWHbPm/ONa31ffbw7j5xnv2vUM+q62j4Z+++Sf5fd/dwHN4tu3te57xY6TW/9D3j7Zn8E+rcTL4rLdJK2/M9k7yvuy8YvhM9par+sLsv2qhOhcApw4r9tyT/VlWn5uJdihb+oplyQXfvNxwk+o5MdlV57mbWskl9r2a1mha93k5L8ttLD7r7kVW1WyYjfu9Ictskb52a/7bDc+Zuhe36YUn2qqprbNJo4FJdHxrW0bapD4J3DXthXinJF7MJIXD40L4oydeT/OKi+88a2+6we88JSU6oqnOT3DuT4DVvxyZ5VibHSF5nqv20JLdJ8snuPj/JflX1J5ns1jsvs7y2/yaT4yffP8c6VrLaelq00zI5jm0rWffzY/o9IZPX39xU1bUz+WfKL1VVZzL635kc+7b8/XrTdfepmYwOvCqT98YjFtDtaq+1Tye58/SMw/vm9xf4mbKVvo+s+rofRnJfm+S1NTkZyp2TvGXeBa3xfXazrLaO7pfkWkm+OHz2XyOTYLbhe92s8Zp/QZJ094+r6qQkj0ty80xC2KJcanuuqsOSHFhVZw5N18mk/g37Z4zdQQdVdbOq2neqab9MDg7fEoZ97h+T5HHDcDEzWOB6e2+Sq1TVI6bals4m94IkR1TVfsl/j5j8bZJnzrGeDH2ttF1/LpP/Mv1jVV1pmG9bVf3OvOtZVtsvZPImfH4mb/pP6+69h9v1k1y/qm644Jq2JXlRJgeDb+pFVJdvu1V1m6XdiYbdwW6Vxb1HHZXJQfTLd7l6ZpInVdV0WJ77WRSTtV/b3f3ZTL6o3mMRtUxZbT0t2nuTXLmmzkJcVbdKcoPNK2l9y94T5u2+SV7V3Tcc3nNukEm4eneSB1XVAVN1/VZt0u7pVbVLVd1lqmm/LPi7yQqvtddk8uX014Yar5pJOJz7Z9oWteLrvqp+pS4+y+PVk9w4k2O75mqLfp9d7b3xsCQHL332Z/IPmHkdF7jaa376ffHZSZ4whPdNM+xWfacke02tm0dmg/dWECYutkuS59XkFMgXZnKGuSMz+W/yltDdn6iqUzLZCD6U5EebXNKS6WHsZLK/9WYdIH4py9bbq+bUR1fVvZM8p6oen8kJKn6QyZvJOVX1e0leOnwQVJJ/6O63zaOWZVbbrr+b5K+TfLqq/muo9c8XUM/0tlJJHtTdF1XVoUnutmzeYzL5MPjbBdV0xUzW0auS/P2c+5zJsm33vEy2oSsPkz+aBY2UdvdZWWEkvbtPrarHZrIL3zWSfCOTLzlPXVBd0+vng8smPz3JJxZRx1Q9K66nRRvej+6T5B+q6glJ/iuTwxn+MMMxgVOzH9Xdm1nziu8JC+j3sFz6veUtmbznHJrkWVV13SQ/zeSkcG9fQE2X+izNZDt+fFW9OMkFmbxXH7GAWi5h+rXW3a+qqntl8tnygkyC+6uyNXbfX7g1Xve3TfL8qrowk0GXl3X3xxZQ0lrfZ5cOb0omJ4/5tQXUs+I6GnYRvWGSD0/N98WaXJbpgO7e6OOqV3vNP3Gq/9OyoL201nGfJO9dOrnP4K1JnllVV17WfrnVJv+zm8tpeAM+vLvvt9m1AAAA2w8jgduhqvrLTM5wdMQmlwIAAGxnjAQCAACMiBPDAAAAjIgQCAAAMCJCIAAAwIgIgQCwgqq6qKpOnrqteumbqrp3Vd38cvTx/Z+tSgC47JwdFABWdkF37zfjvPdOclwmF6kHgC3NSCAAXAZV9Yyq+nRVnVJVz6qqOya5Z5K/G0YMb1xVD62qj1XVJ6vqLVV1teG5+1TVh6rq1Kr666llVlX9XVV9aph2/836/QDY8blEBACsoKouSnLqVNP/SfLuJP+R5Be6u6tq1+7+dlW9Islx3f3m4bnX6e7zh/t/neTc7n5eVR2b5M3d/cqqemSSv+3uXarqt5M8PMnBSXZL8rEkB3T3OQv6dQEYESOBALCyC7p7v6nbG5J8J8l/JXl5Vf1Wkh+u8txbVtUHq+rUJIcnucXQ/j+TvG64/6qp+Q9M8rruvqi7z03y/iT/Y6N/IQBIhEAAmFl3X5jkdknenOTuSd6+yqyvSPKo7v6lJH+R5CrTi5lnjQCwHiEQAGZUVbskuWZ3H5/kj5Lcepj0vSRXn5r16knOqaorZjISuOTfkxw63J9u/2CS+1fVTlW1Lcmdk3x0Dr8CADg7KACs4qpVdfLU47cn+cckb62qqySpJH88THt9kpdW1WOS3DfJU5J8JMl5w8+lgPjYJK+tqickeevUso9Jcockn8xkpPDx3f21efxSAODEMAAAACNid1AAAIAREQIBAABGRAgEAAAYESEQAABgRIRAAACAERECAQAARkQIBAAAGBEhEAAAYET+f0VGwtI6ggavAAAAAElFTkSuQmCC",
      "text/plain": [
       "<Figure size 1080x576 with 1 Axes>"
      ]
     },
     "metadata": {
      "needs_background": "light"
     },
     "output_type": "display_data"
>>>>>>> fa4e3543e1ba571f072fa85a32068bafc0739509
    }
   },
   "outputs": [],
   "source": [
    "# Grafiquemos\n",
    "plt.figure(figsize=(15,8))\n",
    "sns.countplot(x='seller_state', data=vendedores)\n",
    "plt.title('Distribution estatal de los vendedores')\n",
    "plt.xlabel('Estado')\n",
    "plt.ylabel('Cantidad de vendedores')\n",
    "plt.show()"
   ]
  },
  {
   "cell_type": "code",
   "execution_count": null,
<<<<<<< HEAD
   "metadata": {
    "pycharm": {
     "name": "#%%\n"
=======
   "metadata": {},
   "outputs": [
    {
     "data": {
      "text/plain": [
       "0.5974151857835218"
      ]
     },
     "execution_count": 46,
     "metadata": {},
     "output_type": "execute_result"
>>>>>>> fa4e3543e1ba571f072fa85a32068bafc0739509
    }
   },
   "outputs": [],
   "source": [
    "vendedores.seller_state.value_counts()[0]/vendedores.shape[0]"
   ]
  },
  {
   "cell_type": "code",
   "execution_count": null,
<<<<<<< HEAD
   "metadata": {
    "pycharm": {
     "name": "#%%\n"
=======
   "metadata": {},
   "outputs": [
    {
     "data": {
      "text/plain": [
       "23"
      ]
     },
     "execution_count": 47,
     "metadata": {},
     "output_type": "execute_result"
>>>>>>> fa4e3543e1ba571f072fa85a32068bafc0739509
    }
   },
   "outputs": [],
   "source": [
    "vendedores.seller_state.nunique()"
   ]
  },
  {
   "cell_type": "markdown",
   "metadata": {
    "pycharm": {
     "name": "#%% md\n"
    }
   },
   "source": [
    "El 59.7% de los vendedores se encuentran en SP (Sao Pablo) y el resto se encuentran distribuidos en los demas 22 estados"
   ]
  },
  {
   "cell_type": "markdown",
   "metadata": {
    "pycharm": {
     "name": "#%% md\n"
    }
   },
   "source": [
    "### Productos_info"
   ]
  },
  {
   "cell_type": "markdown",
   "metadata": {
    "pycharm": {
     "name": "#%% md\n"
    }
   },
   "source": [
    "Este dataset traduce las categorias de los productos al inglés. Evaluar si lo necesitamos en español. Usar la api de google translate para eso.\n",
    "\n",
    "La tabla de `Productos_info` comprende las siguientes columnas:<br>\n",
    "\n",
    "`product_category_name`: Nombre de categoría en portugués.\n",
    "`product_name_english`: Nombre de categoría en inglés."
   ]
  },
  {
   "cell_type": "code",
<<<<<<< HEAD
   "execution_count": 42,
=======
   "execution_count": null,
>>>>>>> fa4e3543e1ba571f072fa85a32068bafc0739509
   "metadata": {},
   "outputs": [],
   "source": [
    "productos_info = data_dict['product_category_name_translation']"
   ]
  },
  {
   "cell_type": "code",
   "execution_count": 43,
   "metadata": {
    "pycharm": {
     "name": "#%%\n"
    }
   },
   "outputs": [
    {
     "name": "stdout",
     "output_type": "stream",
     "text": [
      "<class 'pandas.core.frame.DataFrame'>\n",
      "RangeIndex: 71 entries, 0 to 70\n",
      "Data columns (total 2 columns):\n",
      " #   Column                         Non-Null Count  Dtype \n",
      "---  ------                         --------------  ----- \n",
      " 0   product_category_name          71 non-null     object\n",
      " 1   product_category_name_english  71 non-null     object\n",
      "dtypes: object(2)\n",
      "memory usage: 1.2+ KB\n"
     ]
    }
   ],
   "source": [
    "productos_info.info()"
   ]
  },
  {
   "cell_type": "code",
   "execution_count": null,
<<<<<<< HEAD
   "metadata": {
    "pycharm": {
     "name": "#%%\n"
=======
   "metadata": {},
   "outputs": [
    {
     "data": {
      "text/html": [
       "<div>\n",
       "<style scoped>\n",
       "    .dataframe tbody tr th:only-of-type {\n",
       "        vertical-align: middle;\n",
       "    }\n",
       "\n",
       "    .dataframe tbody tr th {\n",
       "        vertical-align: top;\n",
       "    }\n",
       "\n",
       "    .dataframe thead th {\n",
       "        text-align: right;\n",
       "    }\n",
       "</style>\n",
       "<table border=\"1\" class=\"dataframe\">\n",
       "  <thead>\n",
       "    <tr style=\"text-align: right;\">\n",
       "      <th></th>\n",
       "      <th>product_category_name</th>\n",
       "      <th>product_category_name_english</th>\n",
       "    </tr>\n",
       "  </thead>\n",
       "  <tbody>\n",
       "    <tr>\n",
       "      <th>43</th>\n",
       "      <td>construcao_ferramentas_iluminacao</td>\n",
       "      <td>construction_tools_lights</td>\n",
       "    </tr>\n",
       "    <tr>\n",
       "      <th>39</th>\n",
       "      <td>livros_tecnicos</td>\n",
       "      <td>books_technical</td>\n",
       "    </tr>\n",
       "    <tr>\n",
       "      <th>63</th>\n",
       "      <td>portateis_casa_forno_e_cafe</td>\n",
       "      <td>small_appliances_home_oven_and_coffee</td>\n",
       "    </tr>\n",
       "    <tr>\n",
       "      <th>40</th>\n",
       "      <td>casa_construcao</td>\n",
       "      <td>home_construction</td>\n",
       "    </tr>\n",
       "    <tr>\n",
       "      <th>64</th>\n",
       "      <td>cds_dvds_musicais</td>\n",
       "      <td>cds_dvds_musicals</td>\n",
       "    </tr>\n",
       "  </tbody>\n",
       "</table>\n",
       "</div>"
      ],
      "text/plain": [
       "                product_category_name          product_category_name_english\n",
       "43  construcao_ferramentas_iluminacao              construction_tools_lights\n",
       "39                    livros_tecnicos                        books_technical\n",
       "63        portateis_casa_forno_e_cafe  small_appliances_home_oven_and_coffee\n",
       "40                    casa_construcao                      home_construction\n",
       "64                  cds_dvds_musicais                      cds_dvds_musicals"
      ]
     },
     "execution_count": 26,
     "metadata": {},
     "output_type": "execute_result"
>>>>>>> fa4e3543e1ba571f072fa85a32068bafc0739509
    }
   },
   "outputs": [],
   "source": [
    "productos_info.sample(5)"
   ]
  },
  {
   "cell_type": "code",
   "execution_count": null,
<<<<<<< HEAD
   "metadata": {
    "pycharm": {
     "name": "#%%\n"
=======
   "metadata": {},
   "outputs": [
    {
     "data": {
      "text/plain": [
       "product_category_name            False\n",
       "product_category_name_english    False\n",
       "dtype: bool"
      ]
     },
     "execution_count": 50,
     "metadata": {},
     "output_type": "execute_result"
>>>>>>> fa4e3543e1ba571f072fa85a32068bafc0739509
    }
   },
   "outputs": [],
   "source": [
    "productos_info.isnull().any()"
   ]
  },
  {
   "cell_type": "markdown",
   "metadata": {
    "pycharm": {
     "name": "#%% md\n"
    }
   },
   "source": [
    "### Marketing ofertas cerradas"
   ]
  },
  {
   "cell_type": "code",
<<<<<<< HEAD
   "execution_count": 46,
=======
   "execution_count": null,
>>>>>>> fa4e3543e1ba571f072fa85a32068bafc0739509
   "metadata": {},
   "outputs": [],
   "source": [
    "marketing_ofertas_cerradas =  marketing_dict['olist_closed_deals_dataset']"
   ]
  },
  {
   "cell_type": "code",
   "execution_count": 47,
   "metadata": {
    "pycharm": {
     "name": "#%%\n"
    }
   },
   "outputs": [
    {
     "data": {
      "text/html": [
       "<div>\n",
       "<style scoped>\n",
       "    .dataframe tbody tr th:only-of-type {\n",
       "        vertical-align: middle;\n",
       "    }\n",
       "\n",
       "    .dataframe tbody tr th {\n",
       "        vertical-align: top;\n",
       "    }\n",
       "\n",
       "    .dataframe thead th {\n",
       "        text-align: right;\n",
       "    }\n",
       "</style>\n",
       "<table border=\"1\" class=\"dataframe\">\n",
       "  <thead>\n",
       "    <tr style=\"text-align: right;\">\n",
       "      <th></th>\n",
       "      <th>mql_id</th>\n",
       "      <th>seller_id</th>\n",
       "      <th>sdr_id</th>\n",
       "      <th>sr_id</th>\n",
       "      <th>won_date</th>\n",
       "      <th>business_segment</th>\n",
       "      <th>lead_type</th>\n",
       "      <th>lead_behaviour_profile</th>\n",
       "      <th>has_company</th>\n",
       "      <th>has_gtin</th>\n",
       "      <th>average_stock</th>\n",
       "      <th>business_type</th>\n",
       "      <th>declared_product_catalog_size</th>\n",
       "      <th>declared_monthly_revenue</th>\n",
       "    </tr>\n",
       "  </thead>\n",
       "  <tbody>\n",
       "    <tr>\n",
       "      <th>0</th>\n",
       "      <td>5420aad7fec3549a85876ba1c529bd84</td>\n",
       "      <td>2c43fb513632d29b3b58df74816f1b06</td>\n",
       "      <td>a8387c01a09e99ce014107505b92388c</td>\n",
       "      <td>4ef15afb4b2723d8f3d81e51ec7afefe</td>\n",
       "      <td>2018-02-26 19:58:54</td>\n",
       "      <td>pet</td>\n",
       "      <td>online_medium</td>\n",
       "      <td>cat</td>\n",
       "      <td>NaN</td>\n",
       "      <td>NaN</td>\n",
       "      <td>NaN</td>\n",
       "      <td>reseller</td>\n",
       "      <td>NaN</td>\n",
       "      <td>0.0</td>\n",
       "    </tr>\n",
       "    <tr>\n",
       "      <th>1</th>\n",
       "      <td>a555fb36b9368110ede0f043dfc3b9a0</td>\n",
       "      <td>bbb7d7893a450660432ea6652310ebb7</td>\n",
       "      <td>09285259593c61296eef10c734121d5b</td>\n",
       "      <td>d3d1e91a157ea7f90548eef82f1955e3</td>\n",
       "      <td>2018-05-08 20:17:59</td>\n",
       "      <td>car_accessories</td>\n",
       "      <td>industry</td>\n",
       "      <td>eagle</td>\n",
       "      <td>NaN</td>\n",
       "      <td>NaN</td>\n",
       "      <td>NaN</td>\n",
       "      <td>reseller</td>\n",
       "      <td>NaN</td>\n",
       "      <td>0.0</td>\n",
       "    </tr>\n",
       "    <tr>\n",
       "      <th>2</th>\n",
       "      <td>327174d3648a2d047e8940d7d15204ca</td>\n",
       "      <td>612170e34b97004b3ba37eae81836b4c</td>\n",
       "      <td>b90f87164b5f8c2cfa5c8572834dbe3f</td>\n",
       "      <td>6565aa9ce3178a5caf6171827af3a9ba</td>\n",
       "      <td>2018-06-05 17:27:23</td>\n",
       "      <td>home_appliances</td>\n",
       "      <td>online_big</td>\n",
       "      <td>cat</td>\n",
       "      <td>NaN</td>\n",
       "      <td>NaN</td>\n",
       "      <td>NaN</td>\n",
       "      <td>reseller</td>\n",
       "      <td>NaN</td>\n",
       "      <td>0.0</td>\n",
       "    </tr>\n",
       "    <tr>\n",
       "      <th>3</th>\n",
       "      <td>f5fee8f7da74f4887f5bcae2bafb6dd6</td>\n",
       "      <td>21e1781e36faf92725dde4730a88ca0f</td>\n",
       "      <td>56bf83c4bb35763a51c2baab501b4c67</td>\n",
       "      <td>d3d1e91a157ea7f90548eef82f1955e3</td>\n",
       "      <td>2018-01-17 13:51:03</td>\n",
       "      <td>food_drink</td>\n",
       "      <td>online_small</td>\n",
       "      <td>NaN</td>\n",
       "      <td>NaN</td>\n",
       "      <td>NaN</td>\n",
       "      <td>NaN</td>\n",
       "      <td>reseller</td>\n",
       "      <td>NaN</td>\n",
       "      <td>0.0</td>\n",
       "    </tr>\n",
       "    <tr>\n",
       "      <th>4</th>\n",
       "      <td>ffe640179b554e295c167a2f6be528e0</td>\n",
       "      <td>ed8cb7b190ceb6067227478e48cf8dde</td>\n",
       "      <td>4b339f9567d060bcea4f5136b9f5949e</td>\n",
       "      <td>d3d1e91a157ea7f90548eef82f1955e3</td>\n",
       "      <td>2018-07-03 20:17:45</td>\n",
       "      <td>home_appliances</td>\n",
       "      <td>industry</td>\n",
       "      <td>wolf</td>\n",
       "      <td>NaN</td>\n",
       "      <td>NaN</td>\n",
       "      <td>NaN</td>\n",
       "      <td>manufacturer</td>\n",
       "      <td>NaN</td>\n",
       "      <td>0.0</td>\n",
       "    </tr>\n",
       "  </tbody>\n",
       "</table>\n",
       "</div>"
      ],
      "text/plain": [
       "                             mql_id                         seller_id  \\\n",
       "0  5420aad7fec3549a85876ba1c529bd84  2c43fb513632d29b3b58df74816f1b06   \n",
       "1  a555fb36b9368110ede0f043dfc3b9a0  bbb7d7893a450660432ea6652310ebb7   \n",
       "2  327174d3648a2d047e8940d7d15204ca  612170e34b97004b3ba37eae81836b4c   \n",
       "3  f5fee8f7da74f4887f5bcae2bafb6dd6  21e1781e36faf92725dde4730a88ca0f   \n",
       "4  ffe640179b554e295c167a2f6be528e0  ed8cb7b190ceb6067227478e48cf8dde   \n",
       "\n",
       "                             sdr_id                             sr_id  \\\n",
       "0  a8387c01a09e99ce014107505b92388c  4ef15afb4b2723d8f3d81e51ec7afefe   \n",
       "1  09285259593c61296eef10c734121d5b  d3d1e91a157ea7f90548eef82f1955e3   \n",
       "2  b90f87164b5f8c2cfa5c8572834dbe3f  6565aa9ce3178a5caf6171827af3a9ba   \n",
       "3  56bf83c4bb35763a51c2baab501b4c67  d3d1e91a157ea7f90548eef82f1955e3   \n",
       "4  4b339f9567d060bcea4f5136b9f5949e  d3d1e91a157ea7f90548eef82f1955e3   \n",
       "\n",
       "             won_date business_segment      lead_type lead_behaviour_profile  \\\n",
       "0 2018-02-26 19:58:54              pet  online_medium                    cat   \n",
       "1 2018-05-08 20:17:59  car_accessories       industry                  eagle   \n",
       "2 2018-06-05 17:27:23  home_appliances     online_big                    cat   \n",
       "3 2018-01-17 13:51:03       food_drink   online_small                    NaN   \n",
       "4 2018-07-03 20:17:45  home_appliances       industry                   wolf   \n",
       "\n",
       "  has_company has_gtin average_stock business_type  \\\n",
       "0         NaN      NaN           NaN      reseller   \n",
       "1         NaN      NaN           NaN      reseller   \n",
       "2         NaN      NaN           NaN      reseller   \n",
       "3         NaN      NaN           NaN      reseller   \n",
       "4         NaN      NaN           NaN  manufacturer   \n",
       "\n",
       "   declared_product_catalog_size  declared_monthly_revenue  \n",
       "0                            NaN                       0.0  \n",
       "1                            NaN                       0.0  \n",
       "2                            NaN                       0.0  \n",
       "3                            NaN                       0.0  \n",
       "4                            NaN                       0.0  "
      ]
     },
     "execution_count": 47,
     "metadata": {},
     "output_type": "execute_result"
    }
   ],
   "source": [
    "marketing_ofertas_cerradas.head()\n"
   ]
  },
  {
   "cell_type": "markdown",
   "metadata": {
    "pycharm": {
     "name": "#%% md\n"
    }
   },
   "source": [
    "### Marketing Qualified Leads"
   ]
  },
  {
   "cell_type": "code",
<<<<<<< HEAD
   "execution_count": 48,
=======
   "execution_count": null,
>>>>>>> fa4e3543e1ba571f072fa85a32068bafc0739509
   "metadata": {},
   "outputs": [],
   "source": [
    "marketing_qualified_leads = marketing_dict['olist_marketing_qualified_leads_dataset']"
   ]
  },
  {
   "cell_type": "code",
   "execution_count": 49,
   "metadata": {
    "pycharm": {
     "name": "#%%\n"
    }
   },
   "outputs": [
    {
     "data": {
      "text/html": [
       "<div>\n",
       "<style scoped>\n",
       "    .dataframe tbody tr th:only-of-type {\n",
       "        vertical-align: middle;\n",
       "    }\n",
       "\n",
       "    .dataframe tbody tr th {\n",
       "        vertical-align: top;\n",
       "    }\n",
       "\n",
       "    .dataframe thead th {\n",
       "        text-align: right;\n",
       "    }\n",
       "</style>\n",
       "<table border=\"1\" class=\"dataframe\">\n",
       "  <thead>\n",
       "    <tr style=\"text-align: right;\">\n",
       "      <th></th>\n",
       "      <th>mql_id</th>\n",
       "      <th>first_contact_date</th>\n",
       "      <th>landing_page_id</th>\n",
       "      <th>origin</th>\n",
       "    </tr>\n",
       "  </thead>\n",
       "  <tbody>\n",
       "    <tr>\n",
       "      <th>0</th>\n",
       "      <td>dac32acd4db4c29c230538b72f8dd87d</td>\n",
       "      <td>2018-02-01</td>\n",
       "      <td>88740e65d5d6b056e0cda098e1ea6313</td>\n",
       "      <td>social</td>\n",
       "    </tr>\n",
       "    <tr>\n",
       "      <th>1</th>\n",
       "      <td>8c18d1de7f67e60dbd64e3c07d7e9d5d</td>\n",
       "      <td>2017-10-20</td>\n",
       "      <td>007f9098284a86ee80ddeb25d53e0af8</td>\n",
       "      <td>paid_search</td>\n",
       "    </tr>\n",
       "    <tr>\n",
       "      <th>2</th>\n",
       "      <td>b4bc852d233dfefc5131f593b538befa</td>\n",
       "      <td>2018-03-22</td>\n",
       "      <td>a7982125ff7aa3b2054c6e44f9d28522</td>\n",
       "      <td>organic_search</td>\n",
       "    </tr>\n",
       "    <tr>\n",
       "      <th>3</th>\n",
       "      <td>6be030b81c75970747525b843c1ef4f8</td>\n",
       "      <td>2018-01-22</td>\n",
       "      <td>d45d558f0daeecf3cccdffe3c59684aa</td>\n",
       "      <td>email</td>\n",
       "    </tr>\n",
       "    <tr>\n",
       "      <th>4</th>\n",
       "      <td>5420aad7fec3549a85876ba1c529bd84</td>\n",
       "      <td>2018-02-21</td>\n",
       "      <td>b48ec5f3b04e9068441002a19df93c6c</td>\n",
       "      <td>organic_search</td>\n",
       "    </tr>\n",
       "  </tbody>\n",
       "</table>\n",
       "</div>"
      ],
      "text/plain": [
       "                             mql_id first_contact_date  \\\n",
       "0  dac32acd4db4c29c230538b72f8dd87d         2018-02-01   \n",
       "1  8c18d1de7f67e60dbd64e3c07d7e9d5d         2017-10-20   \n",
       "2  b4bc852d233dfefc5131f593b538befa         2018-03-22   \n",
       "3  6be030b81c75970747525b843c1ef4f8         2018-01-22   \n",
       "4  5420aad7fec3549a85876ba1c529bd84         2018-02-21   \n",
       "\n",
       "                    landing_page_id          origin  \n",
       "0  88740e65d5d6b056e0cda098e1ea6313          social  \n",
       "1  007f9098284a86ee80ddeb25d53e0af8     paid_search  \n",
       "2  a7982125ff7aa3b2054c6e44f9d28522  organic_search  \n",
       "3  d45d558f0daeecf3cccdffe3c59684aa           email  \n",
       "4  b48ec5f3b04e9068441002a19df93c6c  organic_search  "
      ]
     },
     "execution_count": 49,
     "metadata": {},
     "output_type": "execute_result"
    }
   ],
   "source": [
    "marketing_qualified_leads.head()"
   ]
  },
  {
   "cell_type": "code",
   "execution_count": null,
   "metadata": {
    "pycharm": {
     "name": "#%%\n"
    }
   },
   "outputs": [],
   "source": []
  }
 ],
 "metadata": {
  "kernelspec": {
<<<<<<< HEAD
   "display_name": "Python 3.9.12 ('base')",
=======
   "display_name": "Python 3.9.13 64-bit",
>>>>>>> fa4e3543e1ba571f072fa85a32068bafc0739509
   "language": "python",
   "name": "python3"
  },
  "language_info": {
   "codemirror_mode": {
    "name": "ipython",
    "version": 3
   },
   "file_extension": ".py",
   "mimetype": "text/x-python",
   "name": "python",
   "nbconvert_exporter": "python",
   "pygments_lexer": "ipython3",
<<<<<<< HEAD
   "version": "3.9.12"
=======
   "version": "3.9.13"
>>>>>>> fa4e3543e1ba571f072fa85a32068bafc0739509
  },
  "orig_nbformat": 4,
  "vscode": {
   "interpreter": {
<<<<<<< HEAD
    "hash": "4c6b9d4ed2a07bbca30b882861c661e078421cec4e51290af7d4840971f56ca6"
=======
    "hash": "2509de70f8a51a533a202c5608edbb0bdf852af64638cafff532941bd7210f2f"
>>>>>>> fa4e3543e1ba571f072fa85a32068bafc0739509
   }
  }
 },
 "nbformat": 4,
 "nbformat_minor": 2
}
