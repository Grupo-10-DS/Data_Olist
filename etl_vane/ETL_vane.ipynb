{
 "cells": [
  {
   "cell_type": "code",
   "execution_count": 1,
   "metadata": {},
   "outputs": [],
   "source": [
    "from utils import Load\n",
    "\n",
    "path = \"./data/e-comerce_Olist_dataset\"\n",
    "load = Load(path)\n",
    "\n",
    "# Cargamos todos los csv a un diccionario que alojara los df\n",
    "data_dict = load.load_from_csv(path)"
   ]
  },
  {
   "cell_type": "code",
   "execution_count": 2,
   "metadata": {},
   "outputs": [],
   "source": [
    "import pandas as pd\n",
    "import numpy as np\n",
    "from geopy.geocoders import Nominatim\n",
    "import os  \n"
   ]
  },
  {
   "cell_type": "code",
   "execution_count": 3,
   "metadata": {},
   "outputs": [],
   "source": [
    "# traemos aqui los csv\n",
    "clientes = data_dict['olist_customers_dataset']\n",
    "geolocalizacion = data_dict['olist_geolocation_dataset']\n",
    "items = data_dict['olist_order_items_dataset']\n",
    "metodo_de_pago = data_dict['olist_order_payments_dataset']\n",
    "reviews = data_dict['olist_order_reviews_dataset']\n",
    "ordenes =data_dict['olist_orders_dataset']\n",
    "productos = data_dict['olist_products_dataset']\n",
    "vendedores = data_dict['olist_sellers_dataset']\n",
    "productos_info = data_dict['product_category_name_translation']"
   ]
  },
  {
   "cell_type": "code",
   "execution_count": 4,
   "metadata": {},
   "outputs": [],
   "source": [
    "# Creamos las carpetas para guardar nuestros archivos etl y auxiliar que usaremos mas adelante\n",
    "path_etl = \"Dataset_etl\"\n",
    "path_aux = \"Dataset_aux\"\n",
    "os.makedirs(path_etl, exist_ok=True)  \n",
    "os.makedirs(path_aux, exist_ok=True)  "
   ]
  },
  {
   "cell_type": "markdown",
   "metadata": {},
   "source": [
    "## ETL Gelolocalizacion"
   ]
  },
  {
   "cell_type": "code",
   "execution_count": 12,
   "metadata": {},
   "outputs": [],
   "source": [
    "def etl_geolocalizacion(geolocalizacion):\n",
    "    \"\"\"\n",
    "    Esta funcion le realiza ETL a la tabla geolocalizacion, normalizando latitudes y longitudes tomando como parametro\n",
    "    que la mayor parte de brasil se halla dentro del hemisferio sur, entre los paralelos 5.5 de latitud N, y los -34 de latitud S; y entre los meridianos que señalan los -32 y los -74 de longitud.\n",
    "    En un segundo paso crea un nuevo dataframe con zip codes unicos y se les asigna un ID.\n",
    "    retorna el dataframe de geolocalizacion al que solo se le realiza el ETL, y el df filtrado para ser utilizados luego en el proceso de etl de vendedores y clientes\n",
    "    \n",
    "    \"\"\"\n",
    "    # Seleccionamos los outliers. \n",
    "    out_latylon = geolocalizacion [(geolocalizacion.geolocation_lat > 5.5)| (geolocalizacion.geolocation_lat < -34)|(geolocalizacion.geolocation_lng > -32 )| (geolocalizacion.geolocation_lng  < -74)]\n",
    "\n",
    "    # generamos un user random\n",
    "    import string, random\n",
    "    user = ''.join(random.choice(string.ascii_lowercase) for i in range(6))\n",
    "\n",
    "    #Usamos Geopy\n",
    "    from geopy.geocoders import Nominatim\n",
    "    geolocator = Nominatim(user_agent= user)\n",
    "    location_city = out_latylon.geolocation_city.values\n",
    "    index = out_latylon.index\n",
    "    for i in range(0,len(location_city)):\n",
    "        location = geolocator.geocode(location_city[i]+', Brasil')\n",
    "        try:\n",
    "            geolocalizacion.loc[geolocalizacion.index==index[i], 'geolocation_lng'] = location.longitude\n",
    "            geolocalizacion.loc[geolocalizacion.index==index[i], 'geolocation_lat'] = location.latitude\n",
    "        except:\n",
    "            try:\n",
    "                location = geolocator.geocode(location_city[i])\n",
    "                geolocalizacion.loc[geolocalizacion.index==index[i], 'geolocation_lng'] = location.longitude\n",
    "                geolocalizacion.loc[geolocalizacion.index==index[i], 'geolocation_lat'] = location.latitude\n",
    "            except:\n",
    "                geolocalizacion.loc[geolocalizacion.index==index[i], 'geolocation_lat'] = geolocalizacion[geolocalizacion.geolocation_city==location_city[i]].geolocation_lat.mean()\n",
    "                geolocalizacion.loc[geolocalizacion.index==index[i], 'geolocation_lng'] = geolocalizacion[geolocalizacion.geolocation_city==location_city[i]].geolocation_lng.mean()\n",
    "\n",
    "    # ahora no es realmente necesario exportar el corregido.. pero si quisieramos podemos ejecutar el codigo:\n",
    "    geolocalizacion.to_csv('data\\e-comerce_Olist_dataset\\olist_geolocation_dataset_coregido.csv', index_label=False)\n",
    "\n",
    "    # Agrupamos por geolocation_zip_code_prefix\n",
    "    geoloc_filtrado = geolocalizacion.groupby('geolocation_zip_code_prefix').mean().reset_index()\n",
    "    # agregamos columna de Id igual a la de index\n",
    "    geoloc_filtrado['IdGeolocalizacion'] = geoloc_filtrado.index\n",
    "\n",
    "    # Agregamos Ciudad y Estado\n",
    "    geoloc_filtrado['Ciudad'] = geoloc_filtrado.apply(lambda r: geolocalizacion[geolocalizacion.geolocation_zip_code_prefix==r.geolocation_zip_code_prefix].geolocation_city.values[0], axis =1)\n",
    "    geoloc_filtrado['Estado'] = geoloc_filtrado.apply(lambda r: geolocalizacion[geolocalizacion.geolocation_zip_code_prefix==r.geolocation_zip_code_prefix].geolocation_state.values[0], axis =1)\n",
    "\n",
    "    # renombramos y reordenamos las columnas\n",
    "    geoloc_filtrado.rename(columns={'geolocation_zip_code_prefix': 'zip_code_prefix', \n",
    "                                    'geolocation_lat': 'Latitud',\n",
    "                                    'geolocation_lng': 'Longitud',\n",
    "                                    'IdGeolocalizacion':'Id_Geolocalizacion'}, inplace=True)\n",
    "    geoloc_filtrado = geoloc_filtrado.reindex(columns=['Id_Geolocalizacion', 'zip_code_prefix', 'Latitud', \n",
    "                                    'Longitud','Ciudad','Estado'])\n",
    "\n",
    "\n",
    "    # En la carpeta Dataset_etl guardamos el archivos de geolocalizacion luego del proceso de ETL\n",
    "    geoloc_filtrado.to_csv(\"{}/geolocalizacion_etl.csv\".format(path_etl), index=False)\n",
    "\n",
    "    #Retornamos el df de geolocalizacion, de la primer parte del etl, porque es el que necesitamos para el etl de clientes y vendedores\n",
    "    return geolocalizacion, geoloc_filtrado"
   ]
  },
  {
   "cell_type": "code",
   "execution_count": 13,
   "metadata": {},
   "outputs": [],
   "source": [
    "geolocalizacion,  geoloc_filtrado = etl_geolocalizacion(geolocalizacion)"
   ]
  },
  {
   "cell_type": "markdown",
   "metadata": {},
   "source": [
    "### ETL a clientes"
   ]
  },
  {
   "cell_type": "code",
   "execution_count": 16,
   "metadata": {},
   "outputs": [],
   "source": [
    "def clientes_etl(clientes):\n",
    "    \"\"\"\n",
    "    Funcion que realiza el ETL a la tabla clientes. \n",
    "        Se normalizan los codigos postales que no coinciden con los de la tabla geolocalizacion\n",
    "        Para los zip codes de clientes que no se encuentran en geolocalizacion pero si se reconoce su ciudad\n",
    "        se reemplazara el zip_code por la moda del zip_code correspondiente a dicha ciudad en geolocalizacion.\n",
    "        Como resultado guardara dos archivos \n",
    "            clientes_etl.csv con el resultado del etl \n",
    "            clientes_aux.csv con los datos que no logro resolver\n",
    "    \"\"\"\n",
    "    # usamos el df de geolocalizacion porque no tiene filtrados los zip_codes y por ende hay mas datos para calcular el modo\n",
    "    geoloc_unique_code = geolocalizacion.geolocation_zip_code_prefix.unique()\n",
    "    clientes_unique_code = clientes.customer_zip_code_prefix.unique()\n",
    "    zip_codes_missing = []\n",
    "    for item in clientes_unique_code:\n",
    "        if item not in geoloc_unique_code:\n",
    "            try:\n",
    "                city = clientes.loc[clientes['customer_zip_code_prefix'] == item].customer_city.values[0]\n",
    "                zip_code = geolocalizacion[geolocalizacion.geolocation_city==city].geolocation_zip_code_prefix.mode()[0]\n",
    "                clientes['customer_zip_code_prefix'] = clientes['customer_zip_code_prefix'].replace(item, zip_code)\n",
    "            except:\n",
    "                zip_codes_missing.append(item)\n",
    "    \n",
    "    # buscamos los index de los codigos que no logramos resolver para luego guardarlos en una tabla auxiliar\n",
    "    indexes = []\n",
    "    for item in zip_codes_missing:\n",
    "        ind = clientes[clientes.customer_zip_code_prefix==item].index.values\n",
    "        for i in ind:\n",
    "            indexes.append(i)\n",
    "\n",
    "    cientes_aux = clientes.iloc[indexes]\n",
    "    clientes.drop(index = indexes, axis=0, inplace=True)\n",
    "\n",
    "    # Ahora que eliminamos estos valores problema aplicamos el id_Geolocalizacion a la tabla clientes\n",
    "    clientes['Id_Geolocalizacion'] = clientes.apply(lambda r: geoloc_filtrado[geoloc_filtrado.zip_code_prefix==r.customer_zip_code_prefix].Id_Geolocalizacion.values[0], axis = 1)\n",
    "    clientes = clientes.drop(['customer_zip_code_prefix','customer_city','customer_state'],axis=1)\n",
    "\n",
    "    # guardamos clientes_aux en un csv\n",
    "    cientes_aux.to_csv(\"{}/cientes_aux.csv\".format(path_aux), index=False)\n",
    "\n",
    "    # Guardamos las etl\n",
    "    clientes.to_csv(\"{}/clientes_etl.csv\".format(path_etl), index=False)"
   ]
  },
  {
   "cell_type": "code",
   "execution_count": 17,
   "metadata": {},
   "outputs": [],
   "source": [
    "clientes_etl(clientes)"
   ]
  },
  {
   "cell_type": "markdown",
   "metadata": {},
   "source": [
    "### ETL Vendedores"
   ]
  },
  {
   "cell_type": "code",
   "execution_count": 18,
   "metadata": {},
   "outputs": [],
   "source": [
    "def vendedores_etl(vendedores):\n",
    "    \"\"\"\n",
    "    Funcion que realiza el ETL a la tabla vendedores. \n",
    "        Se normalizan los codigos postales que no coinciden con los de la tabla geolocalizacion\n",
    "        Para los zip codes de vendedores que no se encuentran en geolocalizacion pero si se reconoce su ciudad\n",
    "        se reemplazara el zip_code por la moda del zip_code correspondiente a dicha ciudad en geolocalizacion.\n",
    "        Como resultado guardara un archivo vendedores_etl.csv con el resultado del etl \n",
    "    \"\"\"\n",
    "\n",
    "    # Hay 7 codigos postales de vendedores que no coinciden con los codigos de la tabla geolocalizacion.\n",
    "    # Para cada ciudad en la tabla de geolocalizacion hay mas de un zip-code... \n",
    "    # lo que vamos a hacer es cambiar los de los vendedores por el modo de los de geolocalizacion  \n",
    "    # usamos el df de geolocalizacion porque no tiene filtrados los zip_codes y por ende hay mas datos para calcular el modo\n",
    " \n",
    "    geoloc_unique_code = geolocalizacion.geolocation_zip_code_prefix.unique()\n",
    "    vendedores_unique_code = vendedores.seller_zip_code_prefix.unique()\n",
    "    for item in vendedores_unique_code:\n",
    "        if item not in geoloc_unique_code:\n",
    "            city = vendedores.loc[vendedores['seller_zip_code_prefix'] == item].seller_city.values[0]\n",
    "            zip_code = geolocalizacion[geolocalizacion.geolocation_city==city].geolocation_zip_code_prefix.mode()[0]\n",
    "            vendedores['seller_zip_code_prefix'] = vendedores['seller_zip_code_prefix'].replace(item, zip_code)\n",
    "    \n",
    "    #Logramos arreglar todos :) Ahora aplicamos el id_Geolocalizacion a la tabla vendedores\n",
    "\n",
    "    vendedores['Id_Geolocalizacion'] = vendedores.apply(lambda r: geoloc_filtrado[geoloc_filtrado.zip_code_prefix==r.seller_zip_code_prefix].Id_Geolocalizacion.values[0], axis = 1)\n",
    "    vendedores = vendedores.drop(['seller_zip_code_prefix','seller_city','seller_state'],axis=1)\n",
    "\n",
    "    \n",
    "    # Guardamos las etl\n",
    "    vendedores.to_csv(\"{}/vendedores_etl.csv\".format(path_etl), index=False)\n"
   ]
  },
  {
   "cell_type": "code",
   "execution_count": 19,
   "metadata": {},
   "outputs": [],
   "source": [
    "vendedores_etl(vendedores)"
   ]
  },
  {
   "cell_type": "markdown",
   "metadata": {},
   "source": [
    "## Metodo de pago // tipo de pago"
   ]
  },
  {
   "cell_type": "code",
   "execution_count": 6,
   "metadata": {},
   "outputs": [],
   "source": [
    "def metodo_tipo_pago(metodo_de_pago):\n",
    "    \"\"\"\n",
    "    Se agregan los payment_type_id y se crean las tablas normalizadas payment_type y metodo_de_pago_corregido a partir de la tabla metodo_de_pago\n",
    "    \"\"\"\n",
    "    payment_type = metodo_de_pago['payment_type']\n",
    "    tipos_pago = {j:i+1 for i,j in enumerate(payment_type.unique())}\n",
    "    payment_type_df = pd.DataFrame(\n",
    "        {\n",
    "            'payment_type_id': tipos_pago.values(),\n",
    "            'payment_type': tipos_pago.keys()\n",
    "        })\n",
    "    metodo_de_pago['payment_type'] = metodo_de_pago['payment_type'].apply(lambda x: tipos_pago[x])\n",
    "    metodo_de_pago.rename(columns={'payment_type': 'payment_type_id'}, inplace=True)\n",
    "\n",
    "    #exportamos a csv \n",
    "    payment_type_df.to_csv('{}/payment_type.csv'.format(path_etl), index=False)\n",
    "    metodo_de_pago.to_csv('{}/metodo_de_pago_corregido.csv'.format(path_etl), index=False)"
   ]
  },
  {
   "cell_type": "code",
   "execution_count": 7,
   "metadata": {},
   "outputs": [],
   "source": [
    "metodo_tipo_pago(metodo_de_pago)"
   ]
  },
  {
   "cell_type": "markdown",
   "metadata": {},
   "source": [
    "## Ordenes // estado de la orden"
   ]
  },
  {
   "cell_type": "code",
   "execution_count": 5,
   "metadata": {},
   "outputs": [],
   "source": [
    "def ordenes_estado_orden (ordenes):\n",
    "    \"\"\"\n",
    "    Se agregan los order_status_id y se crean las tablas normalizadas order_status y ordenes_corregido a partir de la tabla ordenes\n",
    "    \"\"\"\n",
    "    estado_orden = ordenes['order_status'].unique()\n",
    "    estado_orden = {j:i+1 for i,j in enumerate(estado_orden)}\n",
    "    order_status_df = pd.DataFrame(\n",
    "        {\n",
    "            'order_status_id': estado_orden.values(),\n",
    "            'order_status': estado_orden.keys()\n",
    "        })\n",
    "    ordenes['order_status'] = ordenes['order_status'].apply(lambda x: estado_orden[x])\n",
    "    ordenes.rename(columns={'order_status': 'order_status_id'}, inplace=True)\n",
    "\n",
    "    # Exportamos los csv\n",
    "    ordenes.to_csv('./Dataset_etl/ordenes_corregido.csv', index=False)\n",
    "    order_status_df.to_csv('./Dataset_etl/order_status.csv', index=False)\n",
    "    return ordenes\n"
   ]
  },
  {
   "cell_type": "code",
   "execution_count": 6,
   "metadata": {},
   "outputs": [],
   "source": [
    "ordenes = ordenes_estado_orden(ordenes)"
   ]
  },
  {
   "cell_type": "markdown",
   "metadata": {},
   "source": [
    "## Productos // tipo de producto"
   ]
  },
  {
   "cell_type": "code",
   "execution_count": 10,
   "metadata": {},
   "outputs": [],
   "source": [
    "def productos_tipo_producto(productos):\n",
    "    \"\"\"\n",
    "    Se agregan product_category_name_id y se crean las tablas normalizadas product_category_name y productos_corregido a partir de la tabla productos\n",
    "    \"\"\"\n",
    "\n",
    "    productos_name = productos['product_category_name'].unique()\n",
    "    productos_name = {j:i+1 for i,j in enumerate(productos_name)}\n",
    "\n",
    "    product_category_name_df = pd.DataFrame(\n",
    "        {\n",
    "            'product_category_name_id': productos_name.values(),\n",
    "            'category_name': productos_name.keys()\n",
    "        })\n",
    "    productos['product_category_name'] = productos['product_category_name'].apply(lambda x: productos_name[x])\n",
    "    productos.rename(columns={'product_category_name': 'product_category_name_id'}, inplace=True)\n",
    "    \n",
    "    # Exportamos a csv\n",
    "    productos.to_csv('./Dataset_etl/productos_corregido.csv', index=False)\n",
    "    product_category_name_df.to_csv('./Dataset_etl/product_category_name.csv', index=False)\n",
    "\n"
   ]
  },
  {
   "cell_type": "code",
   "execution_count": 11,
   "metadata": {},
   "outputs": [],
   "source": [
    "productos_tipo_producto(productos)"
   ]
  },
  {
   "cell_type": "markdown",
   "metadata": {},
   "source": [
    "### ETL Ordenes\n",
    "#### Trabajo con ordenes luego de agregar order_status_id\n",
    " - ordenes = ordenes_estado_orden(ordenes)"
   ]
  },
  {
   "cell_type": "code",
   "execution_count": 7,
   "metadata": {},
   "outputs": [
    {
     "data": {
      "text/html": [
       "<div>\n",
       "<style scoped>\n",
       "    .dataframe tbody tr th:only-of-type {\n",
       "        vertical-align: middle;\n",
       "    }\n",
       "\n",
       "    .dataframe tbody tr th {\n",
       "        vertical-align: top;\n",
       "    }\n",
       "\n",
       "    .dataframe thead th {\n",
       "        text-align: right;\n",
       "    }\n",
       "</style>\n",
       "<table border=\"1\" class=\"dataframe\">\n",
       "  <thead>\n",
       "    <tr style=\"text-align: right;\">\n",
       "      <th></th>\n",
       "      <th>order_id</th>\n",
       "      <th>customer_id</th>\n",
       "      <th>order_status_id</th>\n",
       "      <th>order_purchase_timestamp</th>\n",
       "      <th>order_approved_at</th>\n",
       "      <th>order_delivered_carrier_date</th>\n",
       "      <th>order_delivered_customer_date</th>\n",
       "      <th>order_estimated_delivery_date</th>\n",
       "    </tr>\n",
       "  </thead>\n",
       "  <tbody>\n",
       "    <tr>\n",
       "      <th>0</th>\n",
       "      <td>e481f51cbdc54678b7cc49136f2d6af7</td>\n",
       "      <td>9ef432eb6251297304e76186b10a928d</td>\n",
       "      <td>1</td>\n",
       "      <td>2017-10-02 10:56:33</td>\n",
       "      <td>2017-10-02 11:07:15</td>\n",
       "      <td>2017-10-04 19:55:00</td>\n",
       "      <td>2017-10-10 21:25:13</td>\n",
       "      <td>2017-10-18</td>\n",
       "    </tr>\n",
       "    <tr>\n",
       "      <th>1</th>\n",
       "      <td>53cdb2fc8bc7dce0b6741e2150273451</td>\n",
       "      <td>b0830fb4747a6c6d20dea0b8c802d7ef</td>\n",
       "      <td>1</td>\n",
       "      <td>2018-07-24 20:41:37</td>\n",
       "      <td>2018-07-26 03:24:27</td>\n",
       "      <td>2018-07-26 14:31:00</td>\n",
       "      <td>2018-08-07 15:27:45</td>\n",
       "      <td>2018-08-13</td>\n",
       "    </tr>\n",
       "    <tr>\n",
       "      <th>2</th>\n",
       "      <td>47770eb9100c2d0c44946d9cf07ec65d</td>\n",
       "      <td>41ce2a54c0b03bf3443c3d931a367089</td>\n",
       "      <td>1</td>\n",
       "      <td>2018-08-08 08:38:49</td>\n",
       "      <td>2018-08-08 08:55:23</td>\n",
       "      <td>2018-08-08 13:50:00</td>\n",
       "      <td>2018-08-17 18:06:29</td>\n",
       "      <td>2018-09-04</td>\n",
       "    </tr>\n",
       "  </tbody>\n",
       "</table>\n",
       "</div>"
      ],
      "text/plain": [
       "                           order_id                       customer_id  \\\n",
       "0  e481f51cbdc54678b7cc49136f2d6af7  9ef432eb6251297304e76186b10a928d   \n",
       "1  53cdb2fc8bc7dce0b6741e2150273451  b0830fb4747a6c6d20dea0b8c802d7ef   \n",
       "2  47770eb9100c2d0c44946d9cf07ec65d  41ce2a54c0b03bf3443c3d931a367089   \n",
       "\n",
       "   order_status_id order_purchase_timestamp    order_approved_at  \\\n",
       "0                1      2017-10-02 10:56:33  2017-10-02 11:07:15   \n",
       "1                1      2018-07-24 20:41:37  2018-07-26 03:24:27   \n",
       "2                1      2018-08-08 08:38:49  2018-08-08 08:55:23   \n",
       "\n",
       "  order_delivered_carrier_date order_delivered_customer_date  \\\n",
       "0          2017-10-04 19:55:00           2017-10-10 21:25:13   \n",
       "1          2018-07-26 14:31:00           2018-08-07 15:27:45   \n",
       "2          2018-08-08 13:50:00           2018-08-17 18:06:29   \n",
       "\n",
       "  order_estimated_delivery_date  \n",
       "0                    2017-10-18  \n",
       "1                    2018-08-13  \n",
       "2                    2018-09-04  "
      ]
     },
     "execution_count": 7,
     "metadata": {},
     "output_type": "execute_result"
    }
   ],
   "source": [
    "ordenes.head(3)"
   ]
  },
  {
   "cell_type": "code",
   "execution_count": 8,
   "metadata": {},
   "outputs": [
    {
     "name": "stdout",
     "output_type": "stream",
     "text": [
      "<class 'pandas.core.frame.DataFrame'>\n",
      "RangeIndex: 99441 entries, 0 to 99440\n",
      "Data columns (total 8 columns):\n",
      " #   Column                         Non-Null Count  Dtype         \n",
      "---  ------                         --------------  -----         \n",
      " 0   order_id                       99441 non-null  object        \n",
      " 1   customer_id                    99441 non-null  object        \n",
      " 2   order_status_id                99441 non-null  int64         \n",
      " 3   order_purchase_timestamp       99441 non-null  object        \n",
      " 4   order_approved_at              99281 non-null  object        \n",
      " 5   order_delivered_carrier_date   97658 non-null  datetime64[ns]\n",
      " 6   order_delivered_customer_date  96476 non-null  datetime64[ns]\n",
      " 7   order_estimated_delivery_date  99441 non-null  datetime64[ns]\n",
      "dtypes: datetime64[ns](3), int64(1), object(4)\n",
      "memory usage: 6.1+ MB\n"
     ]
    }
   ],
   "source": [
    "ordenes.info()"
   ]
  },
  {
   "cell_type": "markdown",
   "metadata": {},
   "source": [
    "al importar los datos no toma `order_purchase_timestamp` y `order_approved_at` como tiempo. los cambio manualmente aqui\n"
   ]
  },
  {
   "cell_type": "code",
   "execution_count": 9,
   "metadata": {},
   "outputs": [],
   "source": [
    "ordenes['order_purchase_timestamp'] = pd.to_datetime(ordenes['order_purchase_timestamp'])\n",
    "ordenes['order_approved_at'] = pd.to_datetime(ordenes['order_approved_at'])"
   ]
  },
  {
   "cell_type": "code",
   "execution_count": 10,
   "metadata": {},
   "outputs": [
    {
     "name": "stdout",
     "output_type": "stream",
     "text": [
      "<class 'pandas.core.frame.DataFrame'>\n",
      "RangeIndex: 99441 entries, 0 to 99440\n",
      "Data columns (total 8 columns):\n",
      " #   Column                         Non-Null Count  Dtype         \n",
      "---  ------                         --------------  -----         \n",
      " 0   order_id                       99441 non-null  object        \n",
      " 1   customer_id                    99441 non-null  object        \n",
      " 2   order_status_id                99441 non-null  int64         \n",
      " 3   order_purchase_timestamp       99441 non-null  datetime64[ns]\n",
      " 4   order_approved_at              99281 non-null  datetime64[ns]\n",
      " 5   order_delivered_carrier_date   97658 non-null  datetime64[ns]\n",
      " 6   order_delivered_customer_date  96476 non-null  datetime64[ns]\n",
      " 7   order_estimated_delivery_date  99441 non-null  datetime64[ns]\n",
      "dtypes: datetime64[ns](5), int64(1), object(2)\n",
      "memory usage: 6.1+ MB\n"
     ]
    }
   ],
   "source": [
    "ordenes.info()"
   ]
  },
  {
   "cell_type": "code",
   "execution_count": 17,
   "metadata": {},
   "outputs": [
    {
     "data": {
      "text/plain": [
       "(99441, 8)"
      ]
     },
     "execution_count": 17,
     "metadata": {},
     "output_type": "execute_result"
    }
   ],
   "source": [
    "ordenes.shape"
   ]
  },
  {
   "cell_type": "code",
   "execution_count": 11,
   "metadata": {},
   "outputs": [
    {
     "data": {
      "text/plain": [
       "order_id                            0\n",
       "customer_id                         0\n",
       "order_status_id                     0\n",
       "order_purchase_timestamp            0\n",
       "order_approved_at                 160\n",
       "order_delivered_carrier_date     1783\n",
       "order_delivered_customer_date    2965\n",
       "order_estimated_delivery_date       0\n",
       "dtype: int64"
      ]
     },
     "execution_count": 11,
     "metadata": {},
     "output_type": "execute_result"
    }
   ],
   "source": [
    "ordenes.isnull().sum()"
   ]
  },
  {
   "cell_type": "markdown",
   "metadata": {},
   "source": [
    "Tenemos 99441 filas y Encontramos valores nulos en \n",
    "- `order_approved_at` 160 nulos\n",
    "- `order_delivered_carrier_date` 1783 nulos\n",
    "- `order_delivered_customer_date` 2965 nulos"
   ]
  },
  {
   "cell_type": "code",
   "execution_count": 12,
   "metadata": {},
   "outputs": [
    {
     "data": {
      "text/plain": [
       "datetime.timedelta(0)"
      ]
     },
     "execution_count": 12,
     "metadata": {},
     "output_type": "execute_result"
    }
   ],
   "source": [
    "import datetime\n",
    "date= datetime.timedelta(days=0, seconds=0, microseconds=0, milliseconds=0, minutes=0, hours=0, weeks=0) \n",
    "date"
   ]
  },
  {
   "cell_type": "markdown",
   "metadata": {},
   "source": [
    "Las diferencias a evaluar me indican: \n",
    "- **Hora de pago aprobado y compra**  < 0 : indica que el pago fue aprobado antes de realizar la compra\n",
    "- **despacho y compra** < 0 : indica que el  pedido fue despachado antes de realizar la compra\n",
    "- **entrega y compra**  < 0 : indica que el  pedido fue entregado antes de realizar la compra\n"
   ]
  },
  {
   "cell_type": "code",
   "execution_count": 13,
   "metadata": {},
   "outputs": [],
   "source": [
    "ordenes_outliers = ordenes.copy()\n",
    "ordenes_outliers[\"diff_pagoaprobado_compra\"] = ordenes_outliers.order_approved_at - ordenes_outliers.order_purchase_timestamp\n",
    "ordenes_outliers[\"diff_despacho_compra\"] = ordenes_outliers.order_delivered_carrier_date - ordenes_outliers.order_purchase_timestamp\n",
    "ordenes_outliers[\"diff_entregareal_compra\"] = ordenes_outliers.order_delivered_customer_date - ordenes_outliers.order_purchase_timestamp\n"
   ]
  },
  {
   "cell_type": "code",
   "execution_count": 14,
   "metadata": {},
   "outputs": [],
   "source": [
    "ordenes_outliers_select =  ordenes_outliers[(ordenes_outliers.diff_pagoaprobado_compra < date) | (ordenes_outliers.diff_despacho_compra <date )| (ordenes_outliers.diff_entregareal_compra < date)]"
   ]
  },
  {
   "cell_type": "markdown",
   "metadata": {},
   "source": [
    "Exploro los outliers buscando el porque de las diferencias"
   ]
  },
  {
   "cell_type": "code",
   "execution_count": 15,
   "metadata": {},
   "outputs": [
    {
     "data": {
      "text/html": [
       "<div>\n",
       "<style scoped>\n",
       "    .dataframe tbody tr th:only-of-type {\n",
       "        vertical-align: middle;\n",
       "    }\n",
       "\n",
       "    .dataframe tbody tr th {\n",
       "        vertical-align: top;\n",
       "    }\n",
       "\n",
       "    .dataframe thead th {\n",
       "        text-align: right;\n",
       "    }\n",
       "</style>\n",
       "<table border=\"1\" class=\"dataframe\">\n",
       "  <thead>\n",
       "    <tr style=\"text-align: right;\">\n",
       "      <th></th>\n",
       "      <th>order_id</th>\n",
       "      <th>customer_id</th>\n",
       "      <th>order_status_id</th>\n",
       "      <th>order_purchase_timestamp</th>\n",
       "      <th>order_approved_at</th>\n",
       "      <th>order_delivered_carrier_date</th>\n",
       "      <th>order_delivered_customer_date</th>\n",
       "      <th>order_estimated_delivery_date</th>\n",
       "      <th>diff_pagoaprobado_compra</th>\n",
       "      <th>diff_despacho_compra</th>\n",
       "      <th>diff_entregareal_compra</th>\n",
       "    </tr>\n",
       "  </thead>\n",
       "  <tbody>\n",
       "    <tr>\n",
       "      <th>615</th>\n",
       "      <td>b9afddbdcfadc9a87b41a83271c3e888</td>\n",
       "      <td>85c6af75161b8b2b1af98e82b5a6a5a5</td>\n",
       "      <td>1</td>\n",
       "      <td>2018-08-16 13:50:48</td>\n",
       "      <td>2018-08-16 14:05:13</td>\n",
       "      <td>2018-08-16 13:27:00</td>\n",
       "      <td>2018-08-24 14:58:37</td>\n",
       "      <td>2018-09-04</td>\n",
       "      <td>0 days 00:14:25</td>\n",
       "      <td>-1 days +23:36:12</td>\n",
       "      <td>8 days 01:07:49</td>\n",
       "    </tr>\n",
       "    <tr>\n",
       "      <th>1111</th>\n",
       "      <td>ad133696906f6a78826daa0911b7daec</td>\n",
       "      <td>e6f5b234bb0d847f10eebd70130c5d49</td>\n",
       "      <td>1</td>\n",
       "      <td>2018-06-15 15:41:22</td>\n",
       "      <td>2018-06-15 16:19:23</td>\n",
       "      <td>2018-06-15 14:52:00</td>\n",
       "      <td>2018-06-22 18:09:37</td>\n",
       "      <td>2018-07-18</td>\n",
       "      <td>0 days 00:38:01</td>\n",
       "      <td>-1 days +23:10:38</td>\n",
       "      <td>7 days 02:28:15</td>\n",
       "    </tr>\n",
       "    <tr>\n",
       "      <th>1329</th>\n",
       "      <td>74e033208dc13a7b8127eb8e73d09b76</td>\n",
       "      <td>72fcbb1145f2889eddcba6d6c1d6c090</td>\n",
       "      <td>1</td>\n",
       "      <td>2018-05-02 10:48:44</td>\n",
       "      <td>2018-05-02 11:13:45</td>\n",
       "      <td>2018-05-02 09:49:00</td>\n",
       "      <td>2018-05-07 23:06:36</td>\n",
       "      <td>2018-05-29</td>\n",
       "      <td>0 days 00:25:01</td>\n",
       "      <td>-1 days +23:00:16</td>\n",
       "      <td>5 days 12:17:52</td>\n",
       "    </tr>\n",
       "    <tr>\n",
       "      <th>1372</th>\n",
       "      <td>a6b58794fd2ba533359a76c08df576e3</td>\n",
       "      <td>ccd8e3459ad58ae538c9d2cf35532ba4</td>\n",
       "      <td>1</td>\n",
       "      <td>2018-05-14 15:18:23</td>\n",
       "      <td>2018-05-14 15:33:35</td>\n",
       "      <td>2018-05-14 13:46:00</td>\n",
       "      <td>2018-05-19 19:33:32</td>\n",
       "      <td>2018-06-08</td>\n",
       "      <td>0 days 00:15:12</td>\n",
       "      <td>-1 days +22:27:37</td>\n",
       "      <td>5 days 04:15:09</td>\n",
       "    </tr>\n",
       "    <tr>\n",
       "      <th>1864</th>\n",
       "      <td>5792e0b1c8c8a2bf53af468c9a422c88</td>\n",
       "      <td>5c427f06e7fcf902e309743516e2c580</td>\n",
       "      <td>1</td>\n",
       "      <td>2018-07-26 13:25:14</td>\n",
       "      <td>2018-07-26 13:35:14</td>\n",
       "      <td>2018-07-26 12:42:00</td>\n",
       "      <td>2018-07-30 14:45:02</td>\n",
       "      <td>2018-08-09</td>\n",
       "      <td>0 days 00:10:00</td>\n",
       "      <td>-1 days +23:16:46</td>\n",
       "      <td>4 days 01:19:48</td>\n",
       "    </tr>\n",
       "  </tbody>\n",
       "</table>\n",
       "</div>"
      ],
      "text/plain": [
       "                              order_id                       customer_id  \\\n",
       "615   b9afddbdcfadc9a87b41a83271c3e888  85c6af75161b8b2b1af98e82b5a6a5a5   \n",
       "1111  ad133696906f6a78826daa0911b7daec  e6f5b234bb0d847f10eebd70130c5d49   \n",
       "1329  74e033208dc13a7b8127eb8e73d09b76  72fcbb1145f2889eddcba6d6c1d6c090   \n",
       "1372  a6b58794fd2ba533359a76c08df576e3  ccd8e3459ad58ae538c9d2cf35532ba4   \n",
       "1864  5792e0b1c8c8a2bf53af468c9a422c88  5c427f06e7fcf902e309743516e2c580   \n",
       "\n",
       "      order_status_id order_purchase_timestamp   order_approved_at  \\\n",
       "615                 1      2018-08-16 13:50:48 2018-08-16 14:05:13   \n",
       "1111                1      2018-06-15 15:41:22 2018-06-15 16:19:23   \n",
       "1329                1      2018-05-02 10:48:44 2018-05-02 11:13:45   \n",
       "1372                1      2018-05-14 15:18:23 2018-05-14 15:33:35   \n",
       "1864                1      2018-07-26 13:25:14 2018-07-26 13:35:14   \n",
       "\n",
       "     order_delivered_carrier_date order_delivered_customer_date  \\\n",
       "615           2018-08-16 13:27:00           2018-08-24 14:58:37   \n",
       "1111          2018-06-15 14:52:00           2018-06-22 18:09:37   \n",
       "1329          2018-05-02 09:49:00           2018-05-07 23:06:36   \n",
       "1372          2018-05-14 13:46:00           2018-05-19 19:33:32   \n",
       "1864          2018-07-26 12:42:00           2018-07-30 14:45:02   \n",
       "\n",
       "     order_estimated_delivery_date diff_pagoaprobado_compra  \\\n",
       "615                     2018-09-04          0 days 00:14:25   \n",
       "1111                    2018-07-18          0 days 00:38:01   \n",
       "1329                    2018-05-29          0 days 00:25:01   \n",
       "1372                    2018-06-08          0 days 00:15:12   \n",
       "1864                    2018-08-09          0 days 00:10:00   \n",
       "\n",
       "     diff_despacho_compra diff_entregareal_compra  \n",
       "615     -1 days +23:36:12         8 days 01:07:49  \n",
       "1111    -1 days +23:10:38         7 days 02:28:15  \n",
       "1329    -1 days +23:00:16         5 days 12:17:52  \n",
       "1372    -1 days +22:27:37         5 days 04:15:09  \n",
       "1864    -1 days +23:16:46         4 days 01:19:48  "
      ]
     },
     "execution_count": 15,
     "metadata": {},
     "output_type": "execute_result"
    }
   ],
   "source": [
    "ordenes_outliers_select.head()"
   ]
  },
  {
   "cell_type": "code",
   "execution_count": 16,
   "metadata": {},
   "outputs": [
    {
     "name": "stdout",
     "output_type": "stream",
     "text": [
      "<class 'pandas.core.frame.DataFrame'>\n",
      "Int64Index: 166 entries, 615 to 99230\n",
      "Data columns (total 11 columns):\n",
      " #   Column                         Non-Null Count  Dtype          \n",
      "---  ------                         --------------  -----          \n",
      " 0   order_id                       166 non-null    object         \n",
      " 1   customer_id                    166 non-null    object         \n",
      " 2   order_status_id                166 non-null    int64          \n",
      " 3   order_purchase_timestamp       166 non-null    datetime64[ns] \n",
      " 4   order_approved_at              166 non-null    datetime64[ns] \n",
      " 5   order_delivered_carrier_date   166 non-null    datetime64[ns] \n",
      " 6   order_delivered_customer_date  165 non-null    datetime64[ns] \n",
      " 7   order_estimated_delivery_date  166 non-null    datetime64[ns] \n",
      " 8   diff_pagoaprobado_compra       166 non-null    timedelta64[ns]\n",
      " 9   diff_despacho_compra           166 non-null    timedelta64[ns]\n",
      " 10  diff_entregareal_compra        165 non-null    timedelta64[ns]\n",
      "dtypes: datetime64[ns](5), int64(1), object(2), timedelta64[ns](3)\n",
      "memory usage: 15.6+ KB\n"
     ]
    }
   ],
   "source": [
    "ordenes_outliers_select.info()"
   ]
  },
  {
   "cell_type": "code",
   "execution_count": 17,
   "metadata": {},
   "outputs": [
    {
     "data": {
      "text/html": [
       "<div>\n",
       "<style scoped>\n",
       "    .dataframe tbody tr th:only-of-type {\n",
       "        vertical-align: middle;\n",
       "    }\n",
       "\n",
       "    .dataframe tbody tr th {\n",
       "        vertical-align: top;\n",
       "    }\n",
       "\n",
       "    .dataframe thead th {\n",
       "        text-align: right;\n",
       "    }\n",
       "</style>\n",
       "<table border=\"1\" class=\"dataframe\">\n",
       "  <thead>\n",
       "    <tr style=\"text-align: right;\">\n",
       "      <th></th>\n",
       "      <th>order_id</th>\n",
       "      <th>customer_id</th>\n",
       "      <th>order_status_id</th>\n",
       "      <th>order_purchase_timestamp</th>\n",
       "      <th>order_approved_at</th>\n",
       "      <th>order_delivered_carrier_date</th>\n",
       "      <th>order_delivered_customer_date</th>\n",
       "      <th>order_estimated_delivery_date</th>\n",
       "      <th>diff_pagoaprobado_compra</th>\n",
       "      <th>diff_despacho_compra</th>\n",
       "      <th>diff_entregareal_compra</th>\n",
       "    </tr>\n",
       "  </thead>\n",
       "  <tbody>\n",
       "  </tbody>\n",
       "</table>\n",
       "</div>"
      ],
      "text/plain": [
       "Empty DataFrame\n",
       "Columns: [order_id, customer_id, order_status_id, order_purchase_timestamp, order_approved_at, order_delivered_carrier_date, order_delivered_customer_date, order_estimated_delivery_date, diff_pagoaprobado_compra, diff_despacho_compra, diff_entregareal_compra]\n",
       "Index: []"
      ]
     },
     "execution_count": 17,
     "metadata": {},
     "output_type": "execute_result"
    }
   ],
   "source": [
    "ordenes_outliers_select[ordenes_outliers_select.diff_entregareal_compra < date]"
   ]
  },
  {
   "cell_type": "code",
   "execution_count": 18,
   "metadata": {},
   "outputs": [
    {
     "data": {
      "text/html": [
       "<div>\n",
       "<style scoped>\n",
       "    .dataframe tbody tr th:only-of-type {\n",
       "        vertical-align: middle;\n",
       "    }\n",
       "\n",
       "    .dataframe tbody tr th {\n",
       "        vertical-align: top;\n",
       "    }\n",
       "\n",
       "    .dataframe thead th {\n",
       "        text-align: right;\n",
       "    }\n",
       "</style>\n",
       "<table border=\"1\" class=\"dataframe\">\n",
       "  <thead>\n",
       "    <tr style=\"text-align: right;\">\n",
       "      <th></th>\n",
       "      <th>order_id</th>\n",
       "      <th>customer_id</th>\n",
       "      <th>order_status_id</th>\n",
       "      <th>order_purchase_timestamp</th>\n",
       "      <th>order_approved_at</th>\n",
       "      <th>order_delivered_carrier_date</th>\n",
       "      <th>order_delivered_customer_date</th>\n",
       "      <th>order_estimated_delivery_date</th>\n",
       "      <th>diff_pagoaprobado_compra</th>\n",
       "      <th>diff_despacho_compra</th>\n",
       "      <th>diff_entregareal_compra</th>\n",
       "    </tr>\n",
       "  </thead>\n",
       "  <tbody>\n",
       "  </tbody>\n",
       "</table>\n",
       "</div>"
      ],
      "text/plain": [
       "Empty DataFrame\n",
       "Columns: [order_id, customer_id, order_status_id, order_purchase_timestamp, order_approved_at, order_delivered_carrier_date, order_delivered_customer_date, order_estimated_delivery_date, diff_pagoaprobado_compra, diff_despacho_compra, diff_entregareal_compra]\n",
       "Index: []"
      ]
     },
     "execution_count": 18,
     "metadata": {},
     "output_type": "execute_result"
    }
   ],
   "source": [
    "ordenes_outliers_select[ordenes_outliers_select.diff_pagoaprobado_compra < date]"
   ]
  },
  {
   "cell_type": "code",
   "execution_count": 19,
   "metadata": {},
   "outputs": [
    {
     "data": {
      "text/html": [
       "<div>\n",
       "<style scoped>\n",
       "    .dataframe tbody tr th:only-of-type {\n",
       "        vertical-align: middle;\n",
       "    }\n",
       "\n",
       "    .dataframe tbody tr th {\n",
       "        vertical-align: top;\n",
       "    }\n",
       "\n",
       "    .dataframe thead th {\n",
       "        text-align: right;\n",
       "    }\n",
       "</style>\n",
       "<table border=\"1\" class=\"dataframe\">\n",
       "  <thead>\n",
       "    <tr style=\"text-align: right;\">\n",
       "      <th></th>\n",
       "      <th>order_id</th>\n",
       "      <th>customer_id</th>\n",
       "      <th>order_status_id</th>\n",
       "      <th>order_purchase_timestamp</th>\n",
       "      <th>order_approved_at</th>\n",
       "      <th>order_delivered_carrier_date</th>\n",
       "      <th>order_delivered_customer_date</th>\n",
       "      <th>order_estimated_delivery_date</th>\n",
       "      <th>diff_pagoaprobado_compra</th>\n",
       "      <th>diff_despacho_compra</th>\n",
       "      <th>diff_entregareal_compra</th>\n",
       "    </tr>\n",
       "  </thead>\n",
       "  <tbody>\n",
       "    <tr>\n",
       "      <th>615</th>\n",
       "      <td>b9afddbdcfadc9a87b41a83271c3e888</td>\n",
       "      <td>85c6af75161b8b2b1af98e82b5a6a5a5</td>\n",
       "      <td>1</td>\n",
       "      <td>2018-08-16 13:50:48</td>\n",
       "      <td>2018-08-16 14:05:13</td>\n",
       "      <td>2018-08-16 13:27:00</td>\n",
       "      <td>2018-08-24 14:58:37</td>\n",
       "      <td>2018-09-04</td>\n",
       "      <td>0 days 00:14:25</td>\n",
       "      <td>-1 days +23:36:12</td>\n",
       "      <td>8 days 01:07:49</td>\n",
       "    </tr>\n",
       "    <tr>\n",
       "      <th>1111</th>\n",
       "      <td>ad133696906f6a78826daa0911b7daec</td>\n",
       "      <td>e6f5b234bb0d847f10eebd70130c5d49</td>\n",
       "      <td>1</td>\n",
       "      <td>2018-06-15 15:41:22</td>\n",
       "      <td>2018-06-15 16:19:23</td>\n",
       "      <td>2018-06-15 14:52:00</td>\n",
       "      <td>2018-06-22 18:09:37</td>\n",
       "      <td>2018-07-18</td>\n",
       "      <td>0 days 00:38:01</td>\n",
       "      <td>-1 days +23:10:38</td>\n",
       "      <td>7 days 02:28:15</td>\n",
       "    </tr>\n",
       "    <tr>\n",
       "      <th>1329</th>\n",
       "      <td>74e033208dc13a7b8127eb8e73d09b76</td>\n",
       "      <td>72fcbb1145f2889eddcba6d6c1d6c090</td>\n",
       "      <td>1</td>\n",
       "      <td>2018-05-02 10:48:44</td>\n",
       "      <td>2018-05-02 11:13:45</td>\n",
       "      <td>2018-05-02 09:49:00</td>\n",
       "      <td>2018-05-07 23:06:36</td>\n",
       "      <td>2018-05-29</td>\n",
       "      <td>0 days 00:25:01</td>\n",
       "      <td>-1 days +23:00:16</td>\n",
       "      <td>5 days 12:17:52</td>\n",
       "    </tr>\n",
       "    <tr>\n",
       "      <th>1372</th>\n",
       "      <td>a6b58794fd2ba533359a76c08df576e3</td>\n",
       "      <td>ccd8e3459ad58ae538c9d2cf35532ba4</td>\n",
       "      <td>1</td>\n",
       "      <td>2018-05-14 15:18:23</td>\n",
       "      <td>2018-05-14 15:33:35</td>\n",
       "      <td>2018-05-14 13:46:00</td>\n",
       "      <td>2018-05-19 19:33:32</td>\n",
       "      <td>2018-06-08</td>\n",
       "      <td>0 days 00:15:12</td>\n",
       "      <td>-1 days +22:27:37</td>\n",
       "      <td>5 days 04:15:09</td>\n",
       "    </tr>\n",
       "    <tr>\n",
       "      <th>1864</th>\n",
       "      <td>5792e0b1c8c8a2bf53af468c9a422c88</td>\n",
       "      <td>5c427f06e7fcf902e309743516e2c580</td>\n",
       "      <td>1</td>\n",
       "      <td>2018-07-26 13:25:14</td>\n",
       "      <td>2018-07-26 13:35:14</td>\n",
       "      <td>2018-07-26 12:42:00</td>\n",
       "      <td>2018-07-30 14:45:02</td>\n",
       "      <td>2018-08-09</td>\n",
       "      <td>0 days 00:10:00</td>\n",
       "      <td>-1 days +23:16:46</td>\n",
       "      <td>4 days 01:19:48</td>\n",
       "    </tr>\n",
       "    <tr>\n",
       "      <th>...</th>\n",
       "      <td>...</td>\n",
       "      <td>...</td>\n",
       "      <td>...</td>\n",
       "      <td>...</td>\n",
       "      <td>...</td>\n",
       "      <td>...</td>\n",
       "      <td>...</td>\n",
       "      <td>...</td>\n",
       "      <td>...</td>\n",
       "      <td>...</td>\n",
       "      <td>...</td>\n",
       "    </tr>\n",
       "    <tr>\n",
       "      <th>98172</th>\n",
       "      <td>f7780ea2807db31691e83f0013294035</td>\n",
       "      <td>3088cc4bfafe311f1d84830808c2aa6d</td>\n",
       "      <td>1</td>\n",
       "      <td>2018-07-30 15:22:15</td>\n",
       "      <td>2018-07-30 15:35:16</td>\n",
       "      <td>2018-07-30 15:00:00</td>\n",
       "      <td>2018-08-02 18:32:30</td>\n",
       "      <td>2018-08-02</td>\n",
       "      <td>0 days 00:13:01</td>\n",
       "      <td>-1 days +23:37:45</td>\n",
       "      <td>3 days 03:10:15</td>\n",
       "    </tr>\n",
       "    <tr>\n",
       "      <th>98430</th>\n",
       "      <td>d7646ffe8fdd9e7d9557f9f7cbf04530</td>\n",
       "      <td>f896e70d84f6db9a56b86a47dd8718f0</td>\n",
       "      <td>1</td>\n",
       "      <td>2018-05-04 14:50:37</td>\n",
       "      <td>2018-05-04 15:10:22</td>\n",
       "      <td>2018-05-04 14:48:00</td>\n",
       "      <td>2018-05-08 19:06:42</td>\n",
       "      <td>2018-05-16</td>\n",
       "      <td>0 days 00:19:45</td>\n",
       "      <td>-1 days +23:57:23</td>\n",
       "      <td>4 days 04:16:05</td>\n",
       "    </tr>\n",
       "    <tr>\n",
       "      <th>98672</th>\n",
       "      <td>5ded8a3706eabd813685534724f066de</td>\n",
       "      <td>460316e38d4d241fc79d4f6729f8f7f6</td>\n",
       "      <td>1</td>\n",
       "      <td>2018-07-18 08:46:52</td>\n",
       "      <td>2018-07-18 09:01:48</td>\n",
       "      <td>2018-07-18 08:44:00</td>\n",
       "      <td>2018-07-25 13:53:17</td>\n",
       "      <td>2018-08-10</td>\n",
       "      <td>0 days 00:14:56</td>\n",
       "      <td>-1 days +23:57:08</td>\n",
       "      <td>7 days 05:06:25</td>\n",
       "    </tr>\n",
       "    <tr>\n",
       "      <th>98780</th>\n",
       "      <td>d10046876c7d9f01613da59ffa6cb07f</td>\n",
       "      <td>6559cb5b365f173915f766fefcd86972</td>\n",
       "      <td>1</td>\n",
       "      <td>2018-07-18 16:14:16</td>\n",
       "      <td>2018-07-18 16:25:17</td>\n",
       "      <td>2018-07-18 15:34:00</td>\n",
       "      <td>2018-07-23 20:46:44</td>\n",
       "      <td>2018-08-07</td>\n",
       "      <td>0 days 00:11:01</td>\n",
       "      <td>-1 days +23:19:44</td>\n",
       "      <td>5 days 04:32:28</td>\n",
       "    </tr>\n",
       "    <tr>\n",
       "      <th>99230</th>\n",
       "      <td>78008d03bd8ef7fcf1568728b316553c</td>\n",
       "      <td>043e3254e68daf7256bda1c9c03c2286</td>\n",
       "      <td>1</td>\n",
       "      <td>2018-07-03 13:11:13</td>\n",
       "      <td>2018-07-05 16:32:52</td>\n",
       "      <td>2018-07-03 12:57:00</td>\n",
       "      <td>2018-07-10 17:47:39</td>\n",
       "      <td>2018-07-23</td>\n",
       "      <td>2 days 03:21:39</td>\n",
       "      <td>-1 days +23:45:47</td>\n",
       "      <td>7 days 04:36:26</td>\n",
       "    </tr>\n",
       "  </tbody>\n",
       "</table>\n",
       "<p>166 rows × 11 columns</p>\n",
       "</div>"
      ],
      "text/plain": [
       "                               order_id                       customer_id  \\\n",
       "615    b9afddbdcfadc9a87b41a83271c3e888  85c6af75161b8b2b1af98e82b5a6a5a5   \n",
       "1111   ad133696906f6a78826daa0911b7daec  e6f5b234bb0d847f10eebd70130c5d49   \n",
       "1329   74e033208dc13a7b8127eb8e73d09b76  72fcbb1145f2889eddcba6d6c1d6c090   \n",
       "1372   a6b58794fd2ba533359a76c08df576e3  ccd8e3459ad58ae538c9d2cf35532ba4   \n",
       "1864   5792e0b1c8c8a2bf53af468c9a422c88  5c427f06e7fcf902e309743516e2c580   \n",
       "...                                 ...                               ...   \n",
       "98172  f7780ea2807db31691e83f0013294035  3088cc4bfafe311f1d84830808c2aa6d   \n",
       "98430  d7646ffe8fdd9e7d9557f9f7cbf04530  f896e70d84f6db9a56b86a47dd8718f0   \n",
       "98672  5ded8a3706eabd813685534724f066de  460316e38d4d241fc79d4f6729f8f7f6   \n",
       "98780  d10046876c7d9f01613da59ffa6cb07f  6559cb5b365f173915f766fefcd86972   \n",
       "99230  78008d03bd8ef7fcf1568728b316553c  043e3254e68daf7256bda1c9c03c2286   \n",
       "\n",
       "       order_status_id order_purchase_timestamp   order_approved_at  \\\n",
       "615                  1      2018-08-16 13:50:48 2018-08-16 14:05:13   \n",
       "1111                 1      2018-06-15 15:41:22 2018-06-15 16:19:23   \n",
       "1329                 1      2018-05-02 10:48:44 2018-05-02 11:13:45   \n",
       "1372                 1      2018-05-14 15:18:23 2018-05-14 15:33:35   \n",
       "1864                 1      2018-07-26 13:25:14 2018-07-26 13:35:14   \n",
       "...                ...                      ...                 ...   \n",
       "98172                1      2018-07-30 15:22:15 2018-07-30 15:35:16   \n",
       "98430                1      2018-05-04 14:50:37 2018-05-04 15:10:22   \n",
       "98672                1      2018-07-18 08:46:52 2018-07-18 09:01:48   \n",
       "98780                1      2018-07-18 16:14:16 2018-07-18 16:25:17   \n",
       "99230                1      2018-07-03 13:11:13 2018-07-05 16:32:52   \n",
       "\n",
       "      order_delivered_carrier_date order_delivered_customer_date  \\\n",
       "615            2018-08-16 13:27:00           2018-08-24 14:58:37   \n",
       "1111           2018-06-15 14:52:00           2018-06-22 18:09:37   \n",
       "1329           2018-05-02 09:49:00           2018-05-07 23:06:36   \n",
       "1372           2018-05-14 13:46:00           2018-05-19 19:33:32   \n",
       "1864           2018-07-26 12:42:00           2018-07-30 14:45:02   \n",
       "...                            ...                           ...   \n",
       "98172          2018-07-30 15:00:00           2018-08-02 18:32:30   \n",
       "98430          2018-05-04 14:48:00           2018-05-08 19:06:42   \n",
       "98672          2018-07-18 08:44:00           2018-07-25 13:53:17   \n",
       "98780          2018-07-18 15:34:00           2018-07-23 20:46:44   \n",
       "99230          2018-07-03 12:57:00           2018-07-10 17:47:39   \n",
       "\n",
       "      order_estimated_delivery_date diff_pagoaprobado_compra  \\\n",
       "615                      2018-09-04          0 days 00:14:25   \n",
       "1111                     2018-07-18          0 days 00:38:01   \n",
       "1329                     2018-05-29          0 days 00:25:01   \n",
       "1372                     2018-06-08          0 days 00:15:12   \n",
       "1864                     2018-08-09          0 days 00:10:00   \n",
       "...                             ...                      ...   \n",
       "98172                    2018-08-02          0 days 00:13:01   \n",
       "98430                    2018-05-16          0 days 00:19:45   \n",
       "98672                    2018-08-10          0 days 00:14:56   \n",
       "98780                    2018-08-07          0 days 00:11:01   \n",
       "99230                    2018-07-23          2 days 03:21:39   \n",
       "\n",
       "      diff_despacho_compra diff_entregareal_compra  \n",
       "615      -1 days +23:36:12         8 days 01:07:49  \n",
       "1111     -1 days +23:10:38         7 days 02:28:15  \n",
       "1329     -1 days +23:00:16         5 days 12:17:52  \n",
       "1372     -1 days +22:27:37         5 days 04:15:09  \n",
       "1864     -1 days +23:16:46         4 days 01:19:48  \n",
       "...                    ...                     ...  \n",
       "98172    -1 days +23:37:45         3 days 03:10:15  \n",
       "98430    -1 days +23:57:23         4 days 04:16:05  \n",
       "98672    -1 days +23:57:08         7 days 05:06:25  \n",
       "98780    -1 days +23:19:44         5 days 04:32:28  \n",
       "99230    -1 days +23:45:47         7 days 04:36:26  \n",
       "\n",
       "[166 rows x 11 columns]"
      ]
     },
     "execution_count": 19,
     "metadata": {},
     "output_type": "execute_result"
    }
   ],
   "source": [
    "ordenes_outliers_select[ordenes_outliers_select.diff_despacho_compra < date]"
   ]
  },
  {
   "cell_type": "markdown",
   "metadata": {},
   "source": [
    "busco en google si hay diferencia horaria entre la ciudad del cliente y el vendedor. (no encuentro valores que indiquen esto)"
   ]
  },
  {
   "cell_type": "code",
   "execution_count": 20,
   "metadata": {},
   "outputs": [
    {
     "data": {
      "text/html": [
       "<div>\n",
       "<style scoped>\n",
       "    .dataframe tbody tr th:only-of-type {\n",
       "        vertical-align: middle;\n",
       "    }\n",
       "\n",
       "    .dataframe tbody tr th {\n",
       "        vertical-align: top;\n",
       "    }\n",
       "\n",
       "    .dataframe thead th {\n",
       "        text-align: right;\n",
       "    }\n",
       "</style>\n",
       "<table border=\"1\" class=\"dataframe\">\n",
       "  <thead>\n",
       "    <tr style=\"text-align: right;\">\n",
       "      <th></th>\n",
       "      <th>customer_id</th>\n",
       "      <th>customer_unique_id</th>\n",
       "      <th>customer_zip_code_prefix</th>\n",
       "      <th>customer_city</th>\n",
       "      <th>customer_state</th>\n",
       "    </tr>\n",
       "  </thead>\n",
       "  <tbody>\n",
       "    <tr>\n",
       "      <th>1488</th>\n",
       "      <td>3088cc4bfafe311f1d84830808c2aa6d</td>\n",
       "      <td>2f0def88a867b9c0aabb60c561b4d640</td>\n",
       "      <td>9991</td>\n",
       "      <td>diadema</td>\n",
       "      <td>SP</td>\n",
       "    </tr>\n",
       "  </tbody>\n",
       "</table>\n",
       "</div>"
      ],
      "text/plain": [
       "                           customer_id                customer_unique_id  \\\n",
       "1488  3088cc4bfafe311f1d84830808c2aa6d  2f0def88a867b9c0aabb60c561b4d640   \n",
       "\n",
       "      customer_zip_code_prefix customer_city customer_state  \n",
       "1488                      9991       diadema             SP  "
      ]
     },
     "execution_count": 20,
     "metadata": {},
     "output_type": "execute_result"
    }
   ],
   "source": [
    "clientes[clientes.customer_id == '3088cc4bfafe311f1d84830808c2aa6d']"
   ]
  },
  {
   "cell_type": "code",
   "execution_count": 21,
   "metadata": {},
   "outputs": [
    {
     "data": {
      "text/html": [
       "<div>\n",
       "<style scoped>\n",
       "    .dataframe tbody tr th:only-of-type {\n",
       "        vertical-align: middle;\n",
       "    }\n",
       "\n",
       "    .dataframe tbody tr th {\n",
       "        vertical-align: top;\n",
       "    }\n",
       "\n",
       "    .dataframe thead th {\n",
       "        text-align: right;\n",
       "    }\n",
       "</style>\n",
       "<table border=\"1\" class=\"dataframe\">\n",
       "  <thead>\n",
       "    <tr style=\"text-align: right;\">\n",
       "      <th></th>\n",
       "      <th>order_id</th>\n",
       "      <th>order_item_id</th>\n",
       "      <th>product_id</th>\n",
       "      <th>seller_id</th>\n",
       "      <th>shipping_limit_date</th>\n",
       "      <th>price</th>\n",
       "      <th>freight_value</th>\n",
       "    </tr>\n",
       "  </thead>\n",
       "  <tbody>\n",
       "    <tr>\n",
       "      <th>108887</th>\n",
       "      <td>f7780ea2807db31691e83f0013294035</td>\n",
       "      <td>1</td>\n",
       "      <td>904a9e449fbfd90da738ab70ae6ca003</td>\n",
       "      <td>f262cbc1c910c83959f849465454ddd3</td>\n",
       "      <td>2018-08-01 15:35:16</td>\n",
       "      <td>59.99</td>\n",
       "      <td>7.68</td>\n",
       "    </tr>\n",
       "  </tbody>\n",
       "</table>\n",
       "</div>"
      ],
      "text/plain": [
       "                                order_id  order_item_id  \\\n",
       "108887  f7780ea2807db31691e83f0013294035              1   \n",
       "\n",
       "                              product_id                         seller_id  \\\n",
       "108887  904a9e449fbfd90da738ab70ae6ca003  f262cbc1c910c83959f849465454ddd3   \n",
       "\n",
       "       shipping_limit_date  price  freight_value  \n",
       "108887 2018-08-01 15:35:16  59.99           7.68  "
      ]
     },
     "execution_count": 21,
     "metadata": {},
     "output_type": "execute_result"
    }
   ],
   "source": [
    "items[items.order_id == 'f7780ea2807db31691e83f0013294035']"
   ]
  },
  {
   "cell_type": "code",
   "execution_count": 22,
   "metadata": {},
   "outputs": [
    {
     "data": {
      "text/html": [
       "<div>\n",
       "<style scoped>\n",
       "    .dataframe tbody tr th:only-of-type {\n",
       "        vertical-align: middle;\n",
       "    }\n",
       "\n",
       "    .dataframe tbody tr th {\n",
       "        vertical-align: top;\n",
       "    }\n",
       "\n",
       "    .dataframe thead th {\n",
       "        text-align: right;\n",
       "    }\n",
       "</style>\n",
       "<table border=\"1\" class=\"dataframe\">\n",
       "  <thead>\n",
       "    <tr style=\"text-align: right;\">\n",
       "      <th></th>\n",
       "      <th>seller_id</th>\n",
       "      <th>seller_zip_code_prefix</th>\n",
       "      <th>seller_city</th>\n",
       "      <th>seller_state</th>\n",
       "    </tr>\n",
       "  </thead>\n",
       "  <tbody>\n",
       "    <tr>\n",
       "      <th>1334</th>\n",
       "      <td>f262cbc1c910c83959f849465454ddd3</td>\n",
       "      <td>3564</td>\n",
       "      <td>sao paulo</td>\n",
       "      <td>SP</td>\n",
       "    </tr>\n",
       "  </tbody>\n",
       "</table>\n",
       "</div>"
      ],
      "text/plain": [
       "                             seller_id  seller_zip_code_prefix seller_city  \\\n",
       "1334  f262cbc1c910c83959f849465454ddd3                    3564   sao paulo   \n",
       "\n",
       "     seller_state  \n",
       "1334           SP  "
      ]
     },
     "execution_count": 22,
     "metadata": {},
     "output_type": "execute_result"
    }
   ],
   "source": [
    "vendedores[vendedores.seller_id == 'f262cbc1c910c83959f849465454ddd3' ]"
   ]
  },
  {
   "cell_type": "markdown",
   "metadata": {},
   "source": [
    "Separo en aux y etl la tabla clientes para evaluar despues que hacer..."
   ]
  },
  {
   "cell_type": "code",
   "execution_count": 25,
   "metadata": {},
   "outputs": [],
   "source": [
    "indexes = ordenes_outliers_select.index.values"
   ]
  },
  {
   "cell_type": "code",
   "execution_count": 26,
   "metadata": {},
   "outputs": [],
   "source": [
    "ordenes_aux = ordenes.iloc[indexes]\n",
    "ordenes_etl = ordenes.drop(index = indexes, axis=0)"
   ]
  },
  {
   "cell_type": "code",
   "execution_count": 29,
   "metadata": {},
   "outputs": [
    {
     "data": {
      "text/plain": [
       "0"
      ]
     },
     "execution_count": 29,
     "metadata": {},
     "output_type": "execute_result"
    }
   ],
   "source": [
    "ordenes_etl.shape[0] + ordenes_aux.shape[0] - ordenes.shape[0]"
   ]
  },
  {
   "cell_type": "code",
   "execution_count": 30,
   "metadata": {},
   "outputs": [],
   "source": [
    "# guardamos ordenes_aux en un csv\n",
    "ordenes_aux.to_csv(\"{}/ordenes_aux.csv\".format(path_aux), index=False)\n",
    "\n",
    "# Guardamos ordenes_etl en un csv\n",
    "ordenes_etl.to_csv(\"{}/ordenes_etl.csv\".format(path_etl), index=False)"
   ]
  },
  {
   "cell_type": "code",
   "execution_count": null,
   "metadata": {},
   "outputs": [],
   "source": []
  }
 ],
 "metadata": {
  "kernelspec": {
   "display_name": "Python 3.10.4 64-bit",
   "language": "python",
   "name": "python3"
  },
  "language_info": {
   "codemirror_mode": {
    "name": "ipython",
    "version": 3
   },
   "file_extension": ".py",
   "mimetype": "text/x-python",
   "name": "python",
   "nbconvert_exporter": "python",
   "pygments_lexer": "ipython3",
   "version": "3.10.4"
  },
  "orig_nbformat": 4,
  "vscode": {
   "interpreter": {
    "hash": "7264182eebd21301844b523446cf0e3816433127ddc469c000b43f70ae0d1fc9"
   }
  }
 },
 "nbformat": 4,
 "nbformat_minor": 2
}
