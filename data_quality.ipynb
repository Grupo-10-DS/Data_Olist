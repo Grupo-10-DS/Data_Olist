{
 "cells": [
  {
   "cell_type": "code",
   "execution_count": 34,
   "metadata": {},
   "outputs": [],
   "source": [
    "import numpy as np\n",
    "import matplotlib.pyplot as plt\n",
    "import pandas as pd\n",
    "import seaborn as sns\n",
    "\n",
    "%matplotlib inline"
   ]
  },
  {
   "cell_type": "code",
   "execution_count": 2,
   "metadata": {},
   "outputs": [],
   "source": [
    "clientes = pd.read_csv('data\\e-comerce_Olist_dataset\\olist_customers_dataset.csv')\n",
    "geolocalizacion = pd.read_csv('data\\e-comerce_Olist_dataset\\olist_geolocation_dataset.csv')\n",
    "items = pd.read_csv('data\\e-comerce_Olist_dataset\\olist_order_items_dataset.csv', parse_dates=['shipping_limit_date'])\n",
    "metodo_de_pago = pd.read_csv('data\\e-comerce_Olist_dataset\\olist_order_payments_dataset.csv')\n",
    "reviews = pd.read_csv('data\\e-comerce_Olist_dataset\\olist_order_reviews_dataset.csv', parse_dates=['review_creation_date', 'review_answer_timestamp'])\n",
    "ordenes = pd.read_csv('data\\e-comerce_Olist_dataset\\olist_orders_dataset.csv', parse_dates=['order_purchase_timestamp', 'order_approved_at','order_delivered_carrier_date','order_delivered_customer_date','order_estimated_delivery_date'])\n",
    "productos = pd.read_csv('data\\e-comerce_Olist_dataset\\olist_products_dataset.csv')\n",
    "vendedores = pd.read_csv('data\\e-comerce_Olist_dataset\\olist_sellers_dataset.csv')\n",
    "productos_info = pd.read_csv('data\\e-comerce_Olist_dataset\\product_category_name_translation.csv')"
   ]
  },
  {
   "cell_type": "code",
   "execution_count": 18,
   "metadata": {},
   "outputs": [],
   "source": [
    "def nulls_percentage(df):\n",
    "    rows_null = df.isna().sum().values.max()\n",
    "    total_rows = df.shape[0]\n",
    "\n",
    "    return round((rows_null / total_rows) * 100, 2)"
   ]
  },
  {
   "cell_type": "code",
   "execution_count": 25,
   "metadata": {},
   "outputs": [
    {
     "data": {
      "text/plain": [
       "Index(['review_id', 'order_id', 'review_score', 'review_comment_title',\n",
       "       'review_comment_message', 'review_creation_date',\n",
       "       'review_answer_timestamp'],\n",
       "      dtype='object')"
      ]
     },
     "execution_count": 25,
     "metadata": {},
     "output_type": "execute_result"
    }
   ],
   "source": [
    "reviews.columns"
   ]
  },
  {
   "cell_type": "code",
   "execution_count": 26,
   "metadata": {},
   "outputs": [
    {
     "data": {
      "text/html": [
       "<div>\n",
       "<style scoped>\n",
       "    .dataframe tbody tr th:only-of-type {\n",
       "        vertical-align: middle;\n",
       "    }\n",
       "\n",
       "    .dataframe tbody tr th {\n",
       "        vertical-align: top;\n",
       "    }\n",
       "\n",
       "    .dataframe thead th {\n",
       "        text-align: right;\n",
       "    }\n",
       "</style>\n",
       "<table border=\"1\" class=\"dataframe\">\n",
       "  <thead>\n",
       "    <tr style=\"text-align: right;\">\n",
       "      <th></th>\n",
       "      <th>review_id</th>\n",
       "      <th>order_id</th>\n",
       "      <th>review_score</th>\n",
       "      <th>review_creation_date</th>\n",
       "      <th>review_answer_timestamp</th>\n",
       "    </tr>\n",
       "  </thead>\n",
       "  <tbody>\n",
       "    <tr>\n",
       "      <th>0</th>\n",
       "      <td>7bc2406110b926393aa56f80a40eba40</td>\n",
       "      <td>73fc7af87114b39712e6da79b0a377eb</td>\n",
       "      <td>4</td>\n",
       "      <td>2018-01-18</td>\n",
       "      <td>2018-01-18 21:46:59</td>\n",
       "    </tr>\n",
       "    <tr>\n",
       "      <th>1</th>\n",
       "      <td>80e641a11e56f04c1ad469d5645fdfde</td>\n",
       "      <td>a548910a1c6147796b98fdf73dbeba33</td>\n",
       "      <td>5</td>\n",
       "      <td>2018-03-10</td>\n",
       "      <td>2018-03-11 03:05:13</td>\n",
       "    </tr>\n",
       "    <tr>\n",
       "      <th>2</th>\n",
       "      <td>228ce5500dc1d8e020d8d1322874b6f0</td>\n",
       "      <td>f9e4b658b201a9f2ecdecbb34bed034b</td>\n",
       "      <td>5</td>\n",
       "      <td>2018-02-17</td>\n",
       "      <td>2018-02-18 14:36:24</td>\n",
       "    </tr>\n",
       "  </tbody>\n",
       "</table>\n",
       "</div>"
      ],
      "text/plain": [
       "                          review_id                          order_id  \\\n",
       "0  7bc2406110b926393aa56f80a40eba40  73fc7af87114b39712e6da79b0a377eb   \n",
       "1  80e641a11e56f04c1ad469d5645fdfde  a548910a1c6147796b98fdf73dbeba33   \n",
       "2  228ce5500dc1d8e020d8d1322874b6f0  f9e4b658b201a9f2ecdecbb34bed034b   \n",
       "\n",
       "   review_score review_creation_date review_answer_timestamp  \n",
       "0             4           2018-01-18     2018-01-18 21:46:59  \n",
       "1             5           2018-03-10     2018-03-11 03:05:13  \n",
       "2             5           2018-02-17     2018-02-18 14:36:24  "
      ]
     },
     "execution_count": 26,
     "metadata": {},
     "output_type": "execute_result"
    }
   ],
   "source": [
    "review_whitout_comment = reviews.drop(columns=['review_comment_title','review_comment_message'])\n",
    "review_whitout_comment.head(3)"
   ]
  },
  {
   "cell_type": "code",
   "execution_count": 27,
   "metadata": {},
   "outputs": [],
   "source": [
    "dataframes_null_report = {\n",
    "    'df_names': [\n",
    "        'customer',\n",
    "        'geolocation',\n",
    "        'item',\n",
    "        'order',\n",
    "        'payment',\n",
    "        'product',\n",
    "        'productos_info',\n",
    "        'review',\n",
    "        'review_whitout_comment',\n",
    "        'seller'\n",
    "    ],\n",
    "    'total_rows': [\n",
    "        clientes.shape[0],\n",
    "        geolocalizacion.shape[0],\n",
    "        items.shape[0],\n",
    "        ordenes.shape[0],\n",
    "        metodo_de_pago.shape[0],\n",
    "        productos.shape[0],\n",
    "        productos_info.shape[0],\n",
    "        reviews.shape[0],\n",
    "        review_whitout_comment.shape[0],\n",
    "        vendedores.shape[0]\n",
    "    ],\n",
    "    'nulls_percentage': [\n",
    "        nulls_percentage(clientes),\n",
    "        nulls_percentage(geolocalizacion),\n",
    "        nulls_percentage(items),\n",
    "        nulls_percentage(ordenes),\n",
    "        nulls_percentage(metodo_de_pago),\n",
    "        nulls_percentage(productos),\n",
    "        nulls_percentage(productos_info),\n",
    "        nulls_percentage(reviews),\n",
    "        nulls_percentage(review_whitout_comment),\n",
    "        nulls_percentage(vendedores)\n",
    "    ]\n",
    "}"
   ]
  },
  {
   "cell_type": "code",
   "execution_count": 28,
   "metadata": {},
   "outputs": [
    {
     "data": {
      "text/html": [
       "<div>\n",
       "<style scoped>\n",
       "    .dataframe tbody tr th:only-of-type {\n",
       "        vertical-align: middle;\n",
       "    }\n",
       "\n",
       "    .dataframe tbody tr th {\n",
       "        vertical-align: top;\n",
       "    }\n",
       "\n",
       "    .dataframe thead th {\n",
       "        text-align: right;\n",
       "    }\n",
       "</style>\n",
       "<table border=\"1\" class=\"dataframe\">\n",
       "  <thead>\n",
       "    <tr style=\"text-align: right;\">\n",
       "      <th></th>\n",
       "      <th>df_names</th>\n",
       "      <th>total_rows</th>\n",
       "      <th>nulls_percentage</th>\n",
       "    </tr>\n",
       "  </thead>\n",
       "  <tbody>\n",
       "    <tr>\n",
       "      <th>0</th>\n",
       "      <td>customer</td>\n",
       "      <td>99441</td>\n",
       "      <td>0.00</td>\n",
       "    </tr>\n",
       "    <tr>\n",
       "      <th>1</th>\n",
       "      <td>geolocation</td>\n",
       "      <td>19015</td>\n",
       "      <td>0.00</td>\n",
       "    </tr>\n",
       "    <tr>\n",
       "      <th>2</th>\n",
       "      <td>item</td>\n",
       "      <td>112650</td>\n",
       "      <td>0.00</td>\n",
       "    </tr>\n",
       "    <tr>\n",
       "      <th>3</th>\n",
       "      <td>order</td>\n",
       "      <td>99441</td>\n",
       "      <td>2.98</td>\n",
       "    </tr>\n",
       "    <tr>\n",
       "      <th>4</th>\n",
       "      <td>payment</td>\n",
       "      <td>103886</td>\n",
       "      <td>0.00</td>\n",
       "    </tr>\n",
       "    <tr>\n",
       "      <th>5</th>\n",
       "      <td>product</td>\n",
       "      <td>32951</td>\n",
       "      <td>1.85</td>\n",
       "    </tr>\n",
       "    <tr>\n",
       "      <th>6</th>\n",
       "      <td>productos_info</td>\n",
       "      <td>71</td>\n",
       "      <td>0.00</td>\n",
       "    </tr>\n",
       "    <tr>\n",
       "      <th>7</th>\n",
       "      <td>review</td>\n",
       "      <td>99224</td>\n",
       "      <td>88.34</td>\n",
       "    </tr>\n",
       "    <tr>\n",
       "      <th>8</th>\n",
       "      <td>review_whitout_comment</td>\n",
       "      <td>99224</td>\n",
       "      <td>0.00</td>\n",
       "    </tr>\n",
       "    <tr>\n",
       "      <th>9</th>\n",
       "      <td>seller</td>\n",
       "      <td>3095</td>\n",
       "      <td>0.00</td>\n",
       "    </tr>\n",
       "  </tbody>\n",
       "</table>\n",
       "</div>"
      ],
      "text/plain": [
       "                 df_names  total_rows  nulls_percentage\n",
       "0                customer       99441              0.00\n",
       "1             geolocation       19015              0.00\n",
       "2                    item      112650              0.00\n",
       "3                   order       99441              2.98\n",
       "4                 payment      103886              0.00\n",
       "5                 product       32951              1.85\n",
       "6          productos_info          71              0.00\n",
       "7                  review       99224             88.34\n",
       "8  review_whitout_comment       99224              0.00\n",
       "9                  seller        3095              0.00"
      ]
     },
     "execution_count": 28,
     "metadata": {},
     "output_type": "execute_result"
    }
   ],
   "source": [
    "nulls_report = pd.DataFrame(dataframes_null_report)\n",
    "nulls_report"
   ]
  },
  {
   "cell_type": "code",
   "execution_count": 56,
   "metadata": {},
   "outputs": [
    {
     "data": {
      "text/html": [
       "<div>\n",
       "<style scoped>\n",
       "    .dataframe tbody tr th:only-of-type {\n",
       "        vertical-align: middle;\n",
       "    }\n",
       "\n",
       "    .dataframe tbody tr th {\n",
       "        vertical-align: top;\n",
       "    }\n",
       "\n",
       "    .dataframe thead th {\n",
       "        text-align: right;\n",
       "    }\n",
       "</style>\n",
       "<table border=\"1\" class=\"dataframe\">\n",
       "  <thead>\n",
       "    <tr style=\"text-align: right;\">\n",
       "      <th></th>\n",
       "      <th>df_names</th>\n",
       "      <th>total_rows</th>\n",
       "      <th>nulls_percentage</th>\n",
       "    </tr>\n",
       "  </thead>\n",
       "  <tbody>\n",
       "    <tr>\n",
       "      <th>3</th>\n",
       "      <td>order</td>\n",
       "      <td>99441</td>\n",
       "      <td>2.98</td>\n",
       "    </tr>\n",
       "    <tr>\n",
       "      <th>5</th>\n",
       "      <td>product</td>\n",
       "      <td>32951</td>\n",
       "      <td>1.85</td>\n",
       "    </tr>\n",
       "    <tr>\n",
       "      <th>7</th>\n",
       "      <td>review</td>\n",
       "      <td>99224</td>\n",
       "      <td>88.34</td>\n",
       "    </tr>\n",
       "  </tbody>\n",
       "</table>\n",
       "</div>"
      ],
      "text/plain": [
       "  df_names  total_rows  nulls_percentage\n",
       "3    order       99441              2.98\n",
       "5  product       32951              1.85\n",
       "7   review       99224             88.34"
      ]
     },
     "execution_count": 56,
     "metadata": {},
     "output_type": "execute_result"
    }
   ],
   "source": [
    "only_nulls = nulls_report[nulls_report['nulls_percentage'] != 0]\n",
    "only_nulls"
   ]
  },
  {
   "cell_type": "code",
   "execution_count": 54,
   "metadata": {},
   "outputs": [
    {
     "data": {
      "image/png": "[encoded data removed]",
      "text/plain": [
       "<Figure size 1440x720 with 1 Axes>"
      ]
     },
     "metadata": {
      "needs_background": "light"
     },
     "output_type": "display_data"
    }
   ],
   "source": [
    "plt.figure(figsize=(12,6), dpi=120)\n",
    "plt.grid()\n",
    "sns.barplot(data=nulls_report, x='df_names', y='nulls_percentage')\n",
    "plt.xticks(rotation=25)\n",
    "plt.xlabel('dataframes')\n",
    "plt.ylabel('porcentaje de nulos')\n",
    "plt.title('Cantidad de datos nulos en los datos originales')\n",
    "plt.show()"
   ]
  },
  {
   "cell_type": "code",
   "execution_count": 63,
   "metadata": {},
   "outputs": [
    {
     "data": {
      "image/png": "[encoded data removed]",
      "text/plain": [
       "<Figure size 720x720 with 1 Axes>"
      ]
     },
     "metadata": {
      "needs_background": "light"
     },
     "output_type": "display_data"
    }
   ],
   "source": [
    "plt.figure(figsize=(6,6), dpi=120)\n",
    "plt.grid()\n",
    "sns.barplot(data=only_nulls, x='df_names', y='nulls_percentage')\n",
    "# plt.xticks(rotation=25)\n",
    "plt.xlabel('dataframes')\n",
    "plt.ylabel('porcentaje de nulos')\n",
    "plt.title('Cantidad de datos nulos en los datos originales (%)')\n",
    "plt.show()"
   ]
  },
  {
   "cell_type": "code",
   "execution_count": null,
   "metadata": {},
   "outputs": [],
   "source": []
  }
 ],
 "metadata": {
  "kernelspec": {
   "display_name": "Python 3.9.13 64-bit",
   "language": "python",
   "name": "python3"
  },
  "language_info": {
   "codemirror_mode": {
    "name": "ipython",
    "version": 3
   },
   "file_extension": ".py",
   "mimetype": "text/x-python",
   "name": "python",
   "nbconvert_exporter": "python",
   "pygments_lexer": "ipython3",
   "version": "3.9.13"
  },
  "orig_nbformat": 4,
  "vscode": {
   "interpreter": {
    "hash": "2509de70f8a51a533a202c5608edbb0bdf852af64638cafff532941bd7210f2f"
   }
  }
 },
 "nbformat": 4,
 "nbformat_minor": 2
}
